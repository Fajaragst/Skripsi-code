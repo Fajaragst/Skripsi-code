{
 "cells": [
  {
   "cell_type": "markdown",
   "metadata": {},
   "source": [
    "# Skripsi v1\n",
    "\n",
    "## Integrasi SMOTE dan Neural Network"
   ]
  },
  {
   "cell_type": "code",
   "execution_count": 1,
   "metadata": {},
   "outputs": [],
   "source": [
    "def repro():\n",
    "  seed_value= 42\n",
    "\n",
    "  import os\n",
    "  os.environ['PYTHONHASHSEED']=str(seed_value)\n",
    "  import random\n",
    "  random.seed(seed_value)\n",
    "\n",
    "  import numpy as np\n",
    "  np.random.seed(seed_value)\n",
    "\n",
    "  import tensorflow as tf\n",
    "  tf.random.set_seed(seed_value)\n",
    "\n",
    "  from tensorflow.keras import backend as K\n",
    "  \n",
    "  session_conf = tf.compat.v1.ConfigProto(intra_op_parallelism_threads=1, inter_op_parallelism_threads=1)\n",
    "  sess = tf.compat.v1.Session(graph=tf.compat.v1.get_default_graph(), config=session_conf)\n",
    "  tf.compat.v1.keras.backend.set_session(sess)"
   ]
  },
  {
   "cell_type": "code",
   "execution_count": null,
   "metadata": {},
   "outputs": [],
   "source": [
    "repro()"
   ]
  },
  {
   "cell_type": "code",
   "execution_count": null,
   "metadata": {},
   "outputs": [],
   "source": [
    "from IPython.core.display import display, HTML\n",
    "display(HTML(\"<style>.container { width:80% !important; }</style>\"))"
   ]
  },
  {
   "cell_type": "markdown",
   "metadata": {},
   "source": [
    "# Import "
   ]
  },
  {
   "cell_type": "code",
   "execution_count": null,
   "metadata": {
    "scrolled": false
   },
   "outputs": [],
   "source": [
    "import model\n",
    "import metric\n",
    "import pandas as pd\n",
    "\n",
    "from sklearn.preprocessing import MinMaxScaler\n",
    "from bayes_opt import BayesianOptimization as bayesopt\n",
    "import tool\n",
    "\n",
    "%load_ext autoreload\n",
    "%autoreload 2"
   ]
  },
  {
   "cell_type": "markdown",
   "metadata": {},
   "source": [
    "# Dataset"
   ]
  },
  {
   "cell_type": "code",
   "execution_count": null,
   "metadata": {},
   "outputs": [],
   "source": [
    "dataset_kc1 = pd.read_csv(\"../Dataset/clean/KC1.csv\")\n",
    "dataset_kc2 = pd.read_csv(\"../Dataset/clean/KC2.csv\")\n",
    "dataset_pc1 = pd.read_csv(\"../Dataset/clean/PC1.csv\")\n",
    "dataset_pc3 = pd.read_csv(\"../Dataset/clean/PC3.csv\")\n",
    "dataset_pc4 = pd.read_csv(\"../Dataset/clean/PC4.csv\")\n",
    "dataset_cm1 = pd.read_csv(\"../Dataset/clean/CM1.csv\")\n",
    "dataset_jm1 = pd.read_csv(\"../Dataset/clean/JM1.csv\")\n",
    "\n",
    "idx_missing_JM1 = dataset_jm1.loc[dataset_jm1['uniq_Op'] == '?'].index\n",
    "dataset_jm1 = dataset_jm1.drop(idx_missing_JM1)\n",
    "\n",
    "dataset = {\n",
    "    'KC1' : dataset_kc1,\n",
    "    'KC2' : dataset_kc2,\n",
    "    'PC1' : dataset_pc1,\n",
    "    'PC3' : dataset_pc3,\n",
    "    'PC4' : dataset_pc4,\n",
    "    'CM1' : dataset_cm1,\n",
    "    'JM1' : dataset_jm1\n",
    "}"
   ]
  },
  {
   "cell_type": "markdown",
   "metadata": {},
   "source": [
    "Setiap dataset memiliki column class berbeda-beda. dibawah ini proses mengubah kolom kelas menjadi seragam (\"Defect\")"
   ]
  },
  {
   "cell_type": "code",
   "execution_count": null,
   "metadata": {
    "scrolled": true
   },
   "outputs": [],
   "source": [
    "for i in dataset:\n",
    "    print(i)\n",
    "    dataset[i] = dataset[i].rename(columns = {dataset[i].columns[-1]:'defect'})\n",
    "    display(dataset[i])"
   ]
  },
  {
   "cell_type": "markdown",
   "metadata": {},
   "source": [
    "## Melihat Distribution\n",
    "\n",
    "Melihat distribusi Dataset"
   ]
  },
  {
   "cell_type": "code",
   "execution_count": null,
   "metadata": {
    "scrolled": true
   },
   "outputs": [],
   "source": [
    "from sklearn.decomposition import PCA\n",
    "import numpy as np\n",
    "from sklearn.preprocessing import StandardScaler\n",
    "import matplotlib.pyplot as plt\n",
    "%matplotlib inline\n",
    "scaller = MinMaxScaler()\n",
    "\n",
    "\n",
    "pca = PCA(n_components=3)\n",
    "for i in dataset:\n",
    "    data = dataset[i]\n",
    "    x = data.loc[:, data.columns != 'defect'].values \n",
    "    x = scaller.fit_transform(x)\n",
    "\n",
    "    \n",
    "    principalComponents = pca.fit_transform(x)\n",
    "    principalDf = pd.DataFrame(data = principalComponents, columns = ['V1', 'V2','V3'])\n",
    "    finalDf = pd.concat([principalDf, data[['defect']]], axis = 1)\n",
    "    \n",
    "    fig = plt.figure(figsize = (8,8))\n",
    "    ax = plt.axes(projection ='3d') \n",
    "    ax.set_xlabel('V1', fontsize = 15)\n",
    "    ax.set_ylabel('V2', fontsize = 15)\n",
    "    ax.set_zlabel('V3', fontsize = 15) \n",
    "    ax.set_title(i, fontsize = 20)\n",
    "    targets = [False, True]\n",
    "    colors = ['g', 'r','b']\n",
    "    for target, color in zip(targets,colors):\n",
    "        indicesToKeep = finalDf['defect'] == target\n",
    "        ax.scatter(finalDf.loc[indicesToKeep, 'V1'], finalDf.loc[indicesToKeep, 'V2'],finalDf.loc[indicesToKeep, 'V3'], c = color, s = 50)\n",
    "        ax.legend(targets)\n",
    "        ax.grid()"
   ]
  },
  {
   "cell_type": "markdown",
   "metadata": {},
   "source": [
    "# Check DMR"
   ]
  },
  {
   "cell_type": "code",
   "execution_count": null,
   "metadata": {},
   "outputs": [],
   "source": [
    "dmr_data = {}\n",
    "for i in dataset:\n",
    "    unique, counts = np.unique(dataset[i]['defect'], return_counts=True)\n",
    "    dmr = (round((counts[1]/(counts[0]+counts[1])*100),2))\n",
    "    print(dmr, unique, counts)\n",
    "    dmr_data[i] = dmr"
   ]
  },
  {
   "cell_type": "markdown",
   "metadata": {},
   "source": [
    "# Penerapan Min-Max Scaller untuk mengubah variant distribusi\n",
    "$$ x_{scaled} = \\frac{x - x_{min}}{x_{max} - x_{min}} $$"
   ]
  },
  {
   "cell_type": "code",
   "execution_count": null,
   "metadata": {
    "scrolled": true
   },
   "outputs": [],
   "source": [
    "for i in dataset:\n",
    "    dataset[i].loc[:, dataset[i].columns != dataset[i].columns[-1]] = scaller.fit_transform(dataset[i].loc[:, dataset[i].columns != dataset[i].columns[-1]])\n",
    "    print(i)\n",
    "    display(dataset[i])"
   ]
  },
  {
   "cell_type": "markdown",
   "metadata": {},
   "source": [
    "# Load Data to 10 Cross Validation"
   ]
  },
  {
   "cell_type": "code",
   "execution_count": 35,
   "metadata": {},
   "outputs": [],
   "source": [
    "data_load = {}\n",
    "for i in dataset:\n",
    "    data_load[i] = tool.load_data(dataset[i])"
   ]
  },
  {
   "cell_type": "markdown",
   "metadata": {},
   "source": [
    "# SMOTE"
   ]
  },
  {
   "cell_type": "code",
   "execution_count": 36,
   "metadata": {},
   "outputs": [],
   "source": [
    "def SMOTUNE(X_train, y_train, sampling, neighbors):\n",
    "    neighbors = int(neighbors)\n",
    "    sm = SMOTE(random_state=42, sampling_strategy=sampling, k_neighbors=neighbors)\n",
    "    X_train, y_train = sm.fit_sample(X_train, y_train)\n",
    "    return X_train, y_train"
   ]
  },
  {
   "cell_type": "markdown",
   "metadata": {},
   "source": [
    "# Bayesian Optimization"
   ]
  },
  {
   "cell_type": "code",
   "execution_count": 37,
   "metadata": {},
   "outputs": [],
   "source": [
    "from bayes_opt import UtilityFunction\n",
    "\n",
    "def optimize(model, pbounds, init = 15, iter = 35):\n",
    "    repro()\n",
    "    utility = UtilityFunction(kind=\"ei\", kappa=2.5, xi=0.0)\n",
    "\n",
    "    optimizer = bayesopt(\n",
    "        f=model,\n",
    "        pbounds=pbounds,\n",
    "        verbose=2,\n",
    "        random_state=42,\n",
    "    )\n",
    "    optimizer.maximize(init_points=init, n_iter=iter, acq='ei')\n",
    "\n",
    "    return optimizer"
   ]
  },
  {
   "cell_type": "markdown",
   "metadata": {},
   "source": [
    "# Tie all it Together"
   ]
  },
  {
   "cell_type": "code",
   "execution_count": 23,
   "metadata": {},
   "outputs": [],
   "source": [
    "from tensorflow.keras.utils import plot_model\n",
    "from imblearn.over_sampling import SMOTE\n",
    "test = []\n",
    "def run_ml(data, fold, pbounds, model, do_optimize = True):\n",
    "    repro()\n",
    "    fold_generator = tool.split(data, fold)\n",
    "    sm = SMOTE(random_state=42)\n",
    "\n",
    "    \n",
    "    def go(do_optimize = True, **pbounds):\n",
    "        \n",
    "        y_train_pred_collect, y_dev_pred_collect, y_test_pred_collect = [], [], []\n",
    "        y_train_true_collect, y_dev_true_collect, y_test_true_collect = [], [], []\n",
    "        models = model(**pbounds)\n",
    "        \n",
    "        \n",
    "        \n",
    "        for remainder, test in fold_generator():\n",
    "            repro()\n",
    "            train, dev = next(tool.split(remainder, fold)())\n",
    "\n",
    "            X_train, y_train = train[0], train[1]\n",
    "            X_dev, y_dev = dev[0], dev[1]\n",
    "            X_test, y_test = test[0],test[1]\n",
    "            \n",
    "#             if 'sampling' and 'neighbors' in pbounds:\n",
    "            X_train, y_train = SMOTUNE(X_train, y_train, pbounds['sampling'], pbounds['neighbors'])\n",
    "\n",
    "            models.fit(X_train, y_train)\n",
    "\n",
    "\n",
    "            #Collect Train Dev Test\n",
    "    \n",
    "            y_train_pred_collect = np.append(y_train_pred_collect, models.predict(X_train).round())\n",
    "            y_train_true_collect = np.append(y_train_true_collect, y_train)\n",
    "            \n",
    "            y_dev_pred_collect = np.append(y_dev_pred_collect, models.predict(X_dev).round())\n",
    "            y_dev_true_collect = np.append(y_dev_true_collect, y_dev)\n",
    "            \n",
    "            y_test_pred_collect = np.append(y_test_pred_collect, models.predict(X_test).round())\n",
    "            y_test_true_collect = np.append(y_test_true_collect, y_test)\n",
    "            \n",
    "        \n",
    "        if(do_optimize):\n",
    "            result = metric.gmeans(y_dev_true_collect, y_dev_pred_collect)\n",
    "        else:\n",
    "\n",
    "            result = {\n",
    "                \"Train\" : {\n",
    "                    \"Gmeans\" : metric.gmeans(y_train_true_collect, y_train_pred_collect),\n",
    "                    \"Recall\" : metric.recall(y_train_true_collect, y_train_pred_collect),\n",
    "                    \"pf\" : metric.pf(y_train_true_collect, y_train_pred_collect),\n",
    "                    \"cf_matrix\" : metric.conf_matrix(y_train_true_collect, y_train_pred_collect)\n",
    "                },\n",
    "                \"Dev\" : {\n",
    "                    \"Gmeans\" : metric.gmeans(y_dev_true_collect, y_dev_pred_collect),\n",
    "                    \"Recall\" : metric.recall(y_dev_true_collect, y_dev_pred_collect),\n",
    "                    \"pf\" : metric.pf(y_dev_true_collect, y_dev_pred_collect),\n",
    "                    \"cf_matrix\" : metric.conf_matrix(y_dev_true_collect, y_dev_pred_collect)\n",
    "                },\n",
    "                \"Test\" : {\n",
    "                    \"Gmeans\" : metric.gmeans(y_test_true_collect, y_test_pred_collect),\n",
    "                    \"Recall\" : metric.recall(y_test_true_collect, y_test_pred_collect),\n",
    "                    \"pf\" : metric.pf(y_test_true_collect, y_test_pred_collect),\n",
    "                    \"cf_matrix\" : metric.conf_matrix(y_test_true_collect, y_test_pred_collect)\n",
    "                }\n",
    "                \n",
    "            }\n",
    "        return result\n",
    "        \n",
    "    if(do_optimize):\n",
    "        return optimize(go, pbounds, init = 15, iter = 35)\n",
    "    else:\n",
    "        return go(do_optimize = False, **pbounds)\n",
    "        "
   ]
  },
  {
   "cell_type": "markdown",
   "metadata": {},
   "source": [
    "# Define Hyperparam Search Space\n",
    "\n",
    "Learning Rate = 0.001 to 0.01\n",
    "\n",
    "Dropout = 0.1 to 0.6\n",
    "\n",
    "layer = 1 to 5\n",
    "\n",
    "sampling =  DMR to 1\n",
    "\n",
    "neighbors =  1 - 20"
   ]
  },
  {
   "cell_type": "code",
   "execution_count": 13,
   "metadata": {},
   "outputs": [],
   "source": [
    "for i in dataset:    \n",
    "    bound_naive_bayes[i] = {\n",
    "        'var_smoothing': (0.0,1),\n",
    "        'sampling': ((dmr_data[i]/100)+0.15,1),\n",
    "        'neighbors': (1,10)\n",
    "    }\n",
    "\n",
    "\n",
    "    bound_logistic_regression[i] = {\n",
    "        'sampling': ((dmr_data[i]/100)+0.15,1),\n",
    "        'neighbors': (1,10),\n",
    "        'max_iter': (50,200),\n",
    "    #     'verbose': (0,10),\n",
    "        'c': (1,10)\n",
    "    }\n",
    "\n",
    "    bound_decission_tree[i] = {\n",
    "        'depth': (1, 10),\n",
    "        'sampling': ((dmr_data[i]/100)+0.15,1),\n",
    "        'neighbors': (1,10)\n",
    "    }\n",
    "\n",
    "    bound_random_forest[i] = {\n",
    "        'min_leaf' : (1,20),\n",
    "        'min_split' : (2,20),\n",
    "        'max_leaf_nodes' : (2,50),\n",
    "        'max_features' : (0.01,1),\n",
    "        'depth': (1, 10),\n",
    "        'estimator': (10,150),\n",
    "        'sampling': ((dmr_data[i]/100)+0.15,1),\n",
    "        'neighbors': (1,10)\n",
    "    }\n",
    "\n",
    "    bound_knn[i] = {\n",
    "        'sampling': ((dmr_data[i]/100)+0.15,1),\n",
    "        'neighbors': (1,10),\n",
    "        'n': (1,10),\n",
    "        'leaf': (10,100)\n",
    "    }"
   ]
  },
  {
   "cell_type": "markdown",
   "metadata": {},
   "source": [
    "# Let's Optimize it"
   ]
  },
  {
   "cell_type": "markdown",
   "metadata": {},
   "source": [
    "## Random Forest"
   ]
  },
  {
   "cell_type": "markdown",
   "metadata": {},
   "source": [
    "### KC1"
   ]
  },
  {
   "cell_type": "code",
   "execution_count": 20,
   "metadata": {
    "scrolled": true
   },
   "outputs": [
    {
     "name": "stdout",
     "output_type": "stream",
     "text": [
      "|   iter    |  target   |   depth   | estimator | max_fe... | max_le... | min_leaf  | min_split | neighbors | sampling  |\n",
      "-------------------------------------------------------------------------------------------------------------------------\n",
      "| \u001b[0m 1       \u001b[0m | \u001b[0m 0.73    \u001b[0m | \u001b[0m 4.371   \u001b[0m | \u001b[0m 143.1   \u001b[0m | \u001b[0m 0.7347  \u001b[0m | \u001b[0m 30.74   \u001b[0m | \u001b[0m 3.964   \u001b[0m | \u001b[0m 4.808   \u001b[0m | \u001b[0m 1.523   \u001b[0m | \u001b[0m 0.9069  \u001b[0m |\n",
      "| \u001b[0m 2       \u001b[0m | \u001b[0m 0.6442  \u001b[0m | \u001b[0m 6.41    \u001b[0m | \u001b[0m 109.1   \u001b[0m | \u001b[0m 0.03038 \u001b[0m | \u001b[0m 48.56   \u001b[0m | \u001b[0m 16.82   \u001b[0m | \u001b[0m 5.822   \u001b[0m | \u001b[0m 2.636   \u001b[0m | \u001b[0m 0.4321  \u001b[0m |\n",
      "| \u001b[0m 3       \u001b[0m | \u001b[0m 0.6654  \u001b[0m | \u001b[0m 3.738   \u001b[0m | \u001b[0m 83.47   \u001b[0m | \u001b[0m 0.4376  \u001b[0m | \u001b[0m 15.98   \u001b[0m | \u001b[0m 12.63   \u001b[0m | \u001b[0m 4.511   \u001b[0m | \u001b[0m 3.629   \u001b[0m | \u001b[0m 0.5594  \u001b[0m |\n",
      "| \u001b[0m 4       \u001b[0m | \u001b[0m 0.6459  \u001b[0m | \u001b[0m 5.105   \u001b[0m | \u001b[0m 119.9   \u001b[0m | \u001b[0m 0.2077  \u001b[0m | \u001b[0m 26.68   \u001b[0m | \u001b[0m 12.26   \u001b[0m | \u001b[0m 2.836   \u001b[0m | \u001b[0m 6.468   \u001b[0m | \u001b[0m 0.4232  \u001b[0m |\n",
      "| \u001b[0m 5       \u001b[0m | \u001b[0m 0.7     \u001b[0m | \u001b[0m 1.585   \u001b[0m | \u001b[0m 142.8   \u001b[0m | \u001b[0m 0.966   \u001b[0m | \u001b[0m 40.8    \u001b[0m | \u001b[0m 6.788   \u001b[0m | \u001b[0m 3.758   \u001b[0m | \u001b[0m 7.158   \u001b[0m | \u001b[0m 0.6107  \u001b[0m |\n",
      "| \u001b[0m 6       \u001b[0m | \u001b[0m 0.6849  \u001b[0m | \u001b[0m 2.098   \u001b[0m | \u001b[0m 79.32   \u001b[0m | \u001b[0m 0.04404 \u001b[0m | \u001b[0m 45.65   \u001b[0m | \u001b[0m 5.917   \u001b[0m | \u001b[0m 13.93   \u001b[0m | \u001b[0m 3.805   \u001b[0m | \u001b[0m 0.6663  \u001b[0m |\n",
      "| \u001b[0m 7       \u001b[0m | \u001b[0m 0.7124  \u001b[0m | \u001b[0m 5.92    \u001b[0m | \u001b[0m 35.88   \u001b[0m | \u001b[0m 0.9699  \u001b[0m | \u001b[0m 39.21   \u001b[0m | \u001b[0m 18.85   \u001b[0m | \u001b[0m 18.11   \u001b[0m | \u001b[0m 6.381   \u001b[0m | \u001b[0m 0.9457  \u001b[0m |\n",
      "| \u001b[0m 8       \u001b[0m | \u001b[0m 0.6686  \u001b[0m | \u001b[0m 1.796   \u001b[0m | \u001b[0m 37.44   \u001b[0m | \u001b[0m 0.05478 \u001b[0m | \u001b[0m 17.62   \u001b[0m | \u001b[0m 8.385   \u001b[0m | \u001b[0m 6.884   \u001b[0m | \u001b[0m 8.459   \u001b[0m | \u001b[0m 0.5527  \u001b[0m |\n",
      "| \u001b[0m 9       \u001b[0m | \u001b[0m 0.6486  \u001b[0m | \u001b[0m 3.528   \u001b[0m | \u001b[0m 85.98   \u001b[0m | \u001b[0m 0.1495  \u001b[0m | \u001b[0m 40.51   \u001b[0m | \u001b[0m 2.416   \u001b[0m | \u001b[0m 19.76   \u001b[0m | \u001b[0m 7.95    \u001b[0m | \u001b[0m 0.4428  \u001b[0m |\n",
      "| \u001b[0m 10      \u001b[0m | \u001b[0m 0.5761  \u001b[0m | \u001b[0m 1.05    \u001b[0m | \u001b[0m 124.2   \u001b[0m | \u001b[0m 0.7098  \u001b[0m | \u001b[0m 36.99   \u001b[0m | \u001b[0m 15.65   \u001b[0m | \u001b[0m 3.333   \u001b[0m | \u001b[0m 4.226   \u001b[0m | \u001b[0m 0.3852  \u001b[0m |\n",
      "| \u001b[0m 11      \u001b[0m | \u001b[0m 0.7066  \u001b[0m | \u001b[0m 8.768   \u001b[0m | \u001b[0m 97.26   \u001b[0m | \u001b[0m 0.3376  \u001b[0m | \u001b[0m 5.051   \u001b[0m | \u001b[0m 6.909   \u001b[0m | \u001b[0m 7.853   \u001b[0m | \u001b[0m 7.566   \u001b[0m | \u001b[0m 0.748   \u001b[0m |\n",
      "| \u001b[0m 12      \u001b[0m | \u001b[0m 0.6986  \u001b[0m | \u001b[0m 8.985   \u001b[0m | \u001b[0m 76.11   \u001b[0m | \u001b[0m 0.1284  \u001b[0m | \u001b[0m 36.24   \u001b[0m | \u001b[0m 15.45   \u001b[0m | \u001b[0m 12.1    \u001b[0m | \u001b[0m 7.939   \u001b[0m | \u001b[0m 0.648   \u001b[0m |\n",
      "| \u001b[0m 13      \u001b[0m | \u001b[0m 0.6856  \u001b[0m | \u001b[0m 5.705   \u001b[0m | \u001b[0m 69.86   \u001b[0m | \u001b[0m 0.03516 \u001b[0m | \u001b[0m 7.179   \u001b[0m | \u001b[0m 1.597   \u001b[0m | \u001b[0m 13.46   \u001b[0m | \u001b[0m 3.829   \u001b[0m | \u001b[0m 0.6583  \u001b[0m |\n",
      "| \u001b[0m 14      \u001b[0m | \u001b[0m 0.6557  \u001b[0m | \u001b[0m 9.168   \u001b[0m | \u001b[0m 44.9    \u001b[0m | \u001b[0m 0.4163  \u001b[0m | \u001b[0m 38.27   \u001b[0m | \u001b[0m 5.347   \u001b[0m | \u001b[0m 3.386   \u001b[0m | \u001b[0m 3.608   \u001b[0m | \u001b[0m 0.4167  \u001b[0m |\n",
      "| \u001b[0m 15      \u001b[0m | \u001b[0m 0.6672  \u001b[0m | \u001b[0m 9.367   \u001b[0m | \u001b[0m 123.1   \u001b[0m | \u001b[0m 0.6371  \u001b[0m | \u001b[0m 43.83   \u001b[0m | \u001b[0m 16.27   \u001b[0m | \u001b[0m 5.358   \u001b[0m | \u001b[0m 9.033   \u001b[0m | \u001b[0m 0.6797  \u001b[0m |\n",
      "| \u001b[0m 16      \u001b[0m | \u001b[0m 0.559   \u001b[0m | \u001b[0m 3.341   \u001b[0m | \u001b[0m 141.9   \u001b[0m | \u001b[0m 0.5348  \u001b[0m | \u001b[0m 41.9    \u001b[0m | \u001b[0m 7.936   \u001b[0m | \u001b[0m 3.804   \u001b[0m | \u001b[0m 7.063   \u001b[0m | \u001b[0m 0.31    \u001b[0m |\n",
      "| \u001b[0m 17      \u001b[0m | \u001b[0m 0.6083  \u001b[0m | \u001b[0m 5.509   \u001b[0m | \u001b[0m 132.2   \u001b[0m | \u001b[0m 0.9001  \u001b[0m | \u001b[0m 5.822   \u001b[0m | \u001b[0m 16.82   \u001b[0m | \u001b[0m 11.59   \u001b[0m | \u001b[0m 6.789   \u001b[0m | \u001b[0m 0.3847  \u001b[0m |\n",
      "| \u001b[0m 18      \u001b[0m | \u001b[0m 0.7091  \u001b[0m | \u001b[0m 2.227   \u001b[0m | \u001b[0m 104.3   \u001b[0m | \u001b[0m 0.5161  \u001b[0m | \u001b[0m 3.26    \u001b[0m | \u001b[0m 2.055   \u001b[0m | \u001b[0m 6.464   \u001b[0m | \u001b[0m 9.741   \u001b[0m | \u001b[0m 0.8537  \u001b[0m |\n",
      "| \u001b[0m 19      \u001b[0m | \u001b[0m 0.715   \u001b[0m | \u001b[0m 5.933   \u001b[0m | \u001b[0m 137.7   \u001b[0m | \u001b[0m 0.09369 \u001b[0m | \u001b[0m 23.56   \u001b[0m | \u001b[0m 4.775   \u001b[0m | \u001b[0m 12.63   \u001b[0m | \u001b[0m 4.497   \u001b[0m | \u001b[0m 0.7378  \u001b[0m |\n",
      "| \u001b[0m 20      \u001b[0m | \u001b[0m 0.7005  \u001b[0m | \u001b[0m 3.354   \u001b[0m | \u001b[0m 124.8   \u001b[0m | \u001b[0m 0.9796  \u001b[0m | \u001b[0m 9.26    \u001b[0m | \u001b[0m 17.02   \u001b[0m | \u001b[0m 15.46   \u001b[0m | \u001b[0m 6.865   \u001b[0m | \u001b[0m 0.9351  \u001b[0m |\n",
      "| \u001b[0m 21      \u001b[0m | \u001b[0m 0.6687  \u001b[0m | \u001b[0m 6.732   \u001b[0m | \u001b[0m 72.56   \u001b[0m | \u001b[0m 0.6708  \u001b[0m | \u001b[0m 35.77   \u001b[0m | \u001b[0m 17.23   \u001b[0m | \u001b[0m 13.53   \u001b[0m | \u001b[0m 7.656   \u001b[0m | \u001b[0m 0.6362  \u001b[0m |\n",
      "| \u001b[95m 22      \u001b[0m | \u001b[95m 0.7408  \u001b[0m | \u001b[95m 7.05    \u001b[0m | \u001b[95m 118.6   \u001b[0m | \u001b[95m 0.1709  \u001b[0m | \u001b[95m 8.198   \u001b[0m | \u001b[95m 7.554   \u001b[0m | \u001b[95m 2.513   \u001b[0m | \u001b[95m 2.072   \u001b[0m | \u001b[95m 0.9655  \u001b[0m |\n",
      "| \u001b[0m 23      \u001b[0m | \u001b[0m 0.6931  \u001b[0m | \u001b[0m 7.821   \u001b[0m | \u001b[0m 145.5   \u001b[0m | \u001b[0m 0.9703  \u001b[0m | \u001b[0m 37.48   \u001b[0m | \u001b[0m 16.28   \u001b[0m | \u001b[0m 15.15   \u001b[0m | \u001b[0m 7.091   \u001b[0m | \u001b[0m 0.9339  \u001b[0m |\n",
      "| \u001b[0m 24      \u001b[0m | \u001b[0m 0.7272  \u001b[0m | \u001b[0m 8.754   \u001b[0m | \u001b[0m 104.4   \u001b[0m | \u001b[0m 0.08472 \u001b[0m | \u001b[0m 26.88   \u001b[0m | \u001b[0m 6.137   \u001b[0m | \u001b[0m 14.17   \u001b[0m | \u001b[0m 5.361   \u001b[0m | \u001b[0m 0.736   \u001b[0m |\n",
      "| \u001b[0m 25      \u001b[0m | \u001b[0m 0.7199  \u001b[0m | \u001b[0m 2.216   \u001b[0m | \u001b[0m 13.93   \u001b[0m | \u001b[0m 0.4865  \u001b[0m | \u001b[0m 36.77   \u001b[0m | \u001b[0m 18.16   \u001b[0m | \u001b[0m 4.702   \u001b[0m | \u001b[0m 8.447   \u001b[0m | \u001b[0m 0.7638  \u001b[0m |\n",
      "| \u001b[0m 26      \u001b[0m | \u001b[0m 0.6638  \u001b[0m | \u001b[0m 4.752   \u001b[0m | \u001b[0m 87.17   \u001b[0m | \u001b[0m 0.9614  \u001b[0m | \u001b[0m 35.39   \u001b[0m | \u001b[0m 18.37   \u001b[0m | \u001b[0m 2.014   \u001b[0m | \u001b[0m 9.808   \u001b[0m | \u001b[0m 0.5131  \u001b[0m |\n",
      "| \u001b[95m 27      \u001b[0m | \u001b[95m 0.7422  \u001b[0m | \u001b[95m 7.043   \u001b[0m | \u001b[95m 24.04   \u001b[0m | \u001b[95m 0.3999  \u001b[0m | \u001b[95m 33.82   \u001b[0m | \u001b[95m 15.78   \u001b[0m | \u001b[95m 12.33   \u001b[0m | \u001b[95m 3.206   \u001b[0m | \u001b[95m 0.963   \u001b[0m |\n",
      "| \u001b[0m 28      \u001b[0m | \u001b[0m 0.6227  \u001b[0m | \u001b[0m 9.631   \u001b[0m | \u001b[0m 17.17   \u001b[0m | \u001b[0m 0.6322  \u001b[0m | \u001b[0m 42.78   \u001b[0m | \u001b[0m 2.205   \u001b[0m | \u001b[0m 9.799   \u001b[0m | \u001b[0m 1.011   \u001b[0m | \u001b[0m 0.3406  \u001b[0m |\n",
      "| \u001b[0m 29      \u001b[0m | \u001b[0m 0.6126  \u001b[0m | \u001b[0m 8.076   \u001b[0m | \u001b[0m 29.21   \u001b[0m | \u001b[0m 0.9359  \u001b[0m | \u001b[0m 17.42   \u001b[0m | \u001b[0m 12.35   \u001b[0m | \u001b[0m 18.82   \u001b[0m | \u001b[0m 3.03    \u001b[0m | \u001b[0m 0.3206  \u001b[0m |\n",
      "| \u001b[0m 30      \u001b[0m | \u001b[0m 0.6939  \u001b[0m | \u001b[0m 7.227   \u001b[0m | \u001b[0m 38.69   \u001b[0m | \u001b[0m 0.7298  \u001b[0m | \u001b[0m 43.52   \u001b[0m | \u001b[0m 2.334   \u001b[0m | \u001b[0m 3.731   \u001b[0m | \u001b[0m 2.693   \u001b[0m | \u001b[0m 0.7218  \u001b[0m |\n",
      "| \u001b[0m 31      \u001b[0m | \u001b[0m 0.7203  \u001b[0m | \u001b[0m 6.244   \u001b[0m | \u001b[0m 18.98   \u001b[0m | \u001b[0m 0.1033  \u001b[0m | \u001b[0m 19.95   \u001b[0m | \u001b[0m 13.97   \u001b[0m | \u001b[0m 10.85   \u001b[0m | \u001b[0m 5.166   \u001b[0m | \u001b[0m 0.8321  \u001b[0m |\n",
      "| \u001b[0m 32      \u001b[0m | \u001b[0m 0.7047  \u001b[0m | \u001b[0m 7.516   \u001b[0m | \u001b[0m 42.61   \u001b[0m | \u001b[0m 0.146   \u001b[0m | \u001b[0m 8.56    \u001b[0m | \u001b[0m 15.77   \u001b[0m | \u001b[0m 13.62   \u001b[0m | \u001b[0m 3.184   \u001b[0m | \u001b[0m 0.656   \u001b[0m |\n",
      "| \u001b[0m 33      \u001b[0m | \u001b[0m 0.7403  \u001b[0m | \u001b[0m 7.704   \u001b[0m | \u001b[0m 46.13   \u001b[0m | \u001b[0m 0.2405  \u001b[0m | \u001b[0m 47.37   \u001b[0m | \u001b[0m 1.435   \u001b[0m | \u001b[0m 12.49   \u001b[0m | \u001b[0m 6.83    \u001b[0m | \u001b[0m 0.9211  \u001b[0m |\n",
      "| \u001b[0m 34      \u001b[0m | \u001b[0m 0.728   \u001b[0m | \u001b[0m 4.766   \u001b[0m | \u001b[0m 59.07   \u001b[0m | \u001b[0m 0.5575  \u001b[0m | \u001b[0m 23.31   \u001b[0m | \u001b[0m 12.67   \u001b[0m | \u001b[0m 4.128   \u001b[0m | \u001b[0m 3.885   \u001b[0m | \u001b[0m 0.8852  \u001b[0m |\n",
      "| \u001b[0m 35      \u001b[0m | \u001b[0m 0.6673  \u001b[0m | \u001b[0m 7.97    \u001b[0m | \u001b[0m 64.82   \u001b[0m | \u001b[0m 0.8266  \u001b[0m | \u001b[0m 35.85   \u001b[0m | \u001b[0m 2.447   \u001b[0m | \u001b[0m 19.08   \u001b[0m | \u001b[0m 7.062   \u001b[0m | \u001b[0m 0.5452  \u001b[0m |\n",
      "| \u001b[0m 36      \u001b[0m | \u001b[0m 0.6625  \u001b[0m | \u001b[0m 5.556   \u001b[0m | \u001b[0m 137.6   \u001b[0m | \u001b[0m 0.6808  \u001b[0m | \u001b[0m 21.91   \u001b[0m | \u001b[0m 5.408   \u001b[0m | \u001b[0m 13.28   \u001b[0m | \u001b[0m 4.296   \u001b[0m | \u001b[0m 0.4841  \u001b[0m |\n",
      "| \u001b[0m 37      \u001b[0m | \u001b[0m 0.7371  \u001b[0m | \u001b[0m 7.464   \u001b[0m | \u001b[0m 123.4   \u001b[0m | \u001b[0m 0.178   \u001b[0m | \u001b[0m 43.68   \u001b[0m | \u001b[0m 16.8    \u001b[0m | \u001b[0m 7.75    \u001b[0m | \u001b[0m 2.708   \u001b[0m | \u001b[0m 0.9286  \u001b[0m |\n",
      "| \u001b[0m 38      \u001b[0m | \u001b[0m 0.7204  \u001b[0m | \u001b[0m 6.948   \u001b[0m | \u001b[0m 92.44   \u001b[0m | \u001b[0m 0.5974  \u001b[0m | \u001b[0m 40.54   \u001b[0m | \u001b[0m 15.27   \u001b[0m | \u001b[0m 6.872   \u001b[0m | \u001b[0m 4.136   \u001b[0m | \u001b[0m 0.8455  \u001b[0m |\n",
      "| \u001b[0m 39      \u001b[0m | \u001b[0m 0.644   \u001b[0m | \u001b[0m 2.706   \u001b[0m | \u001b[0m 26.96   \u001b[0m | \u001b[0m 0.7426  \u001b[0m | \u001b[0m 30.63   \u001b[0m | \u001b[0m 11.14   \u001b[0m | \u001b[0m 15.22   \u001b[0m | \u001b[0m 3.545   \u001b[0m | \u001b[0m 0.4391  \u001b[0m |\n",
      "| \u001b[0m 40      \u001b[0m | \u001b[0m 0.6741  \u001b[0m | \u001b[0m 4.811   \u001b[0m | \u001b[0m 14.02   \u001b[0m | \u001b[0m 0.0433  \u001b[0m | \u001b[0m 31.77   \u001b[0m | \u001b[0m 4.305   \u001b[0m | \u001b[0m 16.3    \u001b[0m | \u001b[0m 4.865   \u001b[0m | \u001b[0m 0.5304  \u001b[0m |\n"
     ]
    },
    {
     "name": "stdout",
     "output_type": "stream",
     "text": [
      "| \u001b[0m 41      \u001b[0m | \u001b[0m 0.6708  \u001b[0m | \u001b[0m 9.358   \u001b[0m | \u001b[0m 32.83   \u001b[0m | \u001b[0m 0.2873  \u001b[0m | \u001b[0m 37.01   \u001b[0m | \u001b[0m 19.56   \u001b[0m | \u001b[0m 9.682   \u001b[0m | \u001b[0m 5.972   \u001b[0m | \u001b[0m 0.4493  \u001b[0m |\n",
      "| \u001b[0m 42      \u001b[0m | \u001b[0m 0.6898  \u001b[0m | \u001b[0m 4.397   \u001b[0m | \u001b[0m 69.44   \u001b[0m | \u001b[0m 0.7803  \u001b[0m | \u001b[0m 31.73   \u001b[0m | \u001b[0m 19.24   \u001b[0m | \u001b[0m 5.69    \u001b[0m | \u001b[0m 6.458   \u001b[0m | \u001b[0m 0.7379  \u001b[0m |\n",
      "| \u001b[0m 43      \u001b[0m | \u001b[0m 0.6654  \u001b[0m | \u001b[0m 6.546   \u001b[0m | \u001b[0m 87.82   \u001b[0m | \u001b[0m 0.4534  \u001b[0m | \u001b[0m 15.72   \u001b[0m | \u001b[0m 3.672   \u001b[0m | \u001b[0m 19.26   \u001b[0m | \u001b[0m 3.718   \u001b[0m | \u001b[0m 0.5314  \u001b[0m |\n",
      "| \u001b[0m 44      \u001b[0m | \u001b[0m 0.6878  \u001b[0m | \u001b[0m 8.726   \u001b[0m | \u001b[0m 13.54   \u001b[0m | \u001b[0m 0.31    \u001b[0m | \u001b[0m 28.57   \u001b[0m | \u001b[0m 9.598   \u001b[0m | \u001b[0m 18.14   \u001b[0m | \u001b[0m 6.195   \u001b[0m | \u001b[0m 0.6043  \u001b[0m |\n",
      "| \u001b[0m 45      \u001b[0m | \u001b[0m 0.6207  \u001b[0m | \u001b[0m 7.616   \u001b[0m | \u001b[0m 45.73   \u001b[0m | \u001b[0m 0.6723  \u001b[0m | \u001b[0m 15.07   \u001b[0m | \u001b[0m 19.91   \u001b[0m | \u001b[0m 12.25   \u001b[0m | \u001b[0m 9.981   \u001b[0m | \u001b[0m 0.3729  \u001b[0m |\n",
      "| \u001b[0m 46      \u001b[0m | \u001b[0m 0.7046  \u001b[0m | \u001b[0m 1.105   \u001b[0m | \u001b[0m 91.43   \u001b[0m | \u001b[0m 0.9234  \u001b[0m | \u001b[0m 20.34   \u001b[0m | \u001b[0m 16.18   \u001b[0m | \u001b[0m 10.6    \u001b[0m | \u001b[0m 3.325   \u001b[0m | \u001b[0m 0.5426  \u001b[0m |\n",
      "| \u001b[0m 47      \u001b[0m | \u001b[0m 0.5878  \u001b[0m | \u001b[0m 6.16    \u001b[0m | \u001b[0m 26.78   \u001b[0m | \u001b[0m 0.2545  \u001b[0m | \u001b[0m 14.08   \u001b[0m | \u001b[0m 10.53   \u001b[0m | \u001b[0m 11.64   \u001b[0m | \u001b[0m 4.836   \u001b[0m | \u001b[0m 0.3215  \u001b[0m |\n",
      "| \u001b[0m 48      \u001b[0m | \u001b[0m 0.66    \u001b[0m | \u001b[0m 7.178   \u001b[0m | \u001b[0m 44.17   \u001b[0m | \u001b[0m 0.6541  \u001b[0m | \u001b[0m 26.46   \u001b[0m | \u001b[0m 13.1    \u001b[0m | \u001b[0m 12.21   \u001b[0m | \u001b[0m 3.835   \u001b[0m | \u001b[0m 0.4779  \u001b[0m |\n",
      "| \u001b[0m 49      \u001b[0m | \u001b[0m 0.6965  \u001b[0m | \u001b[0m 2.622   \u001b[0m | \u001b[0m 149.3   \u001b[0m | \u001b[0m 0.338   \u001b[0m | \u001b[0m 25.06   \u001b[0m | \u001b[0m 13.03   \u001b[0m | \u001b[0m 9.513   \u001b[0m | \u001b[0m 1.318   \u001b[0m | \u001b[0m 0.6989  \u001b[0m |\n",
      "| \u001b[0m 50      \u001b[0m | \u001b[0m 0.6153  \u001b[0m | \u001b[0m 7.858   \u001b[0m | \u001b[0m 137.7   \u001b[0m | \u001b[0m 0.4298  \u001b[0m | \u001b[0m 11.05   \u001b[0m | \u001b[0m 3.972   \u001b[0m | \u001b[0m 15.14   \u001b[0m | \u001b[0m 8.044   \u001b[0m | \u001b[0m 0.385   \u001b[0m |\n",
      "=========================================================================================================================\n"
     ]
    }
   ],
   "source": [
    "hyperparam_rf_KC1 = run_ml(data_load['KC1'], 10, bound_random_forest['KC1'], model.random_forest)"
   ]
  },
  {
   "cell_type": "code",
   "execution_count": 21,
   "metadata": {
    "scrolled": false
   },
   "outputs": [
    {
     "data": {
      "text/plain": [
       "{'Train': {'Gmeans': 0.8736298036939085,\n",
       "  'Recall': 0.9027198158008346,\n",
       "  'pf': 0.1545227870896246,\n",
       "  'cf_matrix': {'tn': 12207, 'fp': 2231, 'fn': 1352, 'tp': 12546}},\n",
       " 'Dev': {'Gmeans': 0.7422179680122989,\n",
       "  'Recall': 0.6735395189003437,\n",
       "  'pf': 0.18210068365444376,\n",
       "  'cf_matrix': {'tn': 1316, 'fp': 293, 'fn': 95, 'tp': 196}},\n",
       " 'Test': {'Gmeans': 0.7022312273911734,\n",
       "  'Recall': 0.6042944785276073,\n",
       "  'pf': 0.18395961862030286,\n",
       "  'cf_matrix': {'tn': 1455, 'fp': 328, 'fn': 129, 'tp': 197}}}"
      ]
     },
     "execution_count": 21,
     "metadata": {},
     "output_type": "execute_result"
    }
   ],
   "source": [
    "best_hyperparam_rf_KC1 = hyperparam_rf_KC1.max['params']\n",
    "result_rf_KC1 = run_ml(data_load['KC1'], 10, best_hyperparam_rf_KC1, model.random_forest,do_optimize = False)\n",
    "result_rf_KC1"
   ]
  },
  {
   "cell_type": "markdown",
   "metadata": {},
   "source": [
    "### KC2"
   ]
  },
  {
   "cell_type": "code",
   "execution_count": 25,
   "metadata": {},
   "outputs": [
    {
     "name": "stdout",
     "output_type": "stream",
     "text": [
      "|   iter    |  target   |   depth   | estimator | max_fe... | max_le... | min_leaf  | min_split | neighbors | sampling  |\n",
      "-------------------------------------------------------------------------------------------------------------------------\n",
      "| \u001b[0m 1       \u001b[0m | \u001b[0m 0.7747  \u001b[0m | \u001b[0m 4.371   \u001b[0m | \u001b[0m 143.1   \u001b[0m | \u001b[0m 0.7347  \u001b[0m | \u001b[0m 30.74   \u001b[0m | \u001b[0m 3.964   \u001b[0m | \u001b[0m 4.808   \u001b[0m | \u001b[0m 1.523   \u001b[0m | \u001b[0m 0.9137  \u001b[0m |\n",
      "| \u001b[95m 2       \u001b[0m | \u001b[95m 0.8206  \u001b[0m | \u001b[95m 6.41    \u001b[0m | \u001b[95m 109.1   \u001b[0m | \u001b[95m 0.03038 \u001b[0m | \u001b[95m 48.56   \u001b[0m | \u001b[95m 16.82   \u001b[0m | \u001b[95m 5.822   \u001b[0m | \u001b[95m 2.636   \u001b[0m | \u001b[95m 0.4733  \u001b[0m |\n",
      "| \u001b[0m 3       \u001b[0m | \u001b[0m 0.8076  \u001b[0m | \u001b[0m 3.738   \u001b[0m | \u001b[0m 83.47   \u001b[0m | \u001b[0m 0.4376  \u001b[0m | \u001b[0m 15.98   \u001b[0m | \u001b[0m 12.63   \u001b[0m | \u001b[0m 4.511   \u001b[0m | \u001b[0m 3.629   \u001b[0m | \u001b[0m 0.5913  \u001b[0m |\n",
      "| \u001b[0m 4       \u001b[0m | \u001b[0m 0.8028  \u001b[0m | \u001b[0m 5.105   \u001b[0m | \u001b[0m 119.9   \u001b[0m | \u001b[0m 0.2077  \u001b[0m | \u001b[0m 26.68   \u001b[0m | \u001b[0m 12.26   \u001b[0m | \u001b[0m 2.836   \u001b[0m | \u001b[0m 6.468   \u001b[0m | \u001b[0m 0.465   \u001b[0m |\n",
      "| \u001b[0m 5       \u001b[0m | \u001b[0m 0.82    \u001b[0m | \u001b[0m 1.585   \u001b[0m | \u001b[0m 142.8   \u001b[0m | \u001b[0m 0.966   \u001b[0m | \u001b[0m 40.8    \u001b[0m | \u001b[0m 6.788   \u001b[0m | \u001b[0m 3.758   \u001b[0m | \u001b[0m 7.158   \u001b[0m | \u001b[0m 0.6389  \u001b[0m |\n",
      "| \u001b[95m 6       \u001b[0m | \u001b[95m 0.8311  \u001b[0m | \u001b[95m 2.098   \u001b[0m | \u001b[95m 79.32   \u001b[0m | \u001b[95m 0.04404 \u001b[0m | \u001b[95m 45.65   \u001b[0m | \u001b[95m 5.917   \u001b[0m | \u001b[95m 13.93   \u001b[0m | \u001b[95m 3.805   \u001b[0m | \u001b[95m 0.6904  \u001b[0m |\n",
      "| \u001b[0m 7       \u001b[0m | \u001b[0m 0.7875  \u001b[0m | \u001b[0m 5.92    \u001b[0m | \u001b[0m 35.88   \u001b[0m | \u001b[0m 0.9699  \u001b[0m | \u001b[0m 39.21   \u001b[0m | \u001b[0m 18.85   \u001b[0m | \u001b[0m 18.11   \u001b[0m | \u001b[0m 6.381   \u001b[0m | \u001b[0m 0.9496  \u001b[0m |\n",
      "| \u001b[95m 8       \u001b[0m | \u001b[95m 0.8386  \u001b[0m | \u001b[95m 1.796   \u001b[0m | \u001b[95m 37.44   \u001b[0m | \u001b[95m 0.05478 \u001b[0m | \u001b[95m 17.62   \u001b[0m | \u001b[95m 8.385   \u001b[0m | \u001b[95m 6.884   \u001b[0m | \u001b[95m 8.459   \u001b[0m | \u001b[95m 0.5851  \u001b[0m |\n",
      "| \u001b[0m 9       \u001b[0m | \u001b[0m 0.8113  \u001b[0m | \u001b[0m 3.528   \u001b[0m | \u001b[0m 85.98   \u001b[0m | \u001b[0m 0.1495  \u001b[0m | \u001b[0m 40.51   \u001b[0m | \u001b[0m 2.416   \u001b[0m | \u001b[0m 19.76   \u001b[0m | \u001b[0m 7.95    \u001b[0m | \u001b[0m 0.4832  \u001b[0m |\n",
      "| \u001b[0m 10      \u001b[0m | \u001b[0m 0.8335  \u001b[0m | \u001b[0m 1.05    \u001b[0m | \u001b[0m 124.2   \u001b[0m | \u001b[0m 0.7098  \u001b[0m | \u001b[0m 36.99   \u001b[0m | \u001b[0m 15.65   \u001b[0m | \u001b[0m 3.333   \u001b[0m | \u001b[0m 4.226   \u001b[0m | \u001b[0m 0.4297  \u001b[0m |\n",
      "| \u001b[0m 11      \u001b[0m | \u001b[0m 0.8282  \u001b[0m | \u001b[0m 8.768   \u001b[0m | \u001b[0m 97.26   \u001b[0m | \u001b[0m 0.3376  \u001b[0m | \u001b[0m 5.051   \u001b[0m | \u001b[0m 6.909   \u001b[0m | \u001b[0m 7.853   \u001b[0m | \u001b[0m 7.566   \u001b[0m | \u001b[0m 0.7662  \u001b[0m |\n",
      "| \u001b[0m 12      \u001b[0m | \u001b[0m 0.8386  \u001b[0m | \u001b[0m 8.985   \u001b[0m | \u001b[0m 76.11   \u001b[0m | \u001b[0m 0.1284  \u001b[0m | \u001b[0m 36.24   \u001b[0m | \u001b[0m 15.45   \u001b[0m | \u001b[0m 12.1    \u001b[0m | \u001b[0m 7.939   \u001b[0m | \u001b[0m 0.6735  \u001b[0m |\n",
      "| \u001b[0m 13      \u001b[0m | \u001b[0m 0.8377  \u001b[0m | \u001b[0m 5.705   \u001b[0m | \u001b[0m 69.86   \u001b[0m | \u001b[0m 0.03516 \u001b[0m | \u001b[0m 7.179   \u001b[0m | \u001b[0m 1.597   \u001b[0m | \u001b[0m 13.46   \u001b[0m | \u001b[0m 3.829   \u001b[0m | \u001b[0m 0.683   \u001b[0m |\n",
      "| \u001b[0m 14      \u001b[0m | \u001b[0m 0.7406  \u001b[0m | \u001b[0m 9.168   \u001b[0m | \u001b[0m 44.9    \u001b[0m | \u001b[0m 0.4163  \u001b[0m | \u001b[0m 38.27   \u001b[0m | \u001b[0m 5.347   \u001b[0m | \u001b[0m 3.386   \u001b[0m | \u001b[0m 3.608   \u001b[0m | \u001b[0m 0.459   \u001b[0m |\n",
      "| \u001b[0m 15      \u001b[0m | \u001b[0m 0.8239  \u001b[0m | \u001b[0m 9.367   \u001b[0m | \u001b[0m 123.1   \u001b[0m | \u001b[0m 0.6371  \u001b[0m | \u001b[0m 43.83   \u001b[0m | \u001b[0m 16.27   \u001b[0m | \u001b[0m 5.358   \u001b[0m | \u001b[0m 9.033   \u001b[0m | \u001b[0m 0.7029  \u001b[0m |\n",
      "| \u001b[0m 16      \u001b[0m | \u001b[0m 0.8137  \u001b[0m | \u001b[0m 4.425   \u001b[0m | \u001b[0m 130.2   \u001b[0m | \u001b[0m 0.7569  \u001b[0m | \u001b[0m 2.882   \u001b[0m | \u001b[0m 4.163   \u001b[0m | \u001b[0m 10.53   \u001b[0m | \u001b[0m 6.928   \u001b[0m | \u001b[0m 0.8163  \u001b[0m |\n",
      "| \u001b[0m 17      \u001b[0m | \u001b[0m 0.7805  \u001b[0m | \u001b[0m 5.509   \u001b[0m | \u001b[0m 132.2   \u001b[0m | \u001b[0m 0.9001  \u001b[0m | \u001b[0m 5.822   \u001b[0m | \u001b[0m 16.82   \u001b[0m | \u001b[0m 11.59   \u001b[0m | \u001b[0m 6.789   \u001b[0m | \u001b[0m 0.4293  \u001b[0m |\n",
      "| \u001b[0m 18      \u001b[0m | \u001b[0m 0.8219  \u001b[0m | \u001b[0m 3.464   \u001b[0m | \u001b[0m 35.48   \u001b[0m | \u001b[0m 0.06792 \u001b[0m | \u001b[0m 18.38   \u001b[0m | \u001b[0m 7.844   \u001b[0m | \u001b[0m 8.836   \u001b[0m | \u001b[0m 8.038   \u001b[0m | \u001b[0m 0.8886  \u001b[0m |\n",
      "| \u001b[0m 19      \u001b[0m | \u001b[0m 0.8178  \u001b[0m | \u001b[0m 1.208   \u001b[0m | \u001b[0m 42.16   \u001b[0m | \u001b[0m 0.1605  \u001b[0m | \u001b[0m 19.25   \u001b[0m | \u001b[0m 8.764   \u001b[0m | \u001b[0m 4.647   \u001b[0m | \u001b[0m 7.951   \u001b[0m | \u001b[0m 0.8531  \u001b[0m |\n",
      "| \u001b[0m 20      \u001b[0m | \u001b[0m 0.8303  \u001b[0m | \u001b[0m 7.167   \u001b[0m | \u001b[0m 76.71   \u001b[0m | \u001b[0m 0.09601 \u001b[0m | \u001b[0m 38.78   \u001b[0m | \u001b[0m 13.18   \u001b[0m | \u001b[0m 12.71   \u001b[0m | \u001b[0m 6.812   \u001b[0m | \u001b[0m 0.6087  \u001b[0m |\n",
      "| \u001b[0m 21      \u001b[0m | \u001b[0m 0.8256  \u001b[0m | \u001b[0m 1.99    \u001b[0m | \u001b[0m 34.67   \u001b[0m | \u001b[0m 0.3759  \u001b[0m | \u001b[0m 17.39   \u001b[0m | \u001b[0m 10.76   \u001b[0m | \u001b[0m 4.662   \u001b[0m | \u001b[0m 9.667   \u001b[0m | \u001b[0m 0.6519  \u001b[0m |\n",
      "| \u001b[0m 22      \u001b[0m | \u001b[0m 0.6938  \u001b[0m | \u001b[0m 1.0     \u001b[0m | \u001b[0m 38.17   \u001b[0m | \u001b[0m 0.01    \u001b[0m | \u001b[0m 14.21   \u001b[0m | \u001b[0m 7.506   \u001b[0m | \u001b[0m 6.792   \u001b[0m | \u001b[0m 9.085   \u001b[0m | \u001b[0m 0.355   \u001b[0m |\n",
      "| \u001b[0m 23      \u001b[0m | \u001b[0m 0.8108  \u001b[0m | \u001b[0m 7.821   \u001b[0m | \u001b[0m 145.5   \u001b[0m | \u001b[0m 0.9703  \u001b[0m | \u001b[0m 37.48   \u001b[0m | \u001b[0m 16.28   \u001b[0m | \u001b[0m 15.15   \u001b[0m | \u001b[0m 7.091   \u001b[0m | \u001b[0m 0.9387  \u001b[0m |\n",
      "| \u001b[0m 24      \u001b[0m | \u001b[0m 0.8347  \u001b[0m | \u001b[0m 8.754   \u001b[0m | \u001b[0m 104.4   \u001b[0m | \u001b[0m 0.08472 \u001b[0m | \u001b[0m 26.88   \u001b[0m | \u001b[0m 6.137   \u001b[0m | \u001b[0m 14.17   \u001b[0m | \u001b[0m 5.361   \u001b[0m | \u001b[0m 0.7551  \u001b[0m |\n",
      "| \u001b[0m 25      \u001b[0m | \u001b[0m 0.8137  \u001b[0m | \u001b[0m 2.216   \u001b[0m | \u001b[0m 13.93   \u001b[0m | \u001b[0m 0.4865  \u001b[0m | \u001b[0m 36.77   \u001b[0m | \u001b[0m 18.16   \u001b[0m | \u001b[0m 4.702   \u001b[0m | \u001b[0m 8.447   \u001b[0m | \u001b[0m 0.781   \u001b[0m |\n",
      "| \u001b[0m 26      \u001b[0m | \u001b[0m 0.7956  \u001b[0m | \u001b[0m 4.752   \u001b[0m | \u001b[0m 87.17   \u001b[0m | \u001b[0m 0.9614  \u001b[0m | \u001b[0m 35.39   \u001b[0m | \u001b[0m 18.37   \u001b[0m | \u001b[0m 2.014   \u001b[0m | \u001b[0m 9.808   \u001b[0m | \u001b[0m 0.5484  \u001b[0m |\n",
      "| \u001b[0m 27      \u001b[0m | \u001b[0m 0.8219  \u001b[0m | \u001b[0m 7.043   \u001b[0m | \u001b[0m 24.04   \u001b[0m | \u001b[0m 0.3999  \u001b[0m | \u001b[0m 33.82   \u001b[0m | \u001b[0m 15.78   \u001b[0m | \u001b[0m 12.33   \u001b[0m | \u001b[0m 3.206   \u001b[0m | \u001b[0m 0.9657  \u001b[0m |\n",
      "| \u001b[0m 28      \u001b[0m | \u001b[0m 0.7158  \u001b[0m | \u001b[0m 9.631   \u001b[0m | \u001b[0m 17.17   \u001b[0m | \u001b[0m 0.6322  \u001b[0m | \u001b[0m 42.78   \u001b[0m | \u001b[0m 2.205   \u001b[0m | \u001b[0m 9.799   \u001b[0m | \u001b[0m 1.011   \u001b[0m | \u001b[0m 0.3884  \u001b[0m |\n",
      "| \u001b[0m 29      \u001b[0m | \u001b[0m 0.7427  \u001b[0m | \u001b[0m 8.076   \u001b[0m | \u001b[0m 29.21   \u001b[0m | \u001b[0m 0.9359  \u001b[0m | \u001b[0m 17.42   \u001b[0m | \u001b[0m 12.35   \u001b[0m | \u001b[0m 18.82   \u001b[0m | \u001b[0m 3.03    \u001b[0m | \u001b[0m 0.3698  \u001b[0m |\n",
      "| \u001b[0m 30      \u001b[0m | \u001b[0m 0.7348  \u001b[0m | \u001b[0m 7.227   \u001b[0m | \u001b[0m 38.69   \u001b[0m | \u001b[0m 0.7298  \u001b[0m | \u001b[0m 43.52   \u001b[0m | \u001b[0m 2.334   \u001b[0m | \u001b[0m 3.731   \u001b[0m | \u001b[0m 2.693   \u001b[0m | \u001b[0m 0.7419  \u001b[0m |\n",
      "| \u001b[0m 31      \u001b[0m | \u001b[0m 0.8138  \u001b[0m | \u001b[0m 4.59    \u001b[0m | \u001b[0m 129.9   \u001b[0m | \u001b[0m 0.138   \u001b[0m | \u001b[0m 2.512   \u001b[0m | \u001b[0m 2.5     \u001b[0m | \u001b[0m 10.6    \u001b[0m | \u001b[0m 7.185   \u001b[0m | \u001b[0m 0.904   \u001b[0m |\n",
      "| \u001b[0m 32      \u001b[0m | \u001b[0m 0.8219  \u001b[0m | \u001b[0m 6.572   \u001b[0m | \u001b[0m 76.63   \u001b[0m | \u001b[0m 0.4064  \u001b[0m | \u001b[0m 39.23   \u001b[0m | \u001b[0m 14.54   \u001b[0m | \u001b[0m 13.91   \u001b[0m | \u001b[0m 6.589   \u001b[0m | \u001b[0m 0.8536  \u001b[0m |\n",
      "| \u001b[0m 33      \u001b[0m | \u001b[0m 0.8203  \u001b[0m | \u001b[0m 1.002   \u001b[0m | \u001b[0m 38.83   \u001b[0m | \u001b[0m 0.5845  \u001b[0m | \u001b[0m 19.44   \u001b[0m | \u001b[0m 7.556   \u001b[0m | \u001b[0m 8.067   \u001b[0m | \u001b[0m 7.193   \u001b[0m | \u001b[0m 0.8163  \u001b[0m |\n",
      "| \u001b[0m 34      \u001b[0m | \u001b[0m 0.8219  \u001b[0m | \u001b[0m 1.743   \u001b[0m | \u001b[0m 39.05   \u001b[0m | \u001b[0m 0.3652  \u001b[0m | \u001b[0m 20.73   \u001b[0m | \u001b[0m 9.017   \u001b[0m | \u001b[0m 6.76    \u001b[0m | \u001b[0m 7.882   \u001b[0m | \u001b[0m 0.8937  \u001b[0m |\n",
      "| \u001b[0m 35      \u001b[0m | \u001b[0m 0.8203  \u001b[0m | \u001b[0m 7.503   \u001b[0m | \u001b[0m 74.92   \u001b[0m | \u001b[0m 0.243   \u001b[0m | \u001b[0m 34.98   \u001b[0m | \u001b[0m 13.45   \u001b[0m | \u001b[0m 10.89   \u001b[0m | \u001b[0m 9.459   \u001b[0m | \u001b[0m 0.9281  \u001b[0m |\n",
      "| \u001b[0m 36      \u001b[0m | \u001b[0m 0.7362  \u001b[0m | \u001b[0m 7.582   \u001b[0m | \u001b[0m 104.2   \u001b[0m | \u001b[0m 0.2393  \u001b[0m | \u001b[0m 27.74   \u001b[0m | \u001b[0m 5.37    \u001b[0m | \u001b[0m 15.69   \u001b[0m | \u001b[0m 3.121   \u001b[0m | \u001b[0m 0.429   \u001b[0m |\n",
      "| \u001b[0m 37      \u001b[0m | \u001b[0m 0.823   \u001b[0m | \u001b[0m 7.995   \u001b[0m | \u001b[0m 95.72   \u001b[0m | \u001b[0m 0.28    \u001b[0m | \u001b[0m 5.885   \u001b[0m | \u001b[0m 6.972   \u001b[0m | \u001b[0m 7.608   \u001b[0m | \u001b[0m 5.519   \u001b[0m | \u001b[0m 0.6618  \u001b[0m |\n",
      "| \u001b[0m 38      \u001b[0m | \u001b[0m 0.7996  \u001b[0m | \u001b[0m 8.26    \u001b[0m | \u001b[0m 78.11   \u001b[0m | \u001b[0m 0.843   \u001b[0m | \u001b[0m 37.9    \u001b[0m | \u001b[0m 12.88   \u001b[0m | \u001b[0m 11.23   \u001b[0m | \u001b[0m 7.203   \u001b[0m | \u001b[0m 0.9777  \u001b[0m |\n",
      "| \u001b[0m 39      \u001b[0m | \u001b[0m 0.7763  \u001b[0m | \u001b[0m 8.906   \u001b[0m | \u001b[0m 76.06   \u001b[0m | \u001b[0m 0.7186  \u001b[0m | \u001b[0m 38.33   \u001b[0m | \u001b[0m 13.92   \u001b[0m | \u001b[0m 13.04   \u001b[0m | \u001b[0m 9.287   \u001b[0m | \u001b[0m 0.6099  \u001b[0m |\n",
      "| \u001b[0m 40      \u001b[0m | \u001b[0m 0.807   \u001b[0m | \u001b[0m 2.627   \u001b[0m | \u001b[0m 78.83   \u001b[0m | \u001b[0m 0.2559  \u001b[0m | \u001b[0m 47.34   \u001b[0m | \u001b[0m 6.883   \u001b[0m | \u001b[0m 15.83   \u001b[0m | \u001b[0m 4.764   \u001b[0m | \u001b[0m 0.941   \u001b[0m |\n"
     ]
    },
    {
     "name": "stdout",
     "output_type": "stream",
     "text": [
      "| \u001b[0m 41      \u001b[0m | \u001b[0m 0.8137  \u001b[0m | \u001b[0m 5.526   \u001b[0m | \u001b[0m 72.36   \u001b[0m | \u001b[0m 0.5658  \u001b[0m | \u001b[0m 6.701   \u001b[0m | \u001b[0m 1.1     \u001b[0m | \u001b[0m 14.48   \u001b[0m | \u001b[0m 3.627   \u001b[0m | \u001b[0m 0.9879  \u001b[0m |\n",
      "| \u001b[0m 42      \u001b[0m | \u001b[0m 0.826   \u001b[0m | \u001b[0m 9.337   \u001b[0m | \u001b[0m 123.5   \u001b[0m | \u001b[0m 0.2142  \u001b[0m | \u001b[0m 42.7    \u001b[0m | \u001b[0m 17.1    \u001b[0m | \u001b[0m 4.234   \u001b[0m | \u001b[0m 9.372   \u001b[0m | \u001b[0m 0.9632  \u001b[0m |\n",
      "| \u001b[0m 43      \u001b[0m | \u001b[0m 0.7504  \u001b[0m | \u001b[0m 8.956   \u001b[0m | \u001b[0m 107.1   \u001b[0m | \u001b[0m 0.6296  \u001b[0m | \u001b[0m 26.3    \u001b[0m | \u001b[0m 6.374   \u001b[0m | \u001b[0m 14.12   \u001b[0m | \u001b[0m 7.66    \u001b[0m | \u001b[0m 0.8086  \u001b[0m |\n",
      "| \u001b[0m 44      \u001b[0m | \u001b[0m 0.8264  \u001b[0m | \u001b[0m 4.372   \u001b[0m | \u001b[0m 35.91   \u001b[0m | \u001b[0m 0.1248  \u001b[0m | \u001b[0m 18.09   \u001b[0m | \u001b[0m 8.374   \u001b[0m | \u001b[0m 6.182   \u001b[0m | \u001b[0m 7.822   \u001b[0m | \u001b[0m 0.612   \u001b[0m |\n",
      "| \u001b[0m 45      \u001b[0m | \u001b[0m 0.815   \u001b[0m | \u001b[0m 6.789   \u001b[0m | \u001b[0m 76.17   \u001b[0m | \u001b[0m 0.09907 \u001b[0m | \u001b[0m 35.47   \u001b[0m | \u001b[0m 17.27   \u001b[0m | \u001b[0m 13.36   \u001b[0m | \u001b[0m 7.357   \u001b[0m | \u001b[0m 0.9552  \u001b[0m |\n",
      "| \u001b[0m 46      \u001b[0m | \u001b[0m 0.8308  \u001b[0m | \u001b[0m 8.515   \u001b[0m | \u001b[0m 98.04   \u001b[0m | \u001b[0m 0.3374  \u001b[0m | \u001b[0m 4.762   \u001b[0m | \u001b[0m 7.05    \u001b[0m | \u001b[0m 8.98    \u001b[0m | \u001b[0m 5.838   \u001b[0m | \u001b[0m 0.5899  \u001b[0m |\n",
      "| \u001b[0m 47      \u001b[0m | \u001b[0m 0.8179  \u001b[0m | \u001b[0m 1.607   \u001b[0m | \u001b[0m 33.46   \u001b[0m | \u001b[0m 0.1205  \u001b[0m | \u001b[0m 16.72   \u001b[0m | \u001b[0m 11.38   \u001b[0m | \u001b[0m 5.67    \u001b[0m | \u001b[0m 8.811   \u001b[0m | \u001b[0m 0.9227  \u001b[0m |\n",
      "| \u001b[0m 48      \u001b[0m | \u001b[0m 0.8272  \u001b[0m | \u001b[0m 7.65    \u001b[0m | \u001b[0m 76.1    \u001b[0m | \u001b[0m 0.4056  \u001b[0m | \u001b[0m 34.86   \u001b[0m | \u001b[0m 16.42   \u001b[0m | \u001b[0m 12.62   \u001b[0m | \u001b[0m 8.425   \u001b[0m | \u001b[0m 0.8232  \u001b[0m |\n",
      "| \u001b[0m 49      \u001b[0m | \u001b[0m 0.8177  \u001b[0m | \u001b[0m 6.905   \u001b[0m | \u001b[0m 95.83   \u001b[0m | \u001b[0m 0.5473  \u001b[0m | \u001b[0m 3.842   \u001b[0m | \u001b[0m 6.039   \u001b[0m | \u001b[0m 9.353   \u001b[0m | \u001b[0m 7.2     \u001b[0m | \u001b[0m 0.8766  \u001b[0m |\n",
      "| \u001b[0m 50      \u001b[0m | \u001b[0m 0.8164  \u001b[0m | \u001b[0m 1.373   \u001b[0m | \u001b[0m 38.05   \u001b[0m | \u001b[0m 0.7055  \u001b[0m | \u001b[0m 19.19   \u001b[0m | \u001b[0m 10.35   \u001b[0m | \u001b[0m 4.361   \u001b[0m | \u001b[0m 6.47    \u001b[0m | \u001b[0m 0.7884  \u001b[0m |\n",
      "=========================================================================================================================\n"
     ]
    }
   ],
   "source": [
    "hyperparam_rf_KC2 = run_ml(data_load['KC2'], 10, bound_random_forest['KC2'], model.random_forest)"
   ]
  },
  {
   "cell_type": "code",
   "execution_count": 26,
   "metadata": {
    "scrolled": true
   },
   "outputs": [
    {
     "data": {
      "text/plain": [
       "{'Train': {'Gmeans': 0.7978736683107516,\n",
       "  'Recall': 0.7377551020408163,\n",
       "  'pf': 0.13710879284649777,\n",
       "  'cf_matrix': {'tn': 2895, 'fp': 460, 'fn': 514, 'tp': 1446}},\n",
       " 'Dev': {'Gmeans': 0.8385799748795614,\n",
       "  'Recall': 0.8222222222222222,\n",
       "  'pf': 0.14473684210526316,\n",
       "  'cf_matrix': {'tn': 325, 'fp': 55, 'fn': 16, 'tp': 74}},\n",
       " 'Test': {'Gmeans': 0.7618892122316059,\n",
       "  'Recall': 0.6728971962616822,\n",
       "  'pf': 0.13734939759036144,\n",
       "  'cf_matrix': {'tn': 358, 'fp': 57, 'fn': 35, 'tp': 72}}}"
      ]
     },
     "execution_count": 26,
     "metadata": {},
     "output_type": "execute_result"
    }
   ],
   "source": [
    "best_hyperparam_rf_KC2 = hyperparam_rf_KC2.max['params']\n",
    "result_rf_KC2 = run_ml(data_load['KC2'], 10, best_hyperparam_rf_KC2, model.random_forest,do_optimize = False)\n",
    "result_rf_KC2"
   ]
  },
  {
   "cell_type": "markdown",
   "metadata": {},
   "source": [
    "### PC1"
   ]
  },
  {
   "cell_type": "code",
   "execution_count": 27,
   "metadata": {
    "scrolled": true
   },
   "outputs": [
    {
     "name": "stdout",
     "output_type": "stream",
     "text": [
      "|   iter    |  target   |   depth   | estimator | max_fe... | max_le... | min_leaf  | min_split | neighbors | sampling  |\n",
      "-------------------------------------------------------------------------------------------------------------------------\n",
      "| \u001b[0m 1       \u001b[0m | \u001b[0m 0.7634  \u001b[0m | \u001b[0m 4.371   \u001b[0m | \u001b[0m 143.1   \u001b[0m | \u001b[0m 0.7347  \u001b[0m | \u001b[0m 30.74   \u001b[0m | \u001b[0m 3.964   \u001b[0m | \u001b[0m 4.808   \u001b[0m | \u001b[0m 1.523   \u001b[0m | \u001b[0m 0.8955  \u001b[0m |\n",
      "| \u001b[0m 2       \u001b[0m | \u001b[0m 0.5899  \u001b[0m | \u001b[0m 6.41    \u001b[0m | \u001b[0m 109.1   \u001b[0m | \u001b[0m 0.03038 \u001b[0m | \u001b[0m 48.56   \u001b[0m | \u001b[0m 16.82   \u001b[0m | \u001b[0m 5.822   \u001b[0m | \u001b[0m 2.636   \u001b[0m | \u001b[0m 0.3626  \u001b[0m |\n",
      "| \u001b[0m 3       \u001b[0m | \u001b[0m 0.7069  \u001b[0m | \u001b[0m 3.738   \u001b[0m | \u001b[0m 83.47   \u001b[0m | \u001b[0m 0.4376  \u001b[0m | \u001b[0m 15.98   \u001b[0m | \u001b[0m 12.63   \u001b[0m | \u001b[0m 4.511   \u001b[0m | \u001b[0m 3.629   \u001b[0m | \u001b[0m 0.5054  \u001b[0m |\n",
      "| \u001b[0m 4       \u001b[0m | \u001b[0m 0.6238  \u001b[0m | \u001b[0m 5.105   \u001b[0m | \u001b[0m 119.9   \u001b[0m | \u001b[0m 0.2077  \u001b[0m | \u001b[0m 26.68   \u001b[0m | \u001b[0m 12.26   \u001b[0m | \u001b[0m 2.836   \u001b[0m | \u001b[0m 6.468   \u001b[0m | \u001b[0m 0.3525  \u001b[0m |\n",
      "| \u001b[0m 5       \u001b[0m | \u001b[0m 0.6935  \u001b[0m | \u001b[0m 1.585   \u001b[0m | \u001b[0m 142.8   \u001b[0m | \u001b[0m 0.966   \u001b[0m | \u001b[0m 40.8    \u001b[0m | \u001b[0m 6.788   \u001b[0m | \u001b[0m 3.758   \u001b[0m | \u001b[0m 7.158   \u001b[0m | \u001b[0m 0.563   \u001b[0m |\n",
      "| \u001b[0m 6       \u001b[0m | \u001b[0m 0.6432  \u001b[0m | \u001b[0m 2.098   \u001b[0m | \u001b[0m 79.32   \u001b[0m | \u001b[0m 0.04404 \u001b[0m | \u001b[0m 45.65   \u001b[0m | \u001b[0m 5.917   \u001b[0m | \u001b[0m 13.93   \u001b[0m | \u001b[0m 3.805   \u001b[0m | \u001b[0m 0.6254  \u001b[0m |\n",
      "| \u001b[95m 7       \u001b[0m | \u001b[95m 0.776   \u001b[0m | \u001b[95m 5.92    \u001b[0m | \u001b[95m 35.88   \u001b[0m | \u001b[95m 0.9699  \u001b[0m | \u001b[95m 39.21   \u001b[0m | \u001b[95m 18.85   \u001b[0m | \u001b[95m 18.11   \u001b[0m | \u001b[95m 6.381   \u001b[0m | \u001b[95m 0.939   \u001b[0m |\n",
      "| \u001b[0m 8       \u001b[0m | \u001b[0m 0.3553  \u001b[0m | \u001b[0m 1.796   \u001b[0m | \u001b[0m 37.44   \u001b[0m | \u001b[0m 0.05478 \u001b[0m | \u001b[0m 17.62   \u001b[0m | \u001b[0m 8.385   \u001b[0m | \u001b[0m 6.884   \u001b[0m | \u001b[0m 8.459   \u001b[0m | \u001b[0m 0.4979  \u001b[0m |\n",
      "| \u001b[0m 9       \u001b[0m | \u001b[0m 0.6096  \u001b[0m | \u001b[0m 3.528   \u001b[0m | \u001b[0m 85.98   \u001b[0m | \u001b[0m 0.1495  \u001b[0m | \u001b[0m 40.51   \u001b[0m | \u001b[0m 2.416   \u001b[0m | \u001b[0m 19.76   \u001b[0m | \u001b[0m 7.95    \u001b[0m | \u001b[0m 0.3745  \u001b[0m |\n",
      "| \u001b[0m 10      \u001b[0m | \u001b[0m 0.2532  \u001b[0m | \u001b[0m 1.05    \u001b[0m | \u001b[0m 124.2   \u001b[0m | \u001b[0m 0.7098  \u001b[0m | \u001b[0m 36.99   \u001b[0m | \u001b[0m 15.65   \u001b[0m | \u001b[0m 3.333   \u001b[0m | \u001b[0m 4.226   \u001b[0m | \u001b[0m 0.3098  \u001b[0m |\n",
      "| \u001b[0m 11      \u001b[0m | \u001b[0m 0.6946  \u001b[0m | \u001b[0m 8.768   \u001b[0m | \u001b[0m 97.26   \u001b[0m | \u001b[0m 0.3376  \u001b[0m | \u001b[0m 5.051   \u001b[0m | \u001b[0m 6.909   \u001b[0m | \u001b[0m 7.853   \u001b[0m | \u001b[0m 7.566   \u001b[0m | \u001b[0m 0.7171  \u001b[0m |\n",
      "| \u001b[0m 12      \u001b[0m | \u001b[0m 0.6814  \u001b[0m | \u001b[0m 8.985   \u001b[0m | \u001b[0m 76.11   \u001b[0m | \u001b[0m 0.1284  \u001b[0m | \u001b[0m 36.24   \u001b[0m | \u001b[0m 15.45   \u001b[0m | \u001b[0m 12.1    \u001b[0m | \u001b[0m 7.939   \u001b[0m | \u001b[0m 0.6049  \u001b[0m |\n",
      "| \u001b[0m 13      \u001b[0m | \u001b[0m 0.6916  \u001b[0m | \u001b[0m 5.705   \u001b[0m | \u001b[0m 69.86   \u001b[0m | \u001b[0m 0.03516 \u001b[0m | \u001b[0m 7.179   \u001b[0m | \u001b[0m 1.597   \u001b[0m | \u001b[0m 13.46   \u001b[0m | \u001b[0m 3.829   \u001b[0m | \u001b[0m 0.6164  \u001b[0m |\n",
      "| \u001b[0m 14      \u001b[0m | \u001b[0m 0.6369  \u001b[0m | \u001b[0m 9.168   \u001b[0m | \u001b[0m 44.9    \u001b[0m | \u001b[0m 0.4163  \u001b[0m | \u001b[0m 38.27   \u001b[0m | \u001b[0m 5.347   \u001b[0m | \u001b[0m 3.386   \u001b[0m | \u001b[0m 3.608   \u001b[0m | \u001b[0m 0.3452  \u001b[0m |\n",
      "| \u001b[0m 15      \u001b[0m | \u001b[0m 0.7533  \u001b[0m | \u001b[0m 9.367   \u001b[0m | \u001b[0m 123.1   \u001b[0m | \u001b[0m 0.6371  \u001b[0m | \u001b[0m 43.83   \u001b[0m | \u001b[0m 16.27   \u001b[0m | \u001b[0m 5.358   \u001b[0m | \u001b[0m 9.033   \u001b[0m | \u001b[0m 0.6404  \u001b[0m |\n",
      "| \u001b[0m 16      \u001b[0m | \u001b[0m 0.7283  \u001b[0m | \u001b[0m 4.425   \u001b[0m | \u001b[0m 130.2   \u001b[0m | \u001b[0m 0.7569  \u001b[0m | \u001b[0m 2.882   \u001b[0m | \u001b[0m 4.163   \u001b[0m | \u001b[0m 10.53   \u001b[0m | \u001b[0m 6.928   \u001b[0m | \u001b[0m 0.7776  \u001b[0m |\n",
      "| \u001b[0m 17      \u001b[0m | \u001b[0m 0.5558  \u001b[0m | \u001b[0m 5.509   \u001b[0m | \u001b[0m 132.2   \u001b[0m | \u001b[0m 0.9001  \u001b[0m | \u001b[0m 5.822   \u001b[0m | \u001b[0m 16.82   \u001b[0m | \u001b[0m 11.59   \u001b[0m | \u001b[0m 6.789   \u001b[0m | \u001b[0m 0.3093  \u001b[0m |\n",
      "| \u001b[0m 18      \u001b[0m | \u001b[0m 0.7067  \u001b[0m | \u001b[0m 2.227   \u001b[0m | \u001b[0m 104.3   \u001b[0m | \u001b[0m 0.5161  \u001b[0m | \u001b[0m 3.26    \u001b[0m | \u001b[0m 2.055   \u001b[0m | \u001b[0m 6.464   \u001b[0m | \u001b[0m 9.741   \u001b[0m | \u001b[0m 0.8357  \u001b[0m |\n",
      "| \u001b[0m 19      \u001b[0m | \u001b[0m 0.7048  \u001b[0m | \u001b[0m 5.933   \u001b[0m | \u001b[0m 137.7   \u001b[0m | \u001b[0m 0.09369 \u001b[0m | \u001b[0m 23.56   \u001b[0m | \u001b[0m 4.775   \u001b[0m | \u001b[0m 12.63   \u001b[0m | \u001b[0m 4.497   \u001b[0m | \u001b[0m 0.7056  \u001b[0m |\n",
      "| \u001b[95m 20      \u001b[0m | \u001b[95m 0.7785  \u001b[0m | \u001b[95m 3.354   \u001b[0m | \u001b[95m 124.8   \u001b[0m | \u001b[95m 0.9796  \u001b[0m | \u001b[95m 9.26    \u001b[0m | \u001b[95m 17.02   \u001b[0m | \u001b[95m 15.46   \u001b[0m | \u001b[95m 6.865   \u001b[0m | \u001b[95m 0.9271  \u001b[0m |\n",
      "| \u001b[0m 21      \u001b[0m | \u001b[0m 0.6943  \u001b[0m | \u001b[0m 6.732   \u001b[0m | \u001b[0m 72.56   \u001b[0m | \u001b[0m 0.6708  \u001b[0m | \u001b[0m 35.77   \u001b[0m | \u001b[0m 17.23   \u001b[0m | \u001b[0m 13.53   \u001b[0m | \u001b[0m 7.656   \u001b[0m | \u001b[0m 0.5917  \u001b[0m |\n",
      "| \u001b[95m 22      \u001b[0m | \u001b[95m 0.7909  \u001b[0m | \u001b[95m 6.369   \u001b[0m | \u001b[95m 36.82   \u001b[0m | \u001b[95m 1.0     \u001b[0m | \u001b[95m 39.4    \u001b[0m | \u001b[95m 20.0    \u001b[0m | \u001b[95m 19.91   \u001b[0m | \u001b[95m 5.692   \u001b[0m | \u001b[95m 1.0     \u001b[0m |\n",
      "| \u001b[0m 23      \u001b[0m | \u001b[0m 0.7048  \u001b[0m | \u001b[0m 2.393   \u001b[0m | \u001b[0m 121.5   \u001b[0m | \u001b[0m 1.0     \u001b[0m | \u001b[0m 10.51   \u001b[0m | \u001b[0m 16.44   \u001b[0m | \u001b[0m 17.07   \u001b[0m | \u001b[0m 6.924   \u001b[0m | \u001b[0m 1.0     \u001b[0m |\n",
      "| \u001b[0m 24      \u001b[0m | \u001b[0m 0.7498  \u001b[0m | \u001b[0m 9.17    \u001b[0m | \u001b[0m 35.18   \u001b[0m | \u001b[0m 1.0     \u001b[0m | \u001b[0m 41.09   \u001b[0m | \u001b[0m 20.0    \u001b[0m | \u001b[0m 20.0    \u001b[0m | \u001b[0m 6.626   \u001b[0m | \u001b[0m 1.0     \u001b[0m |\n",
      "| \u001b[0m 25      \u001b[0m | \u001b[0m 0.7561  \u001b[0m | \u001b[0m 3.688   \u001b[0m | \u001b[0m 36.33   \u001b[0m | \u001b[0m 1.0     \u001b[0m | \u001b[0m 42.1    \u001b[0m | \u001b[0m 20.0    \u001b[0m | \u001b[0m 20.0    \u001b[0m | \u001b[0m 4.102   \u001b[0m | \u001b[0m 0.9494  \u001b[0m |\n",
      "| \u001b[0m 26      \u001b[0m | \u001b[0m 0.7619  \u001b[0m | \u001b[0m 5.073   \u001b[0m | \u001b[0m 40.02   \u001b[0m | \u001b[0m 1.0     \u001b[0m | \u001b[0m 39.79   \u001b[0m | \u001b[0m 20.0    \u001b[0m | \u001b[0m 20.0    \u001b[0m | \u001b[0m 8.539   \u001b[0m | \u001b[0m 1.0     \u001b[0m |\n",
      "| \u001b[0m 27      \u001b[0m | \u001b[0m 0.7547  \u001b[0m | \u001b[0m 7.217   \u001b[0m | \u001b[0m 39.87   \u001b[0m | \u001b[0m 0.01    \u001b[0m | \u001b[0m 38.19   \u001b[0m | \u001b[0m 20.0    \u001b[0m | \u001b[0m 18.1    \u001b[0m | \u001b[0m 3.057   \u001b[0m | \u001b[0m 0.8742  \u001b[0m |\n",
      "| \u001b[0m 28      \u001b[0m | \u001b[0m 0.7655  \u001b[0m | \u001b[0m 3.917   \u001b[0m | \u001b[0m 36.26   \u001b[0m | \u001b[0m 1.0     \u001b[0m | \u001b[0m 34.97   \u001b[0m | \u001b[0m 20.0    \u001b[0m | \u001b[0m 20.0    \u001b[0m | \u001b[0m 5.514   \u001b[0m | \u001b[0m 1.0     \u001b[0m |\n",
      "| \u001b[0m 29      \u001b[0m | \u001b[0m 0.7024  \u001b[0m | \u001b[0m 6.393   \u001b[0m | \u001b[0m 147.6   \u001b[0m | \u001b[0m 0.4309  \u001b[0m | \u001b[0m 30.07   \u001b[0m | \u001b[0m 1.019   \u001b[0m | \u001b[0m 7.913   \u001b[0m | \u001b[0m 4.313   \u001b[0m | \u001b[0m 0.8831  \u001b[0m |\n",
      "| \u001b[0m 30      \u001b[0m | \u001b[0m 0.7546  \u001b[0m | \u001b[0m 6.174   \u001b[0m | \u001b[0m 37.9    \u001b[0m | \u001b[0m 1.0     \u001b[0m | \u001b[0m 38.16   \u001b[0m | \u001b[0m 15.07   \u001b[0m | \u001b[0m 20.0    \u001b[0m | \u001b[0m 4.882   \u001b[0m | \u001b[0m 1.0     \u001b[0m |\n",
      "| \u001b[0m 31      \u001b[0m | \u001b[0m 0.7265  \u001b[0m | \u001b[0m 1.0     \u001b[0m | \u001b[0m 142.4   \u001b[0m | \u001b[0m 1.0     \u001b[0m | \u001b[0m 25.29   \u001b[0m | \u001b[0m 1.774   \u001b[0m | \u001b[0m 2.0     \u001b[0m | \u001b[0m 1.0     \u001b[0m | \u001b[0m 1.0     \u001b[0m |\n",
      "| \u001b[0m 32      \u001b[0m | \u001b[0m 0.7311  \u001b[0m | \u001b[0m 10.0    \u001b[0m | \u001b[0m 124.4   \u001b[0m | \u001b[0m 0.6568  \u001b[0m | \u001b[0m 49.25   \u001b[0m | \u001b[0m 16.67   \u001b[0m | \u001b[0m 7.159   \u001b[0m | \u001b[0m 10.0    \u001b[0m | \u001b[0m 0.9969  \u001b[0m |\n",
      "| \u001b[0m 33      \u001b[0m | \u001b[0m 0.7766  \u001b[0m | \u001b[0m 5.229   \u001b[0m | \u001b[0m 146.8   \u001b[0m | \u001b[0m 1.0     \u001b[0m | \u001b[0m 29.02   \u001b[0m | \u001b[0m 9.575   \u001b[0m | \u001b[0m 2.0     \u001b[0m | \u001b[0m 1.0     \u001b[0m | \u001b[0m 1.0     \u001b[0m |\n",
      "| \u001b[0m 34      \u001b[0m | \u001b[0m 0.6669  \u001b[0m | \u001b[0m 10.0    \u001b[0m | \u001b[0m 143.2   \u001b[0m | \u001b[0m 1.0     \u001b[0m | \u001b[0m 27.99   \u001b[0m | \u001b[0m 6.974   \u001b[0m | \u001b[0m 2.0     \u001b[0m | \u001b[0m 1.0     \u001b[0m | \u001b[0m 1.0     \u001b[0m |\n",
      "| \u001b[0m 35      \u001b[0m | \u001b[0m 0.7246  \u001b[0m | \u001b[0m 1.0     \u001b[0m | \u001b[0m 147.5   \u001b[0m | \u001b[0m 0.8339  \u001b[0m | \u001b[0m 30.95   \u001b[0m | \u001b[0m 8.028   \u001b[0m | \u001b[0m 4.044   \u001b[0m | \u001b[0m 1.0     \u001b[0m | \u001b[0m 1.0     \u001b[0m |\n",
      "| \u001b[0m 36      \u001b[0m | \u001b[0m 0.7627  \u001b[0m | \u001b[0m 9.691   \u001b[0m | \u001b[0m 37.77   \u001b[0m | \u001b[0m 1.0     \u001b[0m | \u001b[0m 34.54   \u001b[0m | \u001b[0m 20.0    \u001b[0m | \u001b[0m 20.0    \u001b[0m | \u001b[0m 8.253   \u001b[0m | \u001b[0m 1.0     \u001b[0m |\n",
      "| \u001b[0m 37      \u001b[0m | \u001b[0m 0.7668  \u001b[0m | \u001b[0m 5.136   \u001b[0m | \u001b[0m 150.0   \u001b[0m | \u001b[0m 1.0     \u001b[0m | \u001b[0m 26.85   \u001b[0m | \u001b[0m 15.16   \u001b[0m | \u001b[0m 2.0     \u001b[0m | \u001b[0m 1.0     \u001b[0m | \u001b[0m 0.8959  \u001b[0m |\n",
      "| \u001b[0m 38      \u001b[0m | \u001b[0m 0.7656  \u001b[0m | \u001b[0m 7.43    \u001b[0m | \u001b[0m 150.0   \u001b[0m | \u001b[0m 1.0     \u001b[0m | \u001b[0m 33.29   \u001b[0m | \u001b[0m 13.66   \u001b[0m | \u001b[0m 2.0     \u001b[0m | \u001b[0m 1.0     \u001b[0m | \u001b[0m 1.0     \u001b[0m |\n",
      "| \u001b[0m 39      \u001b[0m | \u001b[0m 0.7198  \u001b[0m | \u001b[0m 6.967   \u001b[0m | \u001b[0m 148.0   \u001b[0m | \u001b[0m 0.2284  \u001b[0m | \u001b[0m 31.61   \u001b[0m | \u001b[0m 16.29   \u001b[0m | \u001b[0m 5.592   \u001b[0m | \u001b[0m 6.553   \u001b[0m | \u001b[0m 0.6165  \u001b[0m |\n",
      "| \u001b[0m 40      \u001b[0m | \u001b[0m 0.6949  \u001b[0m | \u001b[0m 8.823   \u001b[0m | \u001b[0m 122.9   \u001b[0m | \u001b[0m 0.8841  \u001b[0m | \u001b[0m 6.741   \u001b[0m | \u001b[0m 1.107   \u001b[0m | \u001b[0m 13.36   \u001b[0m | \u001b[0m 5.836   \u001b[0m | \u001b[0m 0.4509  \u001b[0m |\n"
     ]
    },
    {
     "name": "stdout",
     "output_type": "stream",
     "text": [
      "| \u001b[0m 41      \u001b[0m | \u001b[0m 0.488   \u001b[0m | \u001b[0m 8.514   \u001b[0m | \u001b[0m 32.52   \u001b[0m | \u001b[0m 1.0     \u001b[0m | \u001b[0m 35.72   \u001b[0m | \u001b[0m 20.0    \u001b[0m | \u001b[0m 20.0    \u001b[0m | \u001b[0m 1.079   \u001b[0m | \u001b[0m 0.2194  \u001b[0m |\n",
      "| \u001b[0m 42      \u001b[0m | \u001b[0m 0.7673  \u001b[0m | \u001b[0m 5.379   \u001b[0m | \u001b[0m 37.89   \u001b[0m | \u001b[0m 0.01    \u001b[0m | \u001b[0m 36.86   \u001b[0m | \u001b[0m 19.57   \u001b[0m | \u001b[0m 20.0    \u001b[0m | \u001b[0m 7.598   \u001b[0m | \u001b[0m 1.0     \u001b[0m |\n",
      "| \u001b[0m 43      \u001b[0m | \u001b[0m 0.7536  \u001b[0m | \u001b[0m 8.621   \u001b[0m | \u001b[0m 40.1    \u001b[0m | \u001b[0m 1.0     \u001b[0m | \u001b[0m 42.21   \u001b[0m | \u001b[0m 18.6    \u001b[0m | \u001b[0m 18.78   \u001b[0m | \u001b[0m 6.085   \u001b[0m | \u001b[0m 1.0     \u001b[0m |\n",
      "| \u001b[0m 44      \u001b[0m | \u001b[0m 0.6566  \u001b[0m | \u001b[0m 2.024   \u001b[0m | \u001b[0m 145.4   \u001b[0m | \u001b[0m 0.4838  \u001b[0m | \u001b[0m 24.83   \u001b[0m | \u001b[0m 12.52   \u001b[0m | \u001b[0m 2.528   \u001b[0m | \u001b[0m 7.554   \u001b[0m | \u001b[0m 0.5092  \u001b[0m |\n",
      "| \u001b[0m 45      \u001b[0m | \u001b[0m 0.7547  \u001b[0m | \u001b[0m 7.179   \u001b[0m | \u001b[0m 150.0   \u001b[0m | \u001b[0m 1.0     \u001b[0m | \u001b[0m 28.98   \u001b[0m | \u001b[0m 11.4    \u001b[0m | \u001b[0m 5.265   \u001b[0m | \u001b[0m 1.0     \u001b[0m | \u001b[0m 1.0     \u001b[0m |\n",
      "| \u001b[0m 46      \u001b[0m | \u001b[0m 0.735   \u001b[0m | \u001b[0m 1.0     \u001b[0m | \u001b[0m 40.09   \u001b[0m | \u001b[0m 1.0     \u001b[0m | \u001b[0m 36.85   \u001b[0m | \u001b[0m 20.0    \u001b[0m | \u001b[0m 18.34   \u001b[0m | \u001b[0m 4.309   \u001b[0m | \u001b[0m 1.0     \u001b[0m |\n",
      "| \u001b[0m 47      \u001b[0m | \u001b[0m 0.7754  \u001b[0m | \u001b[0m 4.189   \u001b[0m | \u001b[0m 127.0   \u001b[0m | \u001b[0m 1.0     \u001b[0m | \u001b[0m 11.98   \u001b[0m | \u001b[0m 20.0    \u001b[0m | \u001b[0m 18.17   \u001b[0m | \u001b[0m 6.417   \u001b[0m | \u001b[0m 1.0     \u001b[0m |\n",
      "| \u001b[0m 48      \u001b[0m | \u001b[0m 0.6301  \u001b[0m | \u001b[0m 9.329   \u001b[0m | \u001b[0m 124.8   \u001b[0m | \u001b[0m 0.864   \u001b[0m | \u001b[0m 11.12   \u001b[0m | \u001b[0m 19.99   \u001b[0m | \u001b[0m 19.47   \u001b[0m | \u001b[0m 5.87    \u001b[0m | \u001b[0m 0.3603  \u001b[0m |\n",
      "| \u001b[0m 49      \u001b[0m | \u001b[0m 0.6423  \u001b[0m | \u001b[0m 2.127   \u001b[0m | \u001b[0m 130.1   \u001b[0m | \u001b[0m 0.2589  \u001b[0m | \u001b[0m 11.79   \u001b[0m | \u001b[0m 17.31   \u001b[0m | \u001b[0m 18.2    \u001b[0m | \u001b[0m 8.515   \u001b[0m | \u001b[0m 0.6159  \u001b[0m |\n",
      "| \u001b[0m 50      \u001b[0m | \u001b[0m 0.7503  \u001b[0m | \u001b[0m 2.335   \u001b[0m | \u001b[0m 125.4   \u001b[0m | \u001b[0m 1.0     \u001b[0m | \u001b[0m 10.99   \u001b[0m | \u001b[0m 20.0    \u001b[0m | \u001b[0m 15.18   \u001b[0m | \u001b[0m 4.814   \u001b[0m | \u001b[0m 1.0     \u001b[0m |\n",
      "=========================================================================================================================\n"
     ]
    }
   ],
   "source": [
    "hyperparam_rf_PC1 = run_ml(data_load['PC1'], 5, bound_random_forest['PC1'], model.random_forest)"
   ]
  },
  {
   "cell_type": "code",
   "execution_count": 28,
   "metadata": {},
   "outputs": [
    {
     "data": {
      "text/plain": [
       "{'Train': {'Gmeans': 0.9050732433110459,\n",
       "  'Recall': 0.9366666666666666,\n",
       "  'pf': 0.12545454545454546,\n",
       "  'cf_matrix': {'tn': 2886, 'fp': 414, 'fn': 209, 'tp': 3091}},\n",
       " 'Dev': {'Gmeans': 0.7908527224925227,\n",
       "  'Recall': 0.7419354838709677,\n",
       "  'pf': 0.1570048309178744,\n",
       "  'cf_matrix': {'tn': 698, 'fp': 130, 'fn': 16, 'tp': 46}},\n",
       " 'Test': {'Gmeans': 0.7286423414361913,\n",
       "  'Recall': 0.6363636363636364,\n",
       "  'pf': 0.16569767441860464,\n",
       "  'cf_matrix': {'tn': 861, 'fp': 171, 'fn': 28, 'tp': 49}}}"
      ]
     },
     "execution_count": 28,
     "metadata": {},
     "output_type": "execute_result"
    }
   ],
   "source": [
    "best_hyperparam_rf_PC1 = hyperparam_rf_PC1.max['params']\n",
    "result_rf_PC1 = run_ml(data_load['PC1'], 5, best_hyperparam_rf_PC1, model.random_forest,do_optimize = False)\n",
    "result_rf_PC1"
   ]
  },
  {
   "cell_type": "markdown",
   "metadata": {},
   "source": [
    "### PC3"
   ]
  },
  {
   "cell_type": "code",
   "execution_count": 29,
   "metadata": {
    "scrolled": true
   },
   "outputs": [
    {
     "name": "stdout",
     "output_type": "stream",
     "text": [
      "|   iter    |  target   |   depth   | estimator | max_fe... | max_le... | min_leaf  | min_split | neighbors | sampling  |\n",
      "-------------------------------------------------------------------------------------------------------------------------\n",
      "| \u001b[0m 1       \u001b[0m | \u001b[0m 0.7163  \u001b[0m | \u001b[0m 4.371   \u001b[0m | \u001b[0m 143.1   \u001b[0m | \u001b[0m 0.7347  \u001b[0m | \u001b[0m 30.74   \u001b[0m | \u001b[0m 3.964   \u001b[0m | \u001b[0m 4.808   \u001b[0m | \u001b[0m 1.523   \u001b[0m | \u001b[0m 0.9029  \u001b[0m |\n",
      "| \u001b[0m 2       \u001b[0m | \u001b[0m 0.5039  \u001b[0m | \u001b[0m 6.41    \u001b[0m | \u001b[0m 109.1   \u001b[0m | \u001b[0m 0.03038 \u001b[0m | \u001b[0m 48.56   \u001b[0m | \u001b[0m 16.82   \u001b[0m | \u001b[0m 5.822   \u001b[0m | \u001b[0m 2.636   \u001b[0m | \u001b[0m 0.4075  \u001b[0m |\n",
      "| \u001b[0m 3       \u001b[0m | \u001b[0m 0.7102  \u001b[0m | \u001b[0m 3.738   \u001b[0m | \u001b[0m 83.47   \u001b[0m | \u001b[0m 0.4376  \u001b[0m | \u001b[0m 15.98   \u001b[0m | \u001b[0m 12.63   \u001b[0m | \u001b[0m 4.511   \u001b[0m | \u001b[0m 3.629   \u001b[0m | \u001b[0m 0.5402  \u001b[0m |\n",
      "| \u001b[0m 4       \u001b[0m | \u001b[0m 0.6401  \u001b[0m | \u001b[0m 5.105   \u001b[0m | \u001b[0m 119.9   \u001b[0m | \u001b[0m 0.2077  \u001b[0m | \u001b[0m 26.68   \u001b[0m | \u001b[0m 12.26   \u001b[0m | \u001b[0m 2.836   \u001b[0m | \u001b[0m 6.468   \u001b[0m | \u001b[0m 0.3981  \u001b[0m |\n",
      "| \u001b[0m 5       \u001b[0m | \u001b[0m 0.6876  \u001b[0m | \u001b[0m 1.585   \u001b[0m | \u001b[0m 142.8   \u001b[0m | \u001b[0m 0.966   \u001b[0m | \u001b[0m 40.8    \u001b[0m | \u001b[0m 6.788   \u001b[0m | \u001b[0m 3.758   \u001b[0m | \u001b[0m 7.158   \u001b[0m | \u001b[0m 0.5938  \u001b[0m |\n",
      "| \u001b[0m 6       \u001b[0m | \u001b[0m 0.6547  \u001b[0m | \u001b[0m 2.098   \u001b[0m | \u001b[0m 79.32   \u001b[0m | \u001b[0m 0.04404 \u001b[0m | \u001b[0m 45.65   \u001b[0m | \u001b[0m 5.917   \u001b[0m | \u001b[0m 13.93   \u001b[0m | \u001b[0m 3.805   \u001b[0m | \u001b[0m 0.6518  \u001b[0m |\n",
      "| \u001b[0m 7       \u001b[0m | \u001b[0m 0.6991  \u001b[0m | \u001b[0m 5.92    \u001b[0m | \u001b[0m 35.88   \u001b[0m | \u001b[0m 0.9699  \u001b[0m | \u001b[0m 39.21   \u001b[0m | \u001b[0m 18.85   \u001b[0m | \u001b[0m 18.11   \u001b[0m | \u001b[0m 6.381   \u001b[0m | \u001b[0m 0.9433  \u001b[0m |\n",
      "| \u001b[0m 8       \u001b[0m | \u001b[0m 0.6199  \u001b[0m | \u001b[0m 1.796   \u001b[0m | \u001b[0m 37.44   \u001b[0m | \u001b[0m 0.05478 \u001b[0m | \u001b[0m 17.62   \u001b[0m | \u001b[0m 8.385   \u001b[0m | \u001b[0m 6.884   \u001b[0m | \u001b[0m 8.459   \u001b[0m | \u001b[0m 0.5333  \u001b[0m |\n",
      "| \u001b[0m 9       \u001b[0m | \u001b[0m 0.6164  \u001b[0m | \u001b[0m 3.528   \u001b[0m | \u001b[0m 85.98   \u001b[0m | \u001b[0m 0.1495  \u001b[0m | \u001b[0m 40.51   \u001b[0m | \u001b[0m 2.416   \u001b[0m | \u001b[0m 19.76   \u001b[0m | \u001b[0m 7.95    \u001b[0m | \u001b[0m 0.4186  \u001b[0m |\n",
      "| \u001b[0m 10      \u001b[0m | \u001b[0m 0.5111  \u001b[0m | \u001b[0m 1.05    \u001b[0m | \u001b[0m 124.2   \u001b[0m | \u001b[0m 0.7098  \u001b[0m | \u001b[0m 36.99   \u001b[0m | \u001b[0m 15.65   \u001b[0m | \u001b[0m 3.333   \u001b[0m | \u001b[0m 4.226   \u001b[0m | \u001b[0m 0.3585  \u001b[0m |\n",
      "| \u001b[0m 11      \u001b[0m | \u001b[0m 0.7097  \u001b[0m | \u001b[0m 8.768   \u001b[0m | \u001b[0m 97.26   \u001b[0m | \u001b[0m 0.3376  \u001b[0m | \u001b[0m 5.051   \u001b[0m | \u001b[0m 6.909   \u001b[0m | \u001b[0m 7.853   \u001b[0m | \u001b[0m 7.566   \u001b[0m | \u001b[0m 0.737   \u001b[0m |\n",
      "| \u001b[0m 12      \u001b[0m | \u001b[0m 0.6774  \u001b[0m | \u001b[0m 8.985   \u001b[0m | \u001b[0m 76.11   \u001b[0m | \u001b[0m 0.1284  \u001b[0m | \u001b[0m 36.24   \u001b[0m | \u001b[0m 15.45   \u001b[0m | \u001b[0m 12.1    \u001b[0m | \u001b[0m 7.939   \u001b[0m | \u001b[0m 0.6327  \u001b[0m |\n",
      "| \u001b[0m 13      \u001b[0m | \u001b[0m 0.6613  \u001b[0m | \u001b[0m 5.705   \u001b[0m | \u001b[0m 69.86   \u001b[0m | \u001b[0m 0.03516 \u001b[0m | \u001b[0m 7.179   \u001b[0m | \u001b[0m 1.597   \u001b[0m | \u001b[0m 13.46   \u001b[0m | \u001b[0m 3.829   \u001b[0m | \u001b[0m 0.6434  \u001b[0m |\n",
      "| \u001b[0m 14      \u001b[0m | \u001b[0m 0.5764  \u001b[0m | \u001b[0m 9.168   \u001b[0m | \u001b[0m 44.9    \u001b[0m | \u001b[0m 0.4163  \u001b[0m | \u001b[0m 38.27   \u001b[0m | \u001b[0m 5.347   \u001b[0m | \u001b[0m 3.386   \u001b[0m | \u001b[0m 3.608   \u001b[0m | \u001b[0m 0.3914  \u001b[0m |\n",
      "| \u001b[0m 15      \u001b[0m | \u001b[0m 0.6593  \u001b[0m | \u001b[0m 9.367   \u001b[0m | \u001b[0m 123.1   \u001b[0m | \u001b[0m 0.6371  \u001b[0m | \u001b[0m 43.83   \u001b[0m | \u001b[0m 16.27   \u001b[0m | \u001b[0m 5.358   \u001b[0m | \u001b[0m 9.033   \u001b[0m | \u001b[0m 0.6657  \u001b[0m |\n",
      "| \u001b[0m 16      \u001b[0m | \u001b[0m 0.692   \u001b[0m | \u001b[0m 4.425   \u001b[0m | \u001b[0m 130.2   \u001b[0m | \u001b[0m 0.7569  \u001b[0m | \u001b[0m 2.882   \u001b[0m | \u001b[0m 4.163   \u001b[0m | \u001b[0m 10.53   \u001b[0m | \u001b[0m 6.928   \u001b[0m | \u001b[0m 0.7933  \u001b[0m |\n",
      "| \u001b[0m 17      \u001b[0m | \u001b[0m 0.551   \u001b[0m | \u001b[0m 5.509   \u001b[0m | \u001b[0m 132.2   \u001b[0m | \u001b[0m 0.9001  \u001b[0m | \u001b[0m 5.822   \u001b[0m | \u001b[0m 16.82   \u001b[0m | \u001b[0m 11.59   \u001b[0m | \u001b[0m 6.789   \u001b[0m | \u001b[0m 0.358   \u001b[0m |\n",
      "| \u001b[0m 18      \u001b[0m | \u001b[0m 0.694   \u001b[0m | \u001b[0m 2.227   \u001b[0m | \u001b[0m 104.3   \u001b[0m | \u001b[0m 0.5161  \u001b[0m | \u001b[0m 3.26    \u001b[0m | \u001b[0m 2.055   \u001b[0m | \u001b[0m 6.464   \u001b[0m | \u001b[0m 9.741   \u001b[0m | \u001b[0m 0.8473  \u001b[0m |\n",
      "| \u001b[95m 19      \u001b[0m | \u001b[95m 0.7443  \u001b[0m | \u001b[95m 3.469   \u001b[0m | \u001b[95m 143.2   \u001b[0m | \u001b[95m 0.8138  \u001b[0m | \u001b[95m 34.07   \u001b[0m | \u001b[95m 4.795   \u001b[0m | \u001b[95m 4.444   \u001b[0m | \u001b[95m 3.367   \u001b[0m | \u001b[95m 0.8056  \u001b[0m |\n",
      "| \u001b[0m 20      \u001b[0m | \u001b[0m 0.7388  \u001b[0m | \u001b[0m 3.711   \u001b[0m | \u001b[0m 146.6   \u001b[0m | \u001b[0m 0.8682  \u001b[0m | \u001b[0m 35.05   \u001b[0m | \u001b[0m 3.128   \u001b[0m | \u001b[0m 4.331   \u001b[0m | \u001b[0m 3.974   \u001b[0m | \u001b[0m 0.8792  \u001b[0m |\n",
      "| \u001b[0m 21      \u001b[0m | \u001b[0m 0.7368  \u001b[0m | \u001b[0m 5.943   \u001b[0m | \u001b[0m 142.7   \u001b[0m | \u001b[0m 0.4229  \u001b[0m | \u001b[0m 37.76   \u001b[0m | \u001b[0m 5.05    \u001b[0m | \u001b[0m 7.586   \u001b[0m | \u001b[0m 1.654   \u001b[0m | \u001b[0m 0.8551  \u001b[0m |\n",
      "| \u001b[0m 22      \u001b[0m | \u001b[0m 0.671   \u001b[0m | \u001b[0m 3.649   \u001b[0m | \u001b[0m 144.1   \u001b[0m | \u001b[0m 0.4856  \u001b[0m | \u001b[0m 34.4    \u001b[0m | \u001b[0m 5.071   \u001b[0m | \u001b[0m 9.783   \u001b[0m | \u001b[0m 5.441   \u001b[0m | \u001b[0m 0.4981  \u001b[0m |\n",
      "| \u001b[0m 23      \u001b[0m | \u001b[0m 0.7321  \u001b[0m | \u001b[0m 5.152   \u001b[0m | \u001b[0m 143.8   \u001b[0m | \u001b[0m 0.8056  \u001b[0m | \u001b[0m 36.74   \u001b[0m | \u001b[0m 4.004   \u001b[0m | \u001b[0m 2.721   \u001b[0m | \u001b[0m 1.031   \u001b[0m | \u001b[0m 1.0     \u001b[0m |\n",
      "| \u001b[0m 24      \u001b[0m | \u001b[0m 0.6893  \u001b[0m | \u001b[0m 1.0     \u001b[0m | \u001b[0m 143.7   \u001b[0m | \u001b[0m 0.08555 \u001b[0m | \u001b[0m 36.07   \u001b[0m | \u001b[0m 2.792   \u001b[0m | \u001b[0m 4.858   \u001b[0m | \u001b[0m 1.06    \u001b[0m | \u001b[0m 1.0     \u001b[0m |\n",
      "| \u001b[0m 25      \u001b[0m | \u001b[0m 0.7096  \u001b[0m | \u001b[0m 6.833   \u001b[0m | \u001b[0m 144.3   \u001b[0m | \u001b[0m 1.0     \u001b[0m | \u001b[0m 34.92   \u001b[0m | \u001b[0m 5.622   \u001b[0m | \u001b[0m 3.42    \u001b[0m | \u001b[0m 4.259   \u001b[0m | \u001b[0m 0.9862  \u001b[0m |\n",
      "| \u001b[0m 26      \u001b[0m | \u001b[0m 0.7179  \u001b[0m | \u001b[0m 7.302   \u001b[0m | \u001b[0m 139.4   \u001b[0m | \u001b[0m 0.5079  \u001b[0m | \u001b[0m 40.58   \u001b[0m | \u001b[0m 1.879   \u001b[0m | \u001b[0m 5.624   \u001b[0m | \u001b[0m 1.046   \u001b[0m | \u001b[0m 0.8818  \u001b[0m |\n",
      "| \u001b[0m 27      \u001b[0m | \u001b[0m 0.539   \u001b[0m | \u001b[0m 3.301   \u001b[0m | \u001b[0m 143.6   \u001b[0m | \u001b[0m 1.0     \u001b[0m | \u001b[0m 33.6    \u001b[0m | \u001b[0m 2.02    \u001b[0m | \u001b[0m 2.0     \u001b[0m | \u001b[0m 5.185   \u001b[0m | \u001b[0m 0.2744  \u001b[0m |\n",
      "| \u001b[0m 28      \u001b[0m | \u001b[0m 0.7301  \u001b[0m | \u001b[0m 4.415   \u001b[0m | \u001b[0m 144.5   \u001b[0m | \u001b[0m 0.7595  \u001b[0m | \u001b[0m 35.24   \u001b[0m | \u001b[0m 4.817   \u001b[0m | \u001b[0m 5.193   \u001b[0m | \u001b[0m 2.372   \u001b[0m | \u001b[0m 1.0     \u001b[0m |\n",
      "| \u001b[0m 29      \u001b[0m | \u001b[0m 0.7212  \u001b[0m | \u001b[0m 6.432   \u001b[0m | \u001b[0m 142.2   \u001b[0m | \u001b[0m 0.7797  \u001b[0m | \u001b[0m 35.38   \u001b[0m | \u001b[0m 5.946   \u001b[0m | \u001b[0m 4.798   \u001b[0m | \u001b[0m 3.542   \u001b[0m | \u001b[0m 0.682   \u001b[0m |\n",
      "| \u001b[0m 30      \u001b[0m | \u001b[0m 0.6215  \u001b[0m | \u001b[0m 3.53    \u001b[0m | \u001b[0m 141.6   \u001b[0m | \u001b[0m 0.6077  \u001b[0m | \u001b[0m 36.29   \u001b[0m | \u001b[0m 4.702   \u001b[0m | \u001b[0m 6.002   \u001b[0m | \u001b[0m 1.601   \u001b[0m | \u001b[0m 0.317   \u001b[0m |\n",
      "| \u001b[0m 31      \u001b[0m | \u001b[0m 0.7303  \u001b[0m | \u001b[0m 5.4     \u001b[0m | \u001b[0m 147.3   \u001b[0m | \u001b[0m 0.4085  \u001b[0m | \u001b[0m 34.72   \u001b[0m | \u001b[0m 5.082   \u001b[0m | \u001b[0m 2.618   \u001b[0m | \u001b[0m 2.511   \u001b[0m | \u001b[0m 0.8281  \u001b[0m |\n",
      "| \u001b[0m 32      \u001b[0m | \u001b[0m 0.5752  \u001b[0m | \u001b[0m 7.24    \u001b[0m | \u001b[0m 141.5   \u001b[0m | \u001b[0m 0.8665  \u001b[0m | \u001b[0m 35.34   \u001b[0m | \u001b[0m 2.159   \u001b[0m | \u001b[0m 5.576   \u001b[0m | \u001b[0m 1.535   \u001b[0m | \u001b[0m 0.3515  \u001b[0m |\n",
      "| \u001b[0m 33      \u001b[0m | \u001b[0m 0.7244  \u001b[0m | \u001b[0m 3.335   \u001b[0m | \u001b[0m 146.8   \u001b[0m | \u001b[0m 0.9111  \u001b[0m | \u001b[0m 36.41   \u001b[0m | \u001b[0m 2.085   \u001b[0m | \u001b[0m 3.085   \u001b[0m | \u001b[0m 1.491   \u001b[0m | \u001b[0m 0.9361  \u001b[0m |\n",
      "| \u001b[0m 34      \u001b[0m | \u001b[0m 0.6117  \u001b[0m | \u001b[0m 4.842   \u001b[0m | \u001b[0m 146.4   \u001b[0m | \u001b[0m 0.7889  \u001b[0m | \u001b[0m 36.27   \u001b[0m | \u001b[0m 2.703   \u001b[0m | \u001b[0m 4.926   \u001b[0m | \u001b[0m 1.756   \u001b[0m | \u001b[0m 0.3471  \u001b[0m |\n",
      "| \u001b[0m 35      \u001b[0m | \u001b[0m 0.7174  \u001b[0m | \u001b[0m 5.077   \u001b[0m | \u001b[0m 82.75   \u001b[0m | \u001b[0m 0.7176  \u001b[0m | \u001b[0m 15.25   \u001b[0m | \u001b[0m 12.69   \u001b[0m | \u001b[0m 5.376   \u001b[0m | \u001b[0m 2.291   \u001b[0m | \u001b[0m 0.7693  \u001b[0m |\n",
      "| \u001b[0m 36      \u001b[0m | \u001b[0m 0.7024  \u001b[0m | \u001b[0m 5.323   \u001b[0m | \u001b[0m 146.1   \u001b[0m | \u001b[0m 0.9363  \u001b[0m | \u001b[0m 35.76   \u001b[0m | \u001b[0m 5.107   \u001b[0m | \u001b[0m 3.594   \u001b[0m | \u001b[0m 2.3     \u001b[0m | \u001b[0m 0.7101  \u001b[0m |\n",
      "| \u001b[0m 37      \u001b[0m | \u001b[0m 0.7343  \u001b[0m | \u001b[0m 5.463   \u001b[0m | \u001b[0m 142.1   \u001b[0m | \u001b[0m 0.1617  \u001b[0m | \u001b[0m 34.18   \u001b[0m | \u001b[0m 5.877   \u001b[0m | \u001b[0m 3.521   \u001b[0m | \u001b[0m 2.922   \u001b[0m | \u001b[0m 0.9937  \u001b[0m |\n",
      "| \u001b[0m 38      \u001b[0m | \u001b[0m 0.6152  \u001b[0m | \u001b[0m 5.949   \u001b[0m | \u001b[0m 143.7   \u001b[0m | \u001b[0m 0.9645  \u001b[0m | \u001b[0m 32.26   \u001b[0m | \u001b[0m 5.454   \u001b[0m | \u001b[0m 6.928   \u001b[0m | \u001b[0m 3.292   \u001b[0m | \u001b[0m 0.3468  \u001b[0m |\n",
      "| \u001b[0m 39      \u001b[0m | \u001b[0m 0.7189  \u001b[0m | \u001b[0m 3.71    \u001b[0m | \u001b[0m 141.8   \u001b[0m | \u001b[0m 0.1013  \u001b[0m | \u001b[0m 32.7    \u001b[0m | \u001b[0m 5.909   \u001b[0m | \u001b[0m 4.372   \u001b[0m | \u001b[0m 3.847   \u001b[0m | \u001b[0m 0.7671  \u001b[0m |\n",
      "| \u001b[0m 40      \u001b[0m | \u001b[0m 0.7328  \u001b[0m | \u001b[0m 4.37    \u001b[0m | \u001b[0m 143.8   \u001b[0m | \u001b[0m 0.5281  \u001b[0m | \u001b[0m 34.59   \u001b[0m | \u001b[0m 5.416   \u001b[0m | \u001b[0m 3.879   \u001b[0m | \u001b[0m 2.969   \u001b[0m | \u001b[0m 1.0     \u001b[0m |\n"
     ]
    },
    {
     "name": "stdout",
     "output_type": "stream",
     "text": [
      "| \u001b[0m 41      \u001b[0m | \u001b[0m 0.6558  \u001b[0m | \u001b[0m 5.527   \u001b[0m | \u001b[0m 143.5   \u001b[0m | \u001b[0m 0.0161  \u001b[0m | \u001b[0m 33.89   \u001b[0m | \u001b[0m 5.636   \u001b[0m | \u001b[0m 2.526   \u001b[0m | \u001b[0m 1.384   \u001b[0m | \u001b[0m 0.6485  \u001b[0m |\n",
      "| \u001b[0m 42      \u001b[0m | \u001b[0m 0.708   \u001b[0m | \u001b[0m 2.486   \u001b[0m | \u001b[0m 148.9   \u001b[0m | \u001b[0m 0.2694  \u001b[0m | \u001b[0m 35.67   \u001b[0m | \u001b[0m 4.256   \u001b[0m | \u001b[0m 4.849   \u001b[0m | \u001b[0m 1.763   \u001b[0m | \u001b[0m 0.7005  \u001b[0m |\n",
      "| \u001b[0m 43      \u001b[0m | \u001b[0m 0.7308  \u001b[0m | \u001b[0m 6.158   \u001b[0m | \u001b[0m 80.69   \u001b[0m | \u001b[0m 0.3338  \u001b[0m | \u001b[0m 14.98   \u001b[0m | \u001b[0m 9.99    \u001b[0m | \u001b[0m 5.998   \u001b[0m | \u001b[0m 3.392   \u001b[0m | \u001b[0m 0.8898  \u001b[0m |\n",
      "| \u001b[0m 44      \u001b[0m | \u001b[0m 0.6816  \u001b[0m | \u001b[0m 3.996   \u001b[0m | \u001b[0m 81.81   \u001b[0m | \u001b[0m 0.436   \u001b[0m | \u001b[0m 15.86   \u001b[0m | \u001b[0m 11.87   \u001b[0m | \u001b[0m 7.341   \u001b[0m | \u001b[0m 2.732   \u001b[0m | \u001b[0m 0.5177  \u001b[0m |\n",
      "| \u001b[0m 45      \u001b[0m | \u001b[0m 0.6861  \u001b[0m | \u001b[0m 4.225   \u001b[0m | \u001b[0m 143.5   \u001b[0m | \u001b[0m 0.2899  \u001b[0m | \u001b[0m 35.01   \u001b[0m | \u001b[0m 8.286   \u001b[0m | \u001b[0m 4.748   \u001b[0m | \u001b[0m 2.904   \u001b[0m | \u001b[0m 0.5119  \u001b[0m |\n",
      "| \u001b[0m 46      \u001b[0m | \u001b[0m 0.7067  \u001b[0m | \u001b[0m 8.749   \u001b[0m | \u001b[0m 138.4   \u001b[0m | \u001b[0m 0.1657  \u001b[0m | \u001b[0m 40.78   \u001b[0m | \u001b[0m 2.18    \u001b[0m | \u001b[0m 4.617   \u001b[0m | \u001b[0m 1.878   \u001b[0m | \u001b[0m 0.8138  \u001b[0m |\n",
      "| \u001b[0m 47      \u001b[0m | \u001b[0m 0.7274  \u001b[0m | \u001b[0m 3.098   \u001b[0m | \u001b[0m 146.4   \u001b[0m | \u001b[0m 0.8699  \u001b[0m | \u001b[0m 37.79   \u001b[0m | \u001b[0m 5.117   \u001b[0m | \u001b[0m 3.119   \u001b[0m | \u001b[0m 2.713   \u001b[0m | \u001b[0m 0.7609  \u001b[0m |\n",
      "| \u001b[0m 48      \u001b[0m | \u001b[0m 0.7298  \u001b[0m | \u001b[0m 5.823   \u001b[0m | \u001b[0m 81.87   \u001b[0m | \u001b[0m 0.4305  \u001b[0m | \u001b[0m 15.07   \u001b[0m | \u001b[0m 10.95   \u001b[0m | \u001b[0m 4.639   \u001b[0m | \u001b[0m 3.495   \u001b[0m | \u001b[0m 0.8731  \u001b[0m |\n",
      "| \u001b[0m 49      \u001b[0m | \u001b[0m 0.7239  \u001b[0m | \u001b[0m 6.543   \u001b[0m | \u001b[0m 143.1   \u001b[0m | \u001b[0m 0.3222  \u001b[0m | \u001b[0m 38.58   \u001b[0m | \u001b[0m 6.008   \u001b[0m | \u001b[0m 7.209   \u001b[0m | \u001b[0m 2.231   \u001b[0m | \u001b[0m 1.0     \u001b[0m |\n",
      "| \u001b[0m 50      \u001b[0m | \u001b[0m 0.6373  \u001b[0m | \u001b[0m 5.026   \u001b[0m | \u001b[0m 140.4   \u001b[0m | \u001b[0m 0.4642  \u001b[0m | \u001b[0m 35.58   \u001b[0m | \u001b[0m 5.736   \u001b[0m | \u001b[0m 3.122   \u001b[0m | \u001b[0m 5.453   \u001b[0m | \u001b[0m 0.3872  \u001b[0m |\n",
      "=========================================================================================================================\n"
     ]
    }
   ],
   "source": [
    "hyperparam_rf_PC3 = run_ml(data_load['PC3'], 7, bound_random_forest['PC3'], model.random_forest)"
   ]
  },
  {
   "cell_type": "code",
   "execution_count": 30,
   "metadata": {},
   "outputs": [
    {
     "data": {
      "text/plain": [
       "{'Train': {'Gmeans': 0.857781710183322,\n",
       "  'Recall': 0.9297615995898487,\n",
       "  'pf': 0.20862567065621132,\n",
       "  'cf_matrix': {'tn': 3835, 'fp': 1011, 'fn': 274, 'tp': 3627}},\n",
       " 'Dev': {'Gmeans': 0.7442971666904423,\n",
       "  'Recall': 0.7410714285714286,\n",
       "  'pf': 0.2524630541871921,\n",
       "  'cf_matrix': {'tn': 607, 'fp': 205, 'fn': 29, 'tp': 83}},\n",
       " 'Test': {'Gmeans': 0.7462202228628494,\n",
       "  'Recall': 0.7313432835820896,\n",
       "  'pf': 0.23860021208907742,\n",
       "  'cf_matrix': {'tn': 718, 'fp': 225, 'fn': 36, 'tp': 98}}}"
      ]
     },
     "execution_count": 30,
     "metadata": {},
     "output_type": "execute_result"
    }
   ],
   "source": [
    "best_hyperparam_rf_PC3 = hyperparam_rf_PC3.max['params']\n",
    "result_rf_PC3 = run_ml(data_load['PC3'], 7, best_hyperparam_rf_PC3, model.random_forest,do_optimize = False)\n",
    "result_rf_PC3"
   ]
  },
  {
   "cell_type": "markdown",
   "metadata": {},
   "source": [
    "### PC4"
   ]
  },
  {
   "cell_type": "code",
   "execution_count": 31,
   "metadata": {
    "scrolled": true
   },
   "outputs": [
    {
     "name": "stdout",
     "output_type": "stream",
     "text": [
      "|   iter    |  target   |   depth   | estimator | max_fe... | max_le... | min_leaf  | min_split | neighbors | sampling  |\n",
      "-------------------------------------------------------------------------------------------------------------------------\n",
      "| \u001b[0m 1       \u001b[0m | \u001b[0m 0.8487  \u001b[0m | \u001b[0m 4.371   \u001b[0m | \u001b[0m 143.1   \u001b[0m | \u001b[0m 0.7347  \u001b[0m | \u001b[0m 30.74   \u001b[0m | \u001b[0m 3.964   \u001b[0m | \u001b[0m 4.808   \u001b[0m | \u001b[0m 1.523   \u001b[0m | \u001b[0m 0.9026  \u001b[0m |\n",
      "| \u001b[0m 2       \u001b[0m | \u001b[0m 0.6328  \u001b[0m | \u001b[0m 6.41    \u001b[0m | \u001b[0m 109.1   \u001b[0m | \u001b[0m 0.03038 \u001b[0m | \u001b[0m 48.56   \u001b[0m | \u001b[0m 16.82   \u001b[0m | \u001b[0m 5.822   \u001b[0m | \u001b[0m 2.636   \u001b[0m | \u001b[0m 0.4056  \u001b[0m |\n",
      "| \u001b[0m 3       \u001b[0m | \u001b[0m 0.8112  \u001b[0m | \u001b[0m 3.738   \u001b[0m | \u001b[0m 83.47   \u001b[0m | \u001b[0m 0.4376  \u001b[0m | \u001b[0m 15.98   \u001b[0m | \u001b[0m 12.63   \u001b[0m | \u001b[0m 4.511   \u001b[0m | \u001b[0m 3.629   \u001b[0m | \u001b[0m 0.5388  \u001b[0m |\n",
      "| \u001b[0m 4       \u001b[0m | \u001b[0m 0.7601  \u001b[0m | \u001b[0m 5.105   \u001b[0m | \u001b[0m 119.9   \u001b[0m | \u001b[0m 0.2077  \u001b[0m | \u001b[0m 26.68   \u001b[0m | \u001b[0m 12.26   \u001b[0m | \u001b[0m 2.836   \u001b[0m | \u001b[0m 6.468   \u001b[0m | \u001b[0m 0.3962  \u001b[0m |\n",
      "| \u001b[0m 5       \u001b[0m | \u001b[0m 0.8136  \u001b[0m | \u001b[0m 1.585   \u001b[0m | \u001b[0m 142.8   \u001b[0m | \u001b[0m 0.966   \u001b[0m | \u001b[0m 40.8    \u001b[0m | \u001b[0m 6.788   \u001b[0m | \u001b[0m 3.758   \u001b[0m | \u001b[0m 7.158   \u001b[0m | \u001b[0m 0.5925  \u001b[0m |\n",
      "| \u001b[0m 6       \u001b[0m | \u001b[0m 0.7175  \u001b[0m | \u001b[0m 2.098   \u001b[0m | \u001b[0m 79.32   \u001b[0m | \u001b[0m 0.04404 \u001b[0m | \u001b[0m 45.65   \u001b[0m | \u001b[0m 5.917   \u001b[0m | \u001b[0m 13.93   \u001b[0m | \u001b[0m 3.805   \u001b[0m | \u001b[0m 0.6507  \u001b[0m |\n",
      "| \u001b[0m 7       \u001b[0m | \u001b[0m 0.8304  \u001b[0m | \u001b[0m 5.92    \u001b[0m | \u001b[0m 35.88   \u001b[0m | \u001b[0m 0.9699  \u001b[0m | \u001b[0m 39.21   \u001b[0m | \u001b[0m 18.85   \u001b[0m | \u001b[0m 18.11   \u001b[0m | \u001b[0m 6.381   \u001b[0m | \u001b[0m 0.9431  \u001b[0m |\n",
      "| \u001b[0m 8       \u001b[0m | \u001b[0m 0.4188  \u001b[0m | \u001b[0m 1.796   \u001b[0m | \u001b[0m 37.44   \u001b[0m | \u001b[0m 0.05478 \u001b[0m | \u001b[0m 17.62   \u001b[0m | \u001b[0m 8.385   \u001b[0m | \u001b[0m 6.884   \u001b[0m | \u001b[0m 8.459   \u001b[0m | \u001b[0m 0.5318  \u001b[0m |\n",
      "| \u001b[0m 9       \u001b[0m | \u001b[0m 0.7272  \u001b[0m | \u001b[0m 3.528   \u001b[0m | \u001b[0m 85.98   \u001b[0m | \u001b[0m 0.1495  \u001b[0m | \u001b[0m 40.51   \u001b[0m | \u001b[0m 2.416   \u001b[0m | \u001b[0m 19.76   \u001b[0m | \u001b[0m 7.95    \u001b[0m | \u001b[0m 0.4167  \u001b[0m |\n",
      "| \u001b[0m 10      \u001b[0m | \u001b[0m 0.7512  \u001b[0m | \u001b[0m 1.05    \u001b[0m | \u001b[0m 124.2   \u001b[0m | \u001b[0m 0.7098  \u001b[0m | \u001b[0m 36.99   \u001b[0m | \u001b[0m 15.65   \u001b[0m | \u001b[0m 3.333   \u001b[0m | \u001b[0m 4.226   \u001b[0m | \u001b[0m 0.3564  \u001b[0m |\n",
      "| \u001b[0m 11      \u001b[0m | \u001b[0m 0.7828  \u001b[0m | \u001b[0m 8.768   \u001b[0m | \u001b[0m 97.26   \u001b[0m | \u001b[0m 0.3376  \u001b[0m | \u001b[0m 5.051   \u001b[0m | \u001b[0m 6.909   \u001b[0m | \u001b[0m 7.853   \u001b[0m | \u001b[0m 7.566   \u001b[0m | \u001b[0m 0.7362  \u001b[0m |\n",
      "| \u001b[0m 12      \u001b[0m | \u001b[0m 0.7675  \u001b[0m | \u001b[0m 8.985   \u001b[0m | \u001b[0m 76.11   \u001b[0m | \u001b[0m 0.1284  \u001b[0m | \u001b[0m 36.24   \u001b[0m | \u001b[0m 15.45   \u001b[0m | \u001b[0m 12.1    \u001b[0m | \u001b[0m 7.939   \u001b[0m | \u001b[0m 0.6315  \u001b[0m |\n",
      "| \u001b[0m 13      \u001b[0m | \u001b[0m 0.7466  \u001b[0m | \u001b[0m 5.705   \u001b[0m | \u001b[0m 69.86   \u001b[0m | \u001b[0m 0.03516 \u001b[0m | \u001b[0m 7.179   \u001b[0m | \u001b[0m 1.597   \u001b[0m | \u001b[0m 13.46   \u001b[0m | \u001b[0m 3.829   \u001b[0m | \u001b[0m 0.6423  \u001b[0m |\n",
      "| \u001b[0m 14      \u001b[0m | \u001b[0m 0.77    \u001b[0m | \u001b[0m 9.168   \u001b[0m | \u001b[0m 44.9    \u001b[0m | \u001b[0m 0.4163  \u001b[0m | \u001b[0m 38.27   \u001b[0m | \u001b[0m 5.347   \u001b[0m | \u001b[0m 3.386   \u001b[0m | \u001b[0m 3.608   \u001b[0m | \u001b[0m 0.3895  \u001b[0m |\n",
      "| \u001b[0m 15      \u001b[0m | \u001b[0m 0.8173  \u001b[0m | \u001b[0m 9.367   \u001b[0m | \u001b[0m 123.1   \u001b[0m | \u001b[0m 0.6371  \u001b[0m | \u001b[0m 43.83   \u001b[0m | \u001b[0m 16.27   \u001b[0m | \u001b[0m 5.358   \u001b[0m | \u001b[0m 9.033   \u001b[0m | \u001b[0m 0.6647  \u001b[0m |\n",
      "| \u001b[0m 16      \u001b[0m | \u001b[0m 0.8281  \u001b[0m | \u001b[0m 10.0    \u001b[0m | \u001b[0m 137.9   \u001b[0m | \u001b[0m 0.6202  \u001b[0m | \u001b[0m 33.96   \u001b[0m | \u001b[0m 7.115   \u001b[0m | \u001b[0m 7.247   \u001b[0m | \u001b[0m 5.821   \u001b[0m | \u001b[0m 1.0     \u001b[0m |\n",
      "| \u001b[0m 17      \u001b[0m | \u001b[0m 0.8271  \u001b[0m | \u001b[0m 9.518   \u001b[0m | \u001b[0m 38.86   \u001b[0m | \u001b[0m 1.0     \u001b[0m | \u001b[0m 49.38   \u001b[0m | \u001b[0m 18.83   \u001b[0m | \u001b[0m 17.6    \u001b[0m | \u001b[0m 4.324   \u001b[0m | \u001b[0m 0.919   \u001b[0m |\n",
      "| \u001b[0m 18      \u001b[0m | \u001b[0m 0.8107  \u001b[0m | \u001b[0m 9.272   \u001b[0m | \u001b[0m 137.6   \u001b[0m | \u001b[0m 0.1791  \u001b[0m | \u001b[0m 34.06   \u001b[0m | \u001b[0m 6.444   \u001b[0m | \u001b[0m 5.059   \u001b[0m | \u001b[0m 7.146   \u001b[0m | \u001b[0m 0.7755  \u001b[0m |\n",
      "| \u001b[0m 19      \u001b[0m | \u001b[0m 0.8421  \u001b[0m | \u001b[0m 6.697   \u001b[0m | \u001b[0m 147.3   \u001b[0m | \u001b[0m 1.0     \u001b[0m | \u001b[0m 31.87   \u001b[0m | \u001b[0m 6.941   \u001b[0m | \u001b[0m 14.26   \u001b[0m | \u001b[0m 1.0     \u001b[0m | \u001b[0m 1.0     \u001b[0m |\n",
      "| \u001b[0m 20      \u001b[0m | \u001b[0m 0.8211  \u001b[0m | \u001b[0m 10.0    \u001b[0m | \u001b[0m 135.1   \u001b[0m | \u001b[0m 1.0     \u001b[0m | \u001b[0m 43.89   \u001b[0m | \u001b[0m 19.18   \u001b[0m | \u001b[0m 14.01   \u001b[0m | \u001b[0m 10.0    \u001b[0m | \u001b[0m 1.0     \u001b[0m |\n",
      "| \u001b[0m 21      \u001b[0m | \u001b[0m 0.8379  \u001b[0m | \u001b[0m 6.801   \u001b[0m | \u001b[0m 139.2   \u001b[0m | \u001b[0m 1.0     \u001b[0m | \u001b[0m 24.5    \u001b[0m | \u001b[0m 1.0     \u001b[0m | \u001b[0m 14.5    \u001b[0m | \u001b[0m 1.0     \u001b[0m | \u001b[0m 1.0     \u001b[0m |\n",
      "| \u001b[0m 22      \u001b[0m | \u001b[0m 0.8243  \u001b[0m | \u001b[0m 10.0    \u001b[0m | \u001b[0m 146.8   \u001b[0m | \u001b[0m 1.0     \u001b[0m | \u001b[0m 21.78   \u001b[0m | \u001b[0m 11.16   \u001b[0m | \u001b[0m 6.459   \u001b[0m | \u001b[0m 1.0     \u001b[0m | \u001b[0m 1.0     \u001b[0m |\n",
      "| \u001b[0m 23      \u001b[0m | \u001b[0m 0.7899  \u001b[0m | \u001b[0m 10.0    \u001b[0m | \u001b[0m 139.5   \u001b[0m | \u001b[0m 1.0     \u001b[0m | \u001b[0m 41.53   \u001b[0m | \u001b[0m 1.0     \u001b[0m | \u001b[0m 15.24   \u001b[0m | \u001b[0m 1.0     \u001b[0m | \u001b[0m 1.0     \u001b[0m |\n",
      "| \u001b[0m 24      \u001b[0m | \u001b[0m 0.8136  \u001b[0m | \u001b[0m 1.0     \u001b[0m | \u001b[0m 150.0   \u001b[0m | \u001b[0m 1.0     \u001b[0m | \u001b[0m 25.33   \u001b[0m | \u001b[0m 1.0     \u001b[0m | \u001b[0m 7.827   \u001b[0m | \u001b[0m 1.0     \u001b[0m | \u001b[0m 1.0     \u001b[0m |\n",
      "| \u001b[0m 25      \u001b[0m | \u001b[0m 0.844   \u001b[0m | \u001b[0m 4.264   \u001b[0m | \u001b[0m 140.5   \u001b[0m | \u001b[0m 1.0     \u001b[0m | \u001b[0m 29.59   \u001b[0m | \u001b[0m 11.24   \u001b[0m | \u001b[0m 11.43   \u001b[0m | \u001b[0m 1.0     \u001b[0m | \u001b[0m 1.0     \u001b[0m |\n",
      "| \u001b[0m 26      \u001b[0m | \u001b[0m 0.832   \u001b[0m | \u001b[0m 3.065   \u001b[0m | \u001b[0m 24.62   \u001b[0m | \u001b[0m 1.0     \u001b[0m | \u001b[0m 48.78   \u001b[0m | \u001b[0m 20.0    \u001b[0m | \u001b[0m 20.0    \u001b[0m | \u001b[0m 8.194   \u001b[0m | \u001b[0m 1.0     \u001b[0m |\n",
      "| \u001b[0m 27      \u001b[0m | \u001b[0m 0.8255  \u001b[0m | \u001b[0m 10.0    \u001b[0m | \u001b[0m 148.5   \u001b[0m | \u001b[0m 1.0     \u001b[0m | \u001b[0m 38.44   \u001b[0m | \u001b[0m 16.83   \u001b[0m | \u001b[0m 3.555   \u001b[0m | \u001b[0m 1.0     \u001b[0m | \u001b[0m 1.0     \u001b[0m |\n",
      "| \u001b[0m 28      \u001b[0m | \u001b[0m 0.7558  \u001b[0m | \u001b[0m 10.0    \u001b[0m | \u001b[0m 27.97   \u001b[0m | \u001b[0m 1.0     \u001b[0m | \u001b[0m 50.0    \u001b[0m | \u001b[0m 4.81    \u001b[0m | \u001b[0m 20.0    \u001b[0m | \u001b[0m 1.0     \u001b[0m | \u001b[0m 0.3619  \u001b[0m |\n",
      "| \u001b[0m 29      \u001b[0m | \u001b[0m 0.8186  \u001b[0m | \u001b[0m 3.599   \u001b[0m | \u001b[0m 43.02   \u001b[0m | \u001b[0m 0.7797  \u001b[0m | \u001b[0m 49.61   \u001b[0m | \u001b[0m 17.99   \u001b[0m | \u001b[0m 6.141   \u001b[0m | \u001b[0m 8.477   \u001b[0m | \u001b[0m 0.562   \u001b[0m |\n",
      "| \u001b[0m 30      \u001b[0m | \u001b[0m 0.6895  \u001b[0m | \u001b[0m 1.0     \u001b[0m | \u001b[0m 36.6    \u001b[0m | \u001b[0m 0.01    \u001b[0m | \u001b[0m 45.81   \u001b[0m | \u001b[0m 20.0    \u001b[0m | \u001b[0m 20.0    \u001b[0m | \u001b[0m 1.093   \u001b[0m | \u001b[0m 1.0     \u001b[0m |\n",
      "| \u001b[0m 31      \u001b[0m | \u001b[0m 0.8241  \u001b[0m | \u001b[0m 10.0    \u001b[0m | \u001b[0m 33.45   \u001b[0m | \u001b[0m 1.0     \u001b[0m | \u001b[0m 43.83   \u001b[0m | \u001b[0m 20.0    \u001b[0m | \u001b[0m 15.71   \u001b[0m | \u001b[0m 10.0    \u001b[0m | \u001b[0m 0.9549  \u001b[0m |\n",
      "| \u001b[0m 32      \u001b[0m | \u001b[0m 0.7972  \u001b[0m | \u001b[0m 10.0    \u001b[0m | \u001b[0m 45.24   \u001b[0m | \u001b[0m 1.0     \u001b[0m | \u001b[0m 44.01   \u001b[0m | \u001b[0m 17.32   \u001b[0m | \u001b[0m 17.43   \u001b[0m | \u001b[0m 10.0    \u001b[0m | \u001b[0m 0.7434  \u001b[0m |\n",
      "| \u001b[0m 33      \u001b[0m | \u001b[0m 0.8191  \u001b[0m | \u001b[0m 10.0    \u001b[0m | \u001b[0m 142.3   \u001b[0m | \u001b[0m 1.0     \u001b[0m | \u001b[0m 27.76   \u001b[0m | \u001b[0m 10.09   \u001b[0m | \u001b[0m 15.89   \u001b[0m | \u001b[0m 8.359   \u001b[0m | \u001b[0m 1.0     \u001b[0m |\n",
      "| \u001b[0m 34      \u001b[0m | \u001b[0m 0.809   \u001b[0m | \u001b[0m 10.0    \u001b[0m | \u001b[0m 143.1   \u001b[0m | \u001b[0m 1.0     \u001b[0m | \u001b[0m 30.1    \u001b[0m | \u001b[0m 6.77    \u001b[0m | \u001b[0m 8.817   \u001b[0m | \u001b[0m 1.0     \u001b[0m | \u001b[0m 1.0     \u001b[0m |\n",
      "| \u001b[0m 35      \u001b[0m | \u001b[0m 0.8136  \u001b[0m | \u001b[0m 1.0     \u001b[0m | \u001b[0m 141.7   \u001b[0m | \u001b[0m 1.0     \u001b[0m | \u001b[0m 31.74   \u001b[0m | \u001b[0m 4.604   \u001b[0m | \u001b[0m 12.08   \u001b[0m | \u001b[0m 3.094   \u001b[0m | \u001b[0m 1.0     \u001b[0m |\n",
      "| \u001b[0m 36      \u001b[0m | \u001b[0m 0.8272  \u001b[0m | \u001b[0m 2.389   \u001b[0m | \u001b[0m 150.0   \u001b[0m | \u001b[0m 0.6657  \u001b[0m | \u001b[0m 31.77   \u001b[0m | \u001b[0m 15.41   \u001b[0m | \u001b[0m 11.64   \u001b[0m | \u001b[0m 1.0     \u001b[0m | \u001b[0m 1.0     \u001b[0m |\n",
      "| \u001b[0m 37      \u001b[0m | \u001b[0m 0.8448  \u001b[0m | \u001b[0m 4.001   \u001b[0m | \u001b[0m 141.5   \u001b[0m | \u001b[0m 0.805   \u001b[0m | \u001b[0m 17.84   \u001b[0m | \u001b[0m 9.948   \u001b[0m | \u001b[0m 17.68   \u001b[0m | \u001b[0m 1.0     \u001b[0m | \u001b[0m 1.0     \u001b[0m |\n",
      "| \u001b[0m 38      \u001b[0m | \u001b[0m 0.8136  \u001b[0m | \u001b[0m 1.455   \u001b[0m | \u001b[0m 139.0   \u001b[0m | \u001b[0m 1.0     \u001b[0m | \u001b[0m 18.99   \u001b[0m | \u001b[0m 7.489   \u001b[0m | \u001b[0m 5.975   \u001b[0m | \u001b[0m 1.0     \u001b[0m | \u001b[0m 1.0     \u001b[0m |\n",
      "| \u001b[0m 39      \u001b[0m | \u001b[0m 0.8471  \u001b[0m | \u001b[0m 4.509   \u001b[0m | \u001b[0m 144.8   \u001b[0m | \u001b[0m 1.0     \u001b[0m | \u001b[0m 25.83   \u001b[0m | \u001b[0m 12.99   \u001b[0m | \u001b[0m 20.0    \u001b[0m | \u001b[0m 1.0     \u001b[0m | \u001b[0m 1.0     \u001b[0m |\n",
      "| \u001b[0m 40      \u001b[0m | \u001b[0m 0.7655  \u001b[0m | \u001b[0m 7.762   \u001b[0m | \u001b[0m 149.9   \u001b[0m | \u001b[0m 0.01    \u001b[0m | \u001b[0m 20.83   \u001b[0m | \u001b[0m 5.964   \u001b[0m | \u001b[0m 20.0    \u001b[0m | \u001b[0m 1.0     \u001b[0m | \u001b[0m 1.0     \u001b[0m |\n"
     ]
    },
    {
     "name": "stdout",
     "output_type": "stream",
     "text": [
      "| \u001b[0m 41      \u001b[0m | \u001b[0m 0.8425  \u001b[0m | \u001b[0m 5.452   \u001b[0m | \u001b[0m 135.7   \u001b[0m | \u001b[0m 1.0     \u001b[0m | \u001b[0m 23.35   \u001b[0m | \u001b[0m 13.47   \u001b[0m | \u001b[0m 19.61   \u001b[0m | \u001b[0m 1.0     \u001b[0m | \u001b[0m 1.0     \u001b[0m |\n",
      "| \u001b[0m 42      \u001b[0m | \u001b[0m 0.8485  \u001b[0m | \u001b[0m 4.001   \u001b[0m | \u001b[0m 142.0   \u001b[0m | \u001b[0m 1.0     \u001b[0m | \u001b[0m 20.67   \u001b[0m | \u001b[0m 19.37   \u001b[0m | \u001b[0m 15.03   \u001b[0m | \u001b[0m 1.0     \u001b[0m | \u001b[0m 1.0     \u001b[0m |\n",
      "| \u001b[0m 43      \u001b[0m | \u001b[0m 0.8467  \u001b[0m | \u001b[0m 7.93    \u001b[0m | \u001b[0m 141.7   \u001b[0m | \u001b[0m 1.0     \u001b[0m | \u001b[0m 33.54   \u001b[0m | \u001b[0m 17.28   \u001b[0m | \u001b[0m 18.21   \u001b[0m | \u001b[0m 1.0     \u001b[0m | \u001b[0m 1.0     \u001b[0m |\n",
      "| \u001b[0m 44      \u001b[0m | \u001b[0m 0.8181  \u001b[0m | \u001b[0m 6.105   \u001b[0m | \u001b[0m 14.03   \u001b[0m | \u001b[0m 1.0     \u001b[0m | \u001b[0m 48.47   \u001b[0m | \u001b[0m 20.0    \u001b[0m | \u001b[0m 20.0    \u001b[0m | \u001b[0m 10.0    \u001b[0m | \u001b[0m 1.0     \u001b[0m |\n",
      "| \u001b[0m 45      \u001b[0m | \u001b[0m 0.0     \u001b[0m | \u001b[0m 1.0     \u001b[0m | \u001b[0m 138.0   \u001b[0m | \u001b[0m 1.0     \u001b[0m | \u001b[0m 11.08   \u001b[0m | \u001b[0m 17.95   \u001b[0m | \u001b[0m 20.0    \u001b[0m | \u001b[0m 1.0     \u001b[0m | \u001b[0m 0.2721  \u001b[0m |\n",
      "| \u001b[95m 46      \u001b[0m | \u001b[95m 0.8494  \u001b[0m | \u001b[95m 5.751   \u001b[0m | \u001b[95m 142.2   \u001b[0m | \u001b[95m 0.9145  \u001b[0m | \u001b[95m 23.58   \u001b[0m | \u001b[95m 15.28   \u001b[0m | \u001b[95m 14.12   \u001b[0m | \u001b[95m 1.0     \u001b[0m | \u001b[95m 1.0     \u001b[0m |\n",
      "| \u001b[0m 47      \u001b[0m | \u001b[0m 0.844   \u001b[0m | \u001b[0m 4.533   \u001b[0m | \u001b[0m 140.6   \u001b[0m | \u001b[0m 0.9351  \u001b[0m | \u001b[0m 21.89   \u001b[0m | \u001b[0m 7.847   \u001b[0m | \u001b[0m 16.77   \u001b[0m | \u001b[0m 1.0     \u001b[0m | \u001b[0m 1.0     \u001b[0m |\n",
      "| \u001b[0m 48      \u001b[0m | \u001b[0m 0.84    \u001b[0m | \u001b[0m 3.389   \u001b[0m | \u001b[0m 142.8   \u001b[0m | \u001b[0m 1.0     \u001b[0m | \u001b[0m 25.9    \u001b[0m | \u001b[0m 20.0    \u001b[0m | \u001b[0m 15.29   \u001b[0m | \u001b[0m 1.365   \u001b[0m | \u001b[0m 1.0     \u001b[0m |\n",
      "| \u001b[0m 49      \u001b[0m | \u001b[0m 0.8374  \u001b[0m | \u001b[0m 5.887   \u001b[0m | \u001b[0m 146.0   \u001b[0m | \u001b[0m 1.0     \u001b[0m | \u001b[0m 21.42   \u001b[0m | \u001b[0m 20.0    \u001b[0m | \u001b[0m 11.32   \u001b[0m | \u001b[0m 1.0     \u001b[0m | \u001b[0m 1.0     \u001b[0m |\n",
      "| \u001b[0m 50      \u001b[0m | \u001b[0m 0.836   \u001b[0m | \u001b[0m 7.686   \u001b[0m | \u001b[0m 135.8   \u001b[0m | \u001b[0m 0.9636  \u001b[0m | \u001b[0m 30.26   \u001b[0m | \u001b[0m 12.33   \u001b[0m | \u001b[0m 19.37   \u001b[0m | \u001b[0m 1.075   \u001b[0m | \u001b[0m 1.0     \u001b[0m |\n",
      "=========================================================================================================================\n"
     ]
    }
   ],
   "source": [
    "hyperparam_rf_PC4 = run_ml(data_load['PC4'], 7, bound_random_forest['PC4'], model.random_forest)"
   ]
  },
  {
   "cell_type": "code",
   "execution_count": 32,
   "metadata": {},
   "outputs": [
    {
     "data": {
      "text/plain": [
       "{'Train': {'Gmeans': 0.9286928647055591,\n",
       "  'Recall': 0.9919465126880413,\n",
       "  'pf': 0.1305272754900471,\n",
       "  'cf_matrix': {'tn': 5722, 'fp': 859, 'fn': 53, 'tp': 6528}},\n",
       " 'Dev': {'Gmeans': 0.8493524707027063,\n",
       "  'Recall': 0.8636363636363636,\n",
       "  'pf': 0.16469517743403095,\n",
       "  'cf_matrix': {'tn': 918, 'fp': 181, 'fn': 21, 'tp': 133}},\n",
       " 'Test': {'Gmeans': 0.8575584094169899,\n",
       "  'Recall': 0.8707865168539326,\n",
       "  'pf': 0.15546875,\n",
       "  'cf_matrix': {'tn': 1081, 'fp': 199, 'fn': 23, 'tp': 155}}}"
      ]
     },
     "execution_count": 32,
     "metadata": {},
     "output_type": "execute_result"
    }
   ],
   "source": [
    "best_hyperparam_rf_PC4 = hyperparam_rf_PC4.max['params']\n",
    "result_rf_PC4 = run_ml(data_load['PC4'], 7, best_hyperparam_rf_PC4, model.random_forest,do_optimize = False)\n",
    "result_rf_PC4"
   ]
  },
  {
   "cell_type": "markdown",
   "metadata": {},
   "source": [
    "## CM1"
   ]
  },
  {
   "cell_type": "code",
   "execution_count": 33,
   "metadata": {},
   "outputs": [
    {
     "name": "stdout",
     "output_type": "stream",
     "text": [
      "|   iter    |  target   |   depth   | estimator | max_fe... | max_le... | min_leaf  | min_split | neighbors | sampling  |\n",
      "-------------------------------------------------------------------------------------------------------------------------\n",
      "| \u001b[0m 1       \u001b[0m | \u001b[0m 0.5937  \u001b[0m | \u001b[0m 4.371   \u001b[0m | \u001b[0m 143.1   \u001b[0m | \u001b[0m 0.7347  \u001b[0m | \u001b[0m 30.74   \u001b[0m | \u001b[0m 3.964   \u001b[0m | \u001b[0m 4.808   \u001b[0m | \u001b[0m 1.523   \u001b[0m | \u001b[0m 0.8994  \u001b[0m |\n",
      "| \u001b[0m 2       \u001b[0m | \u001b[0m 0.3802  \u001b[0m | \u001b[0m 6.41    \u001b[0m | \u001b[0m 109.1   \u001b[0m | \u001b[0m 0.03038 \u001b[0m | \u001b[0m 48.56   \u001b[0m | \u001b[0m 16.82   \u001b[0m | \u001b[0m 5.822   \u001b[0m | \u001b[0m 2.636   \u001b[0m | \u001b[0m 0.3862  \u001b[0m |\n",
      "| \u001b[0m 3       \u001b[0m | \u001b[0m 0.5646  \u001b[0m | \u001b[0m 3.738   \u001b[0m | \u001b[0m 83.47   \u001b[0m | \u001b[0m 0.4376  \u001b[0m | \u001b[0m 15.98   \u001b[0m | \u001b[0m 12.63   \u001b[0m | \u001b[0m 4.511   \u001b[0m | \u001b[0m 3.629   \u001b[0m | \u001b[0m 0.5238  \u001b[0m |\n",
      "| \u001b[0m 4       \u001b[0m | \u001b[0m 0.4346  \u001b[0m | \u001b[0m 5.105   \u001b[0m | \u001b[0m 119.9   \u001b[0m | \u001b[0m 0.2077  \u001b[0m | \u001b[0m 26.68   \u001b[0m | \u001b[0m 12.26   \u001b[0m | \u001b[0m 2.836   \u001b[0m | \u001b[0m 6.468   \u001b[0m | \u001b[0m 0.3766  \u001b[0m |\n",
      "| \u001b[95m 5       \u001b[0m | \u001b[95m 0.6494  \u001b[0m | \u001b[95m 1.585   \u001b[0m | \u001b[95m 142.8   \u001b[0m | \u001b[95m 0.966   \u001b[0m | \u001b[95m 40.8    \u001b[0m | \u001b[95m 6.788   \u001b[0m | \u001b[95m 3.758   \u001b[0m | \u001b[95m 7.158   \u001b[0m | \u001b[95m 0.5792  \u001b[0m |\n",
      "| \u001b[95m 6       \u001b[0m | \u001b[95m 0.7059  \u001b[0m | \u001b[95m 2.098   \u001b[0m | \u001b[95m 79.32   \u001b[0m | \u001b[95m 0.04404 \u001b[0m | \u001b[95m 45.65   \u001b[0m | \u001b[95m 5.917   \u001b[0m | \u001b[95m 13.93   \u001b[0m | \u001b[95m 3.805   \u001b[0m | \u001b[95m 0.6393  \u001b[0m |\n",
      "| \u001b[0m 7       \u001b[0m | \u001b[0m 0.6733  \u001b[0m | \u001b[0m 5.92    \u001b[0m | \u001b[0m 35.88   \u001b[0m | \u001b[0m 0.9699  \u001b[0m | \u001b[0m 39.21   \u001b[0m | \u001b[0m 18.85   \u001b[0m | \u001b[0m 18.11   \u001b[0m | \u001b[0m 6.381   \u001b[0m | \u001b[0m 0.9413  \u001b[0m |\n",
      "| \u001b[0m 8       \u001b[0m | \u001b[0m 0.1563  \u001b[0m | \u001b[0m 1.796   \u001b[0m | \u001b[0m 37.44   \u001b[0m | \u001b[0m 0.05478 \u001b[0m | \u001b[0m 17.62   \u001b[0m | \u001b[0m 8.385   \u001b[0m | \u001b[0m 6.884   \u001b[0m | \u001b[0m 8.459   \u001b[0m | \u001b[0m 0.5165  \u001b[0m |\n",
      "| \u001b[0m 9       \u001b[0m | \u001b[0m 0.4576  \u001b[0m | \u001b[0m 3.528   \u001b[0m | \u001b[0m 85.98   \u001b[0m | \u001b[0m 0.1495  \u001b[0m | \u001b[0m 40.51   \u001b[0m | \u001b[0m 2.416   \u001b[0m | \u001b[0m 19.76   \u001b[0m | \u001b[0m 7.95    \u001b[0m | \u001b[0m 0.3978  \u001b[0m |\n",
      "| \u001b[0m 10      \u001b[0m | \u001b[0m 0.314   \u001b[0m | \u001b[0m 1.05    \u001b[0m | \u001b[0m 124.2   \u001b[0m | \u001b[0m 0.7098  \u001b[0m | \u001b[0m 36.99   \u001b[0m | \u001b[0m 15.65   \u001b[0m | \u001b[0m 3.333   \u001b[0m | \u001b[0m 4.226   \u001b[0m | \u001b[0m 0.3355  \u001b[0m |\n",
      "| \u001b[0m 11      \u001b[0m | \u001b[0m 0.6872  \u001b[0m | \u001b[0m 8.768   \u001b[0m | \u001b[0m 97.26   \u001b[0m | \u001b[0m 0.3376  \u001b[0m | \u001b[0m 5.051   \u001b[0m | \u001b[0m 6.909   \u001b[0m | \u001b[0m 7.853   \u001b[0m | \u001b[0m 7.566   \u001b[0m | \u001b[0m 0.7276  \u001b[0m |\n",
      "| \u001b[0m 12      \u001b[0m | \u001b[0m 0.6235  \u001b[0m | \u001b[0m 8.985   \u001b[0m | \u001b[0m 76.11   \u001b[0m | \u001b[0m 0.1284  \u001b[0m | \u001b[0m 36.24   \u001b[0m | \u001b[0m 15.45   \u001b[0m | \u001b[0m 12.1    \u001b[0m | \u001b[0m 7.939   \u001b[0m | \u001b[0m 0.6195  \u001b[0m |\n",
      "| \u001b[0m 13      \u001b[0m | \u001b[0m 0.5871  \u001b[0m | \u001b[0m 5.705   \u001b[0m | \u001b[0m 69.86   \u001b[0m | \u001b[0m 0.03516 \u001b[0m | \u001b[0m 7.179   \u001b[0m | \u001b[0m 1.597   \u001b[0m | \u001b[0m 13.46   \u001b[0m | \u001b[0m 3.829   \u001b[0m | \u001b[0m 0.6306  \u001b[0m |\n",
      "| \u001b[0m 14      \u001b[0m | \u001b[0m 0.434   \u001b[0m | \u001b[0m 9.168   \u001b[0m | \u001b[0m 44.9    \u001b[0m | \u001b[0m 0.4163  \u001b[0m | \u001b[0m 38.27   \u001b[0m | \u001b[0m 5.347   \u001b[0m | \u001b[0m 3.386   \u001b[0m | \u001b[0m 3.608   \u001b[0m | \u001b[0m 0.3696  \u001b[0m |\n",
      "| \u001b[0m 15      \u001b[0m | \u001b[0m 0.6354  \u001b[0m | \u001b[0m 9.367   \u001b[0m | \u001b[0m 123.1   \u001b[0m | \u001b[0m 0.6371  \u001b[0m | \u001b[0m 43.83   \u001b[0m | \u001b[0m 16.27   \u001b[0m | \u001b[0m 5.358   \u001b[0m | \u001b[0m 9.033   \u001b[0m | \u001b[0m 0.6538  \u001b[0m |\n",
      "| \u001b[0m 16      \u001b[0m | \u001b[0m 0.6575  \u001b[0m | \u001b[0m 4.425   \u001b[0m | \u001b[0m 130.2   \u001b[0m | \u001b[0m 0.7569  \u001b[0m | \u001b[0m 2.882   \u001b[0m | \u001b[0m 4.163   \u001b[0m | \u001b[0m 10.53   \u001b[0m | \u001b[0m 6.928   \u001b[0m | \u001b[0m 0.7859  \u001b[0m |\n",
      "| \u001b[0m 17      \u001b[0m | \u001b[0m 0.4823  \u001b[0m | \u001b[0m 5.509   \u001b[0m | \u001b[0m 132.2   \u001b[0m | \u001b[0m 0.9001  \u001b[0m | \u001b[0m 5.822   \u001b[0m | \u001b[0m 16.82   \u001b[0m | \u001b[0m 11.59   \u001b[0m | \u001b[0m 6.789   \u001b[0m | \u001b[0m 0.335   \u001b[0m |\n",
      "| \u001b[0m 18      \u001b[0m | \u001b[0m 0.6799  \u001b[0m | \u001b[0m 2.227   \u001b[0m | \u001b[0m 104.3   \u001b[0m | \u001b[0m 0.5161  \u001b[0m | \u001b[0m 3.26    \u001b[0m | \u001b[0m 2.055   \u001b[0m | \u001b[0m 6.464   \u001b[0m | \u001b[0m 9.741   \u001b[0m | \u001b[0m 0.8419  \u001b[0m |\n",
      "| \u001b[0m 19      \u001b[0m | \u001b[0m 0.6878  \u001b[0m | \u001b[0m 5.615   \u001b[0m | \u001b[0m 100.7   \u001b[0m | \u001b[0m 0.4217  \u001b[0m | \u001b[0m 4.198   \u001b[0m | \u001b[0m 4.572   \u001b[0m | \u001b[0m 7.189   \u001b[0m | \u001b[0m 8.61    \u001b[0m | \u001b[0m 0.7803  \u001b[0m |\n",
      "| \u001b[95m 20      \u001b[0m | \u001b[95m 0.7138  \u001b[0m | \u001b[95m 2.517   \u001b[0m | \u001b[95m 75.65   \u001b[0m | \u001b[95m 0.01    \u001b[0m | \u001b[95m 46.45   \u001b[0m | \u001b[95m 9.069   \u001b[0m | \u001b[95m 11.12   \u001b[0m | \u001b[95m 2.604   \u001b[0m | \u001b[95m 0.7552  \u001b[0m |\n",
      "| \u001b[0m 21      \u001b[0m | \u001b[0m 0.7113  \u001b[0m | \u001b[0m 1.0     \u001b[0m | \u001b[0m 76.03   \u001b[0m | \u001b[0m 0.04359 \u001b[0m | \u001b[0m 50.0    \u001b[0m | \u001b[0m 3.339   \u001b[0m | \u001b[0m 11.86   \u001b[0m | \u001b[0m 1.0     \u001b[0m | \u001b[0m 0.8229  \u001b[0m |\n",
      "| \u001b[0m 22      \u001b[0m | \u001b[0m 0.2195  \u001b[0m | \u001b[0m 4.633   \u001b[0m | \u001b[0m 72.49   \u001b[0m | \u001b[0m 0.1221  \u001b[0m | \u001b[0m 47.96   \u001b[0m | \u001b[0m 6.43    \u001b[0m | \u001b[0m 12.77   \u001b[0m | \u001b[0m 6.894   \u001b[0m | \u001b[0m 0.3272  \u001b[0m |\n",
      "| \u001b[95m 23      \u001b[0m | \u001b[95m 0.7166  \u001b[0m | \u001b[95m 1.319   \u001b[0m | \u001b[95m 77.52   \u001b[0m | \u001b[95m 0.3966  \u001b[0m | \u001b[95m 45.94   \u001b[0m | \u001b[95m 1.803   \u001b[0m | \u001b[95m 13.83   \u001b[0m | \u001b[95m 2.049   \u001b[0m | \u001b[95m 0.8042  \u001b[0m |\n",
      "| \u001b[0m 24      \u001b[0m | \u001b[0m 0.6958  \u001b[0m | \u001b[0m 2.297   \u001b[0m | \u001b[0m 80.25   \u001b[0m | \u001b[0m 0.2809  \u001b[0m | \u001b[0m 45.87   \u001b[0m | \u001b[0m 7.199   \u001b[0m | \u001b[0m 11.32   \u001b[0m | \u001b[0m 2.868   \u001b[0m | \u001b[0m 0.8282  \u001b[0m |\n",
      "| \u001b[0m 25      \u001b[0m | \u001b[0m 0.4391  \u001b[0m | \u001b[0m 3.407   \u001b[0m | \u001b[0m 77.23   \u001b[0m | \u001b[0m 0.3166  \u001b[0m | \u001b[0m 43.07   \u001b[0m | \u001b[0m 11.64   \u001b[0m | \u001b[0m 11.98   \u001b[0m | \u001b[0m 2.242   \u001b[0m | \u001b[0m 0.3477  \u001b[0m |\n",
      "| \u001b[0m 26      \u001b[0m | \u001b[0m 0.6815  \u001b[0m | \u001b[0m 1.322   \u001b[0m | \u001b[0m 77.44   \u001b[0m | \u001b[0m 0.05149 \u001b[0m | \u001b[0m 47.1    \u001b[0m | \u001b[0m 5.815   \u001b[0m | \u001b[0m 11.93   \u001b[0m | \u001b[0m 1.616   \u001b[0m | \u001b[0m 0.9029  \u001b[0m |\n",
      "| \u001b[0m 27      \u001b[0m | \u001b[0m 0.6667  \u001b[0m | \u001b[0m 3.482   \u001b[0m | \u001b[0m 101.0   \u001b[0m | \u001b[0m 0.8096  \u001b[0m | \u001b[0m 3.187   \u001b[0m | \u001b[0m 3.012   \u001b[0m | \u001b[0m 8.188   \u001b[0m | \u001b[0m 6.568   \u001b[0m | \u001b[0m 0.8059  \u001b[0m |\n",
      "| \u001b[0m 28      \u001b[0m | \u001b[0m 0.6108  \u001b[0m | \u001b[0m 2.822   \u001b[0m | \u001b[0m 79.72   \u001b[0m | \u001b[0m 0.4687  \u001b[0m | \u001b[0m 48.11   \u001b[0m | \u001b[0m 3.433   \u001b[0m | \u001b[0m 14.05   \u001b[0m | \u001b[0m 5.002   \u001b[0m | \u001b[0m 0.3993  \u001b[0m |\n",
      "| \u001b[0m 29      \u001b[0m | \u001b[0m 0.6532  \u001b[0m | \u001b[0m 7.779   \u001b[0m | \u001b[0m 98.51   \u001b[0m | \u001b[0m 0.5934  \u001b[0m | \u001b[0m 3.21    \u001b[0m | \u001b[0m 4.261   \u001b[0m | \u001b[0m 6.962   \u001b[0m | \u001b[0m 6.163   \u001b[0m | \u001b[0m 0.7438  \u001b[0m |\n",
      "| \u001b[0m 30      \u001b[0m | \u001b[0m 0.661   \u001b[0m | \u001b[0m 6.41    \u001b[0m | \u001b[0m 99.79   \u001b[0m | \u001b[0m 0.8944  \u001b[0m | \u001b[0m 5.163   \u001b[0m | \u001b[0m 4.064   \u001b[0m | \u001b[0m 11.04   \u001b[0m | \u001b[0m 9.292   \u001b[0m | \u001b[0m 0.6729  \u001b[0m |\n",
      "| \u001b[0m 31      \u001b[0m | \u001b[0m 0.6555  \u001b[0m | \u001b[0m 1.409   \u001b[0m | \u001b[0m 76.16   \u001b[0m | \u001b[0m 0.01    \u001b[0m | \u001b[0m 48.14   \u001b[0m | \u001b[0m 9.195   \u001b[0m | \u001b[0m 9.663   \u001b[0m | \u001b[0m 1.599   \u001b[0m | \u001b[0m 1.0     \u001b[0m |\n",
      "| \u001b[0m 32      \u001b[0m | \u001b[0m 0.6972  \u001b[0m | \u001b[0m 2.323   \u001b[0m | \u001b[0m 78.36   \u001b[0m | \u001b[0m 0.701   \u001b[0m | \u001b[0m 47.28   \u001b[0m | \u001b[0m 2.416   \u001b[0m | \u001b[0m 15.14   \u001b[0m | \u001b[0m 1.61    \u001b[0m | \u001b[0m 0.9725  \u001b[0m |\n",
      "| \u001b[0m 33      \u001b[0m | \u001b[0m 0.6654  \u001b[0m | \u001b[0m 2.838   \u001b[0m | \u001b[0m 100.9   \u001b[0m | \u001b[0m 0.7429  \u001b[0m | \u001b[0m 7.022   \u001b[0m | \u001b[0m 2.475   \u001b[0m | \u001b[0m 6.791   \u001b[0m | \u001b[0m 9.88    \u001b[0m | \u001b[0m 0.7446  \u001b[0m |\n",
      "| \u001b[0m 34      \u001b[0m | \u001b[0m 0.6808  \u001b[0m | \u001b[0m 4.177   \u001b[0m | \u001b[0m 104.7   \u001b[0m | \u001b[0m 0.2123  \u001b[0m | \u001b[0m 5.928   \u001b[0m | \u001b[0m 5.45    \u001b[0m | \u001b[0m 8.222   \u001b[0m | \u001b[0m 8.206   \u001b[0m | \u001b[0m 0.8045  \u001b[0m |\n",
      "| \u001b[0m 35      \u001b[0m | \u001b[0m 0.6537  \u001b[0m | \u001b[0m 1.0     \u001b[0m | \u001b[0m 77.85   \u001b[0m | \u001b[0m 0.01    \u001b[0m | \u001b[0m 48.54   \u001b[0m | \u001b[0m 1.0     \u001b[0m | \u001b[0m 12.19   \u001b[0m | \u001b[0m 1.0     \u001b[0m | \u001b[0m 1.0     \u001b[0m |\n",
      "| \u001b[0m 36      \u001b[0m | \u001b[0m 0.0     \u001b[0m | \u001b[0m 1.491   \u001b[0m | \u001b[0m 77.64   \u001b[0m | \u001b[0m 0.2755  \u001b[0m | \u001b[0m 41.93   \u001b[0m | \u001b[0m 3.128   \u001b[0m | \u001b[0m 16.04   \u001b[0m | \u001b[0m 2.926   \u001b[0m | \u001b[0m 0.33    \u001b[0m |\n",
      "| \u001b[0m 37      \u001b[0m | \u001b[0m 0.6487  \u001b[0m | \u001b[0m 6.625   \u001b[0m | \u001b[0m 99.37   \u001b[0m | \u001b[0m 0.6328  \u001b[0m | \u001b[0m 7.626   \u001b[0m | \u001b[0m 7.524   \u001b[0m | \u001b[0m 8.64    \u001b[0m | \u001b[0m 6.755   \u001b[0m | \u001b[0m 0.5709  \u001b[0m |\n",
      "| \u001b[0m 38      \u001b[0m | \u001b[0m 0.6351  \u001b[0m | \u001b[0m 1.973   \u001b[0m | \u001b[0m 79.26   \u001b[0m | \u001b[0m 0.01    \u001b[0m | \u001b[0m 47.34   \u001b[0m | \u001b[0m 7.142   \u001b[0m | \u001b[0m 13.29   \u001b[0m | \u001b[0m 3.421   \u001b[0m | \u001b[0m 1.0     \u001b[0m |\n",
      "| \u001b[0m 39      \u001b[0m | \u001b[0m 0.6805  \u001b[0m | \u001b[0m 1.453   \u001b[0m | \u001b[0m 77.25   \u001b[0m | \u001b[0m 0.7525  \u001b[0m | \u001b[0m 47.31   \u001b[0m | \u001b[0m 2.819   \u001b[0m | \u001b[0m 13.17   \u001b[0m | \u001b[0m 1.943   \u001b[0m | \u001b[0m 0.8774  \u001b[0m |\n",
      "| \u001b[0m 40      \u001b[0m | \u001b[0m 0.661   \u001b[0m | \u001b[0m 3.464   \u001b[0m | \u001b[0m 97.33   \u001b[0m | \u001b[0m 0.3469  \u001b[0m | \u001b[0m 3.447   \u001b[0m | \u001b[0m 4.828   \u001b[0m | \u001b[0m 5.825   \u001b[0m | \u001b[0m 8.367   \u001b[0m | \u001b[0m 0.5428  \u001b[0m |\n"
     ]
    },
    {
     "name": "stdout",
     "output_type": "stream",
     "text": [
      "| \u001b[0m 41      \u001b[0m | \u001b[0m 0.674   \u001b[0m | \u001b[0m 5.898   \u001b[0m | \u001b[0m 97.63   \u001b[0m | \u001b[0m 0.01    \u001b[0m | \u001b[0m 5.862   \u001b[0m | \u001b[0m 4.76    \u001b[0m | \u001b[0m 8.015   \u001b[0m | \u001b[0m 8.3     \u001b[0m | \u001b[0m 1.0     \u001b[0m |\n",
      "| \u001b[0m 42      \u001b[0m | \u001b[0m 0.6723  \u001b[0m | \u001b[0m 5.097   \u001b[0m | \u001b[0m 80.12   \u001b[0m | \u001b[0m 0.4158  \u001b[0m | \u001b[0m 45.74   \u001b[0m | \u001b[0m 5.011   \u001b[0m | \u001b[0m 11.42   \u001b[0m | \u001b[0m 3.178   \u001b[0m | \u001b[0m 0.9585  \u001b[0m |\n",
      "| \u001b[0m 43      \u001b[0m | \u001b[0m 0.6367  \u001b[0m | \u001b[0m 4.382   \u001b[0m | \u001b[0m 104.5   \u001b[0m | \u001b[0m 0.7695  \u001b[0m | \u001b[0m 5.408   \u001b[0m | \u001b[0m 3.801   \u001b[0m | \u001b[0m 5.041   \u001b[0m | \u001b[0m 6.675   \u001b[0m | \u001b[0m 0.7132  \u001b[0m |\n",
      "| \u001b[0m 44      \u001b[0m | \u001b[0m 0.6671  \u001b[0m | \u001b[0m 8.481   \u001b[0m | \u001b[0m 104.1   \u001b[0m | \u001b[0m 0.8527  \u001b[0m | \u001b[0m 5.419   \u001b[0m | \u001b[0m 2.24    \u001b[0m | \u001b[0m 8.984   \u001b[0m | \u001b[0m 8.451   \u001b[0m | \u001b[0m 0.9668  \u001b[0m |\n",
      "| \u001b[0m 45      \u001b[0m | \u001b[0m 0.6884  \u001b[0m | \u001b[0m 5.601   \u001b[0m | \u001b[0m 103.3   \u001b[0m | \u001b[0m 0.6048  \u001b[0m | \u001b[0m 5.262   \u001b[0m | \u001b[0m 3.652   \u001b[0m | \u001b[0m 10.85   \u001b[0m | \u001b[0m 7.584   \u001b[0m | \u001b[0m 0.7305  \u001b[0m |\n",
      "| \u001b[0m 46      \u001b[0m | \u001b[0m 0.631   \u001b[0m | \u001b[0m 5.644   \u001b[0m | \u001b[0m 102.7   \u001b[0m | \u001b[0m 0.8862  \u001b[0m | \u001b[0m 4.712   \u001b[0m | \u001b[0m 1.428   \u001b[0m | \u001b[0m 9.441   \u001b[0m | \u001b[0m 8.353   \u001b[0m | \u001b[0m 0.7098  \u001b[0m |\n",
      "| \u001b[0m 47      \u001b[0m | \u001b[0m 0.6693  \u001b[0m | \u001b[0m 7.728   \u001b[0m | \u001b[0m 102.7   \u001b[0m | \u001b[0m 0.01    \u001b[0m | \u001b[0m 4.449   \u001b[0m | \u001b[0m 6.241   \u001b[0m | \u001b[0m 9.451   \u001b[0m | \u001b[0m 7.709   \u001b[0m | \u001b[0m 1.0     \u001b[0m |\n",
      "| \u001b[0m 48      \u001b[0m | \u001b[0m 0.6616  \u001b[0m | \u001b[0m 2.326   \u001b[0m | \u001b[0m 101.9   \u001b[0m | \u001b[0m 0.01    \u001b[0m | \u001b[0m 4.058   \u001b[0m | \u001b[0m 5.342   \u001b[0m | \u001b[0m 8.834   \u001b[0m | \u001b[0m 9.711   \u001b[0m | \u001b[0m 1.0     \u001b[0m |\n",
      "| \u001b[0m 49      \u001b[0m | \u001b[0m 0.518   \u001b[0m | \u001b[0m 4.589   \u001b[0m | \u001b[0m 101.7   \u001b[0m | \u001b[0m 0.6279  \u001b[0m | \u001b[0m 10.02   \u001b[0m | \u001b[0m 5.248   \u001b[0m | \u001b[0m 10.32   \u001b[0m | \u001b[0m 7.429   \u001b[0m | \u001b[0m 0.4558  \u001b[0m |\n",
      "| \u001b[0m 50      \u001b[0m | \u001b[0m 0.6778  \u001b[0m | \u001b[0m 5.183   \u001b[0m | \u001b[0m 105.2   \u001b[0m | \u001b[0m 1.0     \u001b[0m | \u001b[0m 2.795   \u001b[0m | \u001b[0m 4.719   \u001b[0m | \u001b[0m 9.374   \u001b[0m | \u001b[0m 8.74    \u001b[0m | \u001b[0m 1.0     \u001b[0m |\n",
      "=========================================================================================================================\n"
     ]
    }
   ],
   "source": [
    "hyperparam_rf_CM1 = run_ml(data_load['CM1'], 5, bound_random_forest['CM1'], model.random_forest)"
   ]
  },
  {
   "cell_type": "code",
   "execution_count": 34,
   "metadata": {},
   "outputs": [
    {
     "data": {
      "text/plain": [
       "{'Train': {'Gmeans': 0.7671809178725112,\n",
       "  'Recall': 0.8158123370981755,\n",
       "  'pf': 0.2785515320334262,\n",
       "  'cf_matrix': {'tn': 1036, 'fp': 400, 'fn': 212, 'tp': 939}},\n",
       " 'Dev': {'Gmeans': 0.7166182154164563,\n",
       "  'Recall': 0.725,\n",
       "  'pf': 0.2916666666666667,\n",
       "  'cf_matrix': {'tn': 255, 'fp': 105, 'fn': 11, 'tp': 29}},\n",
       " 'Test': {'Gmeans': 0.6917212234625966,\n",
       "  'Recall': 0.673469387755102,\n",
       "  'pf': 0.289532293986637,\n",
       "  'cf_matrix': {'tn': 319, 'fp': 130, 'fn': 16, 'tp': 33}}}"
      ]
     },
     "execution_count": 34,
     "metadata": {},
     "output_type": "execute_result"
    }
   ],
   "source": [
    "best_hyperparam_rf_CM1 = hyperparam_rf_CM1.max['params']\n",
    "result_rf_CM1 = run_ml(data_load['CM1'], 5, best_hyperparam_rf_CM1, model.random_forest,do_optimize = False)\n",
    "result_rf_CM1"
   ]
  },
  {
   "cell_type": "markdown",
   "metadata": {},
   "source": [
    "## JM1"
   ]
  },
  {
   "cell_type": "code",
   "execution_count": 35,
   "metadata": {},
   "outputs": [
    {
     "name": "stdout",
     "output_type": "stream",
     "text": [
      "|   iter    |  target   |   depth   | estimator | max_fe... | max_le... | min_leaf  | min_split | neighbors | sampling  |\n",
      "-------------------------------------------------------------------------------------------------------------------------\n",
      "| \u001b[0m 1       \u001b[0m | \u001b[0m 0.6395  \u001b[0m | \u001b[0m 4.371   \u001b[0m | \u001b[0m 143.1   \u001b[0m | \u001b[0m 0.7347  \u001b[0m | \u001b[0m 30.74   \u001b[0m | \u001b[0m 3.964   \u001b[0m | \u001b[0m 4.808   \u001b[0m | \u001b[0m 1.523   \u001b[0m | \u001b[0m 0.9121  \u001b[0m |\n",
      "| \u001b[0m 2       \u001b[0m | \u001b[0m 0.5015  \u001b[0m | \u001b[0m 6.41    \u001b[0m | \u001b[0m 109.1   \u001b[0m | \u001b[0m 0.03038 \u001b[0m | \u001b[0m 48.56   \u001b[0m | \u001b[0m 16.82   \u001b[0m | \u001b[0m 5.822   \u001b[0m | \u001b[0m 2.636   \u001b[0m | \u001b[0m 0.4637  \u001b[0m |\n",
      "| \u001b[0m 3       \u001b[0m | \u001b[0m 0.5748  \u001b[0m | \u001b[0m 3.738   \u001b[0m | \u001b[0m 83.47   \u001b[0m | \u001b[0m 0.4376  \u001b[0m | \u001b[0m 15.98   \u001b[0m | \u001b[0m 12.63   \u001b[0m | \u001b[0m 4.511   \u001b[0m | \u001b[0m 3.629   \u001b[0m | \u001b[0m 0.5839  \u001b[0m |\n",
      "| \u001b[0m 4       \u001b[0m | \u001b[0m 0.5091  \u001b[0m | \u001b[0m 5.105   \u001b[0m | \u001b[0m 119.9   \u001b[0m | \u001b[0m 0.2077  \u001b[0m | \u001b[0m 26.68   \u001b[0m | \u001b[0m 12.26   \u001b[0m | \u001b[0m 2.836   \u001b[0m | \u001b[0m 6.468   \u001b[0m | \u001b[0m 0.4553  \u001b[0m |\n",
      "| \u001b[95m 5       \u001b[0m | \u001b[95m 0.64    \u001b[0m | \u001b[95m 1.585   \u001b[0m | \u001b[95m 142.8   \u001b[0m | \u001b[95m 0.966   \u001b[0m | \u001b[95m 40.8    \u001b[0m | \u001b[95m 6.788   \u001b[0m | \u001b[95m 3.758   \u001b[0m | \u001b[95m 7.158   \u001b[0m | \u001b[95m 0.6323  \u001b[0m |\n",
      "| \u001b[0m 6       \u001b[0m | \u001b[0m 0.5561  \u001b[0m | \u001b[0m 2.098   \u001b[0m | \u001b[0m 79.32   \u001b[0m | \u001b[0m 0.04404 \u001b[0m | \u001b[0m 45.65   \u001b[0m | \u001b[0m 5.917   \u001b[0m | \u001b[0m 13.93   \u001b[0m | \u001b[0m 3.805   \u001b[0m | \u001b[0m 0.6848  \u001b[0m |\n",
      "| \u001b[0m 7       \u001b[0m | \u001b[0m 0.634   \u001b[0m | \u001b[0m 5.92    \u001b[0m | \u001b[0m 35.88   \u001b[0m | \u001b[0m 0.9699  \u001b[0m | \u001b[0m 39.21   \u001b[0m | \u001b[0m 18.85   \u001b[0m | \u001b[0m 18.11   \u001b[0m | \u001b[0m 6.381   \u001b[0m | \u001b[0m 0.9487  \u001b[0m |\n",
      "| \u001b[0m 8       \u001b[0m | \u001b[0m 0.4848  \u001b[0m | \u001b[0m 1.796   \u001b[0m | \u001b[0m 37.44   \u001b[0m | \u001b[0m 0.05478 \u001b[0m | \u001b[0m 17.62   \u001b[0m | \u001b[0m 8.385   \u001b[0m | \u001b[0m 6.884   \u001b[0m | \u001b[0m 8.459   \u001b[0m | \u001b[0m 0.5776  \u001b[0m |\n",
      "| \u001b[0m 9       \u001b[0m | \u001b[0m 0.5118  \u001b[0m | \u001b[0m 3.528   \u001b[0m | \u001b[0m 85.98   \u001b[0m | \u001b[0m 0.1495  \u001b[0m | \u001b[0m 40.51   \u001b[0m | \u001b[0m 2.416   \u001b[0m | \u001b[0m 19.76   \u001b[0m | \u001b[0m 7.95    \u001b[0m | \u001b[0m 0.4738  \u001b[0m |\n",
      "| \u001b[0m 10      \u001b[0m | \u001b[0m 0.1896  \u001b[0m | \u001b[0m 1.05    \u001b[0m | \u001b[0m 124.2   \u001b[0m | \u001b[0m 0.7098  \u001b[0m | \u001b[0m 36.99   \u001b[0m | \u001b[0m 15.65   \u001b[0m | \u001b[0m 3.333   \u001b[0m | \u001b[0m 4.226   \u001b[0m | \u001b[0m 0.4194  \u001b[0m |\n",
      "| \u001b[0m 11      \u001b[0m | \u001b[0m 0.6255  \u001b[0m | \u001b[0m 8.768   \u001b[0m | \u001b[0m 97.26   \u001b[0m | \u001b[0m 0.3376  \u001b[0m | \u001b[0m 5.051   \u001b[0m | \u001b[0m 6.909   \u001b[0m | \u001b[0m 7.853   \u001b[0m | \u001b[0m 7.566   \u001b[0m | \u001b[0m 0.762   \u001b[0m |\n",
      "| \u001b[0m 12      \u001b[0m | \u001b[0m 0.5878  \u001b[0m | \u001b[0m 8.985   \u001b[0m | \u001b[0m 76.11   \u001b[0m | \u001b[0m 0.1284  \u001b[0m | \u001b[0m 36.24   \u001b[0m | \u001b[0m 15.45   \u001b[0m | \u001b[0m 12.1    \u001b[0m | \u001b[0m 7.939   \u001b[0m | \u001b[0m 0.6676  \u001b[0m |\n",
      "| \u001b[0m 13      \u001b[0m | \u001b[0m 0.5953  \u001b[0m | \u001b[0m 5.705   \u001b[0m | \u001b[0m 69.86   \u001b[0m | \u001b[0m 0.03516 \u001b[0m | \u001b[0m 7.179   \u001b[0m | \u001b[0m 1.597   \u001b[0m | \u001b[0m 13.46   \u001b[0m | \u001b[0m 3.829   \u001b[0m | \u001b[0m 0.6773  \u001b[0m |\n",
      "| \u001b[0m 14      \u001b[0m | \u001b[0m 0.5143  \u001b[0m | \u001b[0m 9.168   \u001b[0m | \u001b[0m 44.9    \u001b[0m | \u001b[0m 0.4163  \u001b[0m | \u001b[0m 38.27   \u001b[0m | \u001b[0m 5.347   \u001b[0m | \u001b[0m 3.386   \u001b[0m | \u001b[0m 3.608   \u001b[0m | \u001b[0m 0.4492  \u001b[0m |\n",
      "| \u001b[0m 15      \u001b[0m | \u001b[0m 0.5886  \u001b[0m | \u001b[0m 9.367   \u001b[0m | \u001b[0m 123.1   \u001b[0m | \u001b[0m 0.6371  \u001b[0m | \u001b[0m 43.83   \u001b[0m | \u001b[0m 16.27   \u001b[0m | \u001b[0m 5.358   \u001b[0m | \u001b[0m 9.033   \u001b[0m | \u001b[0m 0.6975  \u001b[0m |\n",
      "| \u001b[95m 16      \u001b[0m | \u001b[95m 0.6432  \u001b[0m | \u001b[95m 4.425   \u001b[0m | \u001b[95m 130.2   \u001b[0m | \u001b[95m 0.7569  \u001b[0m | \u001b[95m 2.882   \u001b[0m | \u001b[95m 4.163   \u001b[0m | \u001b[95m 10.53   \u001b[0m | \u001b[95m 6.928   \u001b[0m | \u001b[95m 0.8129  \u001b[0m |\n",
      "| \u001b[0m 17      \u001b[0m | \u001b[0m 0.5046  \u001b[0m | \u001b[0m 5.509   \u001b[0m | \u001b[0m 132.2   \u001b[0m | \u001b[0m 0.9001  \u001b[0m | \u001b[0m 5.822   \u001b[0m | \u001b[0m 16.82   \u001b[0m | \u001b[0m 11.59   \u001b[0m | \u001b[0m 6.789   \u001b[0m | \u001b[0m 0.4189  \u001b[0m |\n",
      "| \u001b[95m 18      \u001b[0m | \u001b[95m 0.6478  \u001b[0m | \u001b[95m 2.227   \u001b[0m | \u001b[95m 104.3   \u001b[0m | \u001b[95m 0.5161  \u001b[0m | \u001b[95m 3.26    \u001b[0m | \u001b[95m 2.055   \u001b[0m | \u001b[95m 6.464   \u001b[0m | \u001b[95m 9.741   \u001b[0m | \u001b[95m 0.8618  \u001b[0m |\n",
      "| \u001b[0m 19      \u001b[0m | \u001b[0m 0.642   \u001b[0m | \u001b[0m 4.847   \u001b[0m | \u001b[0m 101.5   \u001b[0m | \u001b[0m 0.445   \u001b[0m | \u001b[0m 3.975   \u001b[0m | \u001b[0m 3.99    \u001b[0m | \u001b[0m 7.02    \u001b[0m | \u001b[0m 8.863   \u001b[0m | \u001b[0m 0.8217  \u001b[0m |\n",
      "| \u001b[0m 20      \u001b[0m | \u001b[0m 0.6314  \u001b[0m | \u001b[0m 3.106   \u001b[0m | \u001b[0m 144.5   \u001b[0m | \u001b[0m 0.8678  \u001b[0m | \u001b[0m 36.01   \u001b[0m | \u001b[0m 4.643   \u001b[0m | \u001b[0m 4.34    \u001b[0m | \u001b[0m 4.547   \u001b[0m | \u001b[0m 0.7941  \u001b[0m |\n",
      "| \u001b[0m 21      \u001b[0m | \u001b[0m 0.643   \u001b[0m | \u001b[0m 5.861   \u001b[0m | \u001b[0m 108.0   \u001b[0m | \u001b[0m 0.4837  \u001b[0m | \u001b[0m 3.891   \u001b[0m | \u001b[0m 4.245   \u001b[0m | \u001b[0m 8.161   \u001b[0m | \u001b[0m 7.915   \u001b[0m | \u001b[0m 0.8238  \u001b[0m |\n",
      "| \u001b[0m 22      \u001b[0m | \u001b[0m 0.6334  \u001b[0m | \u001b[0m 5.446   \u001b[0m | \u001b[0m 105.7   \u001b[0m | \u001b[0m 0.9332  \u001b[0m | \u001b[0m 8.659   \u001b[0m | \u001b[0m 1.76    \u001b[0m | \u001b[0m 5.062   \u001b[0m | \u001b[0m 9.951   \u001b[0m | \u001b[0m 0.7449  \u001b[0m |\n",
      "| \u001b[0m 23      \u001b[0m | \u001b[0m 0.6473  \u001b[0m | \u001b[0m 4.07    \u001b[0m | \u001b[0m 123.1   \u001b[0m | \u001b[0m 0.6651  \u001b[0m | \u001b[0m 2.518   \u001b[0m | \u001b[0m 1.0     \u001b[0m | \u001b[0m 9.209   \u001b[0m | \u001b[0m 7.558   \u001b[0m | \u001b[0m 0.921   \u001b[0m |\n",
      "| \u001b[0m 24      \u001b[0m | \u001b[0m 0.585   \u001b[0m | \u001b[0m 1.037   \u001b[0m | \u001b[0m 114.5   \u001b[0m | \u001b[0m 0.1001  \u001b[0m | \u001b[0m 2.772   \u001b[0m | \u001b[0m 1.761   \u001b[0m | \u001b[0m 5.054   \u001b[0m | \u001b[0m 10.0    \u001b[0m | \u001b[0m 0.7944  \u001b[0m |\n",
      "| \u001b[0m 25      \u001b[0m | \u001b[0m 0.5448  \u001b[0m | \u001b[0m 5.314   \u001b[0m | \u001b[0m 124.8   \u001b[0m | \u001b[0m 0.1996  \u001b[0m | \u001b[0m 3.127   \u001b[0m | \u001b[0m 1.854   \u001b[0m | \u001b[0m 13.19   \u001b[0m | \u001b[0m 3.989   \u001b[0m | \u001b[0m 0.5218  \u001b[0m |\n",
      "| \u001b[0m 26      \u001b[0m | \u001b[0m 0.2553  \u001b[0m | \u001b[0m 7.777   \u001b[0m | \u001b[0m 125.5   \u001b[0m | \u001b[0m 0.1498  \u001b[0m | \u001b[0m 2.267   \u001b[0m | \u001b[0m 4.371   \u001b[0m | \u001b[0m 7.791   \u001b[0m | \u001b[0m 9.868   \u001b[0m | \u001b[0m 0.45    \u001b[0m |\n",
      "| \u001b[0m 27      \u001b[0m | \u001b[0m 0.646   \u001b[0m | \u001b[0m 3.482   \u001b[0m | \u001b[0m 101.0   \u001b[0m | \u001b[0m 0.8096  \u001b[0m | \u001b[0m 3.187   \u001b[0m | \u001b[0m 3.012   \u001b[0m | \u001b[0m 8.188   \u001b[0m | \u001b[0m 6.568   \u001b[0m | \u001b[0m 0.8304  \u001b[0m |\n",
      "| \u001b[0m 28      \u001b[0m | \u001b[0m 0.6477  \u001b[0m | \u001b[0m 2.014   \u001b[0m | \u001b[0m 122.3   \u001b[0m | \u001b[0m 1.0     \u001b[0m | \u001b[0m 2.589   \u001b[0m | \u001b[0m 1.0     \u001b[0m | \u001b[0m 9.378   \u001b[0m | \u001b[0m 6.929   \u001b[0m | \u001b[0m 1.0     \u001b[0m |\n",
      "| \u001b[0m 29      \u001b[0m | \u001b[0m 0.6436  \u001b[0m | \u001b[0m 4.403   \u001b[0m | \u001b[0m 104.8   \u001b[0m | \u001b[0m 0.8056  \u001b[0m | \u001b[0m 4.939   \u001b[0m | \u001b[0m 2.697   \u001b[0m | \u001b[0m 7.312   \u001b[0m | \u001b[0m 7.77    \u001b[0m | \u001b[0m 0.8064  \u001b[0m |\n",
      "| \u001b[0m 30      \u001b[0m | \u001b[0m 0.6475  \u001b[0m | \u001b[0m 1.034   \u001b[0m | \u001b[0m 128.7   \u001b[0m | \u001b[0m 0.8324  \u001b[0m | \u001b[0m 2.858   \u001b[0m | \u001b[0m 1.02    \u001b[0m | \u001b[0m 8.859   \u001b[0m | \u001b[0m 7.225   \u001b[0m | \u001b[0m 0.9395  \u001b[0m |\n",
      "| \u001b[0m 31      \u001b[0m | \u001b[0m 0.6459  \u001b[0m | \u001b[0m 2.079   \u001b[0m | \u001b[0m 131.5   \u001b[0m | \u001b[0m 1.0     \u001b[0m | \u001b[0m 3.017   \u001b[0m | \u001b[0m 3.085   \u001b[0m | \u001b[0m 11.04   \u001b[0m | \u001b[0m 6.086   \u001b[0m | \u001b[0m 1.0     \u001b[0m |\n",
      "| \u001b[0m 32      \u001b[0m | \u001b[0m 0.6314  \u001b[0m | \u001b[0m 4.6     \u001b[0m | \u001b[0m 106.6   \u001b[0m | \u001b[0m 0.7415  \u001b[0m | \u001b[0m 6.339   \u001b[0m | \u001b[0m 6.416   \u001b[0m | \u001b[0m 5.437   \u001b[0m | \u001b[0m 7.73    \u001b[0m | \u001b[0m 0.7144  \u001b[0m |\n",
      "| \u001b[0m 33      \u001b[0m | \u001b[0m 0.6433  \u001b[0m | \u001b[0m 2.701   \u001b[0m | \u001b[0m 104.5   \u001b[0m | \u001b[0m 0.3775  \u001b[0m | \u001b[0m 2.0     \u001b[0m | \u001b[0m 5.657   \u001b[0m | \u001b[0m 8.883   \u001b[0m | \u001b[0m 8.19    \u001b[0m | \u001b[0m 0.9062  \u001b[0m |\n",
      "| \u001b[0m 34      \u001b[0m | \u001b[0m 0.6012  \u001b[0m | \u001b[0m 1.98    \u001b[0m | \u001b[0m 103.8   \u001b[0m | \u001b[0m 0.01    \u001b[0m | \u001b[0m 6.265   \u001b[0m | \u001b[0m 4.006   \u001b[0m | \u001b[0m 9.908   \u001b[0m | \u001b[0m 10.0    \u001b[0m | \u001b[0m 1.0     \u001b[0m |\n",
      "| \u001b[0m 35      \u001b[0m | \u001b[0m 0.0     \u001b[0m | \u001b[0m 5.906   \u001b[0m | \u001b[0m 101.9   \u001b[0m | \u001b[0m 0.4284  \u001b[0m | \u001b[0m 2.691   \u001b[0m | \u001b[0m 5.932   \u001b[0m | \u001b[0m 4.182   \u001b[0m | \u001b[0m 5.819   \u001b[0m | \u001b[0m 0.401   \u001b[0m |\n",
      "| \u001b[0m 36      \u001b[0m | \u001b[0m 0.5812  \u001b[0m | \u001b[0m 1.884   \u001b[0m | \u001b[0m 131.0   \u001b[0m | \u001b[0m 0.2177  \u001b[0m | \u001b[0m 4.073   \u001b[0m | \u001b[0m 1.164   \u001b[0m | \u001b[0m 9.504   \u001b[0m | \u001b[0m 9.335   \u001b[0m | \u001b[0m 0.6951  \u001b[0m |\n",
      "| \u001b[0m 37      \u001b[0m | \u001b[0m 0.5328  \u001b[0m | \u001b[0m 4.794   \u001b[0m | \u001b[0m 108.1   \u001b[0m | \u001b[0m 0.03724 \u001b[0m | \u001b[0m 8.869   \u001b[0m | \u001b[0m 4.542   \u001b[0m | \u001b[0m 7.438   \u001b[0m | \u001b[0m 8.464   \u001b[0m | \u001b[0m 0.5447  \u001b[0m |\n",
      "| \u001b[0m 38      \u001b[0m | \u001b[0m 0.6468  \u001b[0m | \u001b[0m 3.352   \u001b[0m | \u001b[0m 103.7   \u001b[0m | \u001b[0m 0.5413  \u001b[0m | \u001b[0m 4.655   \u001b[0m | \u001b[0m 1.151   \u001b[0m | \u001b[0m 10.03   \u001b[0m | \u001b[0m 7.745   \u001b[0m | \u001b[0m 0.8952  \u001b[0m |\n",
      "| \u001b[0m 39      \u001b[0m | \u001b[0m 0.6306  \u001b[0m | \u001b[0m 4.399   \u001b[0m | \u001b[0m 102.2   \u001b[0m | \u001b[0m 0.6335  \u001b[0m | \u001b[0m 2.808   \u001b[0m | \u001b[0m 1.953   \u001b[0m | \u001b[0m 10.81   \u001b[0m | \u001b[0m 7.402   \u001b[0m | \u001b[0m 0.6671  \u001b[0m |\n",
      "| \u001b[0m 40      \u001b[0m | \u001b[0m 0.6376  \u001b[0m | \u001b[0m 3.051   \u001b[0m | \u001b[0m 100.9   \u001b[0m | \u001b[0m 0.4516  \u001b[0m | \u001b[0m 5.351   \u001b[0m | \u001b[0m 3.745   \u001b[0m | \u001b[0m 10.39   \u001b[0m | \u001b[0m 5.924   \u001b[0m | \u001b[0m 0.8566  \u001b[0m |\n"
     ]
    },
    {
     "name": "stdout",
     "output_type": "stream",
     "text": [
      "| \u001b[0m 41      \u001b[0m | \u001b[0m 0.6471  \u001b[0m | \u001b[0m 3.59    \u001b[0m | \u001b[0m 102.0   \u001b[0m | \u001b[0m 0.6838  \u001b[0m | \u001b[0m 4.057   \u001b[0m | \u001b[0m 2.999   \u001b[0m | \u001b[0m 8.447   \u001b[0m | \u001b[0m 8.982   \u001b[0m | \u001b[0m 1.0     \u001b[0m |\n",
      "| \u001b[0m 42      \u001b[0m | \u001b[0m 0.64    \u001b[0m | \u001b[0m 6.031   \u001b[0m | \u001b[0m 103.1   \u001b[0m | \u001b[0m 0.1991  \u001b[0m | \u001b[0m 7.033   \u001b[0m | \u001b[0m 2.149   \u001b[0m | \u001b[0m 9.975   \u001b[0m | \u001b[0m 8.425   \u001b[0m | \u001b[0m 0.875   \u001b[0m |\n",
      "| \u001b[0m 43      \u001b[0m | \u001b[0m 0.5014  \u001b[0m | \u001b[0m 5.949   \u001b[0m | \u001b[0m 99.57   \u001b[0m | \u001b[0m 0.834   \u001b[0m | \u001b[0m 8.472   \u001b[0m | \u001b[0m 3.993   \u001b[0m | \u001b[0m 6.634   \u001b[0m | \u001b[0m 9.656   \u001b[0m | \u001b[0m 0.4103  \u001b[0m |\n",
      "| \u001b[95m 44      \u001b[0m | \u001b[95m 0.6479  \u001b[0m | \u001b[95m 8.481   \u001b[0m | \u001b[95m 104.1   \u001b[0m | \u001b[95m 0.8527  \u001b[0m | \u001b[95m 5.419   \u001b[0m | \u001b[95m 2.24    \u001b[0m | \u001b[95m 8.984   \u001b[0m | \u001b[95m 8.451   \u001b[0m | \u001b[95m 0.971   \u001b[0m |\n",
      "| \u001b[0m 45      \u001b[0m | \u001b[0m 0.6366  \u001b[0m | \u001b[0m 5.601   \u001b[0m | \u001b[0m 103.3   \u001b[0m | \u001b[0m 0.6048  \u001b[0m | \u001b[0m 5.262   \u001b[0m | \u001b[0m 3.652   \u001b[0m | \u001b[0m 10.85   \u001b[0m | \u001b[0m 7.584   \u001b[0m | \u001b[0m 0.7645  \u001b[0m |\n",
      "| \u001b[0m 46      \u001b[0m | \u001b[0m 0.6444  \u001b[0m | \u001b[0m 5.644   \u001b[0m | \u001b[0m 102.7   \u001b[0m | \u001b[0m 0.8862  \u001b[0m | \u001b[0m 4.712   \u001b[0m | \u001b[0m 1.428   \u001b[0m | \u001b[0m 9.441   \u001b[0m | \u001b[0m 8.353   \u001b[0m | \u001b[0m 0.7464  \u001b[0m |\n",
      "| \u001b[0m 47      \u001b[0m | \u001b[0m 0.6409  \u001b[0m | \u001b[0m 5.394   \u001b[0m | \u001b[0m 105.0   \u001b[0m | \u001b[0m 0.06069 \u001b[0m | \u001b[0m 3.982   \u001b[0m | \u001b[0m 3.533   \u001b[0m | \u001b[0m 8.271   \u001b[0m | \u001b[0m 10.0    \u001b[0m | \u001b[0m 1.0     \u001b[0m |\n",
      "| \u001b[0m 48      \u001b[0m | \u001b[0m 0.6468  \u001b[0m | \u001b[0m 2.284   \u001b[0m | \u001b[0m 106.9   \u001b[0m | \u001b[0m 1.0     \u001b[0m | \u001b[0m 3.138   \u001b[0m | \u001b[0m 3.595   \u001b[0m | \u001b[0m 8.535   \u001b[0m | \u001b[0m 8.376   \u001b[0m | \u001b[0m 1.0     \u001b[0m |\n",
      "| \u001b[0m 49      \u001b[0m | \u001b[0m 0.6477  \u001b[0m | \u001b[0m 6.657   \u001b[0m | \u001b[0m 98.98   \u001b[0m | \u001b[0m 0.1341  \u001b[0m | \u001b[0m 3.768   \u001b[0m | \u001b[0m 6.897   \u001b[0m | \u001b[0m 11.61   \u001b[0m | \u001b[0m 9.597   \u001b[0m | \u001b[0m 0.9848  \u001b[0m |\n",
      "| \u001b[0m 50      \u001b[0m | \u001b[0m 0.6451  \u001b[0m | \u001b[0m 1.483   \u001b[0m | \u001b[0m 128.6   \u001b[0m | \u001b[0m 1.0     \u001b[0m | \u001b[0m 2.0     \u001b[0m | \u001b[0m 3.364   \u001b[0m | \u001b[0m 9.91    \u001b[0m | \u001b[0m 5.25    \u001b[0m | \u001b[0m 1.0     \u001b[0m |\n",
      "=========================================================================================================================\n"
     ]
    }
   ],
   "source": [
    "hyperparam_rf_JM1 = run_ml(data_load['JM1'], 10, bound_random_forest['JM1'], model.random_forest)"
   ]
  },
  {
   "cell_type": "code",
   "execution_count": 36,
   "metadata": {},
   "outputs": [
    {
     "data": {
      "text/plain": [
       "{'Train': {'Gmeans': 0.7207977128292039,\n",
       "  'Recall': 0.7155151181490228,\n",
       "  'pf': 0.2738806914886135,\n",
       "  'cf_matrix': {'tn': 51622, 'fp': 19471, 'fn': 19636, 'tp': 49387}},\n",
       " 'Dev': {'Gmeans': 0.6478853008760674,\n",
       "  'Recall': 0.5810526315789474,\n",
       "  'pf': 0.27759493670886076,\n",
       "  'cf_matrix': {'tn': 5707, 'fp': 2193, 'fn': 796, 'tp': 1104}},\n",
       " 'Test': {'Gmeans': 0.6601031619590525,\n",
       "  'Recall': 0.6010461245839277,\n",
       "  'pf': 0.27503702859747065,\n",
       "  'cf_matrix': {'tn': 6363, 'fp': 2414, 'fn': 839, 'tp': 1264}}}"
      ]
     },
     "execution_count": 36,
     "metadata": {},
     "output_type": "execute_result"
    }
   ],
   "source": [
    "best_hyperparam_rf_JM1 = hyperparam_rf_JM1.max['params']\n",
    "result_rf_JM1 = run_ml(data_load['JM1'], 10, best_hyperparam_rf_JM1, model.random_forest,do_optimize = False)\n",
    "result_rf_JM1"
   ]
  },
  {
   "cell_type": "markdown",
   "metadata": {},
   "source": [
    "## Decission Tree"
   ]
  },
  {
   "cell_type": "markdown",
   "metadata": {},
   "source": [
    "### KC1"
   ]
  },
  {
   "cell_type": "code",
   "execution_count": 37,
   "metadata": {},
   "outputs": [
    {
     "name": "stdout",
     "output_type": "stream",
     "text": [
      "|   iter    |  target   |   depth   | neighbors | sampling  |\n",
      "-------------------------------------------------------------\n",
      "| \u001b[0m 1       \u001b[0m | \u001b[0m 0.6913  \u001b[0m | \u001b[0m 4.371   \u001b[0m | \u001b[0m 9.556   \u001b[0m | \u001b[0m 0.8136  \u001b[0m |\n",
      "| \u001b[0m 2       \u001b[0m | \u001b[0m 0.5932  \u001b[0m | \u001b[0m 6.388   \u001b[0m | \u001b[0m 2.404   \u001b[0m | \u001b[0m 0.4131  \u001b[0m |\n",
      "| \u001b[95m 3       \u001b[0m | \u001b[95m 0.6956  \u001b[0m | \u001b[95m 1.523   \u001b[0m | \u001b[95m 8.796   \u001b[0m | \u001b[95m 0.7226  \u001b[0m |\n",
      "| \u001b[0m 4       \u001b[0m | \u001b[0m 0.6787  \u001b[0m | \u001b[0m 7.373   \u001b[0m | \u001b[0m 1.185   \u001b[0m | \u001b[0m 0.9791  \u001b[0m |\n",
      "| \u001b[0m 5       \u001b[0m | \u001b[0m 0.6303  \u001b[0m | \u001b[0m 8.492   \u001b[0m | \u001b[0m 2.911   \u001b[0m | \u001b[0m 0.431   \u001b[0m |\n",
      "| \u001b[0m 6       \u001b[0m | \u001b[0m 0.6675  \u001b[0m | \u001b[0m 2.651   \u001b[0m | \u001b[0m 3.738   \u001b[0m | \u001b[0m 0.6695  \u001b[0m |\n",
      "| \u001b[0m 7       \u001b[0m | \u001b[0m 0.6917  \u001b[0m | \u001b[0m 4.888   \u001b[0m | \u001b[0m 3.621   \u001b[0m | \u001b[0m 0.7301  \u001b[0m |\n",
      "| \u001b[0m 8       \u001b[0m | \u001b[0m 0.6472  \u001b[0m | \u001b[0m 2.255   \u001b[0m | \u001b[0m 3.629   \u001b[0m | \u001b[0m 0.5594  \u001b[0m |\n",
      "| \u001b[0m 9       \u001b[0m | \u001b[0m 0.6408  \u001b[0m | \u001b[0m 5.105   \u001b[0m | \u001b[0m 8.067   \u001b[0m | \u001b[0m 0.4435  \u001b[0m |\n",
      "| \u001b[0m 10      \u001b[0m | \u001b[0m 0.5976  \u001b[0m | \u001b[0m 5.628   \u001b[0m | \u001b[0m 6.332   \u001b[0m | \u001b[0m 0.3369  \u001b[0m |\n",
      "| \u001b[0m 11      \u001b[0m | \u001b[0m 0.5816  \u001b[0m | \u001b[0m 6.468   \u001b[0m | \u001b[0m 2.535   \u001b[0m | \u001b[0m 0.3498  \u001b[0m |\n",
      "| \u001b[0m 12      \u001b[0m | \u001b[0m 0.682   \u001b[0m | \u001b[0m 9.54    \u001b[0m | \u001b[0m 9.691   \u001b[0m | \u001b[0m 0.8668  \u001b[0m |\n",
      "| \u001b[95m 13      \u001b[0m | \u001b[95m 0.7031  \u001b[0m | \u001b[95m 3.742   \u001b[0m | \u001b[95m 1.879   \u001b[0m | \u001b[95m 0.7804  \u001b[0m |\n",
      "| \u001b[0m 14      \u001b[0m | \u001b[0m 0.6569  \u001b[0m | \u001b[0m 4.961   \u001b[0m | \u001b[0m 2.098   \u001b[0m | \u001b[0m 0.6489  \u001b[0m |\n",
      "| \u001b[0m 15      \u001b[0m | \u001b[0m 0.6907  \u001b[0m | \u001b[0m 1.309   \u001b[0m | \u001b[0m 9.184   \u001b[0m | \u001b[0m 0.4846  \u001b[0m |\n",
      "| \u001b[0m 16      \u001b[0m | \u001b[0m 0.6869  \u001b[0m | \u001b[0m 3.787   \u001b[0m | \u001b[0m 2.816   \u001b[0m | \u001b[0m 0.9366  \u001b[0m |\n",
      "| \u001b[95m 17      \u001b[0m | \u001b[95m 0.7113  \u001b[0m | \u001b[95m 3.271   \u001b[0m | \u001b[95m 1.346   \u001b[0m | \u001b[95m 0.9233  \u001b[0m |\n",
      "| \u001b[0m 18      \u001b[0m | \u001b[0m 0.5438  \u001b[0m | \u001b[0m 3.364   \u001b[0m | \u001b[0m 1.176   \u001b[0m | \u001b[0m 0.3046  \u001b[0m |\n",
      "| \u001b[95m 19      \u001b[0m | \u001b[95m 0.7177  \u001b[0m | \u001b[95m 3.38    \u001b[0m | \u001b[95m 1.541   \u001b[0m | \u001b[95m 1.0     \u001b[0m |\n",
      "| \u001b[0m 20      \u001b[0m | \u001b[0m 0.7177  \u001b[0m | \u001b[0m 3.396   \u001b[0m | \u001b[0m 1.94    \u001b[0m | \u001b[0m 1.0     \u001b[0m |\n",
      "| \u001b[0m 21      \u001b[0m | \u001b[0m 0.7177  \u001b[0m | \u001b[0m 3.074   \u001b[0m | \u001b[0m 1.577   \u001b[0m | \u001b[0m 1.0     \u001b[0m |\n",
      "| \u001b[0m 22      \u001b[0m | \u001b[0m 0.6828  \u001b[0m | \u001b[0m 3.346   \u001b[0m | \u001b[0m 2.335   \u001b[0m | \u001b[0m 0.8584  \u001b[0m |\n",
      "| \u001b[0m 23      \u001b[0m | \u001b[0m 0.7177  \u001b[0m | \u001b[0m 3.163   \u001b[0m | \u001b[0m 1.397   \u001b[0m | \u001b[0m 1.0     \u001b[0m |\n",
      "| \u001b[0m 24      \u001b[0m | \u001b[0m 0.703   \u001b[0m | \u001b[0m 4.064   \u001b[0m | \u001b[0m 2.151   \u001b[0m | \u001b[0m 0.9636  \u001b[0m |\n",
      "| \u001b[0m 25      \u001b[0m | \u001b[0m 0.6713  \u001b[0m | \u001b[0m 4.135   \u001b[0m | \u001b[0m 3.97    \u001b[0m | \u001b[0m 0.6413  \u001b[0m |\n",
      "| \u001b[0m 26      \u001b[0m | \u001b[0m 0.664   \u001b[0m | \u001b[0m 2.192   \u001b[0m | \u001b[0m 9.218   \u001b[0m | \u001b[0m 0.6349  \u001b[0m |\n",
      "| \u001b[0m 27      \u001b[0m | \u001b[0m 0.5731  \u001b[0m | \u001b[0m 1.172   \u001b[0m | \u001b[0m 8.266   \u001b[0m | \u001b[0m 0.3115  \u001b[0m |\n",
      "| \u001b[0m 28      \u001b[0m | \u001b[0m 0.7028  \u001b[0m | \u001b[0m 1.494   \u001b[0m | \u001b[0m 9.205   \u001b[0m | \u001b[0m 0.9866  \u001b[0m |\n",
      "| \u001b[0m 29      \u001b[0m | \u001b[0m 0.6997  \u001b[0m | \u001b[0m 2.485   \u001b[0m | \u001b[0m 1.787   \u001b[0m | \u001b[0m 1.0     \u001b[0m |\n",
      "| \u001b[0m 30      \u001b[0m | \u001b[0m 0.7011  \u001b[0m | \u001b[0m 1.051   \u001b[0m | \u001b[0m 9.782   \u001b[0m | \u001b[0m 0.9306  \u001b[0m |\n",
      "| \u001b[0m 31      \u001b[0m | \u001b[0m 0.5696  \u001b[0m | \u001b[0m 1.366   \u001b[0m | \u001b[0m 9.985   \u001b[0m | \u001b[0m 0.4022  \u001b[0m |\n",
      "| \u001b[0m 32      \u001b[0m | \u001b[0m 0.7028  \u001b[0m | \u001b[0m 1.108   \u001b[0m | \u001b[0m 9.225   \u001b[0m | \u001b[0m 0.9468  \u001b[0m |\n",
      "| \u001b[95m 33      \u001b[0m | \u001b[95m 0.7199  \u001b[0m | \u001b[95m 4.027   \u001b[0m | \u001b[95m 1.523   \u001b[0m | \u001b[95m 0.9155  \u001b[0m |\n",
      "| \u001b[0m 34      \u001b[0m | \u001b[0m 0.7161  \u001b[0m | \u001b[0m 3.776   \u001b[0m | \u001b[0m 1.565   \u001b[0m | \u001b[0m 0.9979  \u001b[0m |\n",
      "| \u001b[95m 35      \u001b[0m | \u001b[95m 0.7458  \u001b[0m | \u001b[95m 4.463   \u001b[0m | \u001b[95m 1.299   \u001b[0m | \u001b[95m 0.9773  \u001b[0m |\n",
      "| \u001b[0m 36      \u001b[0m | \u001b[0m 0.7182  \u001b[0m | \u001b[0m 4.325   \u001b[0m | \u001b[0m 1.071   \u001b[0m | \u001b[0m 0.9965  \u001b[0m |\n",
      "| \u001b[0m 37      \u001b[0m | \u001b[0m 0.7272  \u001b[0m | \u001b[0m 4.608   \u001b[0m | \u001b[0m 1.493   \u001b[0m | \u001b[0m 0.9927  \u001b[0m |\n",
      "| \u001b[0m 38      \u001b[0m | \u001b[0m 0.7032  \u001b[0m | \u001b[0m 1.633   \u001b[0m | \u001b[0m 8.026   \u001b[0m | \u001b[0m 0.9114  \u001b[0m |\n",
      "| \u001b[0m 39      \u001b[0m | \u001b[0m 0.6717  \u001b[0m | \u001b[0m 9.5     \u001b[0m | \u001b[0m 9.704   \u001b[0m | \u001b[0m 0.8187  \u001b[0m |\n",
      "| \u001b[0m 40      \u001b[0m | \u001b[0m 0.6931  \u001b[0m | \u001b[0m 6.553   \u001b[0m | \u001b[0m 1.424   \u001b[0m | \u001b[0m 0.8918  \u001b[0m |\n",
      "| \u001b[0m 41      \u001b[0m | \u001b[0m 0.658   \u001b[0m | \u001b[0m 8.32    \u001b[0m | \u001b[0m 7.849   \u001b[0m | \u001b[0m 0.7602  \u001b[0m |\n",
      "| \u001b[0m 42      \u001b[0m | \u001b[0m 0.7047  \u001b[0m | \u001b[0m 4.663   \u001b[0m | \u001b[0m 1.241   \u001b[0m | \u001b[0m 0.8202  \u001b[0m |\n",
      "| \u001b[0m 43      \u001b[0m | \u001b[0m 0.7057  \u001b[0m | \u001b[0m 1.567   \u001b[0m | \u001b[0m 3.588   \u001b[0m | \u001b[0m 0.7486  \u001b[0m |\n",
      "| \u001b[0m 44      \u001b[0m | \u001b[0m 0.7354  \u001b[0m | \u001b[0m 4.303   \u001b[0m | \u001b[0m 1.521   \u001b[0m | \u001b[0m 0.9841  \u001b[0m |\n",
      "| \u001b[0m 45      \u001b[0m | \u001b[0m 0.5659  \u001b[0m | \u001b[0m 1.52    \u001b[0m | \u001b[0m 5.087   \u001b[0m | \u001b[0m 0.424   \u001b[0m |\n",
      "| \u001b[0m 46      \u001b[0m | \u001b[0m 0.7011  \u001b[0m | \u001b[0m 2.254   \u001b[0m | \u001b[0m 8.039   \u001b[0m | \u001b[0m 1.0     \u001b[0m |\n",
      "| \u001b[0m 47      \u001b[0m | \u001b[0m 0.7039  \u001b[0m | \u001b[0m 1.055   \u001b[0m | \u001b[0m 3.227   \u001b[0m | \u001b[0m 1.0     \u001b[0m |\n",
      "| \u001b[0m 48      \u001b[0m | \u001b[0m 0.6109  \u001b[0m | \u001b[0m 2.22    \u001b[0m | \u001b[0m 9.513   \u001b[0m | \u001b[0m 0.3745  \u001b[0m |\n",
      "| \u001b[0m 49      \u001b[0m | \u001b[0m 0.682   \u001b[0m | \u001b[0m 9.977   \u001b[0m | \u001b[0m 9.298   \u001b[0m | \u001b[0m 0.9339  \u001b[0m |\n",
      "| \u001b[0m 50      \u001b[0m | \u001b[0m 0.576   \u001b[0m | \u001b[0m 1.12    \u001b[0m | \u001b[0m 3.235   \u001b[0m | \u001b[0m 0.3353  \u001b[0m |\n",
      "=============================================================\n"
     ]
    }
   ],
   "source": [
    "hyperparam_dt_KC1 = run_ml(data_load['KC1'], 10, bound_decission_tree['KC1'], model.decission_tree)"
   ]
  },
  {
   "cell_type": "code",
   "execution_count": 38,
   "metadata": {},
   "outputs": [
    {
     "data": {
      "text/plain": [
       "{'Train': {'Gmeans': 0.7833417553844744,\n",
       "  'Recall': 0.8819818542670825,\n",
       "  'pf': 0.3042665189084361,\n",
       "  'cf_matrix': {'tn': 10045, 'fp': 4393, 'fn': 1665, 'tp': 12443}},\n",
       " 'Dev': {'Gmeans': 0.7458147949334402,\n",
       "  'Recall': 0.8041237113402062,\n",
       "  'pf': 0.30826600372902424,\n",
       "  'cf_matrix': {'tn': 1113, 'fp': 496, 'fn': 57, 'tp': 234}},\n",
       " 'Test': {'Gmeans': 0.6768152307307151,\n",
       "  'Recall': 0.6840490797546013,\n",
       "  'pf': 0.3303421200224341,\n",
       "  'cf_matrix': {'tn': 1194, 'fp': 589, 'fn': 103, 'tp': 223}}}"
      ]
     },
     "execution_count": 38,
     "metadata": {},
     "output_type": "execute_result"
    }
   ],
   "source": [
    "best_hyperparam_dt_KC1 = hyperparam_dt_KC1.max['params']\n",
    "result_dt_KC1 = run_ml(data_load['KC1'], 10, best_hyperparam_dt_KC1, model.decission_tree,do_optimize = False)\n",
    "result_dt_KC1"
   ]
  },
  {
   "cell_type": "markdown",
   "metadata": {},
   "source": [
    "### KC2"
   ]
  },
  {
   "cell_type": "code",
   "execution_count": 39,
   "metadata": {
    "scrolled": true
   },
   "outputs": [
    {
     "name": "stdout",
     "output_type": "stream",
     "text": [
      "|   iter    |  target   |   depth   | neighbors | sampling  |\n",
      "-------------------------------------------------------------\n",
      "| \u001b[0m 1       \u001b[0m | \u001b[0m 0.7678  \u001b[0m | \u001b[0m 4.371   \u001b[0m | \u001b[0m 9.556   \u001b[0m | \u001b[0m 0.8271  \u001b[0m |\n",
      "| \u001b[0m 2       \u001b[0m | \u001b[0m 0.6754  \u001b[0m | \u001b[0m 6.388   \u001b[0m | \u001b[0m 2.404   \u001b[0m | \u001b[0m 0.4556  \u001b[0m |\n",
      "| \u001b[95m 3       \u001b[0m | \u001b[95m 0.8164  \u001b[0m | \u001b[95m 1.523   \u001b[0m | \u001b[95m 8.796   \u001b[0m | \u001b[95m 0.7427  \u001b[0m |\n",
      "| \u001b[0m 4       \u001b[0m | \u001b[0m 0.7151  \u001b[0m | \u001b[0m 7.373   \u001b[0m | \u001b[0m 1.185   \u001b[0m | \u001b[0m 0.9806  \u001b[0m |\n",
      "| \u001b[0m 5       \u001b[0m | \u001b[0m 0.6422  \u001b[0m | \u001b[0m 8.492   \u001b[0m | \u001b[0m 2.911   \u001b[0m | \u001b[0m 0.4723  \u001b[0m |\n",
      "| \u001b[0m 6       \u001b[0m | \u001b[0m 0.8055  \u001b[0m | \u001b[0m 2.651   \u001b[0m | \u001b[0m 3.738   \u001b[0m | \u001b[0m 0.6935  \u001b[0m |\n",
      "| \u001b[0m 7       \u001b[0m | \u001b[0m 0.7337  \u001b[0m | \u001b[0m 4.888   \u001b[0m | \u001b[0m 3.621   \u001b[0m | \u001b[0m 0.7496  \u001b[0m |\n",
      "| \u001b[95m 8       \u001b[0m | \u001b[95m 0.823   \u001b[0m | \u001b[95m 2.255   \u001b[0m | \u001b[95m 3.629   \u001b[0m | \u001b[95m 0.5913  \u001b[0m |\n",
      "| \u001b[0m 9       \u001b[0m | \u001b[0m 0.6977  \u001b[0m | \u001b[0m 5.105   \u001b[0m | \u001b[0m 8.067   \u001b[0m | \u001b[0m 0.4838  \u001b[0m |\n",
      "| \u001b[0m 10      \u001b[0m | \u001b[0m 0.7009  \u001b[0m | \u001b[0m 5.628   \u001b[0m | \u001b[0m 6.332   \u001b[0m | \u001b[0m 0.385   \u001b[0m |\n",
      "| \u001b[0m 11      \u001b[0m | \u001b[0m 0.6384  \u001b[0m | \u001b[0m 6.468   \u001b[0m | \u001b[0m 2.535   \u001b[0m | \u001b[0m 0.397   \u001b[0m |\n",
      "| \u001b[0m 12      \u001b[0m | \u001b[0m 0.6417  \u001b[0m | \u001b[0m 9.54    \u001b[0m | \u001b[0m 9.691   \u001b[0m | \u001b[0m 0.8764  \u001b[0m |\n",
      "| \u001b[0m 13      \u001b[0m | \u001b[0m 0.7557  \u001b[0m | \u001b[0m 3.742   \u001b[0m | \u001b[0m 1.879   \u001b[0m | \u001b[0m 0.7963  \u001b[0m |\n",
      "| \u001b[0m 14      \u001b[0m | \u001b[0m 0.7216  \u001b[0m | \u001b[0m 4.961   \u001b[0m | \u001b[0m 2.098   \u001b[0m | \u001b[0m 0.6744  \u001b[0m |\n",
      "| \u001b[0m 15      \u001b[0m | \u001b[0m 0.8074  \u001b[0m | \u001b[0m 1.309   \u001b[0m | \u001b[0m 9.184   \u001b[0m | \u001b[0m 0.5219  \u001b[0m |\n",
      "| \u001b[0m 16      \u001b[0m | \u001b[0m 0.6832  \u001b[0m | \u001b[0m 2.466   \u001b[0m | \u001b[0m 3.438   \u001b[0m | \u001b[0m 0.383   \u001b[0m |\n",
      "| \u001b[0m 17      \u001b[0m | \u001b[0m 0.8137  \u001b[0m | \u001b[0m 2.341   \u001b[0m | \u001b[0m 3.726   \u001b[0m | \u001b[0m 0.691   \u001b[0m |\n",
      "| \u001b[0m 18      \u001b[0m | \u001b[0m 0.8106  \u001b[0m | \u001b[0m 2.129   \u001b[0m | \u001b[0m 3.681   \u001b[0m | \u001b[0m 0.6501  \u001b[0m |\n",
      "| \u001b[0m 19      \u001b[0m | \u001b[0m 0.8066  \u001b[0m | \u001b[0m 1.499   \u001b[0m | \u001b[0m 9.051   \u001b[0m | \u001b[0m 0.6894  \u001b[0m |\n",
      "| \u001b[0m 20      \u001b[0m | \u001b[0m 0.82    \u001b[0m | \u001b[0m 1.255   \u001b[0m | \u001b[0m 8.849   \u001b[0m | \u001b[0m 0.6009  \u001b[0m |\n",
      "| \u001b[0m 21      \u001b[0m | \u001b[0m 0.8052  \u001b[0m | \u001b[0m 1.241   \u001b[0m | \u001b[0m 8.883   \u001b[0m | \u001b[0m 0.8471  \u001b[0m |\n",
      "| \u001b[0m 22      \u001b[0m | \u001b[0m 0.8134  \u001b[0m | \u001b[0m 1.509   \u001b[0m | \u001b[0m 9.074   \u001b[0m | \u001b[0m 0.6803  \u001b[0m |\n",
      "| \u001b[0m 23      \u001b[0m | \u001b[0m 0.8164  \u001b[0m | \u001b[0m 1.612   \u001b[0m | \u001b[0m 9.228   \u001b[0m | \u001b[0m 0.5711  \u001b[0m |\n",
      "| \u001b[0m 24      \u001b[0m | \u001b[0m 0.819   \u001b[0m | \u001b[0m 1.35    \u001b[0m | \u001b[0m 8.617   \u001b[0m | \u001b[0m 0.6946  \u001b[0m |\n",
      "| \u001b[0m 25      \u001b[0m | \u001b[0m 0.8112  \u001b[0m | \u001b[0m 1.51    \u001b[0m | \u001b[0m 8.683   \u001b[0m | \u001b[0m 0.4482  \u001b[0m |\n",
      "| \u001b[0m 26      \u001b[0m | \u001b[0m 0.7262  \u001b[0m | \u001b[0m 3.775   \u001b[0m | \u001b[0m 8.75    \u001b[0m | \u001b[0m 0.4155  \u001b[0m |\n",
      "| \u001b[0m 27      \u001b[0m | \u001b[0m 0.8055  \u001b[0m | \u001b[0m 1.631   \u001b[0m | \u001b[0m 8.47    \u001b[0m | \u001b[0m 0.7907  \u001b[0m |\n",
      "| \u001b[0m 28      \u001b[0m | \u001b[0m 0.7927  \u001b[0m | \u001b[0m 2.123   \u001b[0m | \u001b[0m 3.699   \u001b[0m | \u001b[0m 0.678   \u001b[0m |\n",
      "| \u001b[0m 29      \u001b[0m | \u001b[0m 0.7075  \u001b[0m | \u001b[0m 6.511   \u001b[0m | \u001b[0m 1.554   \u001b[0m | \u001b[0m 0.629   \u001b[0m |\n",
      "| \u001b[95m 30      \u001b[0m | \u001b[95m 0.8243  \u001b[0m | \u001b[95m 2.046   \u001b[0m | \u001b[95m 3.639   \u001b[0m | \u001b[95m 0.5681  \u001b[0m |\n",
      "| \u001b[0m 31      \u001b[0m | \u001b[0m 0.7597  \u001b[0m | \u001b[0m 2.153   \u001b[0m | \u001b[0m 3.699   \u001b[0m | \u001b[0m 0.5076  \u001b[0m |\n",
      "| \u001b[0m 32      \u001b[0m | \u001b[0m 0.8226  \u001b[0m | \u001b[0m 2.084   \u001b[0m | \u001b[0m 3.398   \u001b[0m | \u001b[0m 0.5899  \u001b[0m |\n",
      "| \u001b[0m 33      \u001b[0m | \u001b[0m 0.7504  \u001b[0m | \u001b[0m 4.027   \u001b[0m | \u001b[0m 1.523   \u001b[0m | \u001b[0m 0.9216  \u001b[0m |\n",
      "| \u001b[0m 34      \u001b[0m | \u001b[0m 0.8203  \u001b[0m | \u001b[0m 2.124   \u001b[0m | \u001b[0m 3.548   \u001b[0m | \u001b[0m 0.6347  \u001b[0m |\n",
      "| \u001b[0m 35      \u001b[0m | \u001b[0m 0.8219  \u001b[0m | \u001b[0m 1.519   \u001b[0m | \u001b[0m 8.649   \u001b[0m | \u001b[0m 0.6483  \u001b[0m |\n",
      "| \u001b[0m 36      \u001b[0m | \u001b[0m 0.8121  \u001b[0m | \u001b[0m 1.934   \u001b[0m | \u001b[0m 3.495   \u001b[0m | \u001b[0m 0.5631  \u001b[0m |\n",
      "| \u001b[0m 37      \u001b[0m | \u001b[0m 0.7009  \u001b[0m | \u001b[0m 5.741   \u001b[0m | \u001b[0m 2.991   \u001b[0m | \u001b[0m 0.9587  \u001b[0m |\n",
      "| \u001b[0m 38      \u001b[0m | \u001b[0m 0.8095  \u001b[0m | \u001b[0m 1.633   \u001b[0m | \u001b[0m 8.026   \u001b[0m | \u001b[0m 0.9178  \u001b[0m |\n",
      "| \u001b[0m 39      \u001b[0m | \u001b[0m 0.8137  \u001b[0m | \u001b[0m 1.523   \u001b[0m | \u001b[0m 9.323   \u001b[0m | \u001b[0m 0.7179  \u001b[0m |\n",
      "| \u001b[0m 40      \u001b[0m | \u001b[0m 0.8134  \u001b[0m | \u001b[0m 2.445   \u001b[0m | \u001b[0m 3.579   \u001b[0m | \u001b[0m 0.7765  \u001b[0m |\n",
      "| \u001b[0m 41      \u001b[0m | \u001b[0m 0.8108  \u001b[0m | \u001b[0m 1.545   \u001b[0m | \u001b[0m 9.328   \u001b[0m | \u001b[0m 0.767   \u001b[0m |\n",
      "| \u001b[0m 42      \u001b[0m | \u001b[0m 0.8232  \u001b[0m | \u001b[0m 1.38    \u001b[0m | \u001b[0m 8.785   \u001b[0m | \u001b[0m 0.5744  \u001b[0m |\n",
      "| \u001b[0m 43      \u001b[0m | \u001b[0m 0.8177  \u001b[0m | \u001b[0m 1.527   \u001b[0m | \u001b[0m 9.015   \u001b[0m | \u001b[0m 0.4407  \u001b[0m |\n",
      "| \u001b[0m 44      \u001b[0m | \u001b[0m 0.8163  \u001b[0m | \u001b[0m 1.212   \u001b[0m | \u001b[0m 8.623   \u001b[0m | \u001b[0m 0.4412  \u001b[0m |\n",
      "| \u001b[95m 45      \u001b[0m | \u001b[95m 0.8256  \u001b[0m | \u001b[95m 2.012   \u001b[0m | \u001b[95m 3.19    \u001b[0m | \u001b[95m 0.6238  \u001b[0m |\n",
      "| \u001b[0m 46      \u001b[0m | \u001b[0m 0.8042  \u001b[0m | \u001b[0m 1.083   \u001b[0m | \u001b[0m 8.685   \u001b[0m | \u001b[0m 0.6559  \u001b[0m |\n",
      "| \u001b[0m 47      \u001b[0m | \u001b[0m 0.8226  \u001b[0m | \u001b[0m 1.974   \u001b[0m | \u001b[0m 3.225   \u001b[0m | \u001b[0m 0.4662  \u001b[0m |\n",
      "| \u001b[0m 48      \u001b[0m | \u001b[0m 0.7549  \u001b[0m | \u001b[0m 2.22    \u001b[0m | \u001b[0m 9.513   \u001b[0m | \u001b[0m 0.4198  \u001b[0m |\n",
      "| \u001b[0m 49      \u001b[0m | \u001b[0m 0.8148  \u001b[0m | \u001b[0m 1.744   \u001b[0m | \u001b[0m 9.011   \u001b[0m | \u001b[0m 0.5644  \u001b[0m |\n",
      "| \u001b[0m 50      \u001b[0m | \u001b[0m 0.8134  \u001b[0m | \u001b[0m 1.821   \u001b[0m | \u001b[0m 3.049   \u001b[0m | \u001b[0m 0.5568  \u001b[0m |\n",
      "=============================================================\n"
     ]
    }
   ],
   "source": [
    "hyperparam_dt_KC2 = run_ml(data_load['KC2'], 10, bound_decission_tree['KC2'], model.decission_tree)"
   ]
  },
  {
   "cell_type": "code",
   "execution_count": 40,
   "metadata": {},
   "outputs": [
    {
     "data": {
      "text/plain": [
       "{'Train': {'Gmeans': 0.7935919901931693,\n",
       "  'Recall': 0.7630695443645084,\n",
       "  'pf': 0.17466467958271237,\n",
       "  'cf_matrix': {'tn': 2769, 'fp': 586, 'fn': 494, 'tp': 1591}},\n",
       " 'Dev': {'Gmeans': 0.8255779474818965,\n",
       "  'Recall': 0.8222222222222222,\n",
       "  'pf': 0.17105263157894737,\n",
       "  'cf_matrix': {'tn': 315, 'fp': 65, 'fn': 16, 'tp': 74}},\n",
       " 'Test': {'Gmeans': 0.7750762282215242,\n",
       "  'Recall': 0.7289719626168224,\n",
       "  'pf': 0.17590361445783131,\n",
       "  'cf_matrix': {'tn': 342, 'fp': 73, 'fn': 29, 'tp': 78}}}"
      ]
     },
     "execution_count": 40,
     "metadata": {},
     "output_type": "execute_result"
    }
   ],
   "source": [
    "best_hyperparam_dt_KC2 = hyperparam_dt_KC2.max['params']\n",
    "result_dt_KC2 = run_ml(data_load['KC2'], 10, best_hyperparam_dt_KC2, model.decission_tree,do_optimize = False)\n",
    "result_dt_KC2"
   ]
  },
  {
   "cell_type": "markdown",
   "metadata": {},
   "source": [
    "### PC1"
   ]
  },
  {
   "cell_type": "code",
   "execution_count": 41,
   "metadata": {
    "scrolled": true
   },
   "outputs": [
    {
     "name": "stdout",
     "output_type": "stream",
     "text": [
      "|   iter    |  target   |   depth   | neighbors | sampling  |\n",
      "-------------------------------------------------------------\n",
      "| \u001b[0m 1       \u001b[0m | \u001b[0m 0.724   \u001b[0m | \u001b[0m 4.371   \u001b[0m | \u001b[0m 9.556   \u001b[0m | \u001b[0m 0.7908  \u001b[0m |\n",
      "| \u001b[0m 2       \u001b[0m | \u001b[0m 0.6335  \u001b[0m | \u001b[0m 6.388   \u001b[0m | \u001b[0m 2.404   \u001b[0m | \u001b[0m 0.3412  \u001b[0m |\n",
      "| \u001b[0m 3       \u001b[0m | \u001b[0m 0.7237  \u001b[0m | \u001b[0m 1.523   \u001b[0m | \u001b[0m 8.796   \u001b[0m | \u001b[0m 0.6886  \u001b[0m |\n",
      "| \u001b[0m 4       \u001b[0m | \u001b[0m 0.7006  \u001b[0m | \u001b[0m 7.373   \u001b[0m | \u001b[0m 1.185   \u001b[0m | \u001b[0m 0.9765  \u001b[0m |\n",
      "| \u001b[0m 5       \u001b[0m | \u001b[0m 0.6216  \u001b[0m | \u001b[0m 8.492   \u001b[0m | \u001b[0m 2.911   \u001b[0m | \u001b[0m 0.3613  \u001b[0m |\n",
      "| \u001b[0m 6       \u001b[0m | \u001b[0m 0.7148  \u001b[0m | \u001b[0m 2.651   \u001b[0m | \u001b[0m 3.738   \u001b[0m | \u001b[0m 0.629   \u001b[0m |\n",
      "| \u001b[0m 7       \u001b[0m | \u001b[0m 0.724   \u001b[0m | \u001b[0m 4.888   \u001b[0m | \u001b[0m 3.621   \u001b[0m | \u001b[0m 0.697   \u001b[0m |\n",
      "| \u001b[0m 8       \u001b[0m | \u001b[0m 0.6229  \u001b[0m | \u001b[0m 2.255   \u001b[0m | \u001b[0m 3.629   \u001b[0m | \u001b[0m 0.5054  \u001b[0m |\n",
      "| \u001b[0m 9       \u001b[0m | \u001b[0m 0.692   \u001b[0m | \u001b[0m 5.105   \u001b[0m | \u001b[0m 8.067   \u001b[0m | \u001b[0m 0.3753  \u001b[0m |\n",
      "| \u001b[0m 10      \u001b[0m | \u001b[0m 0.5912  \u001b[0m | \u001b[0m 5.628   \u001b[0m | \u001b[0m 6.332   \u001b[0m | \u001b[0m 0.2557  \u001b[0m |\n",
      "| \u001b[0m 11      \u001b[0m | \u001b[0m 0.6058  \u001b[0m | \u001b[0m 6.468   \u001b[0m | \u001b[0m 2.535   \u001b[0m | \u001b[0m 0.2702  \u001b[0m |\n",
      "| \u001b[0m 12      \u001b[0m | \u001b[0m 0.6011  \u001b[0m | \u001b[0m 9.54    \u001b[0m | \u001b[0m 9.691   \u001b[0m | \u001b[0m 0.8504  \u001b[0m |\n",
      "| \u001b[95m 13      \u001b[0m | \u001b[95m 0.7548  \u001b[0m | \u001b[95m 3.742   \u001b[0m | \u001b[95m 1.879   \u001b[0m | \u001b[95m 0.7535  \u001b[0m |\n",
      "| \u001b[0m 14      \u001b[0m | \u001b[0m 0.7258  \u001b[0m | \u001b[0m 4.961   \u001b[0m | \u001b[0m 2.098   \u001b[0m | \u001b[0m 0.6059  \u001b[0m |\n",
      "| \u001b[0m 15      \u001b[0m | \u001b[0m 0.7281  \u001b[0m | \u001b[0m 1.309   \u001b[0m | \u001b[0m 9.184   \u001b[0m | \u001b[0m 0.4214  \u001b[0m |\n",
      "| \u001b[95m 16      \u001b[0m | \u001b[95m 0.7606  \u001b[0m | \u001b[95m 3.847   \u001b[0m | \u001b[95m 1.873   \u001b[0m | \u001b[95m 0.5571  \u001b[0m |\n",
      "| \u001b[0m 17      \u001b[0m | \u001b[0m 0.7354  \u001b[0m | \u001b[0m 4.11    \u001b[0m | \u001b[0m 1.966   \u001b[0m | \u001b[0m 0.7174  \u001b[0m |\n",
      "| \u001b[0m 18      \u001b[0m | \u001b[0m 0.6529  \u001b[0m | \u001b[0m 3.632   \u001b[0m | \u001b[0m 2.099   \u001b[0m | \u001b[0m 0.4759  \u001b[0m |\n",
      "| \u001b[0m 19      \u001b[0m | \u001b[0m 0.7236  \u001b[0m | \u001b[0m 3.887   \u001b[0m | \u001b[0m 1.78    \u001b[0m | \u001b[0m 0.6733  \u001b[0m |\n",
      "| \u001b[0m 20      \u001b[0m | \u001b[0m 0.7472  \u001b[0m | \u001b[0m 3.925   \u001b[0m | \u001b[0m 2.005   \u001b[0m | \u001b[0m 0.6172  \u001b[0m |\n",
      "| \u001b[95m 21      \u001b[0m | \u001b[95m 0.7664  \u001b[0m | \u001b[95m 3.982   \u001b[0m | \u001b[95m 1.891   \u001b[0m | \u001b[95m 0.4481  \u001b[0m |\n",
      "| \u001b[0m 22      \u001b[0m | \u001b[0m 0.726   \u001b[0m | \u001b[0m 4.005   \u001b[0m | \u001b[0m 1.927   \u001b[0m | \u001b[0m 0.4263  \u001b[0m |\n",
      "| \u001b[0m 23      \u001b[0m | \u001b[0m 0.7106  \u001b[0m | \u001b[0m 3.868   \u001b[0m | \u001b[0m 1.791   \u001b[0m | \u001b[0m 0.3778  \u001b[0m |\n",
      "| \u001b[0m 24      \u001b[0m | \u001b[0m 0.725   \u001b[0m | \u001b[0m 4.015   \u001b[0m | \u001b[0m 1.809   \u001b[0m | \u001b[0m 0.5722  \u001b[0m |\n",
      "| \u001b[0m 25      \u001b[0m | \u001b[0m 0.7448  \u001b[0m | \u001b[0m 3.959   \u001b[0m | \u001b[0m 1.874   \u001b[0m | \u001b[0m 0.5231  \u001b[0m |\n",
      "| \u001b[0m 26      \u001b[0m | \u001b[0m 0.6522  \u001b[0m | \u001b[0m 3.775   \u001b[0m | \u001b[0m 8.75    \u001b[0m | \u001b[0m 0.2927  \u001b[0m |\n",
      "| \u001b[0m 27      \u001b[0m | \u001b[0m 0.715   \u001b[0m | \u001b[0m 3.84    \u001b[0m | \u001b[0m 1.942   \u001b[0m | \u001b[0m 0.6035  \u001b[0m |\n",
      "| \u001b[0m 28      \u001b[0m | \u001b[0m 0.7553  \u001b[0m | \u001b[0m 4.882   \u001b[0m | \u001b[0m 3.615   \u001b[0m | \u001b[0m 0.665   \u001b[0m |\n",
      "| \u001b[0m 29      \u001b[0m | \u001b[0m 0.6805  \u001b[0m | \u001b[0m 6.511   \u001b[0m | \u001b[0m 1.554   \u001b[0m | \u001b[0m 0.5511  \u001b[0m |\n",
      "| \u001b[0m 30      \u001b[0m | \u001b[0m 0.6489  \u001b[0m | \u001b[0m 6.331   \u001b[0m | \u001b[0m 7.477   \u001b[0m | \u001b[0m 0.3193  \u001b[0m |\n",
      "| \u001b[0m 31      \u001b[0m | \u001b[0m 0.7061  \u001b[0m | \u001b[0m 4.803   \u001b[0m | \u001b[0m 3.59    \u001b[0m | \u001b[0m 0.5073  \u001b[0m |\n",
      "| \u001b[0m 32      \u001b[0m | \u001b[0m 0.7519  \u001b[0m | \u001b[0m 4.87    \u001b[0m | \u001b[0m 3.696   \u001b[0m | \u001b[0m 0.5799  \u001b[0m |\n",
      "| \u001b[95m 33      \u001b[0m | \u001b[95m 0.7766  \u001b[0m | \u001b[95m 4.027   \u001b[0m | \u001b[95m 1.523   \u001b[0m | \u001b[95m 0.9052  \u001b[0m |\n",
      "| \u001b[0m 34      \u001b[0m | \u001b[0m 0.6184  \u001b[0m | \u001b[0m 8.923   \u001b[0m | \u001b[0m 8.539   \u001b[0m | \u001b[0m 0.4698  \u001b[0m |\n",
      "| \u001b[0m 35      \u001b[0m | \u001b[0m 0.7502  \u001b[0m | \u001b[0m 3.902   \u001b[0m | \u001b[0m 1.56    \u001b[0m | \u001b[0m 0.9199  \u001b[0m |\n",
      "| \u001b[95m 36      \u001b[0m | \u001b[95m 0.789   \u001b[0m | \u001b[95m 4.014   \u001b[0m | \u001b[95m 1.51    \u001b[0m | \u001b[95m 0.9943  \u001b[0m |\n",
      "| \u001b[0m 37      \u001b[0m | \u001b[0m 0.7547  \u001b[0m | \u001b[0m 5.741   \u001b[0m | \u001b[0m 2.991   \u001b[0m | \u001b[0m 0.95    \u001b[0m |\n",
      "| \u001b[0m 38      \u001b[0m | \u001b[0m 0.7281  \u001b[0m | \u001b[0m 1.633   \u001b[0m | \u001b[0m 8.026   \u001b[0m | \u001b[0m 0.9005  \u001b[0m |\n",
      "| \u001b[0m 39      \u001b[0m | \u001b[0m 0.769   \u001b[0m | \u001b[0m 3.942   \u001b[0m | \u001b[0m 1.452   \u001b[0m | \u001b[0m 0.9979  \u001b[0m |\n",
      "| \u001b[0m 40      \u001b[0m | \u001b[0m 0.7391  \u001b[0m | \u001b[0m 4.025   \u001b[0m | \u001b[0m 1.443   \u001b[0m | \u001b[0m 0.9677  \u001b[0m |\n",
      "| \u001b[0m 41      \u001b[0m | \u001b[0m 0.7873  \u001b[0m | \u001b[0m 3.99    \u001b[0m | \u001b[0m 1.9     \u001b[0m | \u001b[0m 0.5272  \u001b[0m |\n",
      "| \u001b[0m 42      \u001b[0m | \u001b[0m 0.7844  \u001b[0m | \u001b[0m 3.987   \u001b[0m | \u001b[0m 1.97    \u001b[0m | \u001b[0m 0.5716  \u001b[0m |\n",
      "| \u001b[0m 43      \u001b[0m | \u001b[0m 0.7788  \u001b[0m | \u001b[0m 4.055   \u001b[0m | \u001b[0m 1.932   \u001b[0m | \u001b[0m 0.5271  \u001b[0m |\n",
      "| \u001b[0m 44      \u001b[0m | \u001b[0m 0.7727  \u001b[0m | \u001b[0m 3.774   \u001b[0m | \u001b[0m 1.946   \u001b[0m | \u001b[0m 0.8773  \u001b[0m |\n",
      "| \u001b[0m 45      \u001b[0m | \u001b[0m 0.7057  \u001b[0m | \u001b[0m 4.049   \u001b[0m | \u001b[0m 1.973   \u001b[0m | \u001b[0m 0.6098  \u001b[0m |\n",
      "| \u001b[0m 46      \u001b[0m | \u001b[0m 0.7812  \u001b[0m | \u001b[0m 4.014   \u001b[0m | \u001b[0m 1.532   \u001b[0m | \u001b[0m 0.9657  \u001b[0m |\n",
      "| \u001b[0m 47      \u001b[0m | \u001b[0m 0.6743  \u001b[0m | \u001b[0m 5.391   \u001b[0m | \u001b[0m 3.239   \u001b[0m | \u001b[0m 0.3878  \u001b[0m |\n",
      "| \u001b[0m 48      \u001b[0m | \u001b[0m 0.565   \u001b[0m | \u001b[0m 2.22    \u001b[0m | \u001b[0m 9.513   \u001b[0m | \u001b[0m 0.2979  \u001b[0m |\n",
      "| \u001b[95m 49      \u001b[0m | \u001b[95m 0.8023  \u001b[0m | \u001b[95m 4.075   \u001b[0m | \u001b[95m 1.545   \u001b[0m | \u001b[95m 1.0     \u001b[0m |\n",
      "| \u001b[0m 50      \u001b[0m | \u001b[0m 0.789   \u001b[0m | \u001b[0m 4.111   \u001b[0m | \u001b[0m 1.568   \u001b[0m | \u001b[0m 0.9444  \u001b[0m |\n",
      "=============================================================\n"
     ]
    }
   ],
   "source": [
    "hyperparam_dt_PC1 = run_ml(data_load['PC1'], 5, bound_decission_tree['PC1'], model.decission_tree)"
   ]
  },
  {
   "cell_type": "code",
   "execution_count": 42,
   "metadata": {},
   "outputs": [
    {
     "data": {
      "text/plain": [
       "{'Train': {'Gmeans': 0.8628374827158535,\n",
       "  'Recall': 0.9515151515151515,\n",
       "  'pf': 0.2175757575757576,\n",
       "  'cf_matrix': {'tn': 2582, 'fp': 718, 'fn': 160, 'tp': 3140}},\n",
       " 'Dev': {'Gmeans': 0.8023457894065383,\n",
       "  'Recall': 0.8225806451612904,\n",
       "  'pf': 0.21739130434782608,\n",
       "  'cf_matrix': {'tn': 648, 'fp': 180, 'fn': 11, 'tp': 51}},\n",
       " 'Test': {'Gmeans': 0.7366380786483473,\n",
       "  'Recall': 0.7142857142857143,\n",
       "  'pf': 0.24031007751937986,\n",
       "  'cf_matrix': {'tn': 784, 'fp': 248, 'fn': 22, 'tp': 55}}}"
      ]
     },
     "execution_count": 42,
     "metadata": {},
     "output_type": "execute_result"
    }
   ],
   "source": [
    "best_hyperparam_dt_PC1 = hyperparam_dt_PC1.max['params']\n",
    "result_dt_PC1 = run_ml(data_load['PC1'], 5, best_hyperparam_dt_PC1, model.decission_tree,do_optimize = False)\n",
    "result_dt_PC1"
   ]
  },
  {
   "cell_type": "markdown",
   "metadata": {},
   "source": [
    "### PC3"
   ]
  },
  {
   "cell_type": "code",
   "execution_count": 43,
   "metadata": {
    "scrolled": true
   },
   "outputs": [
    {
     "name": "stdout",
     "output_type": "stream",
     "text": [
      "|   iter    |  target   |   depth   | neighbors | sampling  |\n",
      "-------------------------------------------------------------\n",
      "| \u001b[0m 1       \u001b[0m | \u001b[0m 0.7083  \u001b[0m | \u001b[0m 4.371   \u001b[0m | \u001b[0m 9.556   \u001b[0m | \u001b[0m 0.8055  \u001b[0m |\n",
      "| \u001b[0m 2       \u001b[0m | \u001b[0m 0.6419  \u001b[0m | \u001b[0m 6.388   \u001b[0m | \u001b[0m 2.404   \u001b[0m | \u001b[0m 0.3876  \u001b[0m |\n",
      "| \u001b[0m 3       \u001b[0m | \u001b[0m 0.6906  \u001b[0m | \u001b[0m 1.523   \u001b[0m | \u001b[0m 8.796   \u001b[0m | \u001b[0m 0.7106  \u001b[0m |\n",
      "| \u001b[0m 4       \u001b[0m | \u001b[0m 0.6648  \u001b[0m | \u001b[0m 7.373   \u001b[0m | \u001b[0m 1.185   \u001b[0m | \u001b[0m 0.9782  \u001b[0m |\n",
      "| \u001b[0m 5       \u001b[0m | \u001b[0m 0.5898  \u001b[0m | \u001b[0m 8.492   \u001b[0m | \u001b[0m 2.911   \u001b[0m | \u001b[0m 0.4063  \u001b[0m |\n",
      "| \u001b[0m 6       \u001b[0m | \u001b[0m 0.6963  \u001b[0m | \u001b[0m 2.651   \u001b[0m | \u001b[0m 3.738   \u001b[0m | \u001b[0m 0.6552  \u001b[0m |\n",
      "| \u001b[0m 7       \u001b[0m | \u001b[0m 0.6911  \u001b[0m | \u001b[0m 4.888   \u001b[0m | \u001b[0m 3.621   \u001b[0m | \u001b[0m 0.7184  \u001b[0m |\n",
      "| \u001b[0m 8       \u001b[0m | \u001b[0m 0.6863  \u001b[0m | \u001b[0m 2.255   \u001b[0m | \u001b[0m 3.629   \u001b[0m | \u001b[0m 0.5402  \u001b[0m |\n",
      "| \u001b[0m 9       \u001b[0m | \u001b[0m 0.6528  \u001b[0m | \u001b[0m 5.105   \u001b[0m | \u001b[0m 8.067   \u001b[0m | \u001b[0m 0.4193  \u001b[0m |\n",
      "| \u001b[0m 10      \u001b[0m | \u001b[0m 0.6132  \u001b[0m | \u001b[0m 5.628   \u001b[0m | \u001b[0m 6.332   \u001b[0m | \u001b[0m 0.3081  \u001b[0m |\n",
      "| \u001b[0m 11      \u001b[0m | \u001b[0m 0.5638  \u001b[0m | \u001b[0m 6.468   \u001b[0m | \u001b[0m 2.535   \u001b[0m | \u001b[0m 0.3216  \u001b[0m |\n",
      "| \u001b[0m 12      \u001b[0m | \u001b[0m 0.6169  \u001b[0m | \u001b[0m 9.54    \u001b[0m | \u001b[0m 9.691   \u001b[0m | \u001b[0m 0.861   \u001b[0m |\n",
      "| \u001b[95m 13      \u001b[0m | \u001b[95m 0.7156  \u001b[0m | \u001b[95m 3.742   \u001b[0m | \u001b[95m 1.879   \u001b[0m | \u001b[95m 0.7709  \u001b[0m |\n",
      "| \u001b[0m 14      \u001b[0m | \u001b[0m 0.687   \u001b[0m | \u001b[0m 4.961   \u001b[0m | \u001b[0m 2.098   \u001b[0m | \u001b[0m 0.6337  \u001b[0m |\n",
      "| \u001b[0m 15      \u001b[0m | \u001b[0m 0.6886  \u001b[0m | \u001b[0m 1.309   \u001b[0m | \u001b[0m 9.184   \u001b[0m | \u001b[0m 0.4622  \u001b[0m |\n",
      "| \u001b[95m 16      \u001b[0m | \u001b[95m 0.7382  \u001b[0m | \u001b[95m 3.816   \u001b[0m | \u001b[95m 1.882   \u001b[0m | \u001b[95m 0.6567  \u001b[0m |\n",
      "| \u001b[0m 17      \u001b[0m | \u001b[0m 0.7098  \u001b[0m | \u001b[0m 3.817   \u001b[0m | \u001b[0m 1.935   \u001b[0m | \u001b[0m 0.6807  \u001b[0m |\n",
      "| \u001b[0m 18      \u001b[0m | \u001b[0m 0.711   \u001b[0m | \u001b[0m 3.886   \u001b[0m | \u001b[0m 1.773   \u001b[0m | \u001b[0m 0.5879  \u001b[0m |\n",
      "| \u001b[0m 19      \u001b[0m | \u001b[0m 0.7326  \u001b[0m | \u001b[0m 3.776   \u001b[0m | \u001b[0m 1.824   \u001b[0m | \u001b[0m 0.6533  \u001b[0m |\n",
      "| \u001b[0m 20      \u001b[0m | \u001b[0m 0.7057  \u001b[0m | \u001b[0m 3.835   \u001b[0m | \u001b[0m 1.916   \u001b[0m | \u001b[0m 0.5514  \u001b[0m |\n",
      "| \u001b[0m 21      \u001b[0m | \u001b[0m 0.7238  \u001b[0m | \u001b[0m 3.862   \u001b[0m | \u001b[0m 1.762   \u001b[0m | \u001b[0m 0.885   \u001b[0m |\n",
      "| \u001b[0m 22      \u001b[0m | \u001b[0m 0.7163  \u001b[0m | \u001b[0m 3.82    \u001b[0m | \u001b[0m 1.833   \u001b[0m | \u001b[0m 0.7636  \u001b[0m |\n",
      "| \u001b[0m 23      \u001b[0m | \u001b[0m 0.7215  \u001b[0m | \u001b[0m 3.621   \u001b[0m | \u001b[0m 1.707   \u001b[0m | \u001b[0m 0.8541  \u001b[0m |\n",
      "| \u001b[0m 24      \u001b[0m | \u001b[0m 0.7243  \u001b[0m | \u001b[0m 3.807   \u001b[0m | \u001b[0m 1.659   \u001b[0m | \u001b[0m 0.8994  \u001b[0m |\n",
      "| \u001b[0m 25      \u001b[0m | \u001b[0m 0.7219  \u001b[0m | \u001b[0m 4.036   \u001b[0m | \u001b[0m 1.702   \u001b[0m | \u001b[0m 0.9668  \u001b[0m |\n",
      "| \u001b[0m 26      \u001b[0m | \u001b[0m 0.6418  \u001b[0m | \u001b[0m 3.775   \u001b[0m | \u001b[0m 8.75    \u001b[0m | \u001b[0m 0.3425  \u001b[0m |\n",
      "| \u001b[0m 27      \u001b[0m | \u001b[0m 0.7225  \u001b[0m | \u001b[0m 3.662   \u001b[0m | \u001b[0m 1.811   \u001b[0m | \u001b[0m 0.9791  \u001b[0m |\n",
      "| \u001b[0m 28      \u001b[0m | \u001b[0m 0.7255  \u001b[0m | \u001b[0m 3.414   \u001b[0m | \u001b[0m 3.298   \u001b[0m | \u001b[0m 0.6405  \u001b[0m |\n",
      "| \u001b[0m 29      \u001b[0m | \u001b[0m 0.6804  \u001b[0m | \u001b[0m 6.511   \u001b[0m | \u001b[0m 1.554   \u001b[0m | \u001b[0m 0.5827  \u001b[0m |\n",
      "| \u001b[0m 30      \u001b[0m | \u001b[0m 0.6048  \u001b[0m | \u001b[0m 6.331   \u001b[0m | \u001b[0m 7.477   \u001b[0m | \u001b[0m 0.3673  \u001b[0m |\n",
      "| \u001b[0m 31      \u001b[0m | \u001b[0m 0.6948  \u001b[0m | \u001b[0m 1.519   \u001b[0m | \u001b[0m 8.776   \u001b[0m | \u001b[0m 0.7144  \u001b[0m |\n",
      "| \u001b[0m 32      \u001b[0m | \u001b[0m 0.7023  \u001b[0m | \u001b[0m 3.457   \u001b[0m | \u001b[0m 3.361   \u001b[0m | \u001b[0m 0.7886  \u001b[0m |\n",
      "| \u001b[0m 33      \u001b[0m | \u001b[0m 0.7231  \u001b[0m | \u001b[0m 4.027   \u001b[0m | \u001b[0m 1.523   \u001b[0m | \u001b[0m 0.9118  \u001b[0m |\n",
      "| \u001b[0m 34      \u001b[0m | \u001b[0m 0.7375  \u001b[0m | \u001b[0m 3.23    \u001b[0m | \u001b[0m 3.303   \u001b[0m | \u001b[0m 0.6202  \u001b[0m |\n",
      "| \u001b[0m 35      \u001b[0m | \u001b[0m 0.6856  \u001b[0m | \u001b[0m 3.293   \u001b[0m | \u001b[0m 3.36    \u001b[0m | \u001b[0m 0.5237  \u001b[0m |\n",
      "| \u001b[0m 36      \u001b[0m | \u001b[0m 0.708   \u001b[0m | \u001b[0m 3.13    \u001b[0m | \u001b[0m 3.228   \u001b[0m | \u001b[0m 0.7295  \u001b[0m |\n",
      "| \u001b[0m 37      \u001b[0m | \u001b[0m 0.7325  \u001b[0m | \u001b[0m 5.741   \u001b[0m | \u001b[0m 2.991   \u001b[0m | \u001b[0m 0.9535  \u001b[0m |\n",
      "| \u001b[0m 38      \u001b[0m | \u001b[0m 0.6899  \u001b[0m | \u001b[0m 1.633   \u001b[0m | \u001b[0m 8.026   \u001b[0m | \u001b[0m 0.9075  \u001b[0m |\n",
      "| \u001b[0m 39      \u001b[0m | \u001b[0m 0.7201  \u001b[0m | \u001b[0m 3.286   \u001b[0m | \u001b[0m 3.211   \u001b[0m | \u001b[0m 0.6592  \u001b[0m |\n",
      "| \u001b[0m 40      \u001b[0m | \u001b[0m 0.7192  \u001b[0m | \u001b[0m 3.308   \u001b[0m | \u001b[0m 3.358   \u001b[0m | \u001b[0m 0.6916  \u001b[0m |\n",
      "| \u001b[0m 41      \u001b[0m | \u001b[0m 0.7293  \u001b[0m | \u001b[0m 3.803   \u001b[0m | \u001b[0m 1.65    \u001b[0m | \u001b[0m 0.872   \u001b[0m |\n",
      "| \u001b[0m 42      \u001b[0m | \u001b[0m 0.7119  \u001b[0m | \u001b[0m 3.898   \u001b[0m | \u001b[0m 1.528   \u001b[0m | \u001b[0m 0.805   \u001b[0m |\n",
      "| \u001b[0m 43      \u001b[0m | \u001b[0m 0.7057  \u001b[0m | \u001b[0m 5.606   \u001b[0m | \u001b[0m 3.025   \u001b[0m | \u001b[0m 1.0     \u001b[0m |\n",
      "| \u001b[0m 44      \u001b[0m | \u001b[0m 0.7069  \u001b[0m | \u001b[0m 5.868   \u001b[0m | \u001b[0m 3.073   \u001b[0m | \u001b[0m 0.9845  \u001b[0m |\n",
      "| \u001b[0m 45      \u001b[0m | \u001b[0m 0.682   \u001b[0m | \u001b[0m 5.764   \u001b[0m | \u001b[0m 2.879   \u001b[0m | \u001b[0m 0.8755  \u001b[0m |\n",
      "| \u001b[0m 46      \u001b[0m | \u001b[0m 0.7095  \u001b[0m | \u001b[0m 4.184   \u001b[0m | \u001b[0m 1.648   \u001b[0m | \u001b[0m 0.8341  \u001b[0m |\n",
      "| \u001b[0m 47      \u001b[0m | \u001b[0m 0.695   \u001b[0m | \u001b[0m 5.391   \u001b[0m | \u001b[0m 3.239   \u001b[0m | \u001b[0m 0.4309  \u001b[0m |\n",
      "| \u001b[0m 48      \u001b[0m | \u001b[0m 0.6511  \u001b[0m | \u001b[0m 2.22    \u001b[0m | \u001b[0m 9.513   \u001b[0m | \u001b[0m 0.3474  \u001b[0m |\n",
      "| \u001b[0m 49      \u001b[0m | \u001b[0m 0.6867  \u001b[0m | \u001b[0m 3.58    \u001b[0m | \u001b[0m 3.201   \u001b[0m | \u001b[0m 0.5931  \u001b[0m |\n",
      "| \u001b[0m 50      \u001b[0m | \u001b[0m 0.7144  \u001b[0m | \u001b[0m 3.968   \u001b[0m | \u001b[0m 1.674   \u001b[0m | \u001b[0m 0.832   \u001b[0m |\n",
      "=============================================================\n"
     ]
    }
   ],
   "source": [
    "hyperparam_dt_PC3 = run_ml(data_load['PC3'], 7, bound_decission_tree['PC3'], model.decission_tree)"
   ]
  },
  {
   "cell_type": "code",
   "execution_count": 44,
   "metadata": {},
   "outputs": [
    {
     "data": {
      "text/plain": [
       "{'Train': {'Gmeans': 0.8411559167636316,\n",
       "  'Recall': 0.9106918238993711,\n",
       "  'pf': 0.22307057366900537,\n",
       "  'cf_matrix': {'tn': 3765, 'fp': 1081, 'fn': 284, 'tp': 2896}},\n",
       " 'Dev': {'Gmeans': 0.7381705494180523,\n",
       "  'Recall': 0.7589285714285714,\n",
       "  'pf': 0.28201970443349755,\n",
       "  'cf_matrix': {'tn': 583, 'fp': 229, 'fn': 27, 'tp': 85}},\n",
       " 'Test': {'Gmeans': 0.7575245225658789,\n",
       "  'Recall': 0.7686567164179104,\n",
       "  'pf': 0.25344644750795337,\n",
       "  'cf_matrix': {'tn': 704, 'fp': 239, 'fn': 31, 'tp': 103}}}"
      ]
     },
     "execution_count": 44,
     "metadata": {},
     "output_type": "execute_result"
    }
   ],
   "source": [
    "best_hyperparam_dt_PC3 = hyperparam_dt_PC3.max['params']\n",
    "result_dt_PC3 = run_ml(data_load['PC3'], 7, best_hyperparam_dt_PC3, model.decission_tree,do_optimize = False)\n",
    "result_dt_PC3"
   ]
  },
  {
   "cell_type": "markdown",
   "metadata": {},
   "source": [
    "### PC4"
   ]
  },
  {
   "cell_type": "code",
   "execution_count": 45,
   "metadata": {
    "scrolled": true
   },
   "outputs": [
    {
     "name": "stdout",
     "output_type": "stream",
     "text": [
      "|   iter    |  target   |   depth   | neighbors | sampling  |\n",
      "-------------------------------------------------------------\n",
      "| \u001b[0m 1       \u001b[0m | \u001b[0m 0.8033  \u001b[0m | \u001b[0m 4.371   \u001b[0m | \u001b[0m 9.556   \u001b[0m | \u001b[0m 0.8049  \u001b[0m |\n",
      "| \u001b[0m 2       \u001b[0m | \u001b[0m 0.7552  \u001b[0m | \u001b[0m 6.388   \u001b[0m | \u001b[0m 2.404   \u001b[0m | \u001b[0m 0.3856  \u001b[0m |\n",
      "| \u001b[95m 3       \u001b[0m | \u001b[95m 0.8136  \u001b[0m | \u001b[95m 1.523   \u001b[0m | \u001b[95m 8.796   \u001b[0m | \u001b[95m 0.7097  \u001b[0m |\n",
      "| \u001b[0m 4       \u001b[0m | \u001b[0m 0.7958  \u001b[0m | \u001b[0m 7.373   \u001b[0m | \u001b[0m 1.185   \u001b[0m | \u001b[0m 0.9781  \u001b[0m |\n",
      "| \u001b[0m 5       \u001b[0m | \u001b[0m 0.769   \u001b[0m | \u001b[0m 8.492   \u001b[0m | \u001b[0m 2.911   \u001b[0m | \u001b[0m 0.4045  \u001b[0m |\n",
      "| \u001b[0m 6       \u001b[0m | \u001b[0m 0.7708  \u001b[0m | \u001b[0m 2.651   \u001b[0m | \u001b[0m 3.738   \u001b[0m | \u001b[0m 0.6541  \u001b[0m |\n",
      "| \u001b[0m 7       \u001b[0m | \u001b[0m 0.8107  \u001b[0m | \u001b[0m 4.888   \u001b[0m | \u001b[0m 3.621   \u001b[0m | \u001b[0m 0.7175  \u001b[0m |\n",
      "| \u001b[0m 8       \u001b[0m | \u001b[0m 0.7817  \u001b[0m | \u001b[0m 2.255   \u001b[0m | \u001b[0m 3.629   \u001b[0m | \u001b[0m 0.5388  \u001b[0m |\n",
      "| \u001b[0m 9       \u001b[0m | \u001b[0m 0.8019  \u001b[0m | \u001b[0m 5.105   \u001b[0m | \u001b[0m 8.067   \u001b[0m | \u001b[0m 0.4174  \u001b[0m |\n",
      "| \u001b[0m 10      \u001b[0m | \u001b[0m 0.7831  \u001b[0m | \u001b[0m 5.628   \u001b[0m | \u001b[0m 6.332   \u001b[0m | \u001b[0m 0.3059  \u001b[0m |\n",
      "| \u001b[0m 11      \u001b[0m | \u001b[0m 0.7746  \u001b[0m | \u001b[0m 6.468   \u001b[0m | \u001b[0m 2.535   \u001b[0m | \u001b[0m 0.3195  \u001b[0m |\n",
      "| \u001b[0m 12      \u001b[0m | \u001b[0m 0.7811  \u001b[0m | \u001b[0m 9.54    \u001b[0m | \u001b[0m 9.691   \u001b[0m | \u001b[0m 0.8605  \u001b[0m |\n",
      "| \u001b[0m 13      \u001b[0m | \u001b[0m 0.7817  \u001b[0m | \u001b[0m 3.742   \u001b[0m | \u001b[0m 1.879   \u001b[0m | \u001b[0m 0.7702  \u001b[0m |\n",
      "| \u001b[95m 14      \u001b[0m | \u001b[95m 0.8274  \u001b[0m | \u001b[95m 4.961   \u001b[0m | \u001b[95m 2.098   \u001b[0m | \u001b[95m 0.6325  \u001b[0m |\n",
      "| \u001b[0m 15      \u001b[0m | \u001b[0m 0.8136  \u001b[0m | \u001b[0m 1.309   \u001b[0m | \u001b[0m 9.184   \u001b[0m | \u001b[0m 0.4605  \u001b[0m |\n",
      "| \u001b[0m 16      \u001b[0m | \u001b[0m 0.7883  \u001b[0m | \u001b[0m 5.121   \u001b[0m | \u001b[0m 2.148   \u001b[0m | \u001b[0m 0.5871  \u001b[0m |\n",
      "| \u001b[0m 17      \u001b[0m | \u001b[0m 0.7931  \u001b[0m | \u001b[0m 4.975   \u001b[0m | \u001b[0m 2.132   \u001b[0m | \u001b[0m 0.6762  \u001b[0m |\n",
      "| \u001b[0m 18      \u001b[0m | \u001b[0m 0.8136  \u001b[0m | \u001b[0m 1.278   \u001b[0m | \u001b[0m 9.201   \u001b[0m | \u001b[0m 0.437   \u001b[0m |\n",
      "| \u001b[0m 19      \u001b[0m | \u001b[0m 0.7212  \u001b[0m | \u001b[0m 9.487   \u001b[0m | \u001b[0m 4.311   \u001b[0m | \u001b[0m 0.4332  \u001b[0m |\n",
      "| \u001b[0m 20      \u001b[0m | \u001b[0m 0.8012  \u001b[0m | \u001b[0m 4.93    \u001b[0m | \u001b[0m 2.115   \u001b[0m | \u001b[0m 0.6544  \u001b[0m |\n",
      "| \u001b[0m 21      \u001b[0m | \u001b[0m 0.7891  \u001b[0m | \u001b[0m 5.069   \u001b[0m | \u001b[0m 2.065   \u001b[0m | \u001b[0m 0.6172  \u001b[0m |\n",
      "| \u001b[0m 22      \u001b[0m | \u001b[0m 0.8097  \u001b[0m | \u001b[0m 4.975   \u001b[0m | \u001b[0m 2.043   \u001b[0m | \u001b[0m 0.6232  \u001b[0m |\n",
      "| \u001b[0m 23      \u001b[0m | \u001b[0m 0.8136  \u001b[0m | \u001b[0m 1.223   \u001b[0m | \u001b[0m 9.245   \u001b[0m | \u001b[0m 0.4624  \u001b[0m |\n",
      "| \u001b[0m 24      \u001b[0m | \u001b[0m 0.8136  \u001b[0m | \u001b[0m 1.241   \u001b[0m | \u001b[0m 9.142   \u001b[0m | \u001b[0m 0.4124  \u001b[0m |\n",
      "| \u001b[0m 25      \u001b[0m | \u001b[0m 0.8136  \u001b[0m | \u001b[0m 1.197   \u001b[0m | \u001b[0m 9.233   \u001b[0m | \u001b[0m 0.4874  \u001b[0m |\n",
      "| \u001b[0m 26      \u001b[0m | \u001b[0m 0.7764  \u001b[0m | \u001b[0m 3.775   \u001b[0m | \u001b[0m 8.75    \u001b[0m | \u001b[0m 0.3404  \u001b[0m |\n",
      "| \u001b[0m 27      \u001b[0m | \u001b[0m 0.7956  \u001b[0m | \u001b[0m 4.975   \u001b[0m | \u001b[0m 2.167   \u001b[0m | \u001b[0m 0.5811  \u001b[0m |\n",
      "| \u001b[0m 28      \u001b[0m | \u001b[0m 0.8136  \u001b[0m | \u001b[0m 1.264   \u001b[0m | \u001b[0m 9.146   \u001b[0m | \u001b[0m 0.4028  \u001b[0m |\n",
      "| \u001b[0m 29      \u001b[0m | \u001b[0m 0.7925  \u001b[0m | \u001b[0m 6.511   \u001b[0m | \u001b[0m 1.554   \u001b[0m | \u001b[0m 0.5814  \u001b[0m |\n",
      "| \u001b[0m 30      \u001b[0m | \u001b[0m 0.7525  \u001b[0m | \u001b[0m 6.331   \u001b[0m | \u001b[0m 7.477   \u001b[0m | \u001b[0m 0.3653  \u001b[0m |\n",
      "| \u001b[0m 31      \u001b[0m | \u001b[0m 0.8136  \u001b[0m | \u001b[0m 1.244   \u001b[0m | \u001b[0m 9.185   \u001b[0m | \u001b[0m 0.5176  \u001b[0m |\n",
      "| \u001b[0m 32      \u001b[0m | \u001b[0m 0.8086  \u001b[0m | \u001b[0m 4.91    \u001b[0m | \u001b[0m 2.065   \u001b[0m | \u001b[0m 0.5907  \u001b[0m |\n",
      "| \u001b[0m 33      \u001b[0m | \u001b[0m 0.7978  \u001b[0m | \u001b[0m 4.027   \u001b[0m | \u001b[0m 1.523   \u001b[0m | \u001b[0m 0.9116  \u001b[0m |\n",
      "| \u001b[0m 34      \u001b[0m | \u001b[0m 0.8112  \u001b[0m | \u001b[0m 8.923   \u001b[0m | \u001b[0m 8.539   \u001b[0m | \u001b[0m 0.5056  \u001b[0m |\n",
      "| \u001b[0m 35      \u001b[0m | \u001b[0m 0.8136  \u001b[0m | \u001b[0m 1.196   \u001b[0m | \u001b[0m 9.205   \u001b[0m | \u001b[0m 0.383   \u001b[0m |\n",
      "| \u001b[0m 36      \u001b[0m | \u001b[0m 0.8136  \u001b[0m | \u001b[0m 1.548   \u001b[0m | \u001b[0m 8.691   \u001b[0m | \u001b[0m 0.6936  \u001b[0m |\n",
      "| \u001b[0m 37      \u001b[0m | \u001b[0m 0.8215  \u001b[0m | \u001b[0m 5.741   \u001b[0m | \u001b[0m 2.991   \u001b[0m | \u001b[0m 0.9533  \u001b[0m |\n",
      "| \u001b[0m 38      \u001b[0m | \u001b[0m 0.8136  \u001b[0m | \u001b[0m 1.633   \u001b[0m | \u001b[0m 8.026   \u001b[0m | \u001b[0m 0.9072  \u001b[0m |\n",
      "| \u001b[0m 39      \u001b[0m | \u001b[0m 0.8021  \u001b[0m | \u001b[0m 5.636   \u001b[0m | \u001b[0m 3.025   \u001b[0m | \u001b[0m 0.9361  \u001b[0m |\n",
      "| \u001b[0m 40      \u001b[0m | \u001b[0m 0.8136  \u001b[0m | \u001b[0m 1.638   \u001b[0m | \u001b[0m 8.009   \u001b[0m | \u001b[0m 0.8041  \u001b[0m |\n",
      "| \u001b[0m 41      \u001b[0m | \u001b[0m 0.8136  \u001b[0m | \u001b[0m 1.286   \u001b[0m | \u001b[0m 9.141   \u001b[0m | \u001b[0m 0.3935  \u001b[0m |\n",
      "| \u001b[0m 42      \u001b[0m | \u001b[0m 0.8087  \u001b[0m | \u001b[0m 5.785   \u001b[0m | \u001b[0m 2.964   \u001b[0m | \u001b[0m 0.9064  \u001b[0m |\n",
      "| \u001b[0m 43      \u001b[0m | \u001b[0m 0.7975  \u001b[0m | \u001b[0m 5.734   \u001b[0m | \u001b[0m 2.943   \u001b[0m | \u001b[0m 1.0     \u001b[0m |\n",
      "| \u001b[0m 44      \u001b[0m | \u001b[0m 0.7798  \u001b[0m | \u001b[0m 5.868   \u001b[0m | \u001b[0m 3.073   \u001b[0m | \u001b[0m 0.9845  \u001b[0m |\n",
      "| \u001b[0m 45      \u001b[0m | \u001b[0m 0.8136  \u001b[0m | \u001b[0m 1.477   \u001b[0m | \u001b[0m 8.743   \u001b[0m | \u001b[0m 0.7284  \u001b[0m |\n",
      "| \u001b[0m 46      \u001b[0m | \u001b[0m 0.8136  \u001b[0m | \u001b[0m 1.562   \u001b[0m | \u001b[0m 8.737   \u001b[0m | \u001b[0m 0.7809  \u001b[0m |\n",
      "| \u001b[0m 47      \u001b[0m | \u001b[0m 0.7709  \u001b[0m | \u001b[0m 5.391   \u001b[0m | \u001b[0m 3.239   \u001b[0m | \u001b[0m 0.4291  \u001b[0m |\n",
      "| \u001b[0m 48      \u001b[0m | \u001b[0m 0.7829  \u001b[0m | \u001b[0m 2.22    \u001b[0m | \u001b[0m 9.513   \u001b[0m | \u001b[0m 0.3453  \u001b[0m |\n",
      "| \u001b[0m 49      \u001b[0m | \u001b[0m 0.8136  \u001b[0m | \u001b[0m 1.6     \u001b[0m | \u001b[0m 8.126   \u001b[0m | \u001b[0m 0.844   \u001b[0m |\n",
      "| \u001b[0m 50      \u001b[0m | \u001b[0m 0.8136  \u001b[0m | \u001b[0m 1.63    \u001b[0m | \u001b[0m 8.071   \u001b[0m | \u001b[0m 0.7049  \u001b[0m |\n",
      "=============================================================\n"
     ]
    }
   ],
   "source": [
    "hyperparam_dt_PC4 = run_ml(data_load['PC4'], 7, bound_decission_tree['PC4'], model.decission_tree)"
   ]
  },
  {
   "cell_type": "code",
   "execution_count": 46,
   "metadata": {
    "scrolled": false
   },
   "outputs": [
    {
     "data": {
      "text/plain": [
       "{'Train': {'Gmeans': 0.9106222045631851,\n",
       "  'Recall': 0.9434960327001684,\n",
       "  'pf': 0.12110621486096337,\n",
       "  'cf_matrix': {'tn': 5784, 'fp': 797, 'fn': 235, 'tp': 3924}},\n",
       " 'Dev': {'Gmeans': 0.8274383905794984,\n",
       "  'Recall': 0.8116883116883117,\n",
       "  'pf': 0.1565059144676979,\n",
       "  'cf_matrix': {'tn': 927, 'fp': 172, 'fn': 29, 'tp': 125}},\n",
       " 'Test': {'Gmeans': 0.8279908334182928,\n",
       "  'Recall': 0.797752808988764,\n",
       "  'pf': 0.140625,\n",
       "  'cf_matrix': {'tn': 1100, 'fp': 180, 'fn': 36, 'tp': 142}}}"
      ]
     },
     "execution_count": 46,
     "metadata": {},
     "output_type": "execute_result"
    }
   ],
   "source": [
    "best_hyperparam_dt_PC4 = hyperparam_dt_PC4.max['params']\n",
    "result_dt_PC4 = run_ml(data_load['PC4'], 7, best_hyperparam_dt_PC4, model.decission_tree,do_optimize = False)\n",
    "result_dt_PC4"
   ]
  },
  {
   "cell_type": "markdown",
   "metadata": {},
   "source": [
    "## CM1"
   ]
  },
  {
   "cell_type": "code",
   "execution_count": 47,
   "metadata": {
    "scrolled": true
   },
   "outputs": [
    {
     "name": "stdout",
     "output_type": "stream",
     "text": [
      "|   iter    |  target   |   depth   | neighbors | sampling  |\n",
      "-------------------------------------------------------------\n",
      "| \u001b[0m 1       \u001b[0m | \u001b[0m 0.6759  \u001b[0m | \u001b[0m 4.371   \u001b[0m | \u001b[0m 9.556   \u001b[0m | \u001b[0m 0.7986  \u001b[0m |\n",
      "| \u001b[0m 2       \u001b[0m | \u001b[0m 0.5664  \u001b[0m | \u001b[0m 6.388   \u001b[0m | \u001b[0m 2.404   \u001b[0m | \u001b[0m 0.3656  \u001b[0m |\n",
      "| \u001b[0m 3       \u001b[0m | \u001b[0m 0.6567  \u001b[0m | \u001b[0m 1.523   \u001b[0m | \u001b[0m 8.796   \u001b[0m | \u001b[0m 0.7002  \u001b[0m |\n",
      "| \u001b[0m 4       \u001b[0m | \u001b[0m 0.6458  \u001b[0m | \u001b[0m 7.373   \u001b[0m | \u001b[0m 1.185   \u001b[0m | \u001b[0m 0.9774  \u001b[0m |\n",
      "| \u001b[0m 5       \u001b[0m | \u001b[0m 0.5916  \u001b[0m | \u001b[0m 8.492   \u001b[0m | \u001b[0m 2.911   \u001b[0m | \u001b[0m 0.3851  \u001b[0m |\n",
      "| \u001b[0m 6       \u001b[0m | \u001b[0m 0.6666  \u001b[0m | \u001b[0m 2.651   \u001b[0m | \u001b[0m 3.738   \u001b[0m | \u001b[0m 0.6428  \u001b[0m |\n",
      "| \u001b[0m 7       \u001b[0m | \u001b[0m 0.6518  \u001b[0m | \u001b[0m 4.888   \u001b[0m | \u001b[0m 3.621   \u001b[0m | \u001b[0m 0.7083  \u001b[0m |\n",
      "| \u001b[0m 8       \u001b[0m | \u001b[0m 0.5454  \u001b[0m | \u001b[0m 2.255   \u001b[0m | \u001b[0m 3.629   \u001b[0m | \u001b[0m 0.5238  \u001b[0m |\n",
      "| \u001b[0m 9       \u001b[0m | \u001b[0m 0.5696  \u001b[0m | \u001b[0m 5.105   \u001b[0m | \u001b[0m 8.067   \u001b[0m | \u001b[0m 0.3985  \u001b[0m |\n",
      "| \u001b[0m 10      \u001b[0m | \u001b[0m 0.3907  \u001b[0m | \u001b[0m 5.628   \u001b[0m | \u001b[0m 6.332   \u001b[0m | \u001b[0m 0.2833  \u001b[0m |\n",
      "| \u001b[0m 11      \u001b[0m | \u001b[0m 0.4714  \u001b[0m | \u001b[0m 6.468   \u001b[0m | \u001b[0m 2.535   \u001b[0m | \u001b[0m 0.2973  \u001b[0m |\n",
      "| \u001b[0m 12      \u001b[0m | \u001b[0m 0.626   \u001b[0m | \u001b[0m 9.54    \u001b[0m | \u001b[0m 9.691   \u001b[0m | \u001b[0m 0.856   \u001b[0m |\n",
      "| \u001b[95m 13      \u001b[0m | \u001b[95m 0.6796  \u001b[0m | \u001b[95m 3.742   \u001b[0m | \u001b[95m 1.879   \u001b[0m | \u001b[95m 0.7627  \u001b[0m |\n",
      "| \u001b[0m 14      \u001b[0m | \u001b[0m 0.6218  \u001b[0m | \u001b[0m 4.961   \u001b[0m | \u001b[0m 2.098   \u001b[0m | \u001b[0m 0.6206  \u001b[0m |\n",
      "| \u001b[0m 15      \u001b[0m | \u001b[0m 0.661   \u001b[0m | \u001b[0m 1.309   \u001b[0m | \u001b[0m 9.184   \u001b[0m | \u001b[0m 0.4429  \u001b[0m |\n",
      "| \u001b[0m 16      \u001b[0m | \u001b[0m 0.6633  \u001b[0m | \u001b[0m 3.816   \u001b[0m | \u001b[0m 1.882   \u001b[0m | \u001b[0m 0.6444  \u001b[0m |\n",
      "| \u001b[0m 17      \u001b[0m | \u001b[0m 0.6325  \u001b[0m | \u001b[0m 3.86    \u001b[0m | \u001b[0m 1.815   \u001b[0m | \u001b[0m 0.8514  \u001b[0m |\n",
      "| \u001b[0m 18      \u001b[0m | \u001b[0m 0.6344  \u001b[0m | \u001b[0m 3.607   \u001b[0m | \u001b[0m 1.987   \u001b[0m | \u001b[0m 0.8639  \u001b[0m |\n",
      "| \u001b[0m 19      \u001b[0m | \u001b[0m 0.6457  \u001b[0m | \u001b[0m 3.639   \u001b[0m | \u001b[0m 1.793   \u001b[0m | \u001b[0m 0.675   \u001b[0m |\n",
      "| \u001b[0m 20      \u001b[0m | \u001b[0m 0.6543  \u001b[0m | \u001b[0m 4.395   \u001b[0m | \u001b[0m 9.73    \u001b[0m | \u001b[0m 0.8742  \u001b[0m |\n",
      "| \u001b[0m 21      \u001b[0m | \u001b[0m 0.6543  \u001b[0m | \u001b[0m 4.215   \u001b[0m | \u001b[0m 9.397   \u001b[0m | \u001b[0m 0.8745  \u001b[0m |\n",
      "| \u001b[0m 22      \u001b[0m | \u001b[0m 0.6633  \u001b[0m | \u001b[0m 3.652   \u001b[0m | \u001b[0m 1.824   \u001b[0m | \u001b[0m 0.6437  \u001b[0m |\n",
      "| \u001b[0m 23      \u001b[0m | \u001b[0m 0.6399  \u001b[0m | \u001b[0m 3.665   \u001b[0m | \u001b[0m 2.039   \u001b[0m | \u001b[0m 0.459   \u001b[0m |\n",
      "| \u001b[0m 24      \u001b[0m | \u001b[0m 0.5963  \u001b[0m | \u001b[0m 4.524   \u001b[0m | \u001b[0m 9.445   \u001b[0m | \u001b[0m 0.8976  \u001b[0m |\n",
      "| \u001b[0m 25      \u001b[0m | \u001b[0m 0.6423  \u001b[0m | \u001b[0m 4.236   \u001b[0m | \u001b[0m 9.607   \u001b[0m | \u001b[0m 0.7151  \u001b[0m |\n",
      "| \u001b[0m 26      \u001b[0m | \u001b[0m 0.5463  \u001b[0m | \u001b[0m 3.775   \u001b[0m | \u001b[0m 8.75    \u001b[0m | \u001b[0m 0.3189  \u001b[0m |\n",
      "| \u001b[0m 27      \u001b[0m | \u001b[0m 0.661   \u001b[0m | \u001b[0m 1.427   \u001b[0m | \u001b[0m 9.003   \u001b[0m | \u001b[0m 0.564   \u001b[0m |\n",
      "| \u001b[0m 28      \u001b[0m | \u001b[0m 0.6494  \u001b[0m | \u001b[0m 4.882   \u001b[0m | \u001b[0m 3.615   \u001b[0m | \u001b[0m 0.6775  \u001b[0m |\n",
      "| \u001b[0m 29      \u001b[0m | \u001b[0m 0.5204  \u001b[0m | \u001b[0m 6.511   \u001b[0m | \u001b[0m 1.554   \u001b[0m | \u001b[0m 0.5677  \u001b[0m |\n",
      "| \u001b[0m 30      \u001b[0m | \u001b[0m 0.6796  \u001b[0m | \u001b[0m 3.732   \u001b[0m | \u001b[0m 2.03    \u001b[0m | \u001b[0m 0.7009  \u001b[0m |\n",
      "| \u001b[0m 31      \u001b[0m | \u001b[0m 0.6665  \u001b[0m | \u001b[0m 2.84    \u001b[0m | \u001b[0m 3.837   \u001b[0m | \u001b[0m 0.7179  \u001b[0m |\n",
      "| \u001b[0m 32      \u001b[0m | \u001b[0m 0.65    \u001b[0m | \u001b[0m 2.701   \u001b[0m | \u001b[0m 3.766   \u001b[0m | \u001b[0m 0.8892  \u001b[0m |\n",
      "| \u001b[0m 33      \u001b[0m | \u001b[0m 0.6399  \u001b[0m | \u001b[0m 4.027   \u001b[0m | \u001b[0m 1.523   \u001b[0m | \u001b[0m 0.9087  \u001b[0m |\n",
      "| \u001b[0m 34      \u001b[0m | \u001b[0m 0.6543  \u001b[0m | \u001b[0m 2.926   \u001b[0m | \u001b[0m 3.6     \u001b[0m | \u001b[0m 0.6859  \u001b[0m |\n",
      "| \u001b[0m 35      \u001b[0m | \u001b[0m 0.4998  \u001b[0m | \u001b[0m 2.831   \u001b[0m | \u001b[0m 3.808   \u001b[0m | \u001b[0m 0.4556  \u001b[0m |\n",
      "| \u001b[0m 36      \u001b[0m | \u001b[0m 0.6736  \u001b[0m | \u001b[0m 2.871   \u001b[0m | \u001b[0m 3.772   \u001b[0m | \u001b[0m 0.84    \u001b[0m |\n",
      "| \u001b[0m 37      \u001b[0m | \u001b[0m 0.6375  \u001b[0m | \u001b[0m 5.741   \u001b[0m | \u001b[0m 2.991   \u001b[0m | \u001b[0m 0.9518  \u001b[0m |\n",
      "| \u001b[0m 38      \u001b[0m | \u001b[0m 0.6567  \u001b[0m | \u001b[0m 1.633   \u001b[0m | \u001b[0m 8.026   \u001b[0m | \u001b[0m 0.9042  \u001b[0m |\n",
      "| \u001b[0m 39      \u001b[0m | \u001b[0m 0.6638  \u001b[0m | \u001b[0m 2.724   \u001b[0m | \u001b[0m 3.579   \u001b[0m | \u001b[0m 0.7528  \u001b[0m |\n",
      "| \u001b[0m 40      \u001b[0m | \u001b[0m 0.6567  \u001b[0m | \u001b[0m 1.214   \u001b[0m | \u001b[0m 9.025   \u001b[0m | \u001b[0m 0.7121  \u001b[0m |\n",
      "| \u001b[0m 41      \u001b[0m | \u001b[0m 0.6271  \u001b[0m | \u001b[0m 8.32    \u001b[0m | \u001b[0m 7.849   \u001b[0m | \u001b[0m 0.7408  \u001b[0m |\n",
      "| \u001b[0m 42      \u001b[0m | \u001b[0m 0.6528  \u001b[0m | \u001b[0m 1.226   \u001b[0m | \u001b[0m 8.831   \u001b[0m | \u001b[0m 0.4993  \u001b[0m |\n",
      "| \u001b[0m 43      \u001b[0m | \u001b[0m 0.661   \u001b[0m | \u001b[0m 1.415   \u001b[0m | \u001b[0m 9.269   \u001b[0m | \u001b[0m 0.6976  \u001b[0m |\n",
      "| \u001b[0m 44      \u001b[0m | \u001b[0m 0.6666  \u001b[0m | \u001b[0m 2.92    \u001b[0m | \u001b[0m 3.998   \u001b[0m | \u001b[0m 0.8808  \u001b[0m |\n",
      "| \u001b[0m 45      \u001b[0m | \u001b[0m 0.6311  \u001b[0m | \u001b[0m 3.736   \u001b[0m | \u001b[0m 1.93    \u001b[0m | \u001b[0m 0.6803  \u001b[0m |\n",
      "| \u001b[0m 46      \u001b[0m | \u001b[0m 0.6608  \u001b[0m | \u001b[0m 3.829   \u001b[0m | \u001b[0m 2.032   \u001b[0m | \u001b[0m 0.711   \u001b[0m |\n",
      "| \u001b[0m 47      \u001b[0m | \u001b[0m 0.6134  \u001b[0m | \u001b[0m 5.391   \u001b[0m | \u001b[0m 3.239   \u001b[0m | \u001b[0m 0.4106  \u001b[0m |\n",
      "| \u001b[0m 48      \u001b[0m | \u001b[0m 0.5888  \u001b[0m | \u001b[0m 2.22    \u001b[0m | \u001b[0m 9.513   \u001b[0m | \u001b[0m 0.324   \u001b[0m |\n",
      "| \u001b[0m 49      \u001b[0m | \u001b[0m 0.6731  \u001b[0m | \u001b[0m 3.718   \u001b[0m | \u001b[0m 2.109   \u001b[0m | \u001b[0m 0.7266  \u001b[0m |\n",
      "| \u001b[0m 50      \u001b[0m | \u001b[0m 0.6181  \u001b[0m | \u001b[0m 3.785   \u001b[0m | \u001b[0m 1.768   \u001b[0m | \u001b[0m 0.571   \u001b[0m |\n",
      "=============================================================\n"
     ]
    }
   ],
   "source": [
    "hyperparam_dt_CM1 = run_ml(data_load['CM1'], 5, bound_decission_tree['CM1'], model.decission_tree)"
   ]
  },
  {
   "cell_type": "code",
   "execution_count": 48,
   "metadata": {},
   "outputs": [
    {
     "data": {
      "text/plain": [
       "{'Train': {'Gmeans': 0.8400886780735183,\n",
       "  'Recall': 0.9349220898258478,\n",
       "  'pf': 0.24512534818941503,\n",
       "  'cf_matrix': {'tn': 1084, 'fp': 352, 'fn': 71, 'tp': 1020}},\n",
       " 'Dev': {'Gmeans': 0.6795627679291705,\n",
       "  'Recall': 0.625,\n",
       "  'pf': 0.2611111111111111,\n",
       "  'cf_matrix': {'tn': 266, 'fp': 94, 'fn': 15, 'tp': 25}},\n",
       " 'Test': {'Gmeans': 0.6494605524094196,\n",
       "  'Recall': 0.5918367346938775,\n",
       "  'pf': 0.2873051224944321,\n",
       "  'cf_matrix': {'tn': 320, 'fp': 129, 'fn': 20, 'tp': 29}}}"
      ]
     },
     "execution_count": 48,
     "metadata": {},
     "output_type": "execute_result"
    }
   ],
   "source": [
    "best_hyperparam_dt_CM1 = hyperparam_dt_CM1.max['params']\n",
    "result_dt_CM1 = run_ml(data_load['CM1'], 5, best_hyperparam_dt_CM1, model.decission_tree,do_optimize = False)\n",
    "result_dt_CM1"
   ]
  },
  {
   "cell_type": "markdown",
   "metadata": {},
   "source": [
    "## JM1"
   ]
  },
  {
   "cell_type": "code",
   "execution_count": 49,
   "metadata": {},
   "outputs": [
    {
     "name": "stdout",
     "output_type": "stream",
     "text": [
      "|   iter    |  target   |   depth   | neighbors | sampling  |\n",
      "-------------------------------------------------------------\n",
      "| \u001b[0m 1       \u001b[0m | \u001b[0m 0.6411  \u001b[0m | \u001b[0m 4.371   \u001b[0m | \u001b[0m 9.556   \u001b[0m | \u001b[0m 0.824   \u001b[0m |\n",
      "| \u001b[0m 2       \u001b[0m | \u001b[0m 0.5058  \u001b[0m | \u001b[0m 6.388   \u001b[0m | \u001b[0m 2.404   \u001b[0m | \u001b[0m 0.4457  \u001b[0m |\n",
      "| \u001b[95m 3       \u001b[0m | \u001b[95m 0.6477  \u001b[0m | \u001b[95m 1.523   \u001b[0m | \u001b[95m 8.796   \u001b[0m | \u001b[95m 0.7381  \u001b[0m |\n",
      "| \u001b[0m 4       \u001b[0m | \u001b[0m 0.6137  \u001b[0m | \u001b[0m 7.373   \u001b[0m | \u001b[0m 1.185   \u001b[0m | \u001b[0m 0.9802  \u001b[0m |\n",
      "| \u001b[0m 5       \u001b[0m | \u001b[0m 0.5068  \u001b[0m | \u001b[0m 8.492   \u001b[0m | \u001b[0m 2.911   \u001b[0m | \u001b[0m 0.4627  \u001b[0m |\n",
      "| \u001b[0m 6       \u001b[0m | \u001b[0m 0.6443  \u001b[0m | \u001b[0m 2.651   \u001b[0m | \u001b[0m 3.738   \u001b[0m | \u001b[0m 0.6879  \u001b[0m |\n",
      "| \u001b[0m 7       \u001b[0m | \u001b[0m 0.632   \u001b[0m | \u001b[0m 4.888   \u001b[0m | \u001b[0m 3.621   \u001b[0m | \u001b[0m 0.7451  \u001b[0m |\n",
      "| \u001b[0m 8       \u001b[0m | \u001b[0m 0.563   \u001b[0m | \u001b[0m 2.255   \u001b[0m | \u001b[0m 3.629   \u001b[0m | \u001b[0m 0.5839  \u001b[0m |\n",
      "| \u001b[0m 9       \u001b[0m | \u001b[0m 0.5232  \u001b[0m | \u001b[0m 5.105   \u001b[0m | \u001b[0m 8.067   \u001b[0m | \u001b[0m 0.4744  \u001b[0m |\n",
      "| \u001b[0m 10      \u001b[0m | \u001b[0m 0.4584  \u001b[0m | \u001b[0m 5.628   \u001b[0m | \u001b[0m 6.332   \u001b[0m | \u001b[0m 0.3738  \u001b[0m |\n",
      "| \u001b[0m 11      \u001b[0m | \u001b[0m 0.4907  \u001b[0m | \u001b[0m 6.468   \u001b[0m | \u001b[0m 2.535   \u001b[0m | \u001b[0m 0.386   \u001b[0m |\n",
      "| \u001b[0m 12      \u001b[0m | \u001b[0m 0.594   \u001b[0m | \u001b[0m 9.54    \u001b[0m | \u001b[0m 9.691   \u001b[0m | \u001b[0m 0.8742  \u001b[0m |\n",
      "| \u001b[0m 13      \u001b[0m | \u001b[0m 0.6288  \u001b[0m | \u001b[0m 3.742   \u001b[0m | \u001b[0m 1.879   \u001b[0m | \u001b[0m 0.7926  \u001b[0m |\n",
      "| \u001b[0m 14      \u001b[0m | \u001b[0m 0.6235  \u001b[0m | \u001b[0m 4.961   \u001b[0m | \u001b[0m 2.098   \u001b[0m | \u001b[0m 0.6685  \u001b[0m |\n",
      "| \u001b[0m 15      \u001b[0m | \u001b[0m 0.6417  \u001b[0m | \u001b[0m 1.309   \u001b[0m | \u001b[0m 9.184   \u001b[0m | \u001b[0m 0.5132  \u001b[0m |\n",
      "| \u001b[0m 16      \u001b[0m | \u001b[0m 0.6432  \u001b[0m | \u001b[0m 2.978   \u001b[0m | \u001b[0m 3.786   \u001b[0m | \u001b[0m 0.7484  \u001b[0m |\n",
      "| \u001b[0m 17      \u001b[0m | \u001b[0m 0.6449  \u001b[0m | \u001b[0m 1.859   \u001b[0m | \u001b[0m 9.145   \u001b[0m | \u001b[0m 0.6353  \u001b[0m |\n",
      "| \u001b[0m 18      \u001b[0m | \u001b[0m 0.6475  \u001b[0m | \u001b[0m 1.512   \u001b[0m | \u001b[0m 9.212   \u001b[0m | \u001b[0m 1.0     \u001b[0m |\n",
      "| \u001b[0m 19      \u001b[0m | \u001b[0m 0.647   \u001b[0m | \u001b[0m 2.716   \u001b[0m | \u001b[0m 4.16    \u001b[0m | \u001b[0m 0.9765  \u001b[0m |\n",
      "| \u001b[0m 20      \u001b[0m | \u001b[0m 0.6378  \u001b[0m | \u001b[0m 4.278   \u001b[0m | \u001b[0m 2.815   \u001b[0m | \u001b[0m 0.8635  \u001b[0m |\n",
      "| \u001b[0m 21      \u001b[0m | \u001b[0m 0.6338  \u001b[0m | \u001b[0m 3.594   \u001b[0m | \u001b[0m 9.769   \u001b[0m | \u001b[0m 0.9026  \u001b[0m |\n",
      "| \u001b[0m 22      \u001b[0m | \u001b[0m 0.4703  \u001b[0m | \u001b[0m 4.188   \u001b[0m | \u001b[0m 10.0    \u001b[0m | \u001b[0m 0.3433  \u001b[0m |\n",
      "| \u001b[0m 23      \u001b[0m | \u001b[0m 0.6319  \u001b[0m | \u001b[0m 4.132   \u001b[0m | \u001b[0m 9.301   \u001b[0m | \u001b[0m 1.0     \u001b[0m |\n",
      "| \u001b[0m 24      \u001b[0m | \u001b[0m 0.6319  \u001b[0m | \u001b[0m 4.673   \u001b[0m | \u001b[0m 9.441   \u001b[0m | \u001b[0m 1.0     \u001b[0m |\n",
      "| \u001b[0m 25      \u001b[0m | \u001b[0m 0.5177  \u001b[0m | \u001b[0m 2.805   \u001b[0m | \u001b[0m 4.143   \u001b[0m | \u001b[0m 0.5431  \u001b[0m |\n",
      "| \u001b[0m 26      \u001b[0m | \u001b[0m 0.4965  \u001b[0m | \u001b[0m 3.775   \u001b[0m | \u001b[0m 8.75    \u001b[0m | \u001b[0m 0.4049  \u001b[0m |\n",
      "| \u001b[95m 27      \u001b[0m | \u001b[95m 0.6477  \u001b[0m | \u001b[95m 2.76    \u001b[0m | \u001b[95m 3.773   \u001b[0m | \u001b[95m 1.0     \u001b[0m |\n",
      "| \u001b[0m 28      \u001b[0m | \u001b[0m 0.6279  \u001b[0m | \u001b[0m 3.414   \u001b[0m | \u001b[0m 3.298   \u001b[0m | \u001b[0m 0.6746  \u001b[0m |\n",
      "| \u001b[0m 29      \u001b[0m | \u001b[0m 0.594   \u001b[0m | \u001b[0m 6.511   \u001b[0m | \u001b[0m 1.554   \u001b[0m | \u001b[0m 0.6223  \u001b[0m |\n",
      "| \u001b[0m 30      \u001b[0m | \u001b[0m 0.6462  \u001b[0m | \u001b[0m 2.884   \u001b[0m | \u001b[0m 3.522   \u001b[0m | \u001b[0m 0.7499  \u001b[0m |\n",
      "| \u001b[0m 31      \u001b[0m | \u001b[0m 0.6052  \u001b[0m | \u001b[0m 9.511   \u001b[0m | \u001b[0m 5.063   \u001b[0m | \u001b[0m 0.9411  \u001b[0m |\n",
      "| \u001b[0m 32      \u001b[0m | \u001b[0m 0.6462  \u001b[0m | \u001b[0m 1.56    \u001b[0m | \u001b[0m 9.091   \u001b[0m | \u001b[0m 0.732   \u001b[0m |\n",
      "| \u001b[0m 33      \u001b[0m | \u001b[0m 0.6304  \u001b[0m | \u001b[0m 4.027   \u001b[0m | \u001b[0m 1.523   \u001b[0m | \u001b[0m 0.9202  \u001b[0m |\n",
      "| \u001b[0m 34      \u001b[0m | \u001b[0m 0.6457  \u001b[0m | \u001b[0m 1.932   \u001b[0m | \u001b[0m 8.832   \u001b[0m | \u001b[0m 0.995   \u001b[0m |\n",
      "| \u001b[0m 35      \u001b[0m | \u001b[0m 0.6428  \u001b[0m | \u001b[0m 2.646   \u001b[0m | \u001b[0m 3.746   \u001b[0m | \u001b[0m 0.7105  \u001b[0m |\n",
      "| \u001b[0m 36      \u001b[0m | \u001b[0m 0.6454  \u001b[0m | \u001b[0m 1.226   \u001b[0m | \u001b[0m 8.857   \u001b[0m | \u001b[0m 0.9933  \u001b[0m |\n",
      "| \u001b[0m 37      \u001b[0m | \u001b[0m 0.6261  \u001b[0m | \u001b[0m 5.741   \u001b[0m | \u001b[0m 2.991   \u001b[0m | \u001b[0m 0.9579  \u001b[0m |\n",
      "| \u001b[0m 38      \u001b[0m | \u001b[0m 0.6433  \u001b[0m | \u001b[0m 1.633   \u001b[0m | \u001b[0m 8.026   \u001b[0m | \u001b[0m 0.9163  \u001b[0m |\n",
      "| \u001b[95m 39      \u001b[0m | \u001b[95m 0.648   \u001b[0m | \u001b[95m 1.586   \u001b[0m | \u001b[95m 8.469   \u001b[0m | \u001b[95m 1.0     \u001b[0m |\n",
      "| \u001b[0m 40      \u001b[0m | \u001b[0m 0.6454  \u001b[0m | \u001b[0m 1.905   \u001b[0m | \u001b[0m 8.407   \u001b[0m | \u001b[0m 0.6459  \u001b[0m |\n",
      "| \u001b[0m 41      \u001b[0m | \u001b[0m 0.6475  \u001b[0m | \u001b[0m 1.916   \u001b[0m | \u001b[0m 8.846   \u001b[0m | \u001b[0m 0.9753  \u001b[0m |\n",
      "| \u001b[0m 42      \u001b[0m | \u001b[0m 0.6384  \u001b[0m | \u001b[0m 1.323   \u001b[0m | \u001b[0m 8.268   \u001b[0m | \u001b[0m 0.5757  \u001b[0m |\n",
      "| \u001b[0m 43      \u001b[0m | \u001b[0m 0.6272  \u001b[0m | \u001b[0m 4.968   \u001b[0m | \u001b[0m 2.957   \u001b[0m | \u001b[0m 1.0     \u001b[0m |\n",
      "| \u001b[0m 44      \u001b[0m | \u001b[0m 0.6316  \u001b[0m | \u001b[0m 4.188   \u001b[0m | \u001b[0m 3.457   \u001b[0m | \u001b[0m 1.0     \u001b[0m |\n",
      "| \u001b[95m 45      \u001b[0m | \u001b[95m 0.6496  \u001b[0m | \u001b[95m 1.0     \u001b[0m | \u001b[95m 9.449   \u001b[0m | \u001b[95m 0.9638  \u001b[0m |\n",
      "| \u001b[0m 46      \u001b[0m | \u001b[0m 0.6475  \u001b[0m | \u001b[0m 1.298   \u001b[0m | \u001b[0m 9.719   \u001b[0m | \u001b[0m 0.8516  \u001b[0m |\n",
      "| \u001b[0m 47      \u001b[0m | \u001b[0m 0.5295  \u001b[0m | \u001b[0m 1.0     \u001b[0m | \u001b[0m 9.714   \u001b[0m | \u001b[0m 0.4639  \u001b[0m |\n",
      "| \u001b[0m 48      \u001b[0m | \u001b[0m 0.5022  \u001b[0m | \u001b[0m 2.22    \u001b[0m | \u001b[0m 9.513   \u001b[0m | \u001b[0m 0.4093  \u001b[0m |\n",
      "| \u001b[0m 49      \u001b[0m | \u001b[0m 0.6475  \u001b[0m | \u001b[0m 1.305   \u001b[0m | \u001b[0m 9.53    \u001b[0m | \u001b[0m 1.0     \u001b[0m |\n",
      "| \u001b[0m 50      \u001b[0m | \u001b[0m 0.0     \u001b[0m | \u001b[0m 1.58    \u001b[0m | \u001b[0m 8.745   \u001b[0m | \u001b[0m 0.3497  \u001b[0m |\n",
      "=============================================================\n"
     ]
    }
   ],
   "source": [
    "hyperparam_dt_JM1 = run_ml(data_load['JM1'], 10, bound_decission_tree['JM1'], model.decission_tree)"
   ]
  },
  {
   "cell_type": "code",
   "execution_count": 50,
   "metadata": {},
   "outputs": [
    {
     "data": {
      "text/plain": [
       "{'Train': {'Gmeans': 0.6619762659630904,\n",
       "  'Recall': 0.6138689007925503,\n",
       "  'pf': 0.2861463153897008,\n",
       "  'cf_matrix': {'tn': 50750, 'fp': 20343, 'fn': 26455, 'tp': 42058}},\n",
       " 'Dev': {'Gmeans': 0.6496488571335672,\n",
       "  'Recall': 0.5921052631578947,\n",
       "  'pf': 0.2872151898734177,\n",
       "  'cf_matrix': {'tn': 5631, 'fp': 2269, 'fn': 775, 'tp': 1125}},\n",
       " 'Test': {'Gmeans': 0.660102464334156,\n",
       "  'Recall': 0.6110318592486923,\n",
       "  'pf': 0.2868861797880825,\n",
       "  'cf_matrix': {'tn': 6259, 'fp': 2518, 'fn': 818, 'tp': 1285}}}"
      ]
     },
     "execution_count": 50,
     "metadata": {},
     "output_type": "execute_result"
    }
   ],
   "source": [
    "best_hyperparam_dt_JM1 = hyperparam_dt_JM1.max['params']\n",
    "result_dt_JM1 = run_ml(data_load['JM1'], 10, best_hyperparam_dt_JM1, model.decission_tree,do_optimize = False)\n",
    "result_dt_JM1"
   ]
  },
  {
   "cell_type": "markdown",
   "metadata": {},
   "source": [
    "## Naive Bayes"
   ]
  },
  {
   "cell_type": "markdown",
   "metadata": {},
   "source": [
    "### KC1"
   ]
  },
  {
   "cell_type": "code",
   "execution_count": 51,
   "metadata": {},
   "outputs": [
    {
     "name": "stdout",
     "output_type": "stream",
     "text": [
      "|   iter    |  target   | neighbors | sampling  | var_sm... |\n",
      "-------------------------------------------------------------\n",
      "| \u001b[0m 1       \u001b[0m | \u001b[0m 0.6007  \u001b[0m | \u001b[0m 4.371   \u001b[0m | \u001b[0m 0.9657  \u001b[0m | \u001b[0m 0.732   \u001b[0m |\n",
      "| \u001b[0m 2       \u001b[0m | \u001b[0m 0.6002  \u001b[0m | \u001b[0m 6.388   \u001b[0m | \u001b[0m 0.4131  \u001b[0m | \u001b[0m 0.156   \u001b[0m |\n",
      "| \u001b[0m 3       \u001b[0m | \u001b[0m 0.5976  \u001b[0m | \u001b[0m 1.523   \u001b[0m | \u001b[0m 0.9069  \u001b[0m | \u001b[0m 0.6011  \u001b[0m |\n",
      "| \u001b[0m 4       \u001b[0m | \u001b[0m 0.5749  \u001b[0m | \u001b[0m 7.373   \u001b[0m | \u001b[0m 0.3189  \u001b[0m | \u001b[0m 0.9699  \u001b[0m |\n",
      "| \u001b[95m 5       \u001b[0m | \u001b[95m 0.6047  \u001b[0m | \u001b[95m 8.492   \u001b[0m | \u001b[95m 0.4523  \u001b[0m | \u001b[95m 0.1818  \u001b[0m |\n",
      "| \u001b[0m 6       \u001b[0m | \u001b[0m 0.5914  \u001b[0m | \u001b[0m 2.651   \u001b[0m | \u001b[0m 0.5162  \u001b[0m | \u001b[0m 0.5248  \u001b[0m |\n",
      "| \u001b[0m 7       \u001b[0m | \u001b[0m 0.5855  \u001b[0m | \u001b[0m 4.888   \u001b[0m | \u001b[0m 0.5071  \u001b[0m | \u001b[0m 0.6119  \u001b[0m |\n",
      "| \u001b[0m 8       \u001b[0m | \u001b[0m 0.5908  \u001b[0m | \u001b[0m 2.255   \u001b[0m | \u001b[0m 0.5078  \u001b[0m | \u001b[0m 0.3664  \u001b[0m |\n",
      "| \u001b[0m 9       \u001b[0m | \u001b[0m 0.6026  \u001b[0m | \u001b[0m 5.105   \u001b[0m | \u001b[0m 0.8506  \u001b[0m | \u001b[0m 0.1997  \u001b[0m |\n",
      "| \u001b[95m 10      \u001b[0m | \u001b[95m 0.614   \u001b[0m | \u001b[95m 5.628   \u001b[0m | \u001b[95m 0.7166  \u001b[0m | \u001b[95m 0.04645 \u001b[0m |\n",
      "| \u001b[0m 11      \u001b[0m | \u001b[0m 0.6039  \u001b[0m | \u001b[0m 6.468   \u001b[0m | \u001b[0m 0.4232  \u001b[0m | \u001b[0m 0.06505 \u001b[0m |\n",
      "| \u001b[0m 12      \u001b[0m | \u001b[0m 0.6022  \u001b[0m | \u001b[0m 9.54    \u001b[0m | \u001b[0m 0.9761  \u001b[0m | \u001b[0m 0.8084  \u001b[0m |\n",
      "| \u001b[0m 13      \u001b[0m | \u001b[0m 0.5788  \u001b[0m | \u001b[0m 3.742   \u001b[0m | \u001b[0m 0.3725  \u001b[0m | \u001b[0m 0.6842  \u001b[0m |\n",
      "| \u001b[0m 14      \u001b[0m | \u001b[0m 0.5912  \u001b[0m | \u001b[0m 4.961   \u001b[0m | \u001b[0m 0.3895  \u001b[0m | \u001b[0m 0.4952  \u001b[0m |\n",
      "| \u001b[0m 15      \u001b[0m | \u001b[0m 0.6043  \u001b[0m | \u001b[0m 1.309   \u001b[0m | \u001b[0m 0.9369  \u001b[0m | \u001b[0m 0.2588  \u001b[0m |\n",
      "| \u001b[95m 16      \u001b[0m | \u001b[95m 0.6248  \u001b[0m | \u001b[95m 5.577   \u001b[0m | \u001b[95m 0.8955  \u001b[0m | \u001b[95m 0.0     \u001b[0m |\n",
      "| \u001b[95m 17      \u001b[0m | \u001b[95m 0.6264  \u001b[0m | \u001b[95m 5.591   \u001b[0m | \u001b[95m 1.0     \u001b[0m | \u001b[95m 0.0     \u001b[0m |\n",
      "| \u001b[0m 18      \u001b[0m | \u001b[0m 0.6264  \u001b[0m | \u001b[0m 5.472   \u001b[0m | \u001b[0m 1.0     \u001b[0m | \u001b[0m 0.0     \u001b[0m |\n",
      "| \u001b[0m 19      \u001b[0m | \u001b[0m 0.6264  \u001b[0m | \u001b[0m 5.531   \u001b[0m | \u001b[0m 1.0     \u001b[0m | \u001b[0m 0.0     \u001b[0m |\n",
      "| \u001b[0m 20      \u001b[0m | \u001b[0m 0.625   \u001b[0m | \u001b[0m 6.056   \u001b[0m | \u001b[0m 1.0     \u001b[0m | \u001b[0m 0.0     \u001b[0m |\n",
      "| \u001b[0m 21      \u001b[0m | \u001b[0m 0.625   \u001b[0m | \u001b[0m 6.541   \u001b[0m | \u001b[0m 1.0     \u001b[0m | \u001b[0m 0.0     \u001b[0m |\n",
      "| \u001b[95m 22      \u001b[0m | \u001b[95m 0.6301  \u001b[0m | \u001b[95m 7.008   \u001b[0m | \u001b[95m 1.0     \u001b[0m | \u001b[95m 0.0     \u001b[0m |\n",
      "| \u001b[0m 23      \u001b[0m | \u001b[0m 0.6301  \u001b[0m | \u001b[0m 7.369   \u001b[0m | \u001b[0m 1.0     \u001b[0m | \u001b[0m 0.0     \u001b[0m |\n",
      "| \u001b[0m 24      \u001b[0m | \u001b[0m 0.6301  \u001b[0m | \u001b[0m 7.197   \u001b[0m | \u001b[0m 1.0     \u001b[0m | \u001b[0m 0.0     \u001b[0m |\n",
      "| \u001b[0m 25      \u001b[0m | \u001b[0m 0.6301  \u001b[0m | \u001b[0m 7.827   \u001b[0m | \u001b[0m 1.0     \u001b[0m | \u001b[0m 0.0     \u001b[0m |\n",
      "| \u001b[0m 26      \u001b[0m | \u001b[0m 0.6301  \u001b[0m | \u001b[0m 7.645   \u001b[0m | \u001b[0m 1.0     \u001b[0m | \u001b[0m 0.0     \u001b[0m |\n",
      "| \u001b[0m 27      \u001b[0m | \u001b[0m 0.6261  \u001b[0m | \u001b[0m 8.264   \u001b[0m | \u001b[0m 1.0     \u001b[0m | \u001b[0m 0.0     \u001b[0m |\n",
      "| \u001b[0m 28      \u001b[0m | \u001b[0m 0.6028  \u001b[0m | \u001b[0m 10.0    \u001b[0m | \u001b[0m 0.3046  \u001b[0m | \u001b[0m 0.0     \u001b[0m |\n",
      "| \u001b[0m 29      \u001b[0m | \u001b[0m 0.6024  \u001b[0m | \u001b[0m 7.904   \u001b[0m | \u001b[0m 1.0     \u001b[0m | \u001b[0m 0.2565  \u001b[0m |\n",
      "| \u001b[0m 30      \u001b[0m | \u001b[0m 0.6094  \u001b[0m | \u001b[0m 7.553   \u001b[0m | \u001b[0m 0.6346  \u001b[0m | \u001b[0m 0.003085\u001b[0m |\n",
      "| \u001b[0m 31      \u001b[0m | \u001b[0m 0.6228  \u001b[0m | \u001b[0m 9.033   \u001b[0m | \u001b[0m 0.9821  \u001b[0m | \u001b[0m 0.01933 \u001b[0m |\n",
      "| \u001b[0m 32      \u001b[0m | \u001b[0m 0.6102  \u001b[0m | \u001b[0m 1.008   \u001b[0m | \u001b[0m 0.3859  \u001b[0m | \u001b[0m 0.004695\u001b[0m |\n",
      "| \u001b[0m 33      \u001b[0m | \u001b[0m 0.6246  \u001b[0m | \u001b[0m 8.747   \u001b[0m | \u001b[0m 0.9791  \u001b[0m | \u001b[0m 0.008481\u001b[0m |\n",
      "| \u001b[0m 34      \u001b[0m | \u001b[0m 0.5745  \u001b[0m | \u001b[0m 1.004   \u001b[0m | \u001b[0m 0.3467  \u001b[0m | \u001b[0m 0.8564  \u001b[0m |\n",
      "| \u001b[0m 35      \u001b[0m | \u001b[0m 0.6148  \u001b[0m | \u001b[0m 9.16    \u001b[0m | \u001b[0m 0.4086  \u001b[0m | \u001b[0m 0.001622\u001b[0m |\n",
      "| \u001b[0m 36      \u001b[0m | \u001b[0m 0.6239  \u001b[0m | \u001b[0m 10.0    \u001b[0m | \u001b[0m 1.0     \u001b[0m | \u001b[0m 0.0     \u001b[0m |\n",
      "| \u001b[0m 37      \u001b[0m | \u001b[0m 0.6163  \u001b[0m | \u001b[0m 9.567   \u001b[0m | \u001b[0m 0.955   \u001b[0m | \u001b[0m 0.06251 \u001b[0m |\n",
      "| \u001b[0m 38      \u001b[0m | \u001b[0m 0.6013  \u001b[0m | \u001b[0m 6.276   \u001b[0m | \u001b[0m 1.0     \u001b[0m | \u001b[0m 1.0     \u001b[0m |\n",
      "| \u001b[0m 39      \u001b[0m | \u001b[0m 0.625   \u001b[0m | \u001b[0m 6.87    \u001b[0m | \u001b[0m 1.0     \u001b[0m | \u001b[0m 0.0     \u001b[0m |\n",
      "| \u001b[0m 40      \u001b[0m | \u001b[0m 0.5794  \u001b[0m | \u001b[0m 9.989   \u001b[0m | \u001b[0m 0.4308  \u001b[0m | \u001b[0m 0.9957  \u001b[0m |\n",
      "| \u001b[0m 41      \u001b[0m | \u001b[0m 0.6037  \u001b[0m | \u001b[0m 8.32    \u001b[0m | \u001b[0m 0.8338  \u001b[0m | \u001b[0m 0.6552  \u001b[0m |\n",
      "| \u001b[0m 42      \u001b[0m | \u001b[0m 0.6075  \u001b[0m | \u001b[0m 8.889   \u001b[0m | \u001b[0m 1.0     \u001b[0m | \u001b[0m 0.4617  \u001b[0m |\n",
      "| \u001b[0m 43      \u001b[0m | \u001b[0m 0.6024  \u001b[0m | \u001b[0m 7.105   \u001b[0m | \u001b[0m 0.9862  \u001b[0m | \u001b[0m 0.2445  \u001b[0m |\n",
      "| \u001b[0m 44      \u001b[0m | \u001b[0m 0.6292  \u001b[0m | \u001b[0m 3.442   \u001b[0m | \u001b[0m 1.0     \u001b[0m | \u001b[0m 0.0     \u001b[0m |\n",
      "| \u001b[0m 45      \u001b[0m | \u001b[0m 0.625   \u001b[0m | \u001b[0m 9.996   \u001b[0m | \u001b[0m 0.9947  \u001b[0m | \u001b[0m 0.01951 \u001b[0m |\n",
      "| \u001b[0m 46      \u001b[0m | \u001b[0m 0.6292  \u001b[0m | \u001b[0m 3.74    \u001b[0m | \u001b[0m 1.0     \u001b[0m | \u001b[0m 0.0     \u001b[0m |\n",
      "| \u001b[0m 47      \u001b[0m | \u001b[0m 0.6067  \u001b[0m | \u001b[0m 9.941   \u001b[0m | \u001b[0m 0.9675  \u001b[0m | \u001b[0m 0.2555  \u001b[0m |\n",
      "| \u001b[0m 48      \u001b[0m | \u001b[0m 0.6121  \u001b[0m | \u001b[0m 2.22    \u001b[0m | \u001b[0m 0.9624  \u001b[0m | \u001b[0m 0.1005  \u001b[0m |\n",
      "| \u001b[0m 49      \u001b[0m | \u001b[0m 0.6179  \u001b[0m | \u001b[0m 3.56    \u001b[0m | \u001b[0m 0.82    \u001b[0m | \u001b[0m 0.01349 \u001b[0m |\n",
      "| \u001b[0m 50      \u001b[0m | \u001b[0m 0.6177  \u001b[0m | \u001b[0m 3.119   \u001b[0m | \u001b[0m 0.9988  \u001b[0m | \u001b[0m 0.03079 \u001b[0m |\n",
      "=============================================================\n"
     ]
    }
   ],
   "source": [
    "hyperparam_nb_KC1 = run_ml(data_load['KC1'], 10, bound_naive_bayes['KC1'],  model.naive_bayes)"
   ]
  },
  {
   "cell_type": "code",
   "execution_count": 52,
   "metadata": {},
   "outputs": [
    {
     "data": {
      "text/plain": [
       "{'Train': {'Gmeans': 0.5958363861627356,\n",
       "  'Recall': 0.39569192408920906,\n",
       "  'pf': 0.10278431915777808,\n",
       "  'cf_matrix': {'tn': 12954, 'fp': 1484, 'fn': 8725, 'tp': 5713}},\n",
       " 'Dev': {'Gmeans': 0.6301082681048098,\n",
       "  'Recall': 0.44673539518900346,\n",
       "  'pf': 0.11124922311995028,\n",
       "  'cf_matrix': {'tn': 1430, 'fp': 179, 'fn': 161, 'tp': 130}},\n",
       " 'Test': {'Gmeans': 0.6071446317611808,\n",
       "  'Recall': 0.4110429447852761,\n",
       "  'pf': 0.10319685922602355,\n",
       "  'cf_matrix': {'tn': 1599, 'fp': 184, 'fn': 192, 'tp': 134}}}"
      ]
     },
     "execution_count": 52,
     "metadata": {},
     "output_type": "execute_result"
    }
   ],
   "source": [
    "best_hyperparam_nb_KC1 = hyperparam_nb_KC1.max['params']\n",
    "result_nb_KC1 = run_ml(data_load['KC1'], 10, best_hyperparam_nb_KC1, model.naive_bayes,do_optimize = False)\n",
    "result_nb_KC1"
   ]
  },
  {
   "cell_type": "markdown",
   "metadata": {},
   "source": [
    "## KC2"
   ]
  },
  {
   "cell_type": "code",
   "execution_count": 53,
   "metadata": {
    "scrolled": true
   },
   "outputs": [
    {
     "name": "stdout",
     "output_type": "stream",
     "text": [
      "|   iter    |  target   | neighbors | sampling  | var_sm... |\n",
      "-------------------------------------------------------------\n",
      "| \u001b[0m 1       \u001b[0m | \u001b[0m 0.6081  \u001b[0m | \u001b[0m 4.371   \u001b[0m | \u001b[0m 0.9682  \u001b[0m | \u001b[0m 0.732   \u001b[0m |\n",
      "| \u001b[95m 2       \u001b[0m | \u001b[95m 0.683   \u001b[0m | \u001b[95m 6.388   \u001b[0m | \u001b[95m 0.4556  \u001b[0m | \u001b[95m 0.156   \u001b[0m |\n",
      "| \u001b[0m 3       \u001b[0m | \u001b[0m 0.5639  \u001b[0m | \u001b[0m 1.523   \u001b[0m | \u001b[0m 0.9137  \u001b[0m | \u001b[0m 0.6011  \u001b[0m |\n",
      "| \u001b[0m 4       \u001b[0m | \u001b[0m 0.5137  \u001b[0m | \u001b[0m 7.373   \u001b[0m | \u001b[0m 0.3683  \u001b[0m | \u001b[0m 0.9699  \u001b[0m |\n",
      "| \u001b[0m 5       \u001b[0m | \u001b[0m 0.617   \u001b[0m | \u001b[0m 8.492   \u001b[0m | \u001b[0m 0.492   \u001b[0m | \u001b[0m 0.1818  \u001b[0m |\n",
      "| \u001b[0m 6       \u001b[0m | \u001b[0m 0.5712  \u001b[0m | \u001b[0m 2.651   \u001b[0m | \u001b[0m 0.5512  \u001b[0m | \u001b[0m 0.5248  \u001b[0m |\n",
      "| \u001b[0m 7       \u001b[0m | \u001b[0m 0.5892  \u001b[0m | \u001b[0m 4.888   \u001b[0m | \u001b[0m 0.5428  \u001b[0m | \u001b[0m 0.6119  \u001b[0m |\n",
      "| \u001b[0m 8       \u001b[0m | \u001b[0m 0.5892  \u001b[0m | \u001b[0m 2.255   \u001b[0m | \u001b[0m 0.5434  \u001b[0m | \u001b[0m 0.3664  \u001b[0m |\n",
      "| \u001b[0m 9       \u001b[0m | \u001b[0m 0.6241  \u001b[0m | \u001b[0m 5.105   \u001b[0m | \u001b[0m 0.8614  \u001b[0m | \u001b[0m 0.1997  \u001b[0m |\n",
      "| \u001b[95m 10      \u001b[0m | \u001b[95m 0.6899  \u001b[0m | \u001b[95m 5.628   \u001b[0m | \u001b[95m 0.7371  \u001b[0m | \u001b[95m 0.04645 \u001b[0m |\n",
      "| \u001b[95m 11      \u001b[0m | \u001b[95m 0.6909  \u001b[0m | \u001b[95m 6.468   \u001b[0m | \u001b[95m 0.465   \u001b[0m | \u001b[95m 0.06505 \u001b[0m |\n",
      "| \u001b[0m 12      \u001b[0m | \u001b[0m 0.6162  \u001b[0m | \u001b[0m 9.54    \u001b[0m | \u001b[0m 0.9778  \u001b[0m | \u001b[0m 0.8084  \u001b[0m |\n",
      "| \u001b[0m 13      \u001b[0m | \u001b[0m 0.5728  \u001b[0m | \u001b[0m 3.742   \u001b[0m | \u001b[0m 0.418   \u001b[0m | \u001b[0m 0.6842  \u001b[0m |\n",
      "| \u001b[0m 14      \u001b[0m | \u001b[0m 0.5624  \u001b[0m | \u001b[0m 4.961   \u001b[0m | \u001b[0m 0.4337  \u001b[0m | \u001b[0m 0.4952  \u001b[0m |\n",
      "| \u001b[0m 15      \u001b[0m | \u001b[0m 0.5807  \u001b[0m | \u001b[0m 1.309   \u001b[0m | \u001b[0m 0.9415  \u001b[0m | \u001b[0m 0.2588  \u001b[0m |\n",
      "| \u001b[95m 16      \u001b[0m | \u001b[95m 0.6985  \u001b[0m | \u001b[95m 6.025   \u001b[0m | \u001b[95m 0.7413  \u001b[0m | \u001b[95m 0.0     \u001b[0m |\n",
      "| \u001b[95m 17      \u001b[0m | \u001b[95m 0.7004  \u001b[0m | \u001b[95m 5.802   \u001b[0m | \u001b[95m 1.0     \u001b[0m | \u001b[95m 0.0     \u001b[0m |\n",
      "| \u001b[95m 18      \u001b[0m | \u001b[95m 0.7059  \u001b[0m | \u001b[95m 6.469   \u001b[0m | \u001b[95m 0.9385  \u001b[0m | \u001b[95m 0.0     \u001b[0m |\n",
      "| \u001b[0m 19      \u001b[0m | \u001b[0m 0.6249  \u001b[0m | \u001b[0m 5.916   \u001b[0m | \u001b[0m 1.0     \u001b[0m | \u001b[0m 0.4036  \u001b[0m |\n",
      "| \u001b[95m 20      \u001b[0m | \u001b[95m 0.7079  \u001b[0m | \u001b[95m 6.813   \u001b[0m | \u001b[95m 1.0     \u001b[0m | \u001b[95m 0.0     \u001b[0m |\n",
      "| \u001b[0m 21      \u001b[0m | \u001b[0m 0.7004  \u001b[0m | \u001b[0m 6.685   \u001b[0m | \u001b[0m 0.8221  \u001b[0m | \u001b[0m 0.0     \u001b[0m |\n",
      "| \u001b[0m 22      \u001b[0m | \u001b[0m 0.7079  \u001b[0m | \u001b[0m 6.649   \u001b[0m | \u001b[0m 1.0     \u001b[0m | \u001b[0m 0.0     \u001b[0m |\n",
      "| \u001b[0m 23      \u001b[0m | \u001b[0m 0.6965  \u001b[0m | \u001b[0m 7.359   \u001b[0m | \u001b[0m 1.0     \u001b[0m | \u001b[0m 0.0     \u001b[0m |\n",
      "| \u001b[0m 24      \u001b[0m | \u001b[0m 0.6902  \u001b[0m | \u001b[0m 10.0    \u001b[0m | \u001b[0m 0.355   \u001b[0m | \u001b[0m 0.0     \u001b[0m |\n",
      "| \u001b[0m 25      \u001b[0m | \u001b[0m 0.6929  \u001b[0m | \u001b[0m 9.999   \u001b[0m | \u001b[0m 0.8806  \u001b[0m | \u001b[0m 0.003981\u001b[0m |\n",
      "| \u001b[0m 26      \u001b[0m | \u001b[0m 0.6802  \u001b[0m | \u001b[0m 9.444   \u001b[0m | \u001b[0m 0.6036  \u001b[0m | \u001b[0m 0.02231 \u001b[0m |\n",
      "| \u001b[0m 27      \u001b[0m | \u001b[0m 0.6863  \u001b[0m | \u001b[0m 6.091   \u001b[0m | \u001b[0m 0.3695  \u001b[0m | \u001b[0m 0.000201\u001b[0m |\n",
      "| \u001b[0m 28      \u001b[0m | \u001b[0m 0.5639  \u001b[0m | \u001b[0m 10.0    \u001b[0m | \u001b[0m 0.355   \u001b[0m | \u001b[0m 0.564   \u001b[0m |\n",
      "| \u001b[0m 29      \u001b[0m | \u001b[0m 0.6871  \u001b[0m | \u001b[0m 9.289   \u001b[0m | \u001b[0m 0.9876  \u001b[0m | \u001b[0m 0.02002 \u001b[0m |\n",
      "| \u001b[0m 30      \u001b[0m | \u001b[0m 0.6902  \u001b[0m | \u001b[0m 9.782   \u001b[0m | \u001b[0m 0.9944  \u001b[0m | \u001b[0m 0.009876\u001b[0m |\n",
      "| \u001b[0m 31      \u001b[0m | \u001b[0m 0.6873  \u001b[0m | \u001b[0m 7.872   \u001b[0m | \u001b[0m 0.9898  \u001b[0m | \u001b[0m 0.005327\u001b[0m |\n",
      "| \u001b[0m 32      \u001b[0m | \u001b[0m 0.7049  \u001b[0m | \u001b[0m 8.616   \u001b[0m | \u001b[0m 1.0     \u001b[0m | \u001b[0m 0.0     \u001b[0m |\n",
      "| \u001b[0m 33      \u001b[0m | \u001b[0m 0.6741  \u001b[0m | \u001b[0m 8.636   \u001b[0m | \u001b[0m 0.9976  \u001b[0m | \u001b[0m 0.3616  \u001b[0m |\n",
      "| \u001b[0m 34      \u001b[0m | \u001b[0m 0.7049  \u001b[0m | \u001b[0m 8.838   \u001b[0m | \u001b[0m 1.0     \u001b[0m | \u001b[0m 0.0     \u001b[0m |\n",
      "| \u001b[0m 35      \u001b[0m | \u001b[0m 0.6902  \u001b[0m | \u001b[0m 7.041   \u001b[0m | \u001b[0m 0.355   \u001b[0m | \u001b[0m 0.0     \u001b[0m |\n",
      "| \u001b[0m 36      \u001b[0m | \u001b[0m 0.6965  \u001b[0m | \u001b[0m 7.015   \u001b[0m | \u001b[0m 1.0     \u001b[0m | \u001b[0m 0.0     \u001b[0m |\n",
      "| \u001b[0m 37      \u001b[0m | \u001b[0m 0.694   \u001b[0m | \u001b[0m 7.538   \u001b[0m | \u001b[0m 0.6518  \u001b[0m | \u001b[0m 0.008994\u001b[0m |\n",
      "| \u001b[0m 38      \u001b[0m | \u001b[0m 0.694   \u001b[0m | \u001b[0m 6.256   \u001b[0m | \u001b[0m 0.9938  \u001b[0m | \u001b[0m 0.02015 \u001b[0m |\n",
      "| \u001b[0m 39      \u001b[0m | \u001b[0m 0.7079  \u001b[0m | \u001b[0m 6.745   \u001b[0m | \u001b[0m 1.0     \u001b[0m | \u001b[0m 0.0     \u001b[0m |\n",
      "| \u001b[0m 40      \u001b[0m | \u001b[0m 0.6929  \u001b[0m | \u001b[0m 9.802   \u001b[0m | \u001b[0m 0.5873  \u001b[0m | \u001b[0m 9.447e-0\u001b[0m |\n",
      "| \u001b[0m 41      \u001b[0m | \u001b[0m 0.6821  \u001b[0m | \u001b[0m 6.78    \u001b[0m | \u001b[0m 1.0     \u001b[0m | \u001b[0m 0.1681  \u001b[0m |\n",
      "| \u001b[0m 42      \u001b[0m | \u001b[0m 0.5137  \u001b[0m | \u001b[0m 1.007   \u001b[0m | \u001b[0m 0.4438  \u001b[0m | \u001b[0m 0.9655  \u001b[0m |\n",
      "| \u001b[0m 43      \u001b[0m | \u001b[0m 0.5892  \u001b[0m | \u001b[0m 5.117   \u001b[0m | \u001b[0m 0.9911  \u001b[0m | \u001b[0m 0.9671  \u001b[0m |\n",
      "| \u001b[0m 44      \u001b[0m | \u001b[0m 0.694   \u001b[0m | \u001b[0m 7.449   \u001b[0m | \u001b[0m 0.3815  \u001b[0m | \u001b[0m 0.004263\u001b[0m |\n",
      "| \u001b[0m 45      \u001b[0m | \u001b[0m 0.7039  \u001b[0m | \u001b[0m 3.511   \u001b[0m | \u001b[0m 1.0     \u001b[0m | \u001b[0m 0.0     \u001b[0m |\n",
      "| \u001b[0m 46      \u001b[0m | \u001b[0m 0.7039  \u001b[0m | \u001b[0m 3.837   \u001b[0m | \u001b[0m 1.0     \u001b[0m | \u001b[0m 0.0     \u001b[0m |\n",
      "| \u001b[0m 47      \u001b[0m | \u001b[0m 0.7039  \u001b[0m | \u001b[0m 3.769   \u001b[0m | \u001b[0m 0.855   \u001b[0m | \u001b[0m 0.000224\u001b[0m |\n",
      "| \u001b[0m 48      \u001b[0m | \u001b[0m 0.7039  \u001b[0m | \u001b[0m 3.674   \u001b[0m | \u001b[0m 1.0     \u001b[0m | \u001b[0m 0.0     \u001b[0m |\n",
      "| \u001b[0m 49      \u001b[0m | \u001b[0m 0.7039  \u001b[0m | \u001b[0m 3.028   \u001b[0m | \u001b[0m 1.0     \u001b[0m | \u001b[0m 0.0     \u001b[0m |\n",
      "| \u001b[0m 50      \u001b[0m | \u001b[0m 0.6882  \u001b[0m | \u001b[0m 3.273   \u001b[0m | \u001b[0m 0.7394  \u001b[0m | \u001b[0m 0.00692 \u001b[0m |\n",
      "=============================================================\n"
     ]
    }
   ],
   "source": [
    "hyperparam_nb_KC2 = run_ml(data_load['KC2'], 10, bound_naive_bayes['KC2'], model.naive_bayes)"
   ]
  },
  {
   "cell_type": "code",
   "execution_count": 54,
   "metadata": {
    "scrolled": true
   },
   "outputs": [
    {
     "data": {
      "text/plain": [
       "{'Train': {'Gmeans': 0.623855047224011,\n",
       "  'Recall': 0.4187779433681073,\n",
       "  'pf': 0.07064083457526081,\n",
       "  'cf_matrix': {'tn': 3118, 'fp': 237, 'fn': 1950, 'tp': 1405}},\n",
       " 'Dev': {'Gmeans': 0.7078507127770286,\n",
       "  'Recall': 0.5333333333333333,\n",
       "  'pf': 0.060526315789473685,\n",
       "  'cf_matrix': {'tn': 357, 'fp': 23, 'fn': 42, 'tp': 48}},\n",
       " 'Test': {'Gmeans': 0.6467853345594956,\n",
       "  'Recall': 0.4485981308411215,\n",
       "  'pf': 0.06746987951807229,\n",
       "  'cf_matrix': {'tn': 387, 'fp': 28, 'fn': 59, 'tp': 48}}}"
      ]
     },
     "execution_count": 54,
     "metadata": {},
     "output_type": "execute_result"
    }
   ],
   "source": [
    "best_hyperparam_nb_KC2 = hyperparam_nb_KC2.max['params']\n",
    "result_nb_KC2 = run_ml(data_load['KC2'], 10, best_hyperparam_nb_KC2, model.naive_bayes,do_optimize = False)\n",
    "result_nb_KC2"
   ]
  },
  {
   "cell_type": "markdown",
   "metadata": {},
   "source": [
    "### PC1"
   ]
  },
  {
   "cell_type": "code",
   "execution_count": 55,
   "metadata": {
    "scrolled": true
   },
   "outputs": [
    {
     "name": "stdout",
     "output_type": "stream",
     "text": [
      "|   iter    |  target   | neighbors | sampling  | var_sm... |\n",
      "-------------------------------------------------------------\n",
      "| \u001b[0m 1       \u001b[0m | \u001b[0m 0.5387  \u001b[0m | \u001b[0m 4.371   \u001b[0m | \u001b[0m 0.9615  \u001b[0m | \u001b[0m 0.732   \u001b[0m |\n",
      "| \u001b[95m 2       \u001b[0m | \u001b[95m 0.5498  \u001b[0m | \u001b[95m 6.388   \u001b[0m | \u001b[95m 0.3412  \u001b[0m | \u001b[95m 0.156   \u001b[0m |\n",
      "| \u001b[0m 3       \u001b[0m | \u001b[0m 0.5256  \u001b[0m | \u001b[0m 1.523   \u001b[0m | \u001b[0m 0.8955  \u001b[0m | \u001b[0m 0.6011  \u001b[0m |\n",
      "| \u001b[0m 4       \u001b[0m | \u001b[0m 0.5144  \u001b[0m | \u001b[0m 7.373   \u001b[0m | \u001b[0m 0.2355  \u001b[0m | \u001b[0m 0.9699  \u001b[0m |\n",
      "| \u001b[95m 5       \u001b[0m | \u001b[95m 0.5631  \u001b[0m | \u001b[95m 8.492   \u001b[0m | \u001b[95m 0.3852  \u001b[0m | \u001b[95m 0.1818  \u001b[0m |\n",
      "| \u001b[0m 6       \u001b[0m | \u001b[0m 0.5544  \u001b[0m | \u001b[0m 2.651   \u001b[0m | \u001b[0m 0.4569  \u001b[0m | \u001b[0m 0.5248  \u001b[0m |\n",
      "| \u001b[0m 7       \u001b[0m | \u001b[0m 0.5541  \u001b[0m | \u001b[0m 4.888   \u001b[0m | \u001b[0m 0.4467  \u001b[0m | \u001b[0m 0.6119  \u001b[0m |\n",
      "| \u001b[0m 8       \u001b[0m | \u001b[0m 0.553   \u001b[0m | \u001b[0m 2.255   \u001b[0m | \u001b[0m 0.4474  \u001b[0m | \u001b[0m 0.3664  \u001b[0m |\n",
      "| \u001b[0m 9       \u001b[0m | \u001b[0m 0.5477  \u001b[0m | \u001b[0m 5.105   \u001b[0m | \u001b[0m 0.8323  \u001b[0m | \u001b[0m 0.1997  \u001b[0m |\n",
      "| \u001b[0m 10      \u001b[0m | \u001b[0m 0.5576  \u001b[0m | \u001b[0m 5.628   \u001b[0m | \u001b[0m 0.6818  \u001b[0m | \u001b[0m 0.04645 \u001b[0m |\n",
      "| \u001b[0m 11      \u001b[0m | \u001b[0m 0.5601  \u001b[0m | \u001b[0m 6.468   \u001b[0m | \u001b[0m 0.3525  \u001b[0m | \u001b[0m 0.06505 \u001b[0m |\n",
      "| \u001b[0m 12      \u001b[0m | \u001b[0m 0.5498  \u001b[0m | \u001b[0m 9.54    \u001b[0m | \u001b[0m 0.9732  \u001b[0m | \u001b[0m 0.8084  \u001b[0m |\n",
      "| \u001b[0m 13      \u001b[0m | \u001b[0m 0.5404  \u001b[0m | \u001b[0m 3.742   \u001b[0m | \u001b[0m 0.2956  \u001b[0m | \u001b[0m 0.6842  \u001b[0m |\n",
      "| \u001b[0m 14      \u001b[0m | \u001b[0m 0.54    \u001b[0m | \u001b[0m 4.961   \u001b[0m | \u001b[0m 0.3147  \u001b[0m | \u001b[0m 0.4952  \u001b[0m |\n",
      "| \u001b[0m 15      \u001b[0m | \u001b[0m 0.552   \u001b[0m | \u001b[0m 1.309   \u001b[0m | \u001b[0m 0.9292  \u001b[0m | \u001b[0m 0.2588  \u001b[0m |\n",
      "| \u001b[0m 16      \u001b[0m | \u001b[0m 0.5631  \u001b[0m | \u001b[0m 8.459   \u001b[0m | \u001b[0m 0.4424  \u001b[0m | \u001b[0m 0.1851  \u001b[0m |\n",
      "| \u001b[0m 17      \u001b[0m | \u001b[0m 0.562   \u001b[0m | \u001b[0m 8.582   \u001b[0m | \u001b[0m 0.4767  \u001b[0m | \u001b[0m 0.1716  \u001b[0m |\n",
      "| \u001b[0m 18      \u001b[0m | \u001b[0m 0.5576  \u001b[0m | \u001b[0m 6.625   \u001b[0m | \u001b[0m 0.3762  \u001b[0m | \u001b[0m 0.0     \u001b[0m |\n",
      "| \u001b[0m 19      \u001b[0m | \u001b[0m 0.5523  \u001b[0m | \u001b[0m 8.517   \u001b[0m | \u001b[0m 0.429   \u001b[0m | \u001b[0m 0.3406  \u001b[0m |\n",
      "| \u001b[0m 20      \u001b[0m | \u001b[0m 0.559   \u001b[0m | \u001b[0m 8.488   \u001b[0m | \u001b[0m 0.4291  \u001b[0m | \u001b[0m 0.04829 \u001b[0m |\n",
      "| \u001b[0m 21      \u001b[0m | \u001b[0m 0.5587  \u001b[0m | \u001b[0m 6.465   \u001b[0m | \u001b[0m 0.5107  \u001b[0m | \u001b[0m 0.0     \u001b[0m |\n",
      "| \u001b[95m 22      \u001b[0m | \u001b[95m 0.5634  \u001b[0m | \u001b[95m 8.262   \u001b[0m | \u001b[95m 0.32    \u001b[0m | \u001b[95m 0.1616  \u001b[0m |\n",
      "| \u001b[0m 23      \u001b[0m | \u001b[0m 0.5616  \u001b[0m | \u001b[0m 8.18    \u001b[0m | \u001b[0m 0.4899  \u001b[0m | \u001b[0m 0.1829  \u001b[0m |\n",
      "| \u001b[0m 24      \u001b[0m | \u001b[0m 0.5601  \u001b[0m | \u001b[0m 8.056   \u001b[0m | \u001b[0m 0.3061  \u001b[0m | \u001b[0m 0.0732  \u001b[0m |\n",
      "| \u001b[0m 25      \u001b[0m | \u001b[0m 0.552   \u001b[0m | \u001b[0m 8.088   \u001b[0m | \u001b[0m 0.2632  \u001b[0m | \u001b[0m 0.3537  \u001b[0m |\n",
      "| \u001b[0m 26      \u001b[0m | \u001b[0m 0.547   \u001b[0m | \u001b[0m 3.775   \u001b[0m | \u001b[0m 0.8916  \u001b[0m | \u001b[0m 0.09384 \u001b[0m |\n",
      "| \u001b[0m 27      \u001b[0m | \u001b[0m 0.5598  \u001b[0m | \u001b[0m 8.236   \u001b[0m | \u001b[0m 0.4059  \u001b[0m | \u001b[0m 0.06154 \u001b[0m |\n",
      "| \u001b[0m 28      \u001b[0m | \u001b[0m 0.5537  \u001b[0m | \u001b[0m 3.414   \u001b[0m | \u001b[0m 0.4187  \u001b[0m | \u001b[0m 0.5045  \u001b[0m |\n",
      "| \u001b[0m 29      \u001b[0m | \u001b[0m 0.5404  \u001b[0m | \u001b[0m 6.511   \u001b[0m | \u001b[0m 0.2674  \u001b[0m | \u001b[0m 0.4249  \u001b[0m |\n",
      "| \u001b[0m 30      \u001b[0m | \u001b[0m 0.5627  \u001b[0m | \u001b[0m 8.409   \u001b[0m | \u001b[0m 0.2378  \u001b[0m | \u001b[0m 0.08458 \u001b[0m |\n",
      "| \u001b[0m 31      \u001b[0m | \u001b[0m 0.5601  \u001b[0m | \u001b[0m 8.237   \u001b[0m | \u001b[0m 0.4161  \u001b[0m | \u001b[0m 0.08604 \u001b[0m |\n",
      "| \u001b[0m 32      \u001b[0m | \u001b[0m 0.5488  \u001b[0m | \u001b[0m 8.156   \u001b[0m | \u001b[0m 0.7995  \u001b[0m | \u001b[0m 0.2066  \u001b[0m |\n",
      "| \u001b[0m 33      \u001b[0m | \u001b[0m 0.4978  \u001b[0m | \u001b[0m 4.027   \u001b[0m | \u001b[0m 0.2648  \u001b[0m | \u001b[0m 0.8785  \u001b[0m |\n",
      "| \u001b[0m 34      \u001b[0m | \u001b[0m 0.552   \u001b[0m | \u001b[0m 5.024   \u001b[0m | \u001b[0m 0.6585  \u001b[0m | \u001b[0m 0.8865  \u001b[0m |\n",
      "| \u001b[0m 35      \u001b[0m | \u001b[0m 0.5594  \u001b[0m | \u001b[0m 1.0     \u001b[0m | \u001b[0m 1.0     \u001b[0m | \u001b[0m 0.0     \u001b[0m |\n",
      "| \u001b[0m 36      \u001b[0m | \u001b[0m 0.5605  \u001b[0m | \u001b[0m 1.035   \u001b[0m | \u001b[0m 0.6443  \u001b[0m | \u001b[0m 0.0     \u001b[0m |\n",
      "| \u001b[0m 37      \u001b[0m | \u001b[0m 0.527   \u001b[0m | \u001b[0m 5.741   \u001b[0m | \u001b[0m 0.3921  \u001b[0m | \u001b[0m 0.9359  \u001b[0m |\n",
      "| \u001b[0m 38      \u001b[0m | \u001b[0m 0.4965  \u001b[0m | \u001b[0m 1.633   \u001b[0m | \u001b[0m 0.8288  \u001b[0m | \u001b[0m 0.8725  \u001b[0m |\n",
      "| \u001b[0m 39      \u001b[0m | \u001b[0m 0.5587  \u001b[0m | \u001b[0m 5.855   \u001b[0m | \u001b[0m 1.0     \u001b[0m | \u001b[0m 0.0     \u001b[0m |\n",
      "| \u001b[0m 40      \u001b[0m | \u001b[0m 0.5516  \u001b[0m | \u001b[0m 1.008   \u001b[0m | \u001b[0m 0.2339  \u001b[0m | \u001b[0m 0.1136  \u001b[0m |\n",
      "| \u001b[0m 41      \u001b[0m | \u001b[0m 0.5631  \u001b[0m | \u001b[0m 8.468   \u001b[0m | \u001b[0m 0.4438  \u001b[0m | \u001b[0m 0.1839  \u001b[0m |\n",
      "| \u001b[0m 42      \u001b[0m | \u001b[0m 0.5631  \u001b[0m | \u001b[0m 2.654   \u001b[0m | \u001b[0m 0.2194  \u001b[0m | \u001b[0m 0.0     \u001b[0m |\n",
      "| \u001b[0m 43      \u001b[0m | \u001b[0m 0.5605  \u001b[0m | \u001b[0m 2.683   \u001b[0m | \u001b[0m 0.5411  \u001b[0m | \u001b[0m 0.0     \u001b[0m |\n",
      "| \u001b[0m 44      \u001b[0m | \u001b[0m 0.562   \u001b[0m | \u001b[0m 2.988   \u001b[0m | \u001b[0m 0.2286  \u001b[0m | \u001b[0m 0.0     \u001b[0m |\n",
      "| \u001b[0m 45      \u001b[0m | \u001b[0m 0.5527  \u001b[0m | \u001b[0m 2.811   \u001b[0m | \u001b[0m 0.2194  \u001b[0m | \u001b[0m 0.2235  \u001b[0m |\n",
      "| \u001b[0m 46      \u001b[0m | \u001b[0m 0.5609  \u001b[0m | \u001b[0m 2.396   \u001b[0m | \u001b[0m 0.3466  \u001b[0m | \u001b[0m 0.002707\u001b[0m |\n",
      "| \u001b[0m 47      \u001b[0m | \u001b[0m 0.5481  \u001b[0m | \u001b[0m 3.404   \u001b[0m | \u001b[0m 0.2194  \u001b[0m | \u001b[0m 0.0     \u001b[0m |\n",
      "| \u001b[0m 48      \u001b[0m | \u001b[0m 0.5605  \u001b[0m | \u001b[0m 2.22    \u001b[0m | \u001b[0m 0.9578  \u001b[0m | \u001b[0m 0.1005  \u001b[0m |\n",
      "| \u001b[0m 49      \u001b[0m | \u001b[0m 0.5587  \u001b[0m | \u001b[0m 2.569   \u001b[0m | \u001b[0m 1.0     \u001b[0m | \u001b[0m 0.0     \u001b[0m |\n",
      "| \u001b[0m 50      \u001b[0m | \u001b[0m 0.5598  \u001b[0m | \u001b[0m 2.355   \u001b[0m | \u001b[0m 0.7227  \u001b[0m | \u001b[0m 0.007329\u001b[0m |\n",
      "=============================================================\n"
     ]
    }
   ],
   "source": [
    "hyperparam_nb_PC1 = run_ml(data_load['PC1'], 5, bound_naive_bayes['PC1'], model.naive_bayes)"
   ]
  },
  {
   "cell_type": "code",
   "execution_count": 56,
   "metadata": {},
   "outputs": [
    {
     "data": {
      "text/plain": [
       "{'Train': {'Gmeans': 0.5344111613605751,\n",
       "  'Recall': 0.3090047393364929,\n",
       "  'pf': 0.07575757575757576,\n",
       "  'cf_matrix': {'tn': 3050, 'fp': 250, 'fn': 729, 'tp': 326}},\n",
       " 'Dev': {'Gmeans': 0.5634164136462172,\n",
       "  'Recall': 0.3387096774193548,\n",
       "  'pf': 0.06280193236714976,\n",
       "  'cf_matrix': {'tn': 776, 'fp': 52, 'fn': 41, 'tp': 21}},\n",
       " 'Test': {'Gmeans': 0.547272048304618,\n",
       "  'Recall': 0.3246753246753247,\n",
       "  'pf': 0.07751937984496124,\n",
       "  'cf_matrix': {'tn': 952, 'fp': 80, 'fn': 52, 'tp': 25}}}"
      ]
     },
     "execution_count": 56,
     "metadata": {},
     "output_type": "execute_result"
    }
   ],
   "source": [
    "best_hyperparam_nb_PC1 = hyperparam_nb_PC1.max['params']\n",
    "result_nb_PC1 = run_ml(data_load['PC1'], 5, best_hyperparam_nb_PC1, model.naive_bayes,do_optimize = False)\n",
    "result_nb_PC1"
   ]
  },
  {
   "cell_type": "markdown",
   "metadata": {},
   "source": [
    "### PC3"
   ]
  },
  {
   "cell_type": "code",
   "execution_count": 57,
   "metadata": {
    "scrolled": true
   },
   "outputs": [
    {
     "name": "stdout",
     "output_type": "stream",
     "text": [
      "|   iter    |  target   | neighbors | sampling  | var_sm... |\n",
      "-------------------------------------------------------------\n",
      "| \u001b[0m 1       \u001b[0m | \u001b[0m 0.7098  \u001b[0m | \u001b[0m 4.371   \u001b[0m | \u001b[0m 0.9642  \u001b[0m | \u001b[0m 0.732   \u001b[0m |\n",
      "| \u001b[0m 2       \u001b[0m | \u001b[0m 0.7044  \u001b[0m | \u001b[0m 6.388   \u001b[0m | \u001b[0m 0.3876  \u001b[0m | \u001b[0m 0.156   \u001b[0m |\n",
      "| \u001b[0m 3       \u001b[0m | \u001b[0m 0.7073  \u001b[0m | \u001b[0m 1.523   \u001b[0m | \u001b[0m 0.9029  \u001b[0m | \u001b[0m 0.6011  \u001b[0m |\n",
      "| \u001b[0m 4       \u001b[0m | \u001b[0m 0.3869  \u001b[0m | \u001b[0m 7.373   \u001b[0m | \u001b[0m 0.2893  \u001b[0m | \u001b[0m 0.9699  \u001b[0m |\n",
      "| \u001b[0m 5       \u001b[0m | \u001b[0m 0.6938  \u001b[0m | \u001b[0m 8.492   \u001b[0m | \u001b[0m 0.4285  \u001b[0m | \u001b[0m 0.1818  \u001b[0m |\n",
      "| \u001b[0m 6       \u001b[0m | \u001b[0m 0.668   \u001b[0m | \u001b[0m 2.651   \u001b[0m | \u001b[0m 0.4952  \u001b[0m | \u001b[0m 0.5248  \u001b[0m |\n",
      "| \u001b[0m 7       \u001b[0m | \u001b[0m 0.67    \u001b[0m | \u001b[0m 4.888   \u001b[0m | \u001b[0m 0.4857  \u001b[0m | \u001b[0m 0.6119  \u001b[0m |\n",
      "| \u001b[0m 8       \u001b[0m | \u001b[0m 0.6912  \u001b[0m | \u001b[0m 2.255   \u001b[0m | \u001b[0m 0.4864  \u001b[0m | \u001b[0m 0.3664  \u001b[0m |\n",
      "| \u001b[95m 9       \u001b[0m | \u001b[95m 0.7132  \u001b[0m | \u001b[95m 5.105   \u001b[0m | \u001b[95m 0.8441  \u001b[0m | \u001b[95m 0.1997  \u001b[0m |\n",
      "| \u001b[0m 10      \u001b[0m | \u001b[0m 0.6729  \u001b[0m | \u001b[0m 5.628   \u001b[0m | \u001b[0m 0.7043  \u001b[0m | \u001b[0m 0.04645 \u001b[0m |\n",
      "| \u001b[0m 11      \u001b[0m | \u001b[0m 0.6946  \u001b[0m | \u001b[0m 6.468   \u001b[0m | \u001b[0m 0.3981  \u001b[0m | \u001b[0m 0.06505 \u001b[0m |\n",
      "| \u001b[0m 12      \u001b[0m | \u001b[0m 0.7058  \u001b[0m | \u001b[0m 9.54    \u001b[0m | \u001b[0m 0.9751  \u001b[0m | \u001b[0m 0.8084  \u001b[0m |\n",
      "| \u001b[0m 13      \u001b[0m | \u001b[0m 0.5637  \u001b[0m | \u001b[0m 3.742   \u001b[0m | \u001b[0m 0.3453  \u001b[0m | \u001b[0m 0.6842  \u001b[0m |\n",
      "| \u001b[0m 14      \u001b[0m | \u001b[0m 0.6177  \u001b[0m | \u001b[0m 4.961   \u001b[0m | \u001b[0m 0.363   \u001b[0m | \u001b[0m 0.4952  \u001b[0m |\n",
      "| \u001b[0m 15      \u001b[0m | \u001b[0m 0.7088  \u001b[0m | \u001b[0m 1.309   \u001b[0m | \u001b[0m 0.9342  \u001b[0m | \u001b[0m 0.2588  \u001b[0m |\n",
      "| \u001b[95m 16      \u001b[0m | \u001b[95m 0.7148  \u001b[0m | \u001b[95m 4.882   \u001b[0m | \u001b[95m 1.0     \u001b[0m | \u001b[95m 0.6556  \u001b[0m |\n",
      "| \u001b[0m 17      \u001b[0m | \u001b[0m 0.6948  \u001b[0m | \u001b[0m 4.7     \u001b[0m | \u001b[0m 1.0     \u001b[0m | \u001b[0m 0.1843  \u001b[0m |\n",
      "| \u001b[0m 18      \u001b[0m | \u001b[0m 0.6949  \u001b[0m | \u001b[0m 4.714   \u001b[0m | \u001b[0m 0.8054  \u001b[0m | \u001b[0m 1.0     \u001b[0m |\n",
      "| \u001b[0m 19      \u001b[0m | \u001b[0m 0.7126  \u001b[0m | \u001b[0m 9.207   \u001b[0m | \u001b[0m 0.6706  \u001b[0m | \u001b[0m 0.1781  \u001b[0m |\n",
      "| \u001b[0m 20      \u001b[0m | \u001b[0m 0.5161  \u001b[0m | \u001b[0m 9.406   \u001b[0m | \u001b[0m 0.3008  \u001b[0m | \u001b[0m 0.6356  \u001b[0m |\n",
      "| \u001b[0m 21      \u001b[0m | \u001b[0m 0.6693  \u001b[0m | \u001b[0m 9.075   \u001b[0m | \u001b[0m 1.0     \u001b[0m | \u001b[0m 0.06891 \u001b[0m |\n",
      "| \u001b[0m 22      \u001b[0m | \u001b[0m 0.7081  \u001b[0m | \u001b[0m 5.087   \u001b[0m | \u001b[0m 0.8536  \u001b[0m | \u001b[0m 0.1762  \u001b[0m |\n",
      "| \u001b[0m 23      \u001b[0m | \u001b[0m 0.7096  \u001b[0m | \u001b[0m 5.253   \u001b[0m | \u001b[0m 0.9708  \u001b[0m | \u001b[0m 0.4475  \u001b[0m |\n",
      "| \u001b[0m 24      \u001b[0m | \u001b[0m 0.7041  \u001b[0m | \u001b[0m 1.816   \u001b[0m | \u001b[0m 0.9907  \u001b[0m | \u001b[0m 0.1628  \u001b[0m |\n",
      "| \u001b[0m 25      \u001b[0m | \u001b[0m 0.6974  \u001b[0m | \u001b[0m 1.559   \u001b[0m | \u001b[0m 0.4745  \u001b[0m | \u001b[0m 0.2633  \u001b[0m |\n",
      "| \u001b[0m 26      \u001b[0m | \u001b[0m 0.6876  \u001b[0m | \u001b[0m 3.775   \u001b[0m | \u001b[0m 0.8992  \u001b[0m | \u001b[0m 0.09384 \u001b[0m |\n",
      "| \u001b[0m 27      \u001b[0m | \u001b[0m 0.5101  \u001b[0m | \u001b[0m 9.014   \u001b[0m | \u001b[0m 0.559   \u001b[0m | \u001b[0m 0.003151\u001b[0m |\n",
      "| \u001b[0m 28      \u001b[0m | \u001b[0m 0.705   \u001b[0m | \u001b[0m 9.549   \u001b[0m | \u001b[0m 0.9827  \u001b[0m | \u001b[0m 0.8226  \u001b[0m |\n",
      "| \u001b[0m 29      \u001b[0m | \u001b[0m 0.5967  \u001b[0m | \u001b[0m 6.511   \u001b[0m | \u001b[0m 0.319   \u001b[0m | \u001b[0m 0.4249  \u001b[0m |\n",
      "| \u001b[0m 30      \u001b[0m | \u001b[0m 0.7143  \u001b[0m | \u001b[0m 9.311   \u001b[0m | \u001b[0m 0.7854  \u001b[0m | \u001b[0m 0.2531  \u001b[0m |\n",
      "| \u001b[0m 31      \u001b[0m | \u001b[0m 0.7109  \u001b[0m | \u001b[0m 4.991   \u001b[0m | \u001b[0m 0.8873  \u001b[0m | \u001b[0m 0.4323  \u001b[0m |\n",
      "| \u001b[0m 32      \u001b[0m | \u001b[0m 0.7072  \u001b[0m | \u001b[0m 4.643   \u001b[0m | \u001b[0m 0.8944  \u001b[0m | \u001b[0m 0.6071  \u001b[0m |\n",
      "| \u001b[0m 33      \u001b[0m | \u001b[0m 0.4651  \u001b[0m | \u001b[0m 4.027   \u001b[0m | \u001b[0m 0.3166  \u001b[0m | \u001b[0m 0.8785  \u001b[0m |\n",
      "| \u001b[0m 34      \u001b[0m | \u001b[0m 0.6154  \u001b[0m | \u001b[0m 6.161   \u001b[0m | \u001b[0m 0.4193  \u001b[0m | \u001b[0m 0.01568 \u001b[0m |\n",
      "| \u001b[0m 35      \u001b[0m | \u001b[0m 0.7073  \u001b[0m | \u001b[0m 1.592   \u001b[0m | \u001b[0m 0.823   \u001b[0m | \u001b[0m 0.317   \u001b[0m |\n",
      "| \u001b[0m 36      \u001b[0m | \u001b[0m 0.698   \u001b[0m | \u001b[0m 5.06    \u001b[0m | \u001b[0m 0.8098  \u001b[0m | \u001b[0m 0.7906  \u001b[0m |\n",
      "| \u001b[0m 37      \u001b[0m | \u001b[0m 0.5394  \u001b[0m | \u001b[0m 5.741   \u001b[0m | \u001b[0m 0.4349  \u001b[0m | \u001b[0m 0.9359  \u001b[0m |\n",
      "| \u001b[0m 38      \u001b[0m | \u001b[0m 0.6899  \u001b[0m | \u001b[0m 1.633   \u001b[0m | \u001b[0m 0.8409  \u001b[0m | \u001b[0m 0.8725  \u001b[0m |\n",
      "| \u001b[0m 39      \u001b[0m | \u001b[0m 0.7048  \u001b[0m | \u001b[0m 1.916   \u001b[0m | \u001b[0m 0.7672  \u001b[0m | \u001b[0m 0.4977  \u001b[0m |\n",
      "| \u001b[0m 40      \u001b[0m | \u001b[0m 0.6902  \u001b[0m | \u001b[0m 1.207   \u001b[0m | \u001b[0m 0.7192  \u001b[0m | \u001b[0m 0.5662  \u001b[0m |\n",
      "| \u001b[0m 41      \u001b[0m | \u001b[0m 0.7005  \u001b[0m | \u001b[0m 1.923   \u001b[0m | \u001b[0m 0.65    \u001b[0m | \u001b[0m 0.07391 \u001b[0m |\n",
      "| \u001b[95m 42      \u001b[0m | \u001b[95m 0.7162  \u001b[0m | \u001b[95m 9.11    \u001b[0m | \u001b[95m 0.8157  \u001b[0m | \u001b[95m 0.3937  \u001b[0m |\n",
      "| \u001b[0m 43      \u001b[0m | \u001b[0m 0.694   \u001b[0m | \u001b[0m 8.186   \u001b[0m | \u001b[0m 0.3824  \u001b[0m | \u001b[0m 0.2115  \u001b[0m |\n",
      "| \u001b[0m 44      \u001b[0m | \u001b[0m 0.7088  \u001b[0m | \u001b[0m 4.269   \u001b[0m | \u001b[0m 0.9998  \u001b[0m | \u001b[0m 0.3332  \u001b[0m |\n",
      "| \u001b[0m 45      \u001b[0m | \u001b[0m 0.6976  \u001b[0m | \u001b[0m 9.013   \u001b[0m | \u001b[0m 0.9961  \u001b[0m | \u001b[0m 0.7302  \u001b[0m |\n",
      "| \u001b[0m 46      \u001b[0m | \u001b[0m 0.6928  \u001b[0m | \u001b[0m 5.31    \u001b[0m | \u001b[0m 0.9575  \u001b[0m | \u001b[0m 0.2036  \u001b[0m |\n",
      "| \u001b[0m 47      \u001b[0m | \u001b[0m 0.6914  \u001b[0m | \u001b[0m 8.416   \u001b[0m | \u001b[0m 0.6541  \u001b[0m | \u001b[0m 0.4992  \u001b[0m |\n",
      "| \u001b[0m 48      \u001b[0m | \u001b[0m 0.6792  \u001b[0m | \u001b[0m 2.22    \u001b[0m | \u001b[0m 0.9608  \u001b[0m | \u001b[0m 0.1005  \u001b[0m |\n",
      "| \u001b[0m 49      \u001b[0m | \u001b[0m 0.5838  \u001b[0m | \u001b[0m 1.828   \u001b[0m | \u001b[0m 0.3484  \u001b[0m | \u001b[0m 0.6309  \u001b[0m |\n",
      "| \u001b[0m 50      \u001b[0m | \u001b[0m 0.5925  \u001b[0m | \u001b[0m 1.399   \u001b[0m | \u001b[0m 0.6503  \u001b[0m | \u001b[0m 0.01566 \u001b[0m |\n",
      "=============================================================\n"
     ]
    }
   ],
   "source": [
    "hyperparam_nb_PC3 = run_ml(data_load['PC3'], 7, bound_naive_bayes['PC3'], model.naive_bayes)"
   ]
  },
  {
   "cell_type": "code",
   "execution_count": 58,
   "metadata": {},
   "outputs": [
    {
     "data": {
      "text/plain": [
       "{'Train': {'Gmeans': 0.7578341681134798,\n",
       "  'Recall': 0.8810126582278481,\n",
       "  'pf': 0.3481221626083368,\n",
       "  'cf_matrix': {'tn': 3159, 'fp': 1687, 'fn': 470, 'tp': 3480}},\n",
       " 'Dev': {'Gmeans': 0.7161613305479939,\n",
       "  'Recall': 0.8214285714285714,\n",
       "  'pf': 0.37561576354679804,\n",
       "  'cf_matrix': {'tn': 507, 'fp': 305, 'fn': 20, 'tp': 92}},\n",
       " 'Test': {'Gmeans': 0.7123974797796772,\n",
       "  'Recall': 0.7910447761194029,\n",
       "  'pf': 0.3584305408271474,\n",
       "  'cf_matrix': {'tn': 605, 'fp': 338, 'fn': 28, 'tp': 106}}}"
      ]
     },
     "execution_count": 58,
     "metadata": {},
     "output_type": "execute_result"
    }
   ],
   "source": [
    "best_hyperparam_nb_PC3 = hyperparam_nb_PC3.max['params']\n",
    "result_nb_PC3 = run_ml(data_load['PC3'], 7, best_hyperparam_nb_PC3, model.naive_bayes,do_optimize = False)\n",
    "result_nb_PC3"
   ]
  },
  {
   "cell_type": "markdown",
   "metadata": {},
   "source": [
    "   ### PC4"
   ]
  },
  {
   "cell_type": "code",
   "execution_count": 59,
   "metadata": {
    "scrolled": true
   },
   "outputs": [
    {
     "name": "stdout",
     "output_type": "stream",
     "text": [
      "|   iter    |  target   | neighbors | sampling  | var_sm... |\n",
      "-------------------------------------------------------------\n",
      "| \u001b[0m 1       \u001b[0m | \u001b[0m 0.7329  \u001b[0m | \u001b[0m 4.371   \u001b[0m | \u001b[0m 0.9641  \u001b[0m | \u001b[0m 0.732   \u001b[0m |\n",
      "| \u001b[95m 2       \u001b[0m | \u001b[95m 0.7356  \u001b[0m | \u001b[95m 6.388   \u001b[0m | \u001b[95m 0.3857  \u001b[0m | \u001b[95m 0.156   \u001b[0m |\n",
      "| \u001b[95m 3       \u001b[0m | \u001b[95m 0.7466  \u001b[0m | \u001b[95m 1.523   \u001b[0m | \u001b[95m 0.9026  \u001b[0m | \u001b[95m 0.6011  \u001b[0m |\n",
      "| \u001b[0m 4       \u001b[0m | \u001b[0m 0.5906  \u001b[0m | \u001b[0m 7.373   \u001b[0m | \u001b[0m 0.2871  \u001b[0m | \u001b[0m 0.9699  \u001b[0m |\n",
      "| \u001b[0m 5       \u001b[0m | \u001b[0m 0.7451  \u001b[0m | \u001b[0m 8.492   \u001b[0m | \u001b[0m 0.4267  \u001b[0m | \u001b[0m 0.1818  \u001b[0m |\n",
      "| \u001b[0m 6       \u001b[0m | \u001b[0m 0.7283  \u001b[0m | \u001b[0m 2.651   \u001b[0m | \u001b[0m 0.4936  \u001b[0m | \u001b[0m 0.5248  \u001b[0m |\n",
      "| \u001b[0m 7       \u001b[0m | \u001b[0m 0.7313  \u001b[0m | \u001b[0m 4.888   \u001b[0m | \u001b[0m 0.4841  \u001b[0m | \u001b[0m 0.6119  \u001b[0m |\n",
      "| \u001b[0m 8       \u001b[0m | \u001b[0m 0.7292  \u001b[0m | \u001b[0m 2.255   \u001b[0m | \u001b[0m 0.4848  \u001b[0m | \u001b[0m 0.3664  \u001b[0m |\n",
      "| \u001b[95m 9       \u001b[0m | \u001b[95m 0.7518  \u001b[0m | \u001b[95m 5.105   \u001b[0m | \u001b[95m 0.8436  \u001b[0m | \u001b[95m 0.1997  \u001b[0m |\n",
      "| \u001b[95m 10      \u001b[0m | \u001b[95m 0.7583  \u001b[0m | \u001b[95m 5.628   \u001b[0m | \u001b[95m 0.7033  \u001b[0m | \u001b[95m 0.04645 \u001b[0m |\n",
      "| \u001b[0m 11      \u001b[0m | \u001b[0m 0.7318  \u001b[0m | \u001b[0m 6.468   \u001b[0m | \u001b[0m 0.3962  \u001b[0m | \u001b[0m 0.06505 \u001b[0m |\n",
      "| \u001b[0m 12      \u001b[0m | \u001b[0m 0.724   \u001b[0m | \u001b[0m 9.54    \u001b[0m | \u001b[0m 0.975   \u001b[0m | \u001b[0m 0.8084  \u001b[0m |\n",
      "| \u001b[0m 13      \u001b[0m | \u001b[0m 0.6599  \u001b[0m | \u001b[0m 3.742   \u001b[0m | \u001b[0m 0.3432  \u001b[0m | \u001b[0m 0.6842  \u001b[0m |\n",
      "| \u001b[0m 14      \u001b[0m | \u001b[0m 0.7085  \u001b[0m | \u001b[0m 4.961   \u001b[0m | \u001b[0m 0.3609  \u001b[0m | \u001b[0m 0.4952  \u001b[0m |\n",
      "| \u001b[0m 15      \u001b[0m | \u001b[0m 0.7501  \u001b[0m | \u001b[0m 1.309   \u001b[0m | \u001b[0m 0.934   \u001b[0m | \u001b[0m 0.2588  \u001b[0m |\n",
      "| \u001b[0m 16      \u001b[0m | \u001b[0m 0.7331  \u001b[0m | \u001b[0m 5.147   \u001b[0m | \u001b[0m 1.0     \u001b[0m | \u001b[0m 0.7514  \u001b[0m |\n",
      "| \u001b[0m 17      \u001b[0m | \u001b[0m 0.7348  \u001b[0m | \u001b[0m 5.524   \u001b[0m | \u001b[0m 1.0     \u001b[0m | \u001b[0m 0.0     \u001b[0m |\n",
      "| \u001b[0m 18      \u001b[0m | \u001b[0m 0.7297  \u001b[0m | \u001b[0m 5.837   \u001b[0m | \u001b[0m 0.4306  \u001b[0m | \u001b[0m 0.0     \u001b[0m |\n",
      "| \u001b[0m 19      \u001b[0m | \u001b[0m 0.749   \u001b[0m | \u001b[0m 5.618   \u001b[0m | \u001b[0m 0.7321  \u001b[0m | \u001b[0m 0.3331  \u001b[0m |\n",
      "| \u001b[0m 20      \u001b[0m | \u001b[0m 0.7464  \u001b[0m | \u001b[0m 1.0     \u001b[0m | \u001b[0m 0.6117  \u001b[0m | \u001b[0m 0.5603  \u001b[0m |\n",
      "| \u001b[0m 21      \u001b[0m | \u001b[0m 0.7431  \u001b[0m | \u001b[0m 1.288   \u001b[0m | \u001b[0m 0.9161  \u001b[0m | \u001b[0m 0.2553  \u001b[0m |\n",
      "| \u001b[0m 22      \u001b[0m | \u001b[0m 0.7498  \u001b[0m | \u001b[0m 1.499   \u001b[0m | \u001b[0m 1.0     \u001b[0m | \u001b[0m 0.2763  \u001b[0m |\n",
      "| \u001b[0m 23      \u001b[0m | \u001b[0m 0.7428  \u001b[0m | \u001b[0m 1.347   \u001b[0m | \u001b[0m 1.0     \u001b[0m | \u001b[0m 0.4176  \u001b[0m |\n",
      "| \u001b[0m 24      \u001b[0m | \u001b[0m 0.7561  \u001b[0m | \u001b[0m 5.41    \u001b[0m | \u001b[0m 0.6732  \u001b[0m | \u001b[0m 0.1131  \u001b[0m |\n",
      "| \u001b[0m 25      \u001b[0m | \u001b[0m 0.7459  \u001b[0m | \u001b[0m 1.396   \u001b[0m | \u001b[0m 0.9928  \u001b[0m | \u001b[0m 0.1496  \u001b[0m |\n",
      "| \u001b[0m 26      \u001b[0m | \u001b[0m 0.7451  \u001b[0m | \u001b[0m 3.775   \u001b[0m | \u001b[0m 0.8989  \u001b[0m | \u001b[0m 0.09384 \u001b[0m |\n",
      "| \u001b[0m 27      \u001b[0m | \u001b[0m 0.7515  \u001b[0m | \u001b[0m 5.339   \u001b[0m | \u001b[0m 0.8455  \u001b[0m | \u001b[0m 0.3118  \u001b[0m |\n",
      "| \u001b[0m 28      \u001b[0m | \u001b[0m 0.7508  \u001b[0m | \u001b[0m 1.503   \u001b[0m | \u001b[0m 0.9838  \u001b[0m | \u001b[0m 0.2706  \u001b[0m |\n",
      "| \u001b[0m 29      \u001b[0m | \u001b[0m 0.7027  \u001b[0m | \u001b[0m 6.511   \u001b[0m | \u001b[0m 0.3169  \u001b[0m | \u001b[0m 0.4249  \u001b[0m |\n",
      "| \u001b[0m 30      \u001b[0m | \u001b[0m 0.756   \u001b[0m | \u001b[0m 1.609   \u001b[0m | \u001b[0m 0.6333  \u001b[0m | \u001b[0m 0.4558  \u001b[0m |\n",
      "| \u001b[0m 31      \u001b[0m | \u001b[0m 0.7233  \u001b[0m | \u001b[0m 1.425   \u001b[0m | \u001b[0m 0.5197  \u001b[0m | \u001b[0m 0.7028  \u001b[0m |\n",
      "| \u001b[0m 32      \u001b[0m | \u001b[0m 0.7486  \u001b[0m | \u001b[0m 1.776   \u001b[0m | \u001b[0m 0.7762  \u001b[0m | \u001b[0m 0.4052  \u001b[0m |\n",
      "| \u001b[0m 33      \u001b[0m | \u001b[0m 0.6197  \u001b[0m | \u001b[0m 4.027   \u001b[0m | \u001b[0m 0.3144  \u001b[0m | \u001b[0m 0.8785  \u001b[0m |\n",
      "| \u001b[0m 34      \u001b[0m | \u001b[0m 0.7377  \u001b[0m | \u001b[0m 4.759   \u001b[0m | \u001b[0m 0.9731  \u001b[0m | \u001b[0m 0.4139  \u001b[0m |\n",
      "| \u001b[0m 35      \u001b[0m | \u001b[0m 0.7209  \u001b[0m | \u001b[0m 1.691   \u001b[0m | \u001b[0m 0.4616  \u001b[0m | \u001b[0m 0.1915  \u001b[0m |\n",
      "| \u001b[0m 36      \u001b[0m | \u001b[0m 0.7275  \u001b[0m | \u001b[0m 6.037   \u001b[0m | \u001b[0m 0.8625  \u001b[0m | \u001b[0m 0.1367  \u001b[0m |\n",
      "| \u001b[0m 37      \u001b[0m | \u001b[0m 0.6779  \u001b[0m | \u001b[0m 5.741   \u001b[0m | \u001b[0m 0.4331  \u001b[0m | \u001b[0m 0.9359  \u001b[0m |\n",
      "| \u001b[0m 38      \u001b[0m | \u001b[0m 0.749   \u001b[0m | \u001b[0m 1.633   \u001b[0m | \u001b[0m 0.8404  \u001b[0m | \u001b[0m 0.8725  \u001b[0m |\n",
      "| \u001b[0m 39      \u001b[0m | \u001b[0m 0.7509  \u001b[0m | \u001b[0m 1.902   \u001b[0m | \u001b[0m 0.7332  \u001b[0m | \u001b[0m 0.7532  \u001b[0m |\n",
      "| \u001b[0m 40      \u001b[0m | \u001b[0m 0.739   \u001b[0m | \u001b[0m 1.957   \u001b[0m | \u001b[0m 0.9929  \u001b[0m | \u001b[0m 0.9935  \u001b[0m |\n",
      "| \u001b[0m 41      \u001b[0m | \u001b[0m 0.7503  \u001b[0m | \u001b[0m 4.195   \u001b[0m | \u001b[0m 1.0     \u001b[0m | \u001b[0m 0.0     \u001b[0m |\n",
      "| \u001b[0m 42      \u001b[0m | \u001b[0m 0.7476  \u001b[0m | \u001b[0m 4.621   \u001b[0m | \u001b[0m 0.876   \u001b[0m | \u001b[0m 0.0     \u001b[0m |\n",
      "| \u001b[0m 43      \u001b[0m | \u001b[0m 0.7076  \u001b[0m | \u001b[0m 8.925   \u001b[0m | \u001b[0m 0.3321  \u001b[0m | \u001b[0m 0.02458 \u001b[0m |\n",
      "| \u001b[0m 44      \u001b[0m | \u001b[0m 0.7519  \u001b[0m | \u001b[0m 8.217   \u001b[0m | \u001b[0m 0.7125  \u001b[0m | \u001b[0m 0.05731 \u001b[0m |\n",
      "| \u001b[0m 45      \u001b[0m | \u001b[0m 0.7442  \u001b[0m | \u001b[0m 8.384   \u001b[0m | \u001b[0m 0.7989  \u001b[0m | \u001b[0m 0.3585  \u001b[0m |\n",
      "| \u001b[0m 46      \u001b[0m | \u001b[0m 0.7091  \u001b[0m | \u001b[0m 8.121   \u001b[0m | \u001b[0m 0.3613  \u001b[0m | \u001b[0m 0.0     \u001b[0m |\n",
      "| \u001b[0m 47      \u001b[0m | \u001b[0m 0.7393  \u001b[0m | \u001b[0m 8.37    \u001b[0m | \u001b[0m 0.9778  \u001b[0m | \u001b[0m 0.02564 \u001b[0m |\n",
      "| \u001b[0m 48      \u001b[0m | \u001b[0m 0.7419  \u001b[0m | \u001b[0m 2.22    \u001b[0m | \u001b[0m 0.9606  \u001b[0m | \u001b[0m 0.1005  \u001b[0m |\n",
      "| \u001b[0m 49      \u001b[0m | \u001b[0m 0.7487  \u001b[0m | \u001b[0m 7.968   \u001b[0m | \u001b[0m 0.9601  \u001b[0m | \u001b[0m 0.1531  \u001b[0m |\n",
      "| \u001b[0m 50      \u001b[0m | \u001b[0m 0.7477  \u001b[0m | \u001b[0m 4.234   \u001b[0m | \u001b[0m 0.6594  \u001b[0m | \u001b[0m 0.02735 \u001b[0m |\n",
      "=============================================================\n"
     ]
    }
   ],
   "source": [
    "hyperparam_nb_PC4 = run_ml(data_load['PC4'], 7, bound_naive_bayes['PC4'], model.naive_bayes)"
   ]
  },
  {
   "cell_type": "code",
   "execution_count": 60,
   "metadata": {
    "scrolled": true
   },
   "outputs": [
    {
     "data": {
      "text/plain": [
       "{'Train': {'Gmeans': 0.7550203380074996,\n",
       "  'Recall': 0.7384914631510698,\n",
       "  'pf': 0.22808083877830118,\n",
       "  'cf_matrix': {'tn': 5080, 'fp': 1501, 'fn': 1210, 'tp': 3417}},\n",
       " 'Dev': {'Gmeans': 0.7583169585480056,\n",
       "  'Recall': 0.7532467532467533,\n",
       "  'pf': 0.23657870791628755,\n",
       "  'cf_matrix': {'tn': 839, 'fp': 260, 'fn': 38, 'tp': 116}},\n",
       " 'Test': {'Gmeans': 0.7494379916782886,\n",
       "  'Recall': 0.7247191011235955,\n",
       "  'pf': 0.225,\n",
       "  'cf_matrix': {'tn': 992, 'fp': 288, 'fn': 49, 'tp': 129}}}"
      ]
     },
     "execution_count": 60,
     "metadata": {},
     "output_type": "execute_result"
    }
   ],
   "source": [
    "best_hyperparam_nb_PC4 = hyperparam_nb_PC4.max['params']\n",
    "result_nb_PC4 = run_ml(data_load['PC4'], 7, best_hyperparam_nb_PC4, model.naive_bayes,do_optimize = False)\n",
    "result_nb_PC4"
   ]
  },
  {
   "cell_type": "markdown",
   "metadata": {},
   "source": [
    "## CM1"
   ]
  },
  {
   "cell_type": "code",
   "execution_count": 61,
   "metadata": {},
   "outputs": [
    {
     "name": "stdout",
     "output_type": "stream",
     "text": [
      "|   iter    |  target   | neighbors | sampling  | var_sm... |\n",
      "-------------------------------------------------------------\n",
      "| \u001b[0m 1       \u001b[0m | \u001b[0m 0.6164  \u001b[0m | \u001b[0m 4.371   \u001b[0m | \u001b[0m 0.963   \u001b[0m | \u001b[0m 0.732   \u001b[0m |\n",
      "| \u001b[95m 2       \u001b[0m | \u001b[95m 0.6447  \u001b[0m | \u001b[95m 6.388   \u001b[0m | \u001b[95m 0.3657  \u001b[0m | \u001b[95m 0.156   \u001b[0m |\n",
      "| \u001b[0m 3       \u001b[0m | \u001b[0m 0.6215  \u001b[0m | \u001b[0m 1.523   \u001b[0m | \u001b[0m 0.8994  \u001b[0m | \u001b[0m 0.6011  \u001b[0m |\n",
      "| \u001b[0m 4       \u001b[0m | \u001b[0m 0.6204  \u001b[0m | \u001b[0m 7.373   \u001b[0m | \u001b[0m 0.2639  \u001b[0m | \u001b[0m 0.9699  \u001b[0m |\n",
      "| \u001b[0m 5       \u001b[0m | \u001b[0m 0.6255  \u001b[0m | \u001b[0m 8.492   \u001b[0m | \u001b[0m 0.408   \u001b[0m | \u001b[0m 0.1818  \u001b[0m |\n",
      "| \u001b[0m 6       \u001b[0m | \u001b[0m 0.6416  \u001b[0m | \u001b[0m 2.651   \u001b[0m | \u001b[0m 0.4771  \u001b[0m | \u001b[0m 0.5248  \u001b[0m |\n",
      "| \u001b[0m 7       \u001b[0m | \u001b[0m 0.6228  \u001b[0m | \u001b[0m 4.888   \u001b[0m | \u001b[0m 0.4673  \u001b[0m | \u001b[0m 0.6119  \u001b[0m |\n",
      "| \u001b[0m 8       \u001b[0m | \u001b[0m 0.6365  \u001b[0m | \u001b[0m 2.255   \u001b[0m | \u001b[0m 0.468   \u001b[0m | \u001b[0m 0.3664  \u001b[0m |\n",
      "| \u001b[0m 9       \u001b[0m | \u001b[0m 0.6078  \u001b[0m | \u001b[0m 5.105   \u001b[0m | \u001b[0m 0.8385  \u001b[0m | \u001b[0m 0.1997  \u001b[0m |\n",
      "| \u001b[0m 10      \u001b[0m | \u001b[0m 0.6225  \u001b[0m | \u001b[0m 5.628   \u001b[0m | \u001b[0m 0.6937  \u001b[0m | \u001b[0m 0.04645 \u001b[0m |\n",
      "| \u001b[95m 11      \u001b[0m | \u001b[95m 0.6575  \u001b[0m | \u001b[95m 6.468   \u001b[0m | \u001b[95m 0.3766  \u001b[0m | \u001b[95m 0.06505 \u001b[0m |\n",
      "| \u001b[0m 12      \u001b[0m | \u001b[0m 0.6567  \u001b[0m | \u001b[0m 9.54    \u001b[0m | \u001b[0m 0.9742  \u001b[0m | \u001b[0m 0.8084  \u001b[0m |\n",
      "| \u001b[0m 13      \u001b[0m | \u001b[0m 0.6275  \u001b[0m | \u001b[0m 3.742   \u001b[0m | \u001b[0m 0.3218  \u001b[0m | \u001b[0m 0.6842  \u001b[0m |\n",
      "| \u001b[0m 14      \u001b[0m | \u001b[0m 0.6365  \u001b[0m | \u001b[0m 4.961   \u001b[0m | \u001b[0m 0.3401  \u001b[0m | \u001b[0m 0.4952  \u001b[0m |\n",
      "| \u001b[0m 15      \u001b[0m | \u001b[0m 0.6312  \u001b[0m | \u001b[0m 1.309   \u001b[0m | \u001b[0m 0.9318  \u001b[0m | \u001b[0m 0.2588  \u001b[0m |\n",
      "| \u001b[0m 16      \u001b[0m | \u001b[0m 0.6434  \u001b[0m | \u001b[0m 6.537   \u001b[0m | \u001b[0m 0.3719  \u001b[0m | \u001b[0m 0.02052 \u001b[0m |\n",
      "| \u001b[0m 17      \u001b[0m | \u001b[0m 0.6225  \u001b[0m | \u001b[0m 6.426   \u001b[0m | \u001b[0m 0.3964  \u001b[0m | \u001b[0m 0.05049 \u001b[0m |\n",
      "| \u001b[0m 18      \u001b[0m | \u001b[0m 0.6217  \u001b[0m | \u001b[0m 3.927   \u001b[0m | \u001b[0m 0.6085  \u001b[0m | \u001b[0m 0.1428  \u001b[0m |\n",
      "| \u001b[95m 19      \u001b[0m | \u001b[95m 0.6668  \u001b[0m | \u001b[95m 9.487   \u001b[0m | \u001b[95m 0.5249  \u001b[0m | \u001b[95m 0.2213  \u001b[0m |\n",
      "| \u001b[0m 20      \u001b[0m | \u001b[0m 0.6517  \u001b[0m | \u001b[0m 9.047   \u001b[0m | \u001b[0m 0.8959  \u001b[0m | \u001b[0m 0.4132  \u001b[0m |\n",
      "| \u001b[0m 21      \u001b[0m | \u001b[0m 0.6146  \u001b[0m | \u001b[0m 3.991   \u001b[0m | \u001b[0m 0.7594  \u001b[0m | \u001b[0m 0.963   \u001b[0m |\n",
      "| \u001b[0m 22      \u001b[0m | \u001b[0m 0.6344  \u001b[0m | \u001b[0m 1.85    \u001b[0m | \u001b[0m 0.8506  \u001b[0m | \u001b[0m 0.5957  \u001b[0m |\n",
      "| \u001b[0m 23      \u001b[0m | \u001b[0m 0.6111  \u001b[0m | \u001b[0m 4.627   \u001b[0m | \u001b[0m 0.8803  \u001b[0m | \u001b[0m 0.7576  \u001b[0m |\n",
      "| \u001b[0m 24      \u001b[0m | \u001b[0m 0.6416  \u001b[0m | \u001b[0m 6.493   \u001b[0m | \u001b[0m 0.4148  \u001b[0m | \u001b[0m 0.9761  \u001b[0m |\n",
      "| \u001b[0m 25      \u001b[0m | \u001b[0m 0.6245  \u001b[0m | \u001b[0m 1.368   \u001b[0m | \u001b[0m 0.6158  \u001b[0m | \u001b[0m 0.5917  \u001b[0m |\n",
      "| \u001b[0m 26      \u001b[0m | \u001b[0m 0.6181  \u001b[0m | \u001b[0m 3.775   \u001b[0m | \u001b[0m 0.8956  \u001b[0m | \u001b[0m 0.09384 \u001b[0m |\n",
      "| \u001b[0m 27      \u001b[0m | \u001b[0m 0.639   \u001b[0m | \u001b[0m 8.474   \u001b[0m | \u001b[0m 0.7289  \u001b[0m | \u001b[0m 0.4577  \u001b[0m |\n",
      "| \u001b[0m 28      \u001b[0m | \u001b[0m 0.6455  \u001b[0m | \u001b[0m 3.414   \u001b[0m | \u001b[0m 0.4403  \u001b[0m | \u001b[0m 0.5045  \u001b[0m |\n",
      "| \u001b[0m 29      \u001b[0m | \u001b[0m 0.6312  \u001b[0m | \u001b[0m 6.511   \u001b[0m | \u001b[0m 0.2946  \u001b[0m | \u001b[0m 0.4249  \u001b[0m |\n",
      "| \u001b[0m 30      \u001b[0m | \u001b[0m 0.6447  \u001b[0m | \u001b[0m 6.331   \u001b[0m | \u001b[0m 0.7893  \u001b[0m | \u001b[0m 0.128   \u001b[0m |\n",
      "| \u001b[0m 31      \u001b[0m | \u001b[0m 0.6433  \u001b[0m | \u001b[0m 9.511   \u001b[0m | \u001b[0m 0.5877  \u001b[0m | \u001b[0m 0.9103  \u001b[0m |\n",
      "| \u001b[0m 32      \u001b[0m | \u001b[0m 0.6258  \u001b[0m | \u001b[0m 7.125   \u001b[0m | \u001b[0m 0.5143  \u001b[0m | \u001b[0m 0.1441  \u001b[0m |\n",
      "| \u001b[0m 33      \u001b[0m | \u001b[0m 0.6194  \u001b[0m | \u001b[0m 4.027   \u001b[0m | \u001b[0m 0.2921  \u001b[0m | \u001b[0m 0.8785  \u001b[0m |\n",
      "| \u001b[0m 34      \u001b[0m | \u001b[0m 0.6292  \u001b[0m | \u001b[0m 8.923   \u001b[0m | \u001b[0m 0.878   \u001b[0m | \u001b[0m 0.3208  \u001b[0m |\n",
      "| \u001b[0m 35      \u001b[0m | \u001b[0m 0.631   \u001b[0m | \u001b[0m 3.962   \u001b[0m | \u001b[0m 0.9722  \u001b[0m | \u001b[0m 0.5052  \u001b[0m |\n",
      "| \u001b[0m 36      \u001b[0m | \u001b[0m 0.6344  \u001b[0m | \u001b[0m 7.919   \u001b[0m | \u001b[0m 0.3098  \u001b[0m | \u001b[0m 0.6384  \u001b[0m |\n",
      "| \u001b[0m 37      \u001b[0m | \u001b[0m 0.6245  \u001b[0m | \u001b[0m 5.741   \u001b[0m | \u001b[0m 0.4147  \u001b[0m | \u001b[0m 0.9359  \u001b[0m |\n",
      "| \u001b[0m 38      \u001b[0m | \u001b[0m 0.6385  \u001b[0m | \u001b[0m 1.633   \u001b[0m | \u001b[0m 0.8352  \u001b[0m | \u001b[0m 0.8725  \u001b[0m |\n",
      "| \u001b[0m 39      \u001b[0m | \u001b[0m 0.6255  \u001b[0m | \u001b[0m 2.723   \u001b[0m | \u001b[0m 0.5646  \u001b[0m | \u001b[0m 0.8835  \u001b[0m |\n",
      "| \u001b[0m 40      \u001b[0m | \u001b[0m 0.6334  \u001b[0m | \u001b[0m 6.553   \u001b[0m | \u001b[0m 0.2838  \u001b[0m | \u001b[0m 0.8444  \u001b[0m |\n",
      "| \u001b[0m 41      \u001b[0m | \u001b[0m 0.6469  \u001b[0m | \u001b[0m 8.32    \u001b[0m | \u001b[0m 0.8203  \u001b[0m | \u001b[0m 0.6552  \u001b[0m |\n",
      "| \u001b[0m 42      \u001b[0m | \u001b[0m 0.6481  \u001b[0m | \u001b[0m 3.056   \u001b[0m | \u001b[0m 0.4276  \u001b[0m | \u001b[0m 0.1573  \u001b[0m |\n",
      "| \u001b[0m 43      \u001b[0m | \u001b[0m 0.6275  \u001b[0m | \u001b[0m 1.567   \u001b[0m | \u001b[0m 0.4646  \u001b[0m | \u001b[0m 0.6385  \u001b[0m |\n",
      "| \u001b[0m 44      \u001b[0m | \u001b[0m 0.6334  \u001b[0m | \u001b[0m 8.623   \u001b[0m | \u001b[0m 0.4469  \u001b[0m | \u001b[0m 0.5266  \u001b[0m |\n",
      "| \u001b[0m 45      \u001b[0m | \u001b[0m 0.6239  \u001b[0m | \u001b[0m 1.52    \u001b[0m | \u001b[0m 0.5897  \u001b[0m | \u001b[0m 0.1718  \u001b[0m |\n",
      "| \u001b[0m 46      \u001b[0m | \u001b[0m 0.6312  \u001b[0m | \u001b[0m 4.064   \u001b[0m | \u001b[0m 0.419   \u001b[0m | \u001b[0m 0.6755  \u001b[0m |\n",
      "| \u001b[0m 47      \u001b[0m | \u001b[0m 0.6124  \u001b[0m | \u001b[0m 5.391   \u001b[0m | \u001b[0m 0.4353  \u001b[0m | \u001b[0m 0.2157  \u001b[0m |\n",
      "| \u001b[0m 48      \u001b[0m | \u001b[0m 0.6356  \u001b[0m | \u001b[0m 2.22    \u001b[0m | \u001b[0m 0.9594  \u001b[0m | \u001b[0m 0.1005  \u001b[0m |\n",
      "| \u001b[0m 49      \u001b[0m | \u001b[0m 0.6245  \u001b[0m | \u001b[0m 4.156   \u001b[0m | \u001b[0m 0.3492  \u001b[0m | \u001b[0m 0.7283  \u001b[0m |\n",
      "| \u001b[0m 50      \u001b[0m | \u001b[0m 0.6494  \u001b[0m | \u001b[0m 7.605   \u001b[0m | \u001b[0m 0.9976  \u001b[0m | \u001b[0m 0.4498  \u001b[0m |\n",
      "=============================================================\n"
     ]
    }
   ],
   "source": [
    "hyperparam_nb_CM1 = run_ml(data_load['CM1'], 5, bound_naive_bayes['CM1'], model.naive_bayes)"
   ]
  },
  {
   "cell_type": "code",
   "execution_count": 62,
   "metadata": {
    "scrolled": true
   },
   "outputs": [
    {
     "data": {
      "text/plain": [
       "{'Train': {'Gmeans': 0.5680576770535674,\n",
       "  'Recall': 0.38615179760319573,\n",
       "  'pf': 0.16434540389972144,\n",
       "  'cf_matrix': {'tn': 1200, 'fp': 236, 'fn': 461, 'tp': 290}},\n",
       " 'Dev': {'Gmeans': 0.6667708251965838,\n",
       "  'Recall': 0.55,\n",
       "  'pf': 0.19166666666666668,\n",
       "  'cf_matrix': {'tn': 291, 'fp': 69, 'fn': 18, 'tp': 22}},\n",
       " 'Test': {'Gmeans': 0.5830819377728939,\n",
       "  'Recall': 0.40816326530612246,\n",
       "  'pf': 0.16703786191536749,\n",
       "  'cf_matrix': {'tn': 374, 'fp': 75, 'fn': 29, 'tp': 20}}}"
      ]
     },
     "execution_count": 62,
     "metadata": {},
     "output_type": "execute_result"
    }
   ],
   "source": [
    "best_hyperparam_nb_CM1 = hyperparam_nb_CM1.max['params']\n",
    "result_nb_CM1 = run_ml(data_load['CM1'], 5, best_hyperparam_nb_CM1, model.naive_bayes,do_optimize = False)\n",
    "result_nb_CM1"
   ]
  },
  {
   "cell_type": "markdown",
   "metadata": {},
   "source": [
    "## JM1"
   ]
  },
  {
   "cell_type": "code",
   "execution_count": 63,
   "metadata": {},
   "outputs": [
    {
     "name": "stdout",
     "output_type": "stream",
     "text": [
      "|   iter    |  target   | neighbors | sampling  | var_sm... |\n",
      "-------------------------------------------------------------\n",
      "| \u001b[0m 1       \u001b[0m | \u001b[0m 0.3415  \u001b[0m | \u001b[0m 4.371   \u001b[0m | \u001b[0m 0.9676  \u001b[0m | \u001b[0m 0.732   \u001b[0m |\n",
      "| \u001b[0m 2       \u001b[0m | \u001b[0m 0.3384  \u001b[0m | \u001b[0m 6.388   \u001b[0m | \u001b[0m 0.4458  \u001b[0m | \u001b[0m 0.156   \u001b[0m |\n",
      "| \u001b[0m 3       \u001b[0m | \u001b[0m 0.3149  \u001b[0m | \u001b[0m 1.523   \u001b[0m | \u001b[0m 0.9121  \u001b[0m | \u001b[0m 0.6011  \u001b[0m |\n",
      "| \u001b[0m 4       \u001b[0m | \u001b[0m 0.2129  \u001b[0m | \u001b[0m 7.373   \u001b[0m | \u001b[0m 0.3568  \u001b[0m | \u001b[0m 0.9699  \u001b[0m |\n",
      "| \u001b[0m 5       \u001b[0m | \u001b[0m 0.3391  \u001b[0m | \u001b[0m 8.492   \u001b[0m | \u001b[0m 0.4827  \u001b[0m | \u001b[0m 0.1818  \u001b[0m |\n",
      "| \u001b[0m 6       \u001b[0m | \u001b[0m 0.2841  \u001b[0m | \u001b[0m 2.651   \u001b[0m | \u001b[0m 0.5431  \u001b[0m | \u001b[0m 0.5248  \u001b[0m |\n",
      "| \u001b[0m 7       \u001b[0m | \u001b[0m 0.2667  \u001b[0m | \u001b[0m 4.888   \u001b[0m | \u001b[0m 0.5346  \u001b[0m | \u001b[0m 0.6119  \u001b[0m |\n",
      "| \u001b[0m 8       \u001b[0m | \u001b[0m 0.3078  \u001b[0m | \u001b[0m 2.255   \u001b[0m | \u001b[0m 0.5352  \u001b[0m | \u001b[0m 0.3664  \u001b[0m |\n",
      "| \u001b[95m 9       \u001b[0m | \u001b[95m 0.3616  \u001b[0m | \u001b[95m 5.105   \u001b[0m | \u001b[95m 0.8589  \u001b[0m | \u001b[95m 0.1997  \u001b[0m |\n",
      "| \u001b[95m 10      \u001b[0m | \u001b[95m 0.4061  \u001b[0m | \u001b[95m 5.628   \u001b[0m | \u001b[95m 0.7323  \u001b[0m | \u001b[95m 0.04645 \u001b[0m |\n",
      "| \u001b[0m 11      \u001b[0m | \u001b[0m 0.3749  \u001b[0m | \u001b[0m 6.468   \u001b[0m | \u001b[0m 0.4553  \u001b[0m | \u001b[0m 0.06505 \u001b[0m |\n",
      "| \u001b[0m 12      \u001b[0m | \u001b[0m 0.3326  \u001b[0m | \u001b[0m 9.54    \u001b[0m | \u001b[0m 0.9774  \u001b[0m | \u001b[0m 0.8084  \u001b[0m |\n",
      "| \u001b[0m 13      \u001b[0m | \u001b[0m 0.2443  \u001b[0m | \u001b[0m 3.742   \u001b[0m | \u001b[0m 0.4074  \u001b[0m | \u001b[0m 0.6842  \u001b[0m |\n",
      "| \u001b[0m 14      \u001b[0m | \u001b[0m 0.2609  \u001b[0m | \u001b[0m 4.961   \u001b[0m | \u001b[0m 0.4234  \u001b[0m | \u001b[0m 0.4952  \u001b[0m |\n",
      "| \u001b[0m 15      \u001b[0m | \u001b[0m 0.3421  \u001b[0m | \u001b[0m 1.309   \u001b[0m | \u001b[0m 0.9405  \u001b[0m | \u001b[0m 0.2588  \u001b[0m |\n",
      "| \u001b[0m 16      \u001b[0m | \u001b[0m 0.4039  \u001b[0m | \u001b[0m 5.49    \u001b[0m | \u001b[0m 0.8024  \u001b[0m | \u001b[0m 0.06133 \u001b[0m |\n",
      "| \u001b[95m 17      \u001b[0m | \u001b[95m 0.4687  \u001b[0m | \u001b[95m 5.657   \u001b[0m | \u001b[95m 0.9223  \u001b[0m | \u001b[95m 0.0     \u001b[0m |\n",
      "| \u001b[95m 18      \u001b[0m | \u001b[95m 0.4701  \u001b[0m | \u001b[95m 5.738   \u001b[0m | \u001b[95m 1.0     \u001b[0m | \u001b[95m 0.0     \u001b[0m |\n",
      "| \u001b[0m 19      \u001b[0m | \u001b[0m 0.4701  \u001b[0m | \u001b[0m 5.633   \u001b[0m | \u001b[0m 1.0     \u001b[0m | \u001b[0m 0.0     \u001b[0m |\n",
      "| \u001b[0m 20      \u001b[0m | \u001b[0m 0.4614  \u001b[0m | \u001b[0m 6.581   \u001b[0m | \u001b[0m 1.0     \u001b[0m | \u001b[0m 0.0     \u001b[0m |\n",
      "| \u001b[0m 21      \u001b[0m | \u001b[0m 0.4614  \u001b[0m | \u001b[0m 6.921   \u001b[0m | \u001b[0m 1.0     \u001b[0m | \u001b[0m 0.0     \u001b[0m |\n",
      "| \u001b[0m 22      \u001b[0m | \u001b[0m 0.4227  \u001b[0m | \u001b[0m 6.779   \u001b[0m | \u001b[0m 0.7433  \u001b[0m | \u001b[0m 0.01583 \u001b[0m |\n",
      "| \u001b[0m 23      \u001b[0m | \u001b[0m 0.4432  \u001b[0m | \u001b[0m 7.455   \u001b[0m | \u001b[0m 0.987   \u001b[0m | \u001b[0m 0.008722\u001b[0m |\n",
      "| \u001b[0m 24      \u001b[0m | \u001b[0m 0.4472  \u001b[0m | \u001b[0m 10.0    \u001b[0m | \u001b[0m 0.3433  \u001b[0m | \u001b[0m 0.0     \u001b[0m |\n",
      "| \u001b[0m 25      \u001b[0m | \u001b[0m 0.4524  \u001b[0m | \u001b[0m 9.999   \u001b[0m | \u001b[0m 0.8784  \u001b[0m | \u001b[0m 0.003981\u001b[0m |\n",
      "| \u001b[0m 26      \u001b[0m | \u001b[0m 0.4416  \u001b[0m | \u001b[0m 9.731   \u001b[0m | \u001b[0m 0.5623  \u001b[0m | \u001b[0m 0.007546\u001b[0m |\n",
      "| \u001b[0m 27      \u001b[0m | \u001b[0m 0.253   \u001b[0m | \u001b[0m 10.0    \u001b[0m | \u001b[0m 0.3433  \u001b[0m | \u001b[0m 0.4686  \u001b[0m |\n",
      "| \u001b[0m 28      \u001b[0m | \u001b[0m 0.4641  \u001b[0m | \u001b[0m 9.581   \u001b[0m | \u001b[0m 1.0     \u001b[0m | \u001b[0m 0.0     \u001b[0m |\n",
      "| \u001b[0m 29      \u001b[0m | \u001b[0m 0.4255  \u001b[0m | \u001b[0m 9.289   \u001b[0m | \u001b[0m 0.9873  \u001b[0m | \u001b[0m 0.02002 \u001b[0m |\n",
      "| \u001b[0m 30      \u001b[0m | \u001b[0m 0.4614  \u001b[0m | \u001b[0m 6.212   \u001b[0m | \u001b[0m 1.0     \u001b[0m | \u001b[0m 0.0     \u001b[0m |\n",
      "| \u001b[0m 31      \u001b[0m | \u001b[0m 0.4595  \u001b[0m | \u001b[0m 9.73    \u001b[0m | \u001b[0m 0.9615  \u001b[0m | \u001b[0m 0.000432\u001b[0m |\n",
      "| \u001b[0m 32      \u001b[0m | \u001b[0m 0.4593  \u001b[0m | \u001b[0m 7.983   \u001b[0m | \u001b[0m 1.0     \u001b[0m | \u001b[0m 0.0     \u001b[0m |\n",
      "| \u001b[0m 33      \u001b[0m | \u001b[0m 0.3534  \u001b[0m | \u001b[0m 7.844   \u001b[0m | \u001b[0m 0.9917  \u001b[0m | \u001b[0m 0.2616  \u001b[0m |\n",
      "| \u001b[0m 34      \u001b[0m | \u001b[0m 0.4284  \u001b[0m | \u001b[0m 8.274   \u001b[0m | \u001b[0m 0.9831  \u001b[0m | \u001b[0m 0.02432 \u001b[0m |\n",
      "| \u001b[0m 35      \u001b[0m | \u001b[0m 0.4462  \u001b[0m | \u001b[0m 1.0     \u001b[0m | \u001b[0m 0.3433  \u001b[0m | \u001b[0m 0.0     \u001b[0m |\n",
      "| \u001b[0m 36      \u001b[0m | \u001b[0m 0.2442  \u001b[0m | \u001b[0m 1.0     \u001b[0m | \u001b[0m 0.3433  \u001b[0m | \u001b[0m 0.5675  \u001b[0m |\n",
      "| \u001b[0m 37      \u001b[0m | \u001b[0m 0.4428  \u001b[0m | \u001b[0m 7.83    \u001b[0m | \u001b[0m 0.6431  \u001b[0m | \u001b[0m 0.005858\u001b[0m |\n",
      "| \u001b[0m 38      \u001b[0m | \u001b[0m 0.4462  \u001b[0m | \u001b[0m 1.414   \u001b[0m | \u001b[0m 0.3433  \u001b[0m | \u001b[0m 0.0     \u001b[0m |\n",
      "| \u001b[0m 39      \u001b[0m | \u001b[0m 0.4508  \u001b[0m | \u001b[0m 7.363   \u001b[0m | \u001b[0m 0.4835  \u001b[0m | \u001b[0m 0.002652\u001b[0m |\n",
      "| \u001b[0m 40      \u001b[0m | \u001b[0m 0.4652  \u001b[0m | \u001b[0m 4.357   \u001b[0m | \u001b[0m 1.0     \u001b[0m | \u001b[0m 0.0     \u001b[0m |\n",
      "| \u001b[0m 41      \u001b[0m | \u001b[0m 0.4652  \u001b[0m | \u001b[0m 4.027   \u001b[0m | \u001b[0m 1.0     \u001b[0m | \u001b[0m 0.0     \u001b[0m |\n",
      "| \u001b[0m 42      \u001b[0m | \u001b[0m 0.4584  \u001b[0m | \u001b[0m 4.19    \u001b[0m | \u001b[0m 0.8027  \u001b[0m | \u001b[0m 0.0     \u001b[0m |\n",
      "| \u001b[0m 43      \u001b[0m | \u001b[0m 0.4652  \u001b[0m | \u001b[0m 4.189   \u001b[0m | \u001b[0m 1.0     \u001b[0m | \u001b[0m 0.0     \u001b[0m |\n",
      "| \u001b[0m 44      \u001b[0m | \u001b[0m 0.4567  \u001b[0m | \u001b[0m 3.535   \u001b[0m | \u001b[0m 1.0     \u001b[0m | \u001b[0m 0.0     \u001b[0m |\n",
      "| \u001b[0m 45      \u001b[0m | \u001b[0m 0.4344  \u001b[0m | \u001b[0m 3.765   \u001b[0m | \u001b[0m 0.8529  \u001b[0m | \u001b[0m 0.009889\u001b[0m |\n",
      "| \u001b[0m 46      \u001b[0m | \u001b[0m 0.4256  \u001b[0m | \u001b[0m 3.112   \u001b[0m | \u001b[0m 0.9999  \u001b[0m | \u001b[0m 0.01841 \u001b[0m |\n",
      "| \u001b[0m 47      \u001b[0m | \u001b[0m 0.4484  \u001b[0m | \u001b[0m 7.727   \u001b[0m | \u001b[0m 0.3824  \u001b[0m | \u001b[0m 0.001636\u001b[0m |\n",
      "| \u001b[0m 48      \u001b[0m | \u001b[0m 0.4437  \u001b[0m | \u001b[0m 4.678   \u001b[0m | \u001b[0m 0.9113  \u001b[0m | \u001b[0m 0.01144 \u001b[0m |\n",
      "| \u001b[0m 49      \u001b[0m | \u001b[0m 0.4544  \u001b[0m | \u001b[0m 1.955   \u001b[0m | \u001b[0m 1.0     \u001b[0m | \u001b[0m 0.0     \u001b[0m |\n",
      "| \u001b[0m 50      \u001b[0m | \u001b[0m 0.4546  \u001b[0m | \u001b[0m 2.442   \u001b[0m | \u001b[0m 0.9485  \u001b[0m | \u001b[0m 0.005866\u001b[0m |\n",
      "=============================================================\n"
     ]
    }
   ],
   "source": [
    "hyperparam_nb_JM1 = run_ml(data_load['JM1'], 10, bound_naive_bayes['JM1'], model.naive_bayes)"
   ]
  },
  {
   "cell_type": "code",
   "execution_count": 64,
   "metadata": {},
   "outputs": [
    {
     "data": {
      "text/plain": [
       "{'Train': {'Gmeans': 0.4496929376838975,\n",
       "  'Recall': 0.21478907909358164,\n",
       "  'pf': 0.058500836931906094,\n",
       "  'cf_matrix': {'tn': 66934, 'fp': 4159, 'fn': 55823, 'tp': 15270}},\n",
       " 'Dev': {'Gmeans': 0.4701226681600467,\n",
       "  'Recall': 0.23578947368421052,\n",
       "  'pf': 0.06265822784810127,\n",
       "  'cf_matrix': {'tn': 7405, 'fp': 495, 'fn': 1452, 'tp': 448}},\n",
       " 'Test': {'Gmeans': 0.46349413632688236,\n",
       "  'Recall': 0.2282453637660485,\n",
       "  'pf': 0.05879001936880483,\n",
       "  'cf_matrix': {'tn': 8261, 'fp': 516, 'fn': 1623, 'tp': 480}}}"
      ]
     },
     "execution_count": 64,
     "metadata": {},
     "output_type": "execute_result"
    }
   ],
   "source": [
    "best_hyperparam_nb_JM1 = hyperparam_nb_JM1.max['params']\n",
    "result_nb_JM1 = run_ml(data_load['JM1'], 10, best_hyperparam_nb_JM1, model.naive_bayes,do_optimize = False)\n",
    "result_nb_JM1"
   ]
  },
  {
   "cell_type": "markdown",
   "metadata": {},
   "source": [
    "## Logistic Regression"
   ]
  },
  {
   "cell_type": "code",
   "execution_count": 65,
   "metadata": {},
   "outputs": [],
   "source": [
    "import warnings\n",
    "warnings.filterwarnings('ignore')"
   ]
  },
  {
   "cell_type": "markdown",
   "metadata": {},
   "source": [
    "### KC1"
   ]
  },
  {
   "cell_type": "code",
   "execution_count": 66,
   "metadata": {
    "scrolled": true
   },
   "outputs": [
    {
     "name": "stdout",
     "output_type": "stream",
     "text": [
      "|   iter    |  target   |     c     | max_iter  | neighbors | sampling  |\n",
      "-------------------------------------------------------------------------\n",
      "| \u001b[0m 1       \u001b[0m | \u001b[0m 0.7097  \u001b[0m | \u001b[0m 4.371   \u001b[0m | \u001b[0m 192.6   \u001b[0m | \u001b[0m 7.588   \u001b[0m | \u001b[0m 0.7209  \u001b[0m |\n",
      "| \u001b[95m 2       \u001b[0m | \u001b[95m 0.7217  \u001b[0m | \u001b[95m 2.404   \u001b[0m | \u001b[95m 73.4    \u001b[0m | \u001b[95m 1.523   \u001b[0m | \u001b[95m 0.9069  \u001b[0m |\n",
      "| \u001b[95m 3       \u001b[0m | \u001b[95m 0.7266  \u001b[0m | \u001b[95m 6.41    \u001b[0m | \u001b[95m 156.2   \u001b[0m | \u001b[95m 1.185   \u001b[0m | \u001b[95m 0.9791  \u001b[0m |\n",
      "| \u001b[0m 4       \u001b[0m | \u001b[0m 0.6336  \u001b[0m | \u001b[0m 8.492   \u001b[0m | \u001b[0m 81.85   \u001b[0m | \u001b[0m 2.636   \u001b[0m | \u001b[0m 0.4321  \u001b[0m |\n",
      "| \u001b[0m 5       \u001b[0m | \u001b[0m 0.673   \u001b[0m | \u001b[0m 3.738   \u001b[0m | \u001b[0m 128.7   \u001b[0m | \u001b[0m 4.888   \u001b[0m | \u001b[0m 0.5071  \u001b[0m |\n",
      "| \u001b[0m 6       \u001b[0m | \u001b[0m 0.6931  \u001b[0m | \u001b[0m 6.507   \u001b[0m | \u001b[0m 70.92   \u001b[0m | \u001b[0m 3.629   \u001b[0m | \u001b[0m 0.5594  \u001b[0m |\n",
      "| \u001b[0m 7       \u001b[0m | \u001b[0m 0.6897  \u001b[0m | \u001b[0m 5.105   \u001b[0m | \u001b[0m 167.8   \u001b[0m | \u001b[0m 2.797   \u001b[0m | \u001b[0m 0.6622  \u001b[0m |\n",
      "| \u001b[0m 8       \u001b[0m | \u001b[0m 0.6334  \u001b[0m | \u001b[0m 6.332   \u001b[0m | \u001b[0m 56.97   \u001b[0m | \u001b[0m 6.468   \u001b[0m | \u001b[0m 0.4232  \u001b[0m |\n",
      "| \u001b[0m 9       \u001b[0m | \u001b[0m 0.7162  \u001b[0m | \u001b[0m 1.585   \u001b[0m | \u001b[0m 192.3   \u001b[0m | \u001b[0m 9.691   \u001b[0m | \u001b[0m 0.8668  \u001b[0m |\n",
      "| \u001b[0m 10      \u001b[0m | \u001b[0m 0.6911  \u001b[0m | \u001b[0m 3.742   \u001b[0m | \u001b[0m 64.65   \u001b[0m | \u001b[0m 7.158   \u001b[0m | \u001b[0m 0.6107  \u001b[0m |\n",
      "| \u001b[0m 11      \u001b[0m | \u001b[0m 0.7232  \u001b[0m | \u001b[0m 2.098   \u001b[0m | \u001b[0m 124.3   \u001b[0m | \u001b[0m 1.309   \u001b[0m | \u001b[0m 0.9369  \u001b[0m |\n",
      "| \u001b[0m 12      \u001b[0m | \u001b[0m 0.6961  \u001b[0m | \u001b[0m 3.329   \u001b[0m | \u001b[0m 149.4   \u001b[0m | \u001b[0m 3.805   \u001b[0m | \u001b[0m 0.6663  \u001b[0m |\n",
      "| \u001b[0m 13      \u001b[0m | \u001b[0m 0.7204  \u001b[0m | \u001b[0m 5.92    \u001b[0m | \u001b[0m 77.73   \u001b[0m | \u001b[0m 9.726   \u001b[0m | \u001b[0m 0.8436  \u001b[0m |\n",
      "| \u001b[95m 14      \u001b[0m | \u001b[95m 0.7281  \u001b[0m | \u001b[95m 9.455   \u001b[0m | \u001b[95m 184.2   \u001b[0m | \u001b[95m 6.381   \u001b[0m | \u001b[95m 0.9457  \u001b[0m |\n",
      "| \u001b[0m 15      \u001b[0m | \u001b[0m 0.6715  \u001b[0m | \u001b[0m 1.796   \u001b[0m | \u001b[0m 79.4    \u001b[0m | \u001b[0m 1.407   \u001b[0m | \u001b[0m 0.5308  \u001b[0m |\n",
      "| \u001b[0m 16      \u001b[0m | \u001b[0m 0.7267  \u001b[0m | \u001b[0m 8.446   \u001b[0m | \u001b[0m 185.7   \u001b[0m | \u001b[0m 6.756   \u001b[0m | \u001b[0m 0.9153  \u001b[0m |\n",
      "| \u001b[95m 17      \u001b[0m | \u001b[95m 0.7287  \u001b[0m | \u001b[95m 7.069   \u001b[0m | \u001b[95m 183.0   \u001b[0m | \u001b[95m 8.125   \u001b[0m | \u001b[95m 1.0     \u001b[0m |\n",
      "| \u001b[0m 18      \u001b[0m | \u001b[0m 0.6006  \u001b[0m | \u001b[0m 5.528   \u001b[0m | \u001b[0m 183.5   \u001b[0m | \u001b[0m 4.532   \u001b[0m | \u001b[0m 0.3279  \u001b[0m |\n",
      "| \u001b[0m 19      \u001b[0m | \u001b[0m 0.6945  \u001b[0m | \u001b[0m 8.896   \u001b[0m | \u001b[0m 184.1   \u001b[0m | \u001b[0m 7.872   \u001b[0m | \u001b[0m 0.6597  \u001b[0m |\n",
      "| \u001b[0m 20      \u001b[0m | \u001b[0m 0.7272  \u001b[0m | \u001b[0m 9.101   \u001b[0m | \u001b[0m 185.1   \u001b[0m | \u001b[0m 6.192   \u001b[0m | \u001b[0m 1.0     \u001b[0m |\n",
      "| \u001b[0m 21      \u001b[0m | \u001b[0m 0.6905  \u001b[0m | \u001b[0m 6.557   \u001b[0m | \u001b[0m 182.1   \u001b[0m | \u001b[0m 8.86    \u001b[0m | \u001b[0m 0.5449  \u001b[0m |\n",
      "| \u001b[0m 22      \u001b[0m | \u001b[0m 0.7245  \u001b[0m | \u001b[0m 10.0    \u001b[0m | \u001b[0m 184.4   \u001b[0m | \u001b[0m 5.514   \u001b[0m | \u001b[0m 1.0     \u001b[0m |\n",
      "| \u001b[0m 23      \u001b[0m | \u001b[0m 0.7269  \u001b[0m | \u001b[0m 6.002   \u001b[0m | \u001b[0m 154.9   \u001b[0m | \u001b[0m 1.038   \u001b[0m | \u001b[0m 0.9804  \u001b[0m |\n",
      "| \u001b[0m 24      \u001b[0m | \u001b[0m 0.7137  \u001b[0m | \u001b[0m 4.539   \u001b[0m | \u001b[0m 155.7   \u001b[0m | \u001b[0m 1.798   \u001b[0m | \u001b[0m 0.7683  \u001b[0m |\n",
      "| \u001b[0m 25      \u001b[0m | \u001b[0m 0.6604  \u001b[0m | \u001b[0m 6.71    \u001b[0m | \u001b[0m 154.4   \u001b[0m | \u001b[0m 2.217   \u001b[0m | \u001b[0m 0.4708  \u001b[0m |\n",
      "| \u001b[0m 26      \u001b[0m | \u001b[0m 0.6084  \u001b[0m | \u001b[0m 9.868   \u001b[0m | \u001b[0m 186.3   \u001b[0m | \u001b[0m 6.493   \u001b[0m | \u001b[0m 0.3322  \u001b[0m |\n",
      "| \u001b[0m 27      \u001b[0m | \u001b[0m 0.7238  \u001b[0m | \u001b[0m 8.813   \u001b[0m | \u001b[0m 184.3   \u001b[0m | \u001b[0m 6.088   \u001b[0m | \u001b[0m 0.9936  \u001b[0m |\n",
      "| \u001b[0m 28      \u001b[0m | \u001b[0m 0.6991  \u001b[0m | \u001b[0m 5.644   \u001b[0m | \u001b[0m 156.1   \u001b[0m | \u001b[0m 1.233   \u001b[0m | \u001b[0m 0.6956  \u001b[0m |\n",
      "| \u001b[0m 29      \u001b[0m | \u001b[0m 0.7148  \u001b[0m | \u001b[0m 9.343   \u001b[0m | \u001b[0m 183.9   \u001b[0m | \u001b[0m 5.403   \u001b[0m | \u001b[0m 0.7092  \u001b[0m |\n",
      "| \u001b[0m 30      \u001b[0m | \u001b[0m 0.704   \u001b[0m | \u001b[0m 8.375   \u001b[0m | \u001b[0m 184.9   \u001b[0m | \u001b[0m 6.531   \u001b[0m | \u001b[0m 0.6936  \u001b[0m |\n",
      "| \u001b[0m 31      \u001b[0m | \u001b[0m 0.7261  \u001b[0m | \u001b[0m 6.857   \u001b[0m | \u001b[0m 183.0   \u001b[0m | \u001b[0m 7.551   \u001b[0m | \u001b[0m 0.8838  \u001b[0m |\n",
      "| \u001b[0m 32      \u001b[0m | \u001b[0m 0.6891  \u001b[0m | \u001b[0m 6.926   \u001b[0m | \u001b[0m 156.9   \u001b[0m | \u001b[0m 1.308   \u001b[0m | \u001b[0m 0.5752  \u001b[0m |\n",
      "| \u001b[0m 33      \u001b[0m | \u001b[0m 0.7237  \u001b[0m | \u001b[0m 7.9     \u001b[0m | \u001b[0m 185.9   \u001b[0m | \u001b[0m 7.294   \u001b[0m | \u001b[0m 0.9835  \u001b[0m |\n",
      "| \u001b[0m 34      \u001b[0m | \u001b[0m 0.7154  \u001b[0m | \u001b[0m 6.441   \u001b[0m | \u001b[0m 183.6   \u001b[0m | \u001b[0m 8.304   \u001b[0m | \u001b[0m 0.7781  \u001b[0m |\n",
      "| \u001b[0m 35      \u001b[0m | \u001b[0m 0.7256  \u001b[0m | \u001b[0m 7.689   \u001b[0m | \u001b[0m 185.6   \u001b[0m | \u001b[0m 6.31    \u001b[0m | \u001b[0m 0.9708  \u001b[0m |\n",
      "| \u001b[0m 36      \u001b[0m | \u001b[0m 0.6275  \u001b[0m | \u001b[0m 3.123   \u001b[0m | \u001b[0m 124.3   \u001b[0m | \u001b[0m 1.266   \u001b[0m | \u001b[0m 0.4223  \u001b[0m |\n",
      "| \u001b[0m 37      \u001b[0m | \u001b[0m 0.711   \u001b[0m | \u001b[0m 1.552   \u001b[0m | \u001b[0m 124.3   \u001b[0m | \u001b[0m 1.681   \u001b[0m | \u001b[0m 0.8241  \u001b[0m |\n",
      "| \u001b[0m 38      \u001b[0m | \u001b[0m 0.7009  \u001b[0m | \u001b[0m 7.063   \u001b[0m | \u001b[0m 183.7   \u001b[0m | \u001b[0m 7.618   \u001b[0m | \u001b[0m 0.6832  \u001b[0m |\n",
      "| \u001b[0m 39      \u001b[0m | \u001b[0m 0.7159  \u001b[0m | \u001b[0m 1.497   \u001b[0m | \u001b[0m 124.8   \u001b[0m | \u001b[0m 1.046   \u001b[0m | \u001b[0m 0.8894  \u001b[0m |\n",
      "| \u001b[0m 40      \u001b[0m | \u001b[0m 0.7228  \u001b[0m | \u001b[0m 6.032   \u001b[0m | \u001b[0m 182.5   \u001b[0m | \u001b[0m 7.434   \u001b[0m | \u001b[0m 0.9933  \u001b[0m |\n",
      "| \u001b[0m 41      \u001b[0m | \u001b[0m 0.7278  \u001b[0m | \u001b[0m 7.941   \u001b[0m | \u001b[0m 186.2   \u001b[0m | \u001b[0m 6.603   \u001b[0m | \u001b[0m 1.0     \u001b[0m |\n",
      "| \u001b[0m 42      \u001b[0m | \u001b[0m 0.6415  \u001b[0m | \u001b[0m 3.032   \u001b[0m | \u001b[0m 73.8    \u001b[0m | \u001b[0m 2.103   \u001b[0m | \u001b[0m 0.4642  \u001b[0m |\n",
      "| \u001b[0m 43      \u001b[0m | \u001b[0m 0.7009  \u001b[0m | \u001b[0m 1.702   \u001b[0m | \u001b[0m 72.89   \u001b[0m | \u001b[0m 1.178   \u001b[0m | \u001b[0m 0.7472  \u001b[0m |\n",
      "| \u001b[95m 44      \u001b[0m | \u001b[95m 0.731   \u001b[0m | \u001b[95m 9.86    \u001b[0m | \u001b[95m 183.4   \u001b[0m | \u001b[95m 6.288   \u001b[0m | \u001b[95m 0.9212  \u001b[0m |\n",
      "| \u001b[0m 45      \u001b[0m | \u001b[0m 0.7115  \u001b[0m | \u001b[0m 9.192   \u001b[0m | \u001b[0m 182.5   \u001b[0m | \u001b[0m 6.17    \u001b[0m | \u001b[0m 0.7736  \u001b[0m |\n",
      "| \u001b[0m 46      \u001b[0m | \u001b[0m 0.7286  \u001b[0m | \u001b[0m 6.615   \u001b[0m | \u001b[0m 155.1   \u001b[0m | \u001b[0m 1.097   \u001b[0m | \u001b[0m 0.9862  \u001b[0m |\n",
      "| \u001b[0m 47      \u001b[0m | \u001b[0m 0.7258  \u001b[0m | \u001b[0m 6.982   \u001b[0m | \u001b[0m 186.2   \u001b[0m | \u001b[0m 6.764   \u001b[0m | \u001b[0m 1.0     \u001b[0m |\n",
      "| \u001b[0m 48      \u001b[0m | \u001b[0m 0.597   \u001b[0m | \u001b[0m 7.39    \u001b[0m | \u001b[0m 186.1   \u001b[0m | \u001b[0m 6.75    \u001b[0m | \u001b[0m 0.3046  \u001b[0m |\n",
      "| \u001b[0m 49      \u001b[0m | \u001b[0m 0.7288  \u001b[0m | \u001b[0m 8.185   \u001b[0m | \u001b[0m 51.17   \u001b[0m | \u001b[0m 1.606   \u001b[0m | \u001b[0m 0.9304  \u001b[0m |\n",
      "| \u001b[0m 50      \u001b[0m | \u001b[0m 0.7137  \u001b[0m | \u001b[0m 9.841   \u001b[0m | \u001b[0m 183.8   \u001b[0m | \u001b[0m 5.997   \u001b[0m | \u001b[0m 0.7018  \u001b[0m |\n",
      "=========================================================================\n"
     ]
    }
   ],
   "source": [
    "hyperparam_lrQ_KC1 = run_ml(data_load['KC1'], 10, bound_logistic_regression['KC1'], model.Logistic_regression)"
   ]
  },
  {
   "cell_type": "code",
   "execution_count": 67,
   "metadata": {},
   "outputs": [
    {
     "data": {
      "text/plain": [
       "{'Train': {'Gmeans': 0.7164220646322574,\n",
       "  'Recall': 0.6779303062302007,\n",
       "  'pf': 0.2429006787643718,\n",
       "  'cf_matrix': {'tn': 10931, 'fp': 3507, 'fn': 4270, 'tp': 8988}},\n",
       " 'Dev': {'Gmeans': 0.7331385073900083,\n",
       "  'Recall': 0.7353951890034365,\n",
       "  'pf': 0.26911124922311996,\n",
       "  'cf_matrix': {'tn': 1176, 'fp': 433, 'fn': 77, 'tp': 214}},\n",
       " 'Test': {'Gmeans': 0.7102772005295286,\n",
       "  'Recall': 0.6717791411042945,\n",
       "  'pf': 0.24901850813236118,\n",
       "  'cf_matrix': {'tn': 1339, 'fp': 444, 'fn': 107, 'tp': 219}}}"
      ]
     },
     "execution_count": 67,
     "metadata": {},
     "output_type": "execute_result"
    }
   ],
   "source": [
    "best_hyperparam_lr_KC1 = hyperparam_lr_KC1.max['params']\n",
    "result_lr_KC1 = run_ml(data_load['KC1'], 10, best_hyperparam_lr_KC1, model.Logistic_regression,do_optimize = False)\n",
    "result_lr_KC1"
   ]
  },
  {
   "cell_type": "markdown",
   "metadata": {},
   "source": [
    "### KC2"
   ]
  },
  {
   "cell_type": "code",
   "execution_count": 68,
   "metadata": {
    "scrolled": true
   },
   "outputs": [
    {
     "name": "stdout",
     "output_type": "stream",
     "text": [
      "|   iter    |  target   |     c     | max_iter  | neighbors | sampling  |\n",
      "-------------------------------------------------------------------------\n",
      "| \u001b[0m 1       \u001b[0m | \u001b[0m 0.8243  \u001b[0m | \u001b[0m 4.371   \u001b[0m | \u001b[0m 192.6   \u001b[0m | \u001b[0m 7.588   \u001b[0m | \u001b[0m 0.7411  \u001b[0m |\n",
      "| \u001b[0m 2       \u001b[0m | \u001b[0m 0.8138  \u001b[0m | \u001b[0m 2.404   \u001b[0m | \u001b[0m 73.4    \u001b[0m | \u001b[0m 1.523   \u001b[0m | \u001b[0m 0.9137  \u001b[0m |\n",
      "| \u001b[0m 3       \u001b[0m | \u001b[0m 0.8125  \u001b[0m | \u001b[0m 6.41    \u001b[0m | \u001b[0m 156.2   \u001b[0m | \u001b[0m 1.185   \u001b[0m | \u001b[0m 0.9806  \u001b[0m |\n",
      "| \u001b[0m 4       \u001b[0m | \u001b[0m 0.789   \u001b[0m | \u001b[0m 8.492   \u001b[0m | \u001b[0m 81.85   \u001b[0m | \u001b[0m 2.636   \u001b[0m | \u001b[0m 0.4733  \u001b[0m |\n",
      "| \u001b[0m 5       \u001b[0m | \u001b[0m 0.8076  \u001b[0m | \u001b[0m 3.738   \u001b[0m | \u001b[0m 128.7   \u001b[0m | \u001b[0m 4.888   \u001b[0m | \u001b[0m 0.5428  \u001b[0m |\n",
      "| \u001b[0m 6       \u001b[0m | \u001b[0m 0.8004  \u001b[0m | \u001b[0m 6.507   \u001b[0m | \u001b[0m 70.92   \u001b[0m | \u001b[0m 3.629   \u001b[0m | \u001b[0m 0.5913  \u001b[0m |\n",
      "| \u001b[0m 7       \u001b[0m | \u001b[0m 0.8221  \u001b[0m | \u001b[0m 5.105   \u001b[0m | \u001b[0m 167.8   \u001b[0m | \u001b[0m 2.797   \u001b[0m | \u001b[0m 0.6867  \u001b[0m |\n",
      "| \u001b[0m 8       \u001b[0m | \u001b[0m 0.7966  \u001b[0m | \u001b[0m 6.332   \u001b[0m | \u001b[0m 56.97   \u001b[0m | \u001b[0m 6.468   \u001b[0m | \u001b[0m 0.465   \u001b[0m |\n",
      "| \u001b[0m 9       \u001b[0m | \u001b[0m 0.8192  \u001b[0m | \u001b[0m 1.585   \u001b[0m | \u001b[0m 192.3   \u001b[0m | \u001b[0m 9.691   \u001b[0m | \u001b[0m 0.8764  \u001b[0m |\n",
      "| \u001b[0m 10      \u001b[0m | \u001b[0m 0.8122  \u001b[0m | \u001b[0m 3.742   \u001b[0m | \u001b[0m 64.65   \u001b[0m | \u001b[0m 7.158   \u001b[0m | \u001b[0m 0.6389  \u001b[0m |\n",
      "| \u001b[0m 11      \u001b[0m | \u001b[0m 0.8138  \u001b[0m | \u001b[0m 2.098   \u001b[0m | \u001b[0m 124.3   \u001b[0m | \u001b[0m 1.309   \u001b[0m | \u001b[0m 0.9415  \u001b[0m |\n",
      "| \u001b[95m 12      \u001b[0m | \u001b[95m 0.8308  \u001b[0m | \u001b[95m 3.329   \u001b[0m | \u001b[95m 149.4   \u001b[0m | \u001b[95m 3.805   \u001b[0m | \u001b[95m 0.6904  \u001b[0m |\n",
      "| \u001b[0m 13      \u001b[0m | \u001b[0m 0.8097  \u001b[0m | \u001b[0m 5.92    \u001b[0m | \u001b[0m 77.73   \u001b[0m | \u001b[0m 9.726   \u001b[0m | \u001b[0m 0.855   \u001b[0m |\n",
      "| \u001b[0m 14      \u001b[0m | \u001b[0m 0.8084  \u001b[0m | \u001b[0m 9.455   \u001b[0m | \u001b[0m 184.2   \u001b[0m | \u001b[0m 6.381   \u001b[0m | \u001b[0m 0.9496  \u001b[0m |\n",
      "| \u001b[0m 15      \u001b[0m | \u001b[0m 0.7891  \u001b[0m | \u001b[0m 1.796   \u001b[0m | \u001b[0m 79.4    \u001b[0m | \u001b[0m 1.407   \u001b[0m | \u001b[0m 0.5648  \u001b[0m |\n",
      "| \u001b[0m 16      \u001b[0m | \u001b[0m 0.8076  \u001b[0m | \u001b[0m 3.33    \u001b[0m | \u001b[0m 147.5   \u001b[0m | \u001b[0m 4.482   \u001b[0m | \u001b[0m 0.5507  \u001b[0m |\n",
      "| \u001b[0m 17      \u001b[0m | \u001b[0m 0.8177  \u001b[0m | \u001b[0m 1.443   \u001b[0m | \u001b[0m 52.77   \u001b[0m | \u001b[0m 6.405   \u001b[0m | \u001b[0m 0.8219  \u001b[0m |\n",
      "| \u001b[0m 18      \u001b[0m | \u001b[0m 0.8004  \u001b[0m | \u001b[0m 1.04    \u001b[0m | \u001b[0m 56.05   \u001b[0m | \u001b[0m 5.198   \u001b[0m | \u001b[0m 0.5821  \u001b[0m |\n",
      "| \u001b[0m 19      \u001b[0m | \u001b[0m 0.8089  \u001b[0m | \u001b[0m 9.737   \u001b[0m | \u001b[0m 156.4   \u001b[0m | \u001b[0m 9.945   \u001b[0m | \u001b[0m 0.5962  \u001b[0m |\n",
      "| \u001b[0m 20      \u001b[0m | \u001b[0m 0.7266  \u001b[0m | \u001b[0m 5.244   \u001b[0m | \u001b[0m 74.07   \u001b[0m | \u001b[0m 8.218   \u001b[0m | \u001b[0m 0.4172  \u001b[0m |\n",
      "| \u001b[0m 21      \u001b[0m | \u001b[0m 0.8256  \u001b[0m | \u001b[0m 3.457   \u001b[0m | \u001b[0m 150.2   \u001b[0m | \u001b[0m 3.695   \u001b[0m | \u001b[0m 0.7396  \u001b[0m |\n",
      "| \u001b[0m 22      \u001b[0m | \u001b[0m 0.82    \u001b[0m | \u001b[0m 2.617   \u001b[0m | \u001b[0m 149.3   \u001b[0m | \u001b[0m 2.898   \u001b[0m | \u001b[0m 0.7486  \u001b[0m |\n",
      "| \u001b[0m 23      \u001b[0m | \u001b[0m 0.8088  \u001b[0m | \u001b[0m 2.494   \u001b[0m | \u001b[0m 149.9   \u001b[0m | \u001b[0m 5.236   \u001b[0m | \u001b[0m 0.5315  \u001b[0m |\n",
      "| \u001b[0m 24      \u001b[0m | \u001b[0m 0.8269  \u001b[0m | \u001b[0m 4.778   \u001b[0m | \u001b[0m 148.7   \u001b[0m | \u001b[0m 3.008   \u001b[0m | \u001b[0m 0.7261  \u001b[0m |\n",
      "| \u001b[0m 25      \u001b[0m | \u001b[0m 0.7192  \u001b[0m | \u001b[0m 4.368   \u001b[0m | \u001b[0m 149.7   \u001b[0m | \u001b[0m 4.403   \u001b[0m | \u001b[0m 0.3786  \u001b[0m |\n",
      "| \u001b[0m 26      \u001b[0m | \u001b[0m 0.7204  \u001b[0m | \u001b[0m 5.074   \u001b[0m | \u001b[0m 167.6   \u001b[0m | \u001b[0m 3.057   \u001b[0m | \u001b[0m 0.4159  \u001b[0m |\n",
      "| \u001b[0m 27      \u001b[0m | \u001b[0m 0.7245  \u001b[0m | \u001b[0m 2.856   \u001b[0m | \u001b[0m 195.5   \u001b[0m | \u001b[0m 1.129   \u001b[0m | \u001b[0m 0.3998  \u001b[0m |\n",
      "| \u001b[0m 28      \u001b[0m | \u001b[0m 0.811   \u001b[0m | \u001b[0m 5.035   \u001b[0m | \u001b[0m 63.19   \u001b[0m | \u001b[0m 1.465   \u001b[0m | \u001b[0m 0.8948  \u001b[0m |\n",
      "| \u001b[0m 29      \u001b[0m | \u001b[0m 0.8151  \u001b[0m | \u001b[0m 1.748   \u001b[0m | \u001b[0m 169.8   \u001b[0m | \u001b[0m 9.298   \u001b[0m | \u001b[0m 0.9817  \u001b[0m |\n",
      "| \u001b[0m 30      \u001b[0m | \u001b[0m 0.823   \u001b[0m | \u001b[0m 4.281   \u001b[0m | \u001b[0m 93.01   \u001b[0m | \u001b[0m 7.23    \u001b[0m | \u001b[0m 0.7854  \u001b[0m |\n",
      "| \u001b[0m 31      \u001b[0m | \u001b[0m 0.811   \u001b[0m | \u001b[0m 9.882   \u001b[0m | \u001b[0m 140.8   \u001b[0m | \u001b[0m 9.105   \u001b[0m | \u001b[0m 0.8433  \u001b[0m |\n",
      "| \u001b[0m 32      \u001b[0m | \u001b[0m 0.8016  \u001b[0m | \u001b[0m 7.425   \u001b[0m | \u001b[0m 162.1   \u001b[0m | \u001b[0m 1.39    \u001b[0m | \u001b[0m 0.6148  \u001b[0m |\n",
      "| \u001b[0m 33      \u001b[0m | \u001b[0m 0.8252  \u001b[0m | \u001b[0m 8.609   \u001b[0m | \u001b[0m 157.7   \u001b[0m | \u001b[0m 3.659   \u001b[0m | \u001b[0m 0.7038  \u001b[0m |\n",
      "| \u001b[0m 34      \u001b[0m | \u001b[0m 0.8156  \u001b[0m | \u001b[0m 1.76    \u001b[0m | \u001b[0m 171.4   \u001b[0m | \u001b[0m 7.223   \u001b[0m | \u001b[0m 0.7453  \u001b[0m |\n",
      "| \u001b[0m 35      \u001b[0m | \u001b[0m 0.7172  \u001b[0m | \u001b[0m 8.133   \u001b[0m | \u001b[0m 196.1   \u001b[0m | \u001b[0m 7.556   \u001b[0m | \u001b[0m 0.3799  \u001b[0m |\n",
      "| \u001b[0m 36      \u001b[0m | \u001b[0m 0.8111  \u001b[0m | \u001b[0m 3.077   \u001b[0m | \u001b[0m 110.7   \u001b[0m | \u001b[0m 9.51    \u001b[0m | \u001b[0m 0.9107  \u001b[0m |\n",
      "| \u001b[0m 37      \u001b[0m | \u001b[0m 0.8084  \u001b[0m | \u001b[0m 1.526   \u001b[0m | \u001b[0m 69.32   \u001b[0m | \u001b[0m 5.954   \u001b[0m | \u001b[0m 0.9159  \u001b[0m |\n",
      "| \u001b[0m 38      \u001b[0m | \u001b[0m 0.8172  \u001b[0m | \u001b[0m 9.526   \u001b[0m | \u001b[0m 140.6   \u001b[0m | \u001b[0m 2.518   \u001b[0m | \u001b[0m 0.6389  \u001b[0m |\n",
      "| \u001b[0m 39      \u001b[0m | \u001b[0m 0.8161  \u001b[0m | \u001b[0m 2.339   \u001b[0m | \u001b[0m 191.3   \u001b[0m | \u001b[0m 5.815   \u001b[0m | \u001b[0m 0.7531  \u001b[0m |\n",
      "| \u001b[0m 40      \u001b[0m | \u001b[0m 0.8192  \u001b[0m | \u001b[0m 1.553   \u001b[0m | \u001b[0m 127.4   \u001b[0m | \u001b[0m 4.844   \u001b[0m | \u001b[0m 0.9696  \u001b[0m |\n",
      "| \u001b[0m 41      \u001b[0m | \u001b[0m 0.7726  \u001b[0m | \u001b[0m 4.126   \u001b[0m | \u001b[0m 82.61   \u001b[0m | \u001b[0m 7.001   \u001b[0m | \u001b[0m 0.4582  \u001b[0m |\n",
      "| \u001b[0m 42      \u001b[0m | \u001b[0m 0.8243  \u001b[0m | \u001b[0m 2.432   \u001b[0m | \u001b[0m 131.0   \u001b[0m | \u001b[0m 3.836   \u001b[0m | \u001b[0m 0.7489  \u001b[0m |\n",
      "| \u001b[0m 43      \u001b[0m | \u001b[0m 0.8084  \u001b[0m | \u001b[0m 1.837   \u001b[0m | \u001b[0m 162.7   \u001b[0m | \u001b[0m 6.906   \u001b[0m | \u001b[0m 0.8995  \u001b[0m |\n",
      "| \u001b[0m 44      \u001b[0m | \u001b[0m 0.7867  \u001b[0m | \u001b[0m 7.447   \u001b[0m | \u001b[0m 57.87   \u001b[0m | \u001b[0m 5.27    \u001b[0m | \u001b[0m 0.4684  \u001b[0m |\n",
      "| \u001b[0m 45      \u001b[0m | \u001b[0m 0.7836  \u001b[0m | \u001b[0m 9.1     \u001b[0m | \u001b[0m 81.51   \u001b[0m | \u001b[0m 5.152   \u001b[0m | \u001b[0m 0.4477  \u001b[0m |\n",
      "| \u001b[0m 46      \u001b[0m | \u001b[0m 0.8216  \u001b[0m | \u001b[0m 8.541   \u001b[0m | \u001b[0m 94.09   \u001b[0m | \u001b[0m 8.968   \u001b[0m | \u001b[0m 0.8003  \u001b[0m |\n",
      "| \u001b[0m 47      \u001b[0m | \u001b[0m 0.8084  \u001b[0m | \u001b[0m 8.463   \u001b[0m | \u001b[0m 66.85   \u001b[0m | \u001b[0m 2.893   \u001b[0m | \u001b[0m 0.9082  \u001b[0m |\n",
      "| \u001b[0m 48      \u001b[0m | \u001b[0m 0.8137  \u001b[0m | \u001b[0m 6.405   \u001b[0m | \u001b[0m 76.06   \u001b[0m | \u001b[0m 6.163   \u001b[0m | \u001b[0m 0.8613  \u001b[0m |\n",
      "| \u001b[0m 49      \u001b[0m | \u001b[0m 0.8097  \u001b[0m | \u001b[0m 8.185   \u001b[0m | \u001b[0m 51.17   \u001b[0m | \u001b[0m 1.606   \u001b[0m | \u001b[0m 0.9354  \u001b[0m |\n",
      "| \u001b[0m 50      \u001b[0m | \u001b[0m 0.8151  \u001b[0m | \u001b[0m 1.74    \u001b[0m | \u001b[0m 74.95   \u001b[0m | \u001b[0m 9.478   \u001b[0m | \u001b[0m 0.9654  \u001b[0m |\n",
      "=========================================================================\n"
     ]
    }
   ],
   "source": [
    "hyperparam_lr_KC2 = run_ml(data_load['KC2'], 10, bound_logistic_regression['KC2'], model.Logistic_regression)"
   ]
  },
  {
   "cell_type": "code",
   "execution_count": 69,
   "metadata": {},
   "outputs": [
    {
     "data": {
      "text/plain": [
       "{'Train': {'Gmeans': 0.7529472117490186,\n",
       "  'Recall': 0.6692640692640692,\n",
       "  'pf': 0.15290611028315945,\n",
       "  'cf_matrix': {'tn': 2842, 'fp': 513, 'fn': 764, 'tp': 1546}},\n",
       " 'Dev': {'Gmeans': 0.8308031765277832,\n",
       "  'Recall': 0.8222222222222222,\n",
       "  'pf': 0.16052631578947368,\n",
       "  'cf_matrix': {'tn': 319, 'fp': 61, 'fn': 16, 'tp': 74}},\n",
       " 'Test': {'Gmeans': 0.764809864632722,\n",
       "  'Recall': 0.6915887850467289,\n",
       "  'pf': 0.15421686746987953,\n",
       "  'cf_matrix': {'tn': 351, 'fp': 64, 'fn': 33, 'tp': 74}}}"
      ]
     },
     "execution_count": 69,
     "metadata": {},
     "output_type": "execute_result"
    }
   ],
   "source": [
    "best_hyperparam_lr_KC2 = hyperparam_lr_KC2.max['params']\n",
    "result_lr_KC2 = run_ml(data_load['KC2'], 10, best_hyperparam_lr_KC2, model.Logistic_regression,do_optimize = False)\n",
    "result_lr_KC2"
   ]
  },
  {
   "cell_type": "markdown",
   "metadata": {},
   "source": [
    "### PC1"
   ]
  },
  {
   "cell_type": "code",
   "execution_count": 70,
   "metadata": {
    "scrolled": true
   },
   "outputs": [
    {
     "name": "stdout",
     "output_type": "stream",
     "text": [
      "|   iter    |  target   |     c     | max_iter  | neighbors | sampling  |\n",
      "-------------------------------------------------------------------------\n",
      "| \u001b[0m 1       \u001b[0m | \u001b[0m 0.6101  \u001b[0m | \u001b[0m 4.371   \u001b[0m | \u001b[0m 192.6   \u001b[0m | \u001b[0m 7.588   \u001b[0m | \u001b[0m 0.6867  \u001b[0m |\n",
      "| \u001b[95m 2       \u001b[0m | \u001b[95m 0.6257  \u001b[0m | \u001b[95m 2.404   \u001b[0m | \u001b[95m 73.4    \u001b[0m | \u001b[95m 1.523   \u001b[0m | \u001b[95m 0.8955  \u001b[0m |\n",
      "| \u001b[95m 3       \u001b[0m | \u001b[95m 0.6784  \u001b[0m | \u001b[95m 6.41    \u001b[0m | \u001b[95m 156.2   \u001b[0m | \u001b[95m 1.185   \u001b[0m | \u001b[95m 0.9765  \u001b[0m |\n",
      "| \u001b[0m 4       \u001b[0m | \u001b[0m 0.4981  \u001b[0m | \u001b[0m 8.492   \u001b[0m | \u001b[0m 81.85   \u001b[0m | \u001b[0m 2.636   \u001b[0m | \u001b[0m 0.3626  \u001b[0m |\n",
      "| \u001b[0m 5       \u001b[0m | \u001b[0m 0.5397  \u001b[0m | \u001b[0m 3.738   \u001b[0m | \u001b[0m 128.7   \u001b[0m | \u001b[0m 4.888   \u001b[0m | \u001b[0m 0.4467  \u001b[0m |\n",
      "| \u001b[0m 6       \u001b[0m | \u001b[0m 0.5338  \u001b[0m | \u001b[0m 6.507   \u001b[0m | \u001b[0m 70.92   \u001b[0m | \u001b[0m 3.629   \u001b[0m | \u001b[0m 0.5054  \u001b[0m |\n",
      "| \u001b[0m 7       \u001b[0m | \u001b[0m 0.5539  \u001b[0m | \u001b[0m 5.105   \u001b[0m | \u001b[0m 167.8   \u001b[0m | \u001b[0m 2.797   \u001b[0m | \u001b[0m 0.6208  \u001b[0m |\n",
      "| \u001b[0m 8       \u001b[0m | \u001b[0m 0.4832  \u001b[0m | \u001b[0m 6.332   \u001b[0m | \u001b[0m 56.97   \u001b[0m | \u001b[0m 6.468   \u001b[0m | \u001b[0m 0.3525  \u001b[0m |\n",
      "| \u001b[0m 9       \u001b[0m | \u001b[0m 0.5992  \u001b[0m | \u001b[0m 1.585   \u001b[0m | \u001b[0m 192.3   \u001b[0m | \u001b[0m 9.691   \u001b[0m | \u001b[0m 0.8504  \u001b[0m |\n",
      "| \u001b[0m 10      \u001b[0m | \u001b[0m 0.5328  \u001b[0m | \u001b[0m 3.742   \u001b[0m | \u001b[0m 64.65   \u001b[0m | \u001b[0m 7.158   \u001b[0m | \u001b[0m 0.563   \u001b[0m |\n",
      "| \u001b[0m 11      \u001b[0m | \u001b[0m 0.623   \u001b[0m | \u001b[0m 2.098   \u001b[0m | \u001b[0m 124.3   \u001b[0m | \u001b[0m 1.309   \u001b[0m | \u001b[0m 0.9292  \u001b[0m |\n",
      "| \u001b[0m 12      \u001b[0m | \u001b[0m 0.5681  \u001b[0m | \u001b[0m 3.329   \u001b[0m | \u001b[0m 149.4   \u001b[0m | \u001b[0m 3.805   \u001b[0m | \u001b[0m 0.6254  \u001b[0m |\n",
      "| \u001b[0m 13      \u001b[0m | \u001b[0m 0.6437  \u001b[0m | \u001b[0m 5.92    \u001b[0m | \u001b[0m 77.73   \u001b[0m | \u001b[0m 9.726   \u001b[0m | \u001b[0m 0.8245  \u001b[0m |\n",
      "| \u001b[95m 14      \u001b[0m | \u001b[95m 0.6829  \u001b[0m | \u001b[95m 9.455   \u001b[0m | \u001b[95m 184.2   \u001b[0m | \u001b[95m 6.381   \u001b[0m | \u001b[95m 0.939   \u001b[0m |\n",
      "| \u001b[0m 15      \u001b[0m | \u001b[0m 0.5418  \u001b[0m | \u001b[0m 1.796   \u001b[0m | \u001b[0m 79.4    \u001b[0m | \u001b[0m 1.407   \u001b[0m | \u001b[0m 0.4734  \u001b[0m |\n",
      "| \u001b[0m 16      \u001b[0m | \u001b[0m 0.6455  \u001b[0m | \u001b[0m 8.843   \u001b[0m | \u001b[0m 184.5   \u001b[0m | \u001b[0m 6.856   \u001b[0m | \u001b[0m 0.8227  \u001b[0m |\n",
      "| \u001b[95m 17      \u001b[0m | \u001b[95m 0.7266  \u001b[0m | \u001b[95m 10.0    \u001b[0m | \u001b[95m 184.0   \u001b[0m | \u001b[95m 5.855   \u001b[0m | \u001b[95m 1.0     \u001b[0m |\n",
      "| \u001b[0m 18      \u001b[0m | \u001b[0m 0.6783  \u001b[0m | \u001b[0m 9.718   \u001b[0m | \u001b[0m 182.9   \u001b[0m | \u001b[0m 4.13    \u001b[0m | \u001b[0m 0.9605  \u001b[0m |\n",
      "| \u001b[0m 19      \u001b[0m | \u001b[0m 0.7266  \u001b[0m | \u001b[0m 10.0    \u001b[0m | \u001b[0m 184.3   \u001b[0m | \u001b[0m 5.061   \u001b[0m | \u001b[0m 1.0     \u001b[0m |\n",
      "| \u001b[0m 20      \u001b[0m | \u001b[0m 0.4723  \u001b[0m | \u001b[0m 10.0    \u001b[0m | \u001b[0m 183.8   \u001b[0m | \u001b[0m 5.382   \u001b[0m | \u001b[0m 0.2194  \u001b[0m |\n",
      "| \u001b[0m 21      \u001b[0m | \u001b[0m 0.6995  \u001b[0m | \u001b[0m 9.445   \u001b[0m | \u001b[0m 155.9   \u001b[0m | \u001b[0m 5.051   \u001b[0m | \u001b[0m 0.9988  \u001b[0m |\n",
      "| \u001b[0m 22      \u001b[0m | \u001b[0m 0.6731  \u001b[0m | \u001b[0m 9.01    \u001b[0m | \u001b[0m 155.9   \u001b[0m | \u001b[0m 4.554   \u001b[0m | \u001b[0m 0.8713  \u001b[0m |\n",
      "| \u001b[0m 23      \u001b[0m | \u001b[0m 0.6114  \u001b[0m | \u001b[0m 9.535   \u001b[0m | \u001b[0m 156.2   \u001b[0m | \u001b[0m 4.672   \u001b[0m | \u001b[0m 0.6038  \u001b[0m |\n",
      "| \u001b[0m 24      \u001b[0m | \u001b[0m 0.6549  \u001b[0m | \u001b[0m 9.246   \u001b[0m | \u001b[0m 156.3   \u001b[0m | \u001b[0m 5.512   \u001b[0m | \u001b[0m 0.8516  \u001b[0m |\n",
      "| \u001b[0m 25      \u001b[0m | \u001b[0m 0.6876  \u001b[0m | \u001b[0m 9.788   \u001b[0m | \u001b[0m 184.4   \u001b[0m | \u001b[0m 4.685   \u001b[0m | \u001b[0m 0.9729  \u001b[0m |\n",
      "| \u001b[0m 26      \u001b[0m | \u001b[0m 0.6733  \u001b[0m | \u001b[0m 9.778   \u001b[0m | \u001b[0m 155.7   \u001b[0m | \u001b[0m 5.011   \u001b[0m | \u001b[0m 0.9411  \u001b[0m |\n",
      "| \u001b[0m 27      \u001b[0m | \u001b[0m 0.5449  \u001b[0m | \u001b[0m 9.929   \u001b[0m | \u001b[0m 184.8   \u001b[0m | \u001b[0m 5.658   \u001b[0m | \u001b[0m 0.5034  \u001b[0m |\n",
      "| \u001b[0m 28      \u001b[0m | \u001b[0m 0.6355  \u001b[0m | \u001b[0m 5.035   \u001b[0m | \u001b[0m 63.19   \u001b[0m | \u001b[0m 1.465   \u001b[0m | \u001b[0m 0.8727  \u001b[0m |\n",
      "| \u001b[0m 29      \u001b[0m | \u001b[0m 0.6455  \u001b[0m | \u001b[0m 9.733   \u001b[0m | \u001b[0m 184.5   \u001b[0m | \u001b[0m 6.884   \u001b[0m | \u001b[0m 0.8068  \u001b[0m |\n",
      "| \u001b[0m 30      \u001b[0m | \u001b[0m 0.653   \u001b[0m | \u001b[0m 9.188   \u001b[0m | \u001b[0m 155.8   \u001b[0m | \u001b[0m 5.031   \u001b[0m | \u001b[0m 0.8719  \u001b[0m |\n",
      "| \u001b[0m 31      \u001b[0m | \u001b[0m 0.6501  \u001b[0m | \u001b[0m 9.191   \u001b[0m | \u001b[0m 183.8   \u001b[0m | \u001b[0m 6.483   \u001b[0m | \u001b[0m 0.8767  \u001b[0m |\n",
      "| \u001b[0m 32      \u001b[0m | \u001b[0m 0.5718  \u001b[0m | \u001b[0m 7.425   \u001b[0m | \u001b[0m 162.1   \u001b[0m | \u001b[0m 1.39    \u001b[0m | \u001b[0m 0.5338  \u001b[0m |\n",
      "| \u001b[0m 33      \u001b[0m | \u001b[0m 0.581   \u001b[0m | \u001b[0m 8.609   \u001b[0m | \u001b[0m 157.7   \u001b[0m | \u001b[0m 3.659   \u001b[0m | \u001b[0m 0.6415  \u001b[0m |\n",
      "| \u001b[0m 34      \u001b[0m | \u001b[0m 0.6197  \u001b[0m | \u001b[0m 9.935   \u001b[0m | \u001b[0m 183.9   \u001b[0m | \u001b[0m 6.154   \u001b[0m | \u001b[0m 0.7233  \u001b[0m |\n",
      "| \u001b[0m 35      \u001b[0m | \u001b[0m 0.6963  \u001b[0m | \u001b[0m 9.742   \u001b[0m | \u001b[0m 185.0   \u001b[0m | \u001b[0m 4.324   \u001b[0m | \u001b[0m 0.9746  \u001b[0m |\n",
      "| \u001b[0m 36      \u001b[0m | \u001b[0m 0.6428  \u001b[0m | \u001b[0m 9.41    \u001b[0m | \u001b[0m 184.7   \u001b[0m | \u001b[0m 4.007   \u001b[0m | \u001b[0m 0.7654  \u001b[0m |\n",
      "| \u001b[0m 37      \u001b[0m | \u001b[0m 0.6183  \u001b[0m | \u001b[0m 1.526   \u001b[0m | \u001b[0m 69.32   \u001b[0m | \u001b[0m 5.954   \u001b[0m | \u001b[0m 0.8982  \u001b[0m |\n",
      "| \u001b[0m 38      \u001b[0m | \u001b[0m 0.5539  \u001b[0m | \u001b[0m 9.526   \u001b[0m | \u001b[0m 140.6   \u001b[0m | \u001b[0m 2.518   \u001b[0m | \u001b[0m 0.563   \u001b[0m |\n",
      "| \u001b[0m 39      \u001b[0m | \u001b[0m 0.5777  \u001b[0m | \u001b[0m 2.339   \u001b[0m | \u001b[0m 191.3   \u001b[0m | \u001b[0m 5.815   \u001b[0m | \u001b[0m 0.7012  \u001b[0m |\n",
      "| \u001b[0m 40      \u001b[0m | \u001b[0m 0.6738  \u001b[0m | \u001b[0m 9.941   \u001b[0m | \u001b[0m 185.6   \u001b[0m | \u001b[0m 4.162   \u001b[0m | \u001b[0m 0.9221  \u001b[0m |\n",
      "| \u001b[0m 41      \u001b[0m | \u001b[0m 0.5034  \u001b[0m | \u001b[0m 9.829   \u001b[0m | \u001b[0m 185.0   \u001b[0m | \u001b[0m 4.293   \u001b[0m | \u001b[0m 0.2436  \u001b[0m |\n",
      "| \u001b[0m 42      \u001b[0m | \u001b[0m 0.6661  \u001b[0m | \u001b[0m 9.186   \u001b[0m | \u001b[0m 184.7   \u001b[0m | \u001b[0m 6.27    \u001b[0m | \u001b[0m 0.9332  \u001b[0m |\n",
      "| \u001b[0m 43      \u001b[0m | \u001b[0m 0.7059  \u001b[0m | \u001b[0m 9.426   \u001b[0m | \u001b[0m 182.4   \u001b[0m | \u001b[0m 3.926   \u001b[0m | \u001b[0m 0.9842  \u001b[0m |\n",
      "| \u001b[0m 44      \u001b[0m | \u001b[0m 0.4987  \u001b[0m | \u001b[0m 7.447   \u001b[0m | \u001b[0m 57.87   \u001b[0m | \u001b[0m 5.27    \u001b[0m | \u001b[0m 0.3566  \u001b[0m |\n",
      "| \u001b[0m 45      \u001b[0m | \u001b[0m 0.6803  \u001b[0m | \u001b[0m 9.17    \u001b[0m | \u001b[0m 183.7   \u001b[0m | \u001b[0m 5.155   \u001b[0m | \u001b[0m 0.9931  \u001b[0m |\n",
      "| \u001b[0m 46      \u001b[0m | \u001b[0m 0.6223  \u001b[0m | \u001b[0m 9.111   \u001b[0m | \u001b[0m 182.3   \u001b[0m | \u001b[0m 4.628   \u001b[0m | \u001b[0m 0.764   \u001b[0m |\n",
      "| \u001b[0m 47      \u001b[0m | \u001b[0m 0.5157  \u001b[0m | \u001b[0m 9.645   \u001b[0m | \u001b[0m 182.2   \u001b[0m | \u001b[0m 3.07    \u001b[0m | \u001b[0m 0.3232  \u001b[0m |\n",
      "| \u001b[0m 48      \u001b[0m | \u001b[0m 0.6549  \u001b[0m | \u001b[0m 9.219   \u001b[0m | \u001b[0m 156.3   \u001b[0m | \u001b[0m 5.34    \u001b[0m | \u001b[0m 0.8601  \u001b[0m |\n",
      "| \u001b[0m 49      \u001b[0m | \u001b[0m 0.6733  \u001b[0m | \u001b[0m 8.323   \u001b[0m | \u001b[0m 184.5   \u001b[0m | \u001b[0m 5.201   \u001b[0m | \u001b[0m 0.9758  \u001b[0m |\n",
      "| \u001b[0m 50      \u001b[0m | \u001b[0m 0.6324  \u001b[0m | \u001b[0m 8.424   \u001b[0m | \u001b[0m 183.6   \u001b[0m | \u001b[0m 4.426   \u001b[0m | \u001b[0m 0.7635  \u001b[0m |\n",
      "=========================================================================\n"
     ]
    }
   ],
   "source": [
    "hyperparam_lr_PC1 = run_ml(data_load['PC1'], 5, bound_logistic_regression['PC1'], model.Logistic_regression)"
   ]
  },
  {
   "cell_type": "code",
   "execution_count": 71,
   "metadata": {},
   "outputs": [
    {
     "data": {
      "text/plain": [
       "{'Train': {'Gmeans': 0.7420743764376245,\n",
       "  'Recall': 0.6745454545454546,\n",
       "  'pf': 0.18363636363636363,\n",
       "  'cf_matrix': {'tn': 2694, 'fp': 606, 'fn': 1074, 'tp': 2226}},\n",
       " 'Dev': {'Gmeans': 0.7265769982119473,\n",
       "  'Recall': 0.6612903225806451,\n",
       "  'pf': 0.20169082125603865,\n",
       "  'cf_matrix': {'tn': 661, 'fp': 167, 'fn': 21, 'tp': 41}},\n",
       " 'Test': {'Gmeans': 0.6889705061911494,\n",
       "  'Recall': 0.5974025974025974,\n",
       "  'pf': 0.2054263565891473,\n",
       "  'cf_matrix': {'tn': 820, 'fp': 212, 'fn': 31, 'tp': 46}}}"
      ]
     },
     "execution_count": 71,
     "metadata": {},
     "output_type": "execute_result"
    }
   ],
   "source": [
    "best_hyperparam_lr_PC1 = hyperparam_lr_PC1.max['params']\n",
    "result_lr_PC1 = run_ml(data_load['PC1'], 5, best_hyperparam_lr_PC1, model.Logistic_regression,do_optimize = False)\n",
    "result_lr_PC1"
   ]
  },
  {
   "cell_type": "markdown",
   "metadata": {},
   "source": [
    "### PC3"
   ]
  },
  {
   "cell_type": "code",
   "execution_count": 72,
   "metadata": {
    "scrolled": true
   },
   "outputs": [
    {
     "name": "stdout",
     "output_type": "stream",
     "text": [
      "|   iter    |  target   |     c     | max_iter  | neighbors | sampling  |\n",
      "-------------------------------------------------------------------------\n",
      "| \u001b[0m 1       \u001b[0m | \u001b[0m 0.688   \u001b[0m | \u001b[0m 4.371   \u001b[0m | \u001b[0m 192.6   \u001b[0m | \u001b[0m 7.588   \u001b[0m | \u001b[0m 0.7088  \u001b[0m |\n",
      "| \u001b[95m 2       \u001b[0m | \u001b[95m 0.7116  \u001b[0m | \u001b[95m 2.404   \u001b[0m | \u001b[95m 73.4    \u001b[0m | \u001b[95m 1.523   \u001b[0m | \u001b[95m 0.9029  \u001b[0m |\n",
      "| \u001b[0m 3       \u001b[0m | \u001b[0m 0.7113  \u001b[0m | \u001b[0m 6.41    \u001b[0m | \u001b[0m 156.2   \u001b[0m | \u001b[0m 1.185   \u001b[0m | \u001b[0m 0.9782  \u001b[0m |\n",
      "| \u001b[0m 4       \u001b[0m | \u001b[0m 0.6234  \u001b[0m | \u001b[0m 8.492   \u001b[0m | \u001b[0m 81.85   \u001b[0m | \u001b[0m 2.636   \u001b[0m | \u001b[0m 0.4075  \u001b[0m |\n",
      "| \u001b[0m 5       \u001b[0m | \u001b[0m 0.6723  \u001b[0m | \u001b[0m 3.738   \u001b[0m | \u001b[0m 128.7   \u001b[0m | \u001b[0m 4.888   \u001b[0m | \u001b[0m 0.4857  \u001b[0m |\n",
      "| \u001b[0m 6       \u001b[0m | \u001b[0m 0.6554  \u001b[0m | \u001b[0m 6.507   \u001b[0m | \u001b[0m 70.92   \u001b[0m | \u001b[0m 3.629   \u001b[0m | \u001b[0m 0.5402  \u001b[0m |\n",
      "| \u001b[0m 7       \u001b[0m | \u001b[0m 0.7029  \u001b[0m | \u001b[0m 5.105   \u001b[0m | \u001b[0m 167.8   \u001b[0m | \u001b[0m 2.797   \u001b[0m | \u001b[0m 0.6475  \u001b[0m |\n",
      "| \u001b[0m 8       \u001b[0m | \u001b[0m 0.6355  \u001b[0m | \u001b[0m 6.332   \u001b[0m | \u001b[0m 56.97   \u001b[0m | \u001b[0m 6.468   \u001b[0m | \u001b[0m 0.3981  \u001b[0m |\n",
      "| \u001b[0m 9       \u001b[0m | \u001b[0m 0.7092  \u001b[0m | \u001b[0m 1.585   \u001b[0m | \u001b[0m 192.3   \u001b[0m | \u001b[0m 9.691   \u001b[0m | \u001b[0m 0.861   \u001b[0m |\n",
      "| \u001b[0m 10      \u001b[0m | \u001b[0m 0.6772  \u001b[0m | \u001b[0m 3.742   \u001b[0m | \u001b[0m 64.65   \u001b[0m | \u001b[0m 7.158   \u001b[0m | \u001b[0m 0.5938  \u001b[0m |\n",
      "| \u001b[0m 11      \u001b[0m | \u001b[0m 0.7106  \u001b[0m | \u001b[0m 2.098   \u001b[0m | \u001b[0m 124.3   \u001b[0m | \u001b[0m 1.309   \u001b[0m | \u001b[0m 0.9342  \u001b[0m |\n",
      "| \u001b[0m 12      \u001b[0m | \u001b[0m 0.7072  \u001b[0m | \u001b[0m 3.329   \u001b[0m | \u001b[0m 149.4   \u001b[0m | \u001b[0m 3.805   \u001b[0m | \u001b[0m 0.6518  \u001b[0m |\n",
      "| \u001b[0m 13      \u001b[0m | \u001b[0m 0.6993  \u001b[0m | \u001b[0m 5.92    \u001b[0m | \u001b[0m 77.73   \u001b[0m | \u001b[0m 9.726   \u001b[0m | \u001b[0m 0.8368  \u001b[0m |\n",
      "| \u001b[0m 14      \u001b[0m | \u001b[0m 0.7055  \u001b[0m | \u001b[0m 9.455   \u001b[0m | \u001b[0m 184.2   \u001b[0m | \u001b[0m 6.381   \u001b[0m | \u001b[0m 0.9433  \u001b[0m |\n",
      "| \u001b[0m 15      \u001b[0m | \u001b[0m 0.6698  \u001b[0m | \u001b[0m 1.796   \u001b[0m | \u001b[0m 79.4    \u001b[0m | \u001b[0m 1.407   \u001b[0m | \u001b[0m 0.5105  \u001b[0m |\n",
      "| \u001b[0m 16      \u001b[0m | \u001b[0m 0.6652  \u001b[0m | \u001b[0m 6.583   \u001b[0m | \u001b[0m 155.7   \u001b[0m | \u001b[0m 1.741   \u001b[0m | \u001b[0m 0.5325  \u001b[0m |\n",
      "| \u001b[0m 17      \u001b[0m | \u001b[0m 0.6946  \u001b[0m | \u001b[0m 1.443   \u001b[0m | \u001b[0m 52.77   \u001b[0m | \u001b[0m 6.405   \u001b[0m | \u001b[0m 0.7996  \u001b[0m |\n",
      "| \u001b[0m 18      \u001b[0m | \u001b[0m 0.6863  \u001b[0m | \u001b[0m 1.04    \u001b[0m | \u001b[0m 56.05   \u001b[0m | \u001b[0m 5.198   \u001b[0m | \u001b[0m 0.5299  \u001b[0m |\n",
      "| \u001b[0m 19      \u001b[0m | \u001b[0m 0.6868  \u001b[0m | \u001b[0m 9.737   \u001b[0m | \u001b[0m 156.4   \u001b[0m | \u001b[0m 9.945   \u001b[0m | \u001b[0m 0.5457  \u001b[0m |\n",
      "| \u001b[0m 20      \u001b[0m | \u001b[0m 0.5642  \u001b[0m | \u001b[0m 5.244   \u001b[0m | \u001b[0m 74.07   \u001b[0m | \u001b[0m 8.218   \u001b[0m | \u001b[0m 0.3444  \u001b[0m |\n",
      "| \u001b[0m 21      \u001b[0m | \u001b[0m 0.7069  \u001b[0m | \u001b[0m 9.445   \u001b[0m | \u001b[0m 155.9   \u001b[0m | \u001b[0m 5.051   \u001b[0m | \u001b[0m 0.9989  \u001b[0m |\n",
      "| \u001b[0m 22      \u001b[0m | \u001b[0m 0.6695  \u001b[0m | \u001b[0m 7.977   \u001b[0m | \u001b[0m 182.3   \u001b[0m | \u001b[0m 3.045   \u001b[0m | \u001b[0m 0.5446  \u001b[0m |\n",
      "| \u001b[95m 23      \u001b[0m | \u001b[95m 0.718   \u001b[0m | \u001b[95m 2.742   \u001b[0m | \u001b[95m 143.2   \u001b[0m | \u001b[95m 3.234   \u001b[0m | \u001b[95m 0.8315  \u001b[0m |\n",
      "| \u001b[0m 24      \u001b[0m | \u001b[0m 0.7089  \u001b[0m | \u001b[0m 1.057   \u001b[0m | \u001b[0m 118.9   \u001b[0m | \u001b[0m 9.79    \u001b[0m | \u001b[0m 0.6566  \u001b[0m |\n",
      "| \u001b[0m 25      \u001b[0m | \u001b[0m 0.4995  \u001b[0m | \u001b[0m 7.683   \u001b[0m | \u001b[0m 128.8   \u001b[0m | \u001b[0m 3.703   \u001b[0m | \u001b[0m 0.2887  \u001b[0m |\n",
      "| \u001b[0m 26      \u001b[0m | \u001b[0m 0.6892  \u001b[0m | \u001b[0m 8.983   \u001b[0m | \u001b[0m 129.7   \u001b[0m | \u001b[0m 3.312   \u001b[0m | \u001b[0m 0.6598  \u001b[0m |\n",
      "| \u001b[0m 27      \u001b[0m | \u001b[0m 0.5697  \u001b[0m | \u001b[0m 2.856   \u001b[0m | \u001b[0m 195.5   \u001b[0m | \u001b[0m 1.129   \u001b[0m | \u001b[0m 0.3248  \u001b[0m |\n",
      "| \u001b[0m 28      \u001b[0m | \u001b[0m 0.7014  \u001b[0m | \u001b[0m 5.035   \u001b[0m | \u001b[0m 63.19   \u001b[0m | \u001b[0m 1.465   \u001b[0m | \u001b[0m 0.8817  \u001b[0m |\n",
      "| \u001b[0m 29      \u001b[0m | \u001b[0m 0.6971  \u001b[0m | \u001b[0m 1.748   \u001b[0m | \u001b[0m 169.8   \u001b[0m | \u001b[0m 9.298   \u001b[0m | \u001b[0m 0.9794  \u001b[0m |\n",
      "| \u001b[0m 30      \u001b[0m | \u001b[0m 0.6895  \u001b[0m | \u001b[0m 4.281   \u001b[0m | \u001b[0m 93.01   \u001b[0m | \u001b[0m 7.23    \u001b[0m | \u001b[0m 0.7586  \u001b[0m |\n",
      "| \u001b[0m 31      \u001b[0m | \u001b[0m 0.7127  \u001b[0m | \u001b[0m 9.882   \u001b[0m | \u001b[0m 140.8   \u001b[0m | \u001b[0m 9.105   \u001b[0m | \u001b[0m 0.8237  \u001b[0m |\n",
      "| \u001b[0m 32      \u001b[0m | \u001b[0m 0.6722  \u001b[0m | \u001b[0m 7.425   \u001b[0m | \u001b[0m 162.1   \u001b[0m | \u001b[0m 1.39    \u001b[0m | \u001b[0m 0.5666  \u001b[0m |\n",
      "| \u001b[0m 33      \u001b[0m | \u001b[0m 0.693   \u001b[0m | \u001b[0m 8.609   \u001b[0m | \u001b[0m 157.7   \u001b[0m | \u001b[0m 3.659   \u001b[0m | \u001b[0m 0.6668  \u001b[0m |\n",
      "| \u001b[0m 34      \u001b[0m | \u001b[0m 0.6924  \u001b[0m | \u001b[0m 1.76    \u001b[0m | \u001b[0m 171.4   \u001b[0m | \u001b[0m 7.223   \u001b[0m | \u001b[0m 0.7135  \u001b[0m |\n",
      "| \u001b[0m 35      \u001b[0m | \u001b[0m 0.6908  \u001b[0m | \u001b[0m 9.626   \u001b[0m | \u001b[0m 156.5   \u001b[0m | \u001b[0m 10.0    \u001b[0m | \u001b[0m 0.6701  \u001b[0m |\n",
      "| \u001b[0m 36      \u001b[0m | \u001b[0m 0.7141  \u001b[0m | \u001b[0m 2.574   \u001b[0m | \u001b[0m 143.5   \u001b[0m | \u001b[0m 2.809   \u001b[0m | \u001b[0m 0.8975  \u001b[0m |\n",
      "| \u001b[0m 37      \u001b[0m | \u001b[0m 0.5714  \u001b[0m | \u001b[0m 2.88    \u001b[0m | \u001b[0m 143.5   \u001b[0m | \u001b[0m 2.817   \u001b[0m | \u001b[0m 0.3741  \u001b[0m |\n",
      "| \u001b[0m 38      \u001b[0m | \u001b[0m 0.6941  \u001b[0m | \u001b[0m 9.526   \u001b[0m | \u001b[0m 140.6   \u001b[0m | \u001b[0m 2.518   \u001b[0m | \u001b[0m 0.5938  \u001b[0m |\n",
      "| \u001b[0m 39      \u001b[0m | \u001b[0m 0.7016  \u001b[0m | \u001b[0m 2.707   \u001b[0m | \u001b[0m 143.6   \u001b[0m | \u001b[0m 2.903   \u001b[0m | \u001b[0m 0.7885  \u001b[0m |\n",
      "| \u001b[0m 40      \u001b[0m | \u001b[0m 0.6983  \u001b[0m | \u001b[0m 1.553   \u001b[0m | \u001b[0m 127.4   \u001b[0m | \u001b[0m 4.844   \u001b[0m | \u001b[0m 0.9658  \u001b[0m |\n",
      "| \u001b[0m 41      \u001b[0m | \u001b[0m 0.7067  \u001b[0m | \u001b[0m 1.159   \u001b[0m | \u001b[0m 119.2   \u001b[0m | \u001b[0m 9.77    \u001b[0m | \u001b[0m 0.9852  \u001b[0m |\n",
      "| \u001b[0m 42      \u001b[0m | \u001b[0m 0.7068  \u001b[0m | \u001b[0m 1.92    \u001b[0m | \u001b[0m 192.2   \u001b[0m | \u001b[0m 9.748   \u001b[0m | \u001b[0m 0.7624  \u001b[0m |\n",
      "| \u001b[0m 43      \u001b[0m | \u001b[0m 0.6914  \u001b[0m | \u001b[0m 2.737   \u001b[0m | \u001b[0m 73.56   \u001b[0m | \u001b[0m 1.317   \u001b[0m | \u001b[0m 0.6519  \u001b[0m |\n",
      "| \u001b[0m 44      \u001b[0m | \u001b[0m 0.6286  \u001b[0m | \u001b[0m 7.447   \u001b[0m | \u001b[0m 57.87   \u001b[0m | \u001b[0m 5.27    \u001b[0m | \u001b[0m 0.4019  \u001b[0m |\n",
      "| \u001b[0m 45      \u001b[0m | \u001b[0m 0.6763  \u001b[0m | \u001b[0m 2.56    \u001b[0m | \u001b[0m 73.52   \u001b[0m | \u001b[0m 1.111   \u001b[0m | \u001b[0m 0.5701  \u001b[0m |\n",
      "| \u001b[0m 46      \u001b[0m | \u001b[0m 0.6974  \u001b[0m | \u001b[0m 8.541   \u001b[0m | \u001b[0m 94.09   \u001b[0m | \u001b[0m 8.968   \u001b[0m | \u001b[0m 0.7754  \u001b[0m |\n",
      "| \u001b[0m 47      \u001b[0m | \u001b[0m 0.71    \u001b[0m | \u001b[0m 2.834   \u001b[0m | \u001b[0m 143.4   \u001b[0m | \u001b[0m 3.362   \u001b[0m | \u001b[0m 0.9784  \u001b[0m |\n",
      "| \u001b[0m 48      \u001b[0m | \u001b[0m 0.7016  \u001b[0m | \u001b[0m 6.405   \u001b[0m | \u001b[0m 76.06   \u001b[0m | \u001b[0m 6.163   \u001b[0m | \u001b[0m 0.844   \u001b[0m |\n",
      "| \u001b[0m 49      \u001b[0m | \u001b[0m 0.7137  \u001b[0m | \u001b[0m 8.185   \u001b[0m | \u001b[0m 51.17   \u001b[0m | \u001b[0m 1.606   \u001b[0m | \u001b[0m 0.9273  \u001b[0m |\n",
      "| \u001b[0m 50      \u001b[0m | \u001b[0m 0.6901  \u001b[0m | \u001b[0m 8.175   \u001b[0m | \u001b[0m 51.4    \u001b[0m | \u001b[0m 1.8     \u001b[0m | \u001b[0m 0.7215  \u001b[0m |\n",
      "=========================================================================\n"
     ]
    }
   ],
   "source": [
    "hyperparam_lr_PC3 = run_ml(data_load['PC3'], 7, bound_logistic_regression['PC3'], model.Logistic_regression)"
   ]
  },
  {
   "cell_type": "code",
   "execution_count": 73,
   "metadata": {},
   "outputs": [
    {
     "data": {
      "text/plain": [
       "{'Train': {'Gmeans': 0.7681325276498187,\n",
       "  'Recall': 0.7586292525453191,\n",
       "  'pf': 0.22224515063970285,\n",
       "  'cf_matrix': {'tn': 3769, 'fp': 1077, 'fn': 972, 'tp': 3055}},\n",
       " 'Dev': {'Gmeans': 0.7179554744799145,\n",
       "  'Recall': 0.6964285714285714,\n",
       "  'pf': 0.25985221674876846,\n",
       "  'cf_matrix': {'tn': 601, 'fp': 211, 'fn': 34, 'tp': 78}},\n",
       " 'Test': {'Gmeans': 0.7284518676090967,\n",
       "  'Recall': 0.6940298507462687,\n",
       "  'pf': 0.2354188759278897,\n",
       "  'cf_matrix': {'tn': 721, 'fp': 222, 'fn': 41, 'tp': 93}}}"
      ]
     },
     "execution_count": 73,
     "metadata": {},
     "output_type": "execute_result"
    }
   ],
   "source": [
    "best_hyperparam_lr_PC3 = hyperparam_lr_PC3.max['params']\n",
    "result_lr_PC3 = run_ml(data_load['PC3'], 7, best_hyperparam_lr_PC3, model.Logistic_regression,do_optimize = False)\n",
    "result_lr_PC3"
   ]
  },
  {
   "cell_type": "markdown",
   "metadata": {},
   "source": [
    "### PC4"
   ]
  },
  {
   "cell_type": "code",
   "execution_count": 74,
   "metadata": {
    "scrolled": true
   },
   "outputs": [
    {
     "name": "stdout",
     "output_type": "stream",
     "text": [
      "|   iter    |  target   |     c     | max_iter  | neighbors | sampling  |\n",
      "-------------------------------------------------------------------------\n",
      "| \u001b[0m 1       \u001b[0m | \u001b[0m 0.8072  \u001b[0m | \u001b[0m 4.371   \u001b[0m | \u001b[0m 192.6   \u001b[0m | \u001b[0m 7.588   \u001b[0m | \u001b[0m 0.7079  \u001b[0m |\n",
      "| \u001b[95m 2       \u001b[0m | \u001b[95m 0.8213  \u001b[0m | \u001b[95m 2.404   \u001b[0m | \u001b[95m 73.4    \u001b[0m | \u001b[95m 1.523   \u001b[0m | \u001b[95m 0.9026  \u001b[0m |\n",
      "| \u001b[95m 3       \u001b[0m | \u001b[95m 0.8305  \u001b[0m | \u001b[95m 6.41    \u001b[0m | \u001b[95m 156.2   \u001b[0m | \u001b[95m 1.185   \u001b[0m | \u001b[95m 0.9781  \u001b[0m |\n",
      "| \u001b[0m 4       \u001b[0m | \u001b[0m 0.7486  \u001b[0m | \u001b[0m 8.492   \u001b[0m | \u001b[0m 81.85   \u001b[0m | \u001b[0m 2.636   \u001b[0m | \u001b[0m 0.4056  \u001b[0m |\n",
      "| \u001b[0m 5       \u001b[0m | \u001b[0m 0.7648  \u001b[0m | \u001b[0m 3.738   \u001b[0m | \u001b[0m 128.7   \u001b[0m | \u001b[0m 4.888   \u001b[0m | \u001b[0m 0.4841  \u001b[0m |\n",
      "| \u001b[0m 6       \u001b[0m | \u001b[0m 0.7827  \u001b[0m | \u001b[0m 6.507   \u001b[0m | \u001b[0m 70.92   \u001b[0m | \u001b[0m 3.629   \u001b[0m | \u001b[0m 0.5388  \u001b[0m |\n",
      "| \u001b[0m 7       \u001b[0m | \u001b[0m 0.8175  \u001b[0m | \u001b[0m 5.105   \u001b[0m | \u001b[0m 167.8   \u001b[0m | \u001b[0m 2.797   \u001b[0m | \u001b[0m 0.6464  \u001b[0m |\n",
      "| \u001b[0m 8       \u001b[0m | \u001b[0m 0.7475  \u001b[0m | \u001b[0m 6.332   \u001b[0m | \u001b[0m 56.97   \u001b[0m | \u001b[0m 6.468   \u001b[0m | \u001b[0m 0.3962  \u001b[0m |\n",
      "| \u001b[95m 9       \u001b[0m | \u001b[95m 0.8374  \u001b[0m | \u001b[95m 1.585   \u001b[0m | \u001b[95m 192.3   \u001b[0m | \u001b[95m 9.691   \u001b[0m | \u001b[95m 0.8605  \u001b[0m |\n",
      "| \u001b[0m 10      \u001b[0m | \u001b[0m 0.7883  \u001b[0m | \u001b[0m 3.742   \u001b[0m | \u001b[0m 64.65   \u001b[0m | \u001b[0m 7.158   \u001b[0m | \u001b[0m 0.5925  \u001b[0m |\n",
      "| \u001b[0m 11      \u001b[0m | \u001b[0m 0.82    \u001b[0m | \u001b[0m 2.098   \u001b[0m | \u001b[0m 124.3   \u001b[0m | \u001b[0m 1.309   \u001b[0m | \u001b[0m 0.934   \u001b[0m |\n",
      "| \u001b[0m 12      \u001b[0m | \u001b[0m 0.8154  \u001b[0m | \u001b[0m 3.329   \u001b[0m | \u001b[0m 149.4   \u001b[0m | \u001b[0m 3.805   \u001b[0m | \u001b[0m 0.6507  \u001b[0m |\n",
      "| \u001b[0m 13      \u001b[0m | \u001b[0m 0.8348  \u001b[0m | \u001b[0m 5.92    \u001b[0m | \u001b[0m 77.73   \u001b[0m | \u001b[0m 9.726   \u001b[0m | \u001b[0m 0.8363  \u001b[0m |\n",
      "| \u001b[0m 14      \u001b[0m | \u001b[0m 0.8186  \u001b[0m | \u001b[0m 9.455   \u001b[0m | \u001b[0m 184.2   \u001b[0m | \u001b[0m 6.381   \u001b[0m | \u001b[0m 0.9431  \u001b[0m |\n",
      "| \u001b[0m 15      \u001b[0m | \u001b[0m 0.7671  \u001b[0m | \u001b[0m 1.796   \u001b[0m | \u001b[0m 79.4    \u001b[0m | \u001b[0m 1.407   \u001b[0m | \u001b[0m 0.5089  \u001b[0m |\n",
      "| \u001b[0m 16      \u001b[0m | \u001b[0m 0.7112  \u001b[0m | \u001b[0m 1.713   \u001b[0m | \u001b[0m 191.9   \u001b[0m | \u001b[0m 8.979   \u001b[0m | \u001b[0m 0.3338  \u001b[0m |\n",
      "| \u001b[0m 17      \u001b[0m | \u001b[0m 0.8186  \u001b[0m | \u001b[0m 1.443   \u001b[0m | \u001b[0m 52.77   \u001b[0m | \u001b[0m 6.405   \u001b[0m | \u001b[0m 0.799   \u001b[0m |\n",
      "| \u001b[0m 18      \u001b[0m | \u001b[0m 0.7768  \u001b[0m | \u001b[0m 1.04    \u001b[0m | \u001b[0m 56.05   \u001b[0m | \u001b[0m 5.198   \u001b[0m | \u001b[0m 0.5284  \u001b[0m |\n",
      "| \u001b[0m 19      \u001b[0m | \u001b[0m 0.7796  \u001b[0m | \u001b[0m 9.737   \u001b[0m | \u001b[0m 156.4   \u001b[0m | \u001b[0m 9.945   \u001b[0m | \u001b[0m 0.5443  \u001b[0m |\n",
      "| \u001b[0m 20      \u001b[0m | \u001b[0m 0.7319  \u001b[0m | \u001b[0m 5.244   \u001b[0m | \u001b[0m 74.07   \u001b[0m | \u001b[0m 8.218   \u001b[0m | \u001b[0m 0.3423  \u001b[0m |\n",
      "| \u001b[95m 21      \u001b[0m | \u001b[95m 0.8461  \u001b[0m | \u001b[95m 9.445   \u001b[0m | \u001b[95m 155.9   \u001b[0m | \u001b[95m 5.051   \u001b[0m | \u001b[95m 0.9989  \u001b[0m |\n",
      "| \u001b[0m 22      \u001b[0m | \u001b[0m 0.7831  \u001b[0m | \u001b[0m 7.977   \u001b[0m | \u001b[0m 182.3   \u001b[0m | \u001b[0m 3.045   \u001b[0m | \u001b[0m 0.5432  \u001b[0m |\n",
      "| \u001b[0m 23      \u001b[0m | \u001b[0m 0.8387  \u001b[0m | \u001b[0m 2.742   \u001b[0m | \u001b[0m 143.2   \u001b[0m | \u001b[0m 3.234   \u001b[0m | \u001b[0m 0.8309  \u001b[0m |\n",
      "| \u001b[0m 24      \u001b[0m | \u001b[0m 0.8048  \u001b[0m | \u001b[0m 1.057   \u001b[0m | \u001b[0m 118.9   \u001b[0m | \u001b[0m 9.79    \u001b[0m | \u001b[0m 0.6555  \u001b[0m |\n",
      "| \u001b[0m 25      \u001b[0m | \u001b[0m 0.6792  \u001b[0m | \u001b[0m 7.683   \u001b[0m | \u001b[0m 128.8   \u001b[0m | \u001b[0m 3.703   \u001b[0m | \u001b[0m 0.2864  \u001b[0m |\n",
      "| \u001b[0m 26      \u001b[0m | \u001b[0m 0.8133  \u001b[0m | \u001b[0m 8.983   \u001b[0m | \u001b[0m 129.7   \u001b[0m | \u001b[0m 3.312   \u001b[0m | \u001b[0m 0.6588  \u001b[0m |\n",
      "| \u001b[0m 27      \u001b[0m | \u001b[0m 0.6953  \u001b[0m | \u001b[0m 2.856   \u001b[0m | \u001b[0m 195.5   \u001b[0m | \u001b[0m 1.129   \u001b[0m | \u001b[0m 0.3227  \u001b[0m |\n",
      "| \u001b[0m 28      \u001b[0m | \u001b[0m 0.8305  \u001b[0m | \u001b[0m 5.035   \u001b[0m | \u001b[0m 63.19   \u001b[0m | \u001b[0m 1.465   \u001b[0m | \u001b[0m 0.8813  \u001b[0m |\n",
      "| \u001b[0m 29      \u001b[0m | \u001b[0m 0.8416  \u001b[0m | \u001b[0m 1.748   \u001b[0m | \u001b[0m 169.8   \u001b[0m | \u001b[0m 9.298   \u001b[0m | \u001b[0m 0.9793  \u001b[0m |\n",
      "| \u001b[0m 30      \u001b[0m | \u001b[0m 0.8245  \u001b[0m | \u001b[0m 4.281   \u001b[0m | \u001b[0m 93.01   \u001b[0m | \u001b[0m 7.23    \u001b[0m | \u001b[0m 0.7579  \u001b[0m |\n",
      "| \u001b[0m 31      \u001b[0m | \u001b[0m 0.8281  \u001b[0m | \u001b[0m 9.882   \u001b[0m | \u001b[0m 140.8   \u001b[0m | \u001b[0m 9.105   \u001b[0m | \u001b[0m 0.8232  \u001b[0m |\n",
      "| \u001b[0m 32      \u001b[0m | \u001b[0m 0.7993  \u001b[0m | \u001b[0m 7.425   \u001b[0m | \u001b[0m 162.1   \u001b[0m | \u001b[0m 1.39    \u001b[0m | \u001b[0m 0.5653  \u001b[0m |\n",
      "| \u001b[0m 33      \u001b[0m | \u001b[0m 0.8098  \u001b[0m | \u001b[0m 8.609   \u001b[0m | \u001b[0m 157.7   \u001b[0m | \u001b[0m 3.659   \u001b[0m | \u001b[0m 0.6657  \u001b[0m |\n",
      "| \u001b[0m 34      \u001b[0m | \u001b[0m 0.8113  \u001b[0m | \u001b[0m 1.76    \u001b[0m | \u001b[0m 171.4   \u001b[0m | \u001b[0m 7.223   \u001b[0m | \u001b[0m 0.7126  \u001b[0m |\n",
      "| \u001b[0m 35      \u001b[0m | \u001b[0m 0.7062  \u001b[0m | \u001b[0m 8.133   \u001b[0m | \u001b[0m 196.1   \u001b[0m | \u001b[0m 7.556   \u001b[0m | \u001b[0m 0.3002  \u001b[0m |\n",
      "| \u001b[0m 36      \u001b[0m | \u001b[0m 0.8323  \u001b[0m | \u001b[0m 3.077   \u001b[0m | \u001b[0m 110.7   \u001b[0m | \u001b[0m 9.51    \u001b[0m | \u001b[0m 0.8992  \u001b[0m |\n",
      "| \u001b[0m 37      \u001b[0m | \u001b[0m 0.8263  \u001b[0m | \u001b[0m 1.526   \u001b[0m | \u001b[0m 69.32   \u001b[0m | \u001b[0m 5.954   \u001b[0m | \u001b[0m 0.9051  \u001b[0m |\n",
      "| \u001b[0m 38      \u001b[0m | \u001b[0m 0.8078  \u001b[0m | \u001b[0m 9.526   \u001b[0m | \u001b[0m 140.6   \u001b[0m | \u001b[0m 2.518   \u001b[0m | \u001b[0m 0.5925  \u001b[0m |\n",
      "| \u001b[0m 39      \u001b[0m | \u001b[0m 0.819   \u001b[0m | \u001b[0m 2.339   \u001b[0m | \u001b[0m 191.3   \u001b[0m | \u001b[0m 5.815   \u001b[0m | \u001b[0m 0.7214  \u001b[0m |\n",
      "| \u001b[0m 40      \u001b[0m | \u001b[0m 0.8256  \u001b[0m | \u001b[0m 1.553   \u001b[0m | \u001b[0m 127.4   \u001b[0m | \u001b[0m 4.844   \u001b[0m | \u001b[0m 0.9657  \u001b[0m |\n",
      "| \u001b[0m 41      \u001b[0m | \u001b[0m 0.7397  \u001b[0m | \u001b[0m 4.126   \u001b[0m | \u001b[0m 82.61   \u001b[0m | \u001b[0m 7.001   \u001b[0m | \u001b[0m 0.3886  \u001b[0m |\n",
      "| \u001b[0m 42      \u001b[0m | \u001b[0m 0.816   \u001b[0m | \u001b[0m 2.432   \u001b[0m | \u001b[0m 131.0   \u001b[0m | \u001b[0m 3.836   \u001b[0m | \u001b[0m 0.7166  \u001b[0m |\n",
      "| \u001b[0m 43      \u001b[0m | \u001b[0m 0.8217  \u001b[0m | \u001b[0m 1.837   \u001b[0m | \u001b[0m 162.7   \u001b[0m | \u001b[0m 6.906   \u001b[0m | \u001b[0m 0.8866  \u001b[0m |\n",
      "| \u001b[0m 44      \u001b[0m | \u001b[0m 0.7516  \u001b[0m | \u001b[0m 7.447   \u001b[0m | \u001b[0m 57.87   \u001b[0m | \u001b[0m 5.27    \u001b[0m | \u001b[0m 0.4     \u001b[0m |\n",
      "| \u001b[0m 45      \u001b[0m | \u001b[0m 0.7497  \u001b[0m | \u001b[0m 9.1     \u001b[0m | \u001b[0m 81.51   \u001b[0m | \u001b[0m 5.152   \u001b[0m | \u001b[0m 0.3767  \u001b[0m |\n",
      "| \u001b[0m 46      \u001b[0m | \u001b[0m 0.8245  \u001b[0m | \u001b[0m 8.541   \u001b[0m | \u001b[0m 94.09   \u001b[0m | \u001b[0m 8.968   \u001b[0m | \u001b[0m 0.7747  \u001b[0m |\n",
      "| \u001b[0m 47      \u001b[0m | \u001b[0m 0.8318  \u001b[0m | \u001b[0m 8.463   \u001b[0m | \u001b[0m 66.85   \u001b[0m | \u001b[0m 2.893   \u001b[0m | \u001b[0m 0.8964  \u001b[0m |\n",
      "| \u001b[0m 48      \u001b[0m | \u001b[0m 0.821   \u001b[0m | \u001b[0m 6.405   \u001b[0m | \u001b[0m 76.06   \u001b[0m | \u001b[0m 6.163   \u001b[0m | \u001b[0m 0.8435  \u001b[0m |\n",
      "| \u001b[0m 49      \u001b[0m | \u001b[0m 0.8319  \u001b[0m | \u001b[0m 8.185   \u001b[0m | \u001b[0m 51.17   \u001b[0m | \u001b[0m 1.606   \u001b[0m | \u001b[0m 0.9271  \u001b[0m |\n",
      "| \u001b[0m 50      \u001b[0m | \u001b[0m 0.8399  \u001b[0m | \u001b[0m 1.74    \u001b[0m | \u001b[0m 74.95   \u001b[0m | \u001b[0m 9.478   \u001b[0m | \u001b[0m 0.9609  \u001b[0m |\n",
      "=========================================================================\n"
     ]
    }
   ],
   "source": [
    "hyperparam_lr_PC4 = run_ml(data_load['PC4'], 7, bound_logistic_regression['PC4'], model.Logistic_regression)"
   ]
  },
  {
   "cell_type": "code",
   "execution_count": 75,
   "metadata": {
    "scrolled": true
   },
   "outputs": [
    {
     "data": {
      "text/plain": [
       "{'Train': {'Gmeans': 0.8618634000094563,\n",
       "  'Recall': 0.90711131414649,\n",
       "  'pf': 0.18112748822367422,\n",
       "  'cf_matrix': {'tn': 5389, 'fp': 1192, 'fn': 610, 'tp': 5957}},\n",
       " 'Dev': {'Gmeans': 0.8461080019303671,\n",
       "  'Recall': 0.8636363636363636,\n",
       "  'pf': 0.1710646041856233,\n",
       "  'cf_matrix': {'tn': 911, 'fp': 188, 'fn': 21, 'tp': 133}},\n",
       " 'Test': {'Gmeans': 0.817529807380169,\n",
       "  'Recall': 0.8202247191011236,\n",
       "  'pf': 0.18515625,\n",
       "  'cf_matrix': {'tn': 1043, 'fp': 237, 'fn': 32, 'tp': 146}}}"
      ]
     },
     "execution_count": 75,
     "metadata": {},
     "output_type": "execute_result"
    }
   ],
   "source": [
    "best_hyperparam_lr_PC4 = hyperparam_lr_PC4.max['params']\n",
    "result_lr_PC4 = run_ml(data_load['PC4'], 7, best_hyperparam_lr_PC4, model.Logistic_regression,do_optimize = False)\n",
    "result_lr_PC4"
   ]
  },
  {
   "cell_type": "markdown",
   "metadata": {},
   "source": [
    "### CM1"
   ]
  },
  {
   "cell_type": "code",
   "execution_count": 76,
   "metadata": {},
   "outputs": [
    {
     "name": "stdout",
     "output_type": "stream",
     "text": [
      "|   iter    |  target   |     c     | max_iter  | neighbors | sampling  |\n",
      "-------------------------------------------------------------------------\n",
      "| \u001b[0m 1       \u001b[0m | \u001b[0m 0.6724  \u001b[0m | \u001b[0m 4.371   \u001b[0m | \u001b[0m 192.6   \u001b[0m | \u001b[0m 7.588   \u001b[0m | \u001b[0m 0.6984  \u001b[0m |\n",
      "| \u001b[95m 2       \u001b[0m | \u001b[95m 0.7374  \u001b[0m | \u001b[95m 2.404   \u001b[0m | \u001b[95m 73.4    \u001b[0m | \u001b[95m 1.523   \u001b[0m | \u001b[95m 0.8994  \u001b[0m |\n",
      "| \u001b[95m 3       \u001b[0m | \u001b[95m 0.7444  \u001b[0m | \u001b[95m 6.41    \u001b[0m | \u001b[95m 156.2   \u001b[0m | \u001b[95m 1.185   \u001b[0m | \u001b[95m 0.9774  \u001b[0m |\n",
      "| \u001b[0m 4       \u001b[0m | \u001b[0m 0.611   \u001b[0m | \u001b[0m 8.492   \u001b[0m | \u001b[0m 81.85   \u001b[0m | \u001b[0m 2.636   \u001b[0m | \u001b[0m 0.3862  \u001b[0m |\n",
      "| \u001b[0m 5       \u001b[0m | \u001b[0m 0.5698  \u001b[0m | \u001b[0m 3.738   \u001b[0m | \u001b[0m 128.7   \u001b[0m | \u001b[0m 4.888   \u001b[0m | \u001b[0m 0.4673  \u001b[0m |\n",
      "| \u001b[0m 6       \u001b[0m | \u001b[0m 0.6305  \u001b[0m | \u001b[0m 6.507   \u001b[0m | \u001b[0m 70.92   \u001b[0m | \u001b[0m 3.629   \u001b[0m | \u001b[0m 0.5238  \u001b[0m |\n",
      "| \u001b[0m 7       \u001b[0m | \u001b[0m 0.6713  \u001b[0m | \u001b[0m 5.105   \u001b[0m | \u001b[0m 167.8   \u001b[0m | \u001b[0m 2.797   \u001b[0m | \u001b[0m 0.6349  \u001b[0m |\n",
      "| \u001b[0m 8       \u001b[0m | \u001b[0m 0.5299  \u001b[0m | \u001b[0m 6.332   \u001b[0m | \u001b[0m 56.97   \u001b[0m | \u001b[0m 6.468   \u001b[0m | \u001b[0m 0.3766  \u001b[0m |\n",
      "| \u001b[95m 9       \u001b[0m | \u001b[95m 0.7535  \u001b[0m | \u001b[95m 1.585   \u001b[0m | \u001b[95m 192.3   \u001b[0m | \u001b[95m 9.691   \u001b[0m | \u001b[95m 0.856   \u001b[0m |\n",
      "| \u001b[0m 10      \u001b[0m | \u001b[0m 0.6137  \u001b[0m | \u001b[0m 3.742   \u001b[0m | \u001b[0m 64.65   \u001b[0m | \u001b[0m 7.158   \u001b[0m | \u001b[0m 0.5792  \u001b[0m |\n",
      "| \u001b[0m 11      \u001b[0m | \u001b[0m 0.7297  \u001b[0m | \u001b[0m 2.098   \u001b[0m | \u001b[0m 124.3   \u001b[0m | \u001b[0m 1.309   \u001b[0m | \u001b[0m 0.9318  \u001b[0m |\n",
      "| \u001b[0m 12      \u001b[0m | \u001b[0m 0.6614  \u001b[0m | \u001b[0m 3.329   \u001b[0m | \u001b[0m 149.4   \u001b[0m | \u001b[0m 3.805   \u001b[0m | \u001b[0m 0.6393  \u001b[0m |\n",
      "| \u001b[0m 13      \u001b[0m | \u001b[0m 0.7193  \u001b[0m | \u001b[0m 5.92    \u001b[0m | \u001b[0m 77.73   \u001b[0m | \u001b[0m 9.726   \u001b[0m | \u001b[0m 0.831   \u001b[0m |\n",
      "| \u001b[95m 14      \u001b[0m | \u001b[95m 0.7576  \u001b[0m | \u001b[95m 9.455   \u001b[0m | \u001b[95m 184.2   \u001b[0m | \u001b[95m 6.381   \u001b[0m | \u001b[95m 0.9413  \u001b[0m |\n",
      "| \u001b[0m 15      \u001b[0m | \u001b[0m 0.554   \u001b[0m | \u001b[0m 1.796   \u001b[0m | \u001b[0m 79.4    \u001b[0m | \u001b[0m 1.407   \u001b[0m | \u001b[0m 0.4929  \u001b[0m |\n",
      "| \u001b[0m 16      \u001b[0m | \u001b[0m 0.7462  \u001b[0m | \u001b[0m 8.843   \u001b[0m | \u001b[0m 184.5   \u001b[0m | \u001b[0m 6.856   \u001b[0m | \u001b[0m 0.8293  \u001b[0m |\n",
      "| \u001b[0m 17      \u001b[0m | \u001b[0m 0.698   \u001b[0m | \u001b[0m 8.781   \u001b[0m | \u001b[0m 183.5   \u001b[0m | \u001b[0m 5.077   \u001b[0m | \u001b[0m 0.7335  \u001b[0m |\n",
      "| \u001b[0m 18      \u001b[0m | \u001b[0m 0.6562  \u001b[0m | \u001b[0m 9.841   \u001b[0m | \u001b[0m 184.2   \u001b[0m | \u001b[0m 7.445   \u001b[0m | \u001b[0m 0.6429  \u001b[0m |\n",
      "| \u001b[0m 19      \u001b[0m | \u001b[0m 0.7428  \u001b[0m | \u001b[0m 1.056   \u001b[0m | \u001b[0m 193.0   \u001b[0m | \u001b[0m 9.67    \u001b[0m | \u001b[0m 0.968   \u001b[0m |\n",
      "| \u001b[0m 20      \u001b[0m | \u001b[0m 0.7523  \u001b[0m | \u001b[0m 9.049   \u001b[0m | \u001b[0m 184.8   \u001b[0m | \u001b[0m 6.053   \u001b[0m | \u001b[0m 1.0     \u001b[0m |\n",
      "| \u001b[0m 21      \u001b[0m | \u001b[0m 0.7208  \u001b[0m | \u001b[0m 1.0     \u001b[0m | \u001b[0m 191.6   \u001b[0m | \u001b[0m 10.0    \u001b[0m | \u001b[0m 1.0     \u001b[0m |\n",
      "| \u001b[0m 22      \u001b[0m | \u001b[0m 0.3516  \u001b[0m | \u001b[0m 1.522   \u001b[0m | \u001b[0m 192.5   \u001b[0m | \u001b[0m 8.797   \u001b[0m | \u001b[0m 0.2484  \u001b[0m |\n",
      "| \u001b[0m 23      \u001b[0m | \u001b[0m 0.6572  \u001b[0m | \u001b[0m 8.91    \u001b[0m | \u001b[0m 184.3   \u001b[0m | \u001b[0m 6.561   \u001b[0m | \u001b[0m 0.5935  \u001b[0m |\n",
      "| \u001b[0m 24      \u001b[0m | \u001b[0m 0.7205  \u001b[0m | \u001b[0m 1.519   \u001b[0m | \u001b[0m 192.8   \u001b[0m | \u001b[0m 9.999   \u001b[0m | \u001b[0m 0.7916  \u001b[0m |\n",
      "| \u001b[0m 25      \u001b[0m | \u001b[0m 0.383   \u001b[0m | \u001b[0m 7.683   \u001b[0m | \u001b[0m 128.8   \u001b[0m | \u001b[0m 3.703   \u001b[0m | \u001b[0m 0.2632  \u001b[0m |\n",
      "| \u001b[0m 26      \u001b[0m | \u001b[0m 0.7405  \u001b[0m | \u001b[0m 6.195   \u001b[0m | \u001b[0m 155.5   \u001b[0m | \u001b[0m 1.435   \u001b[0m | \u001b[0m 0.9861  \u001b[0m |\n",
      "| \u001b[0m 27      \u001b[0m | \u001b[0m 0.3846  \u001b[0m | \u001b[0m 2.856   \u001b[0m | \u001b[0m 195.5   \u001b[0m | \u001b[0m 1.129   \u001b[0m | \u001b[0m 0.3006  \u001b[0m |\n",
      "| \u001b[0m 28      \u001b[0m | \u001b[0m 0.7399  \u001b[0m | \u001b[0m 5.035   \u001b[0m | \u001b[0m 63.19   \u001b[0m | \u001b[0m 1.465   \u001b[0m | \u001b[0m 0.8774  \u001b[0m |\n",
      "| \u001b[95m 29      \u001b[0m | \u001b[95m 0.7721  \u001b[0m | \u001b[95m 9.925   \u001b[0m | \u001b[95m 184.4   \u001b[0m | \u001b[95m 6.131   \u001b[0m | \u001b[95m 0.8283  \u001b[0m |\n",
      "| \u001b[0m 30      \u001b[0m | \u001b[0m 0.6245  \u001b[0m | \u001b[0m 9.616   \u001b[0m | \u001b[0m 184.5   \u001b[0m | \u001b[0m 5.636   \u001b[0m | \u001b[0m 0.5738  \u001b[0m |\n",
      "| \u001b[0m 31      \u001b[0m | \u001b[0m 0.6255  \u001b[0m | \u001b[0m 9.209   \u001b[0m | \u001b[0m 185.0   \u001b[0m | \u001b[0m 7.135   \u001b[0m | \u001b[0m 0.5936  \u001b[0m |\n",
      "| \u001b[0m 32      \u001b[0m | \u001b[0m 0.6305  \u001b[0m | \u001b[0m 7.425   \u001b[0m | \u001b[0m 162.1   \u001b[0m | \u001b[0m 1.39    \u001b[0m | \u001b[0m 0.5511  \u001b[0m |\n",
      "| \u001b[0m 33      \u001b[0m | \u001b[0m 0.6702  \u001b[0m | \u001b[0m 8.609   \u001b[0m | \u001b[0m 157.7   \u001b[0m | \u001b[0m 3.659   \u001b[0m | \u001b[0m 0.6548  \u001b[0m |\n",
      "| \u001b[0m 34      \u001b[0m | \u001b[0m 0.7106  \u001b[0m | \u001b[0m 9.935   \u001b[0m | \u001b[0m 183.9   \u001b[0m | \u001b[0m 6.154   \u001b[0m | \u001b[0m 0.7335  \u001b[0m |\n",
      "| \u001b[0m 35      \u001b[0m | \u001b[0m 0.7298  \u001b[0m | \u001b[0m 6.219   \u001b[0m | \u001b[0m 156.0   \u001b[0m | \u001b[0m 2.116   \u001b[0m | \u001b[0m 0.8326  \u001b[0m |\n",
      "| \u001b[0m 36      \u001b[0m | \u001b[0m 0.7401  \u001b[0m | \u001b[0m 1.285   \u001b[0m | \u001b[0m 191.9   \u001b[0m | \u001b[0m 9.989   \u001b[0m | \u001b[0m 0.989   \u001b[0m |\n",
      "| \u001b[0m 37      \u001b[0m | \u001b[0m 0.6046  \u001b[0m | \u001b[0m 6.668   \u001b[0m | \u001b[0m 156.1   \u001b[0m | \u001b[0m 1.632   \u001b[0m | \u001b[0m 0.4714  \u001b[0m |\n",
      "| \u001b[0m 38      \u001b[0m | \u001b[0m 0.6767  \u001b[0m | \u001b[0m 9.526   \u001b[0m | \u001b[0m 140.6   \u001b[0m | \u001b[0m 2.518   \u001b[0m | \u001b[0m 0.5792  \u001b[0m |\n",
      "| \u001b[0m 39      \u001b[0m | \u001b[0m 0.654   \u001b[0m | \u001b[0m 2.339   \u001b[0m | \u001b[0m 191.3   \u001b[0m | \u001b[0m 5.815   \u001b[0m | \u001b[0m 0.7123  \u001b[0m |\n",
      "| \u001b[0m 40      \u001b[0m | \u001b[0m 0.7339  \u001b[0m | \u001b[0m 5.902   \u001b[0m | \u001b[0m 156.0   \u001b[0m | \u001b[0m 1.479   \u001b[0m | \u001b[0m 1.0     \u001b[0m |\n",
      "| \u001b[0m 41      \u001b[0m | \u001b[0m 0.7002  \u001b[0m | \u001b[0m 5.51    \u001b[0m | \u001b[0m 167.7   \u001b[0m | \u001b[0m 2.517   \u001b[0m | \u001b[0m 0.6635  \u001b[0m |\n",
      "| \u001b[0m 42      \u001b[0m | \u001b[0m 0.7576  \u001b[0m | \u001b[0m 9.186   \u001b[0m | \u001b[0m 184.7   \u001b[0m | \u001b[0m 6.27    \u001b[0m | \u001b[0m 0.9357  \u001b[0m |\n",
      "| \u001b[0m 43      \u001b[0m | \u001b[0m 0.6467  \u001b[0m | \u001b[0m 5.747   \u001b[0m | \u001b[0m 63.44   \u001b[0m | \u001b[0m 1.623   \u001b[0m | \u001b[0m 0.5949  \u001b[0m |\n",
      "| \u001b[0m 44      \u001b[0m | \u001b[0m 0.4142  \u001b[0m | \u001b[0m 4.749   \u001b[0m | \u001b[0m 62.72   \u001b[0m | \u001b[0m 1.478   \u001b[0m | \u001b[0m 0.2941  \u001b[0m |\n",
      "| \u001b[0m 45      \u001b[0m | \u001b[0m 0.6046  \u001b[0m | \u001b[0m 2.56    \u001b[0m | \u001b[0m 73.52   \u001b[0m | \u001b[0m 1.111   \u001b[0m | \u001b[0m 0.5547  \u001b[0m |\n",
      "| \u001b[0m 46      \u001b[0m | \u001b[0m 0.7217  \u001b[0m | \u001b[0m 8.541   \u001b[0m | \u001b[0m 94.09   \u001b[0m | \u001b[0m 8.968   \u001b[0m | \u001b[0m 0.7674  \u001b[0m |\n",
      "| \u001b[0m 47      \u001b[0m | \u001b[0m 0.7323  \u001b[0m | \u001b[0m 1.081   \u001b[0m | \u001b[0m 192.3   \u001b[0m | \u001b[0m 9.675   \u001b[0m | \u001b[0m 0.8467  \u001b[0m |\n",
      "| \u001b[0m 48      \u001b[0m | \u001b[0m 0.7599  \u001b[0m | \u001b[0m 6.405   \u001b[0m | \u001b[0m 76.06   \u001b[0m | \u001b[0m 6.163   \u001b[0m | \u001b[0m 0.8384  \u001b[0m |\n",
      "| \u001b[0m 49      \u001b[0m | \u001b[0m 0.7374  \u001b[0m | \u001b[0m 8.185   \u001b[0m | \u001b[0m 51.17   \u001b[0m | \u001b[0m 1.606   \u001b[0m | \u001b[0m 0.9247  \u001b[0m |\n",
      "| \u001b[0m 50      \u001b[0m | \u001b[0m 0.7475  \u001b[0m | \u001b[0m 6.29    \u001b[0m | \u001b[0m 76.39   \u001b[0m | \u001b[0m 6.476   \u001b[0m | \u001b[0m 0.8047  \u001b[0m |\n",
      "=========================================================================\n"
     ]
    }
   ],
   "source": [
    "hyperparam_lr_CM1 = run_ml(data_load['CM1'], 5, bound_logistic_regression['CM1'], model.Logistic_regression)"
   ]
  },
  {
   "cell_type": "code",
   "execution_count": 77,
   "metadata": {
    "scrolled": true
   },
   "outputs": [
    {
     "data": {
      "text/plain": [
       "{'Train': {'Gmeans': 0.7872398784007238,\n",
       "  'Recall': 0.7554806070826307,\n",
       "  'pf': 0.1796657381615599,\n",
       "  'cf_matrix': {'tn': 1178, 'fp': 258, 'fn': 290, 'tp': 896}},\n",
       " 'Dev': {'Gmeans': 0.7720823214600313,\n",
       "  'Recall': 0.725,\n",
       "  'pf': 0.17777777777777778,\n",
       "  'cf_matrix': {'tn': 296, 'fp': 64, 'fn': 11, 'tp': 29}},\n",
       " 'Test': {'Gmeans': 0.7200846376425808,\n",
       "  'Recall': 0.6326530612244898,\n",
       "  'pf': 0.18040089086859687,\n",
       "  'cf_matrix': {'tn': 368, 'fp': 81, 'fn': 18, 'tp': 31}}}"
      ]
     },
     "execution_count": 77,
     "metadata": {},
     "output_type": "execute_result"
    }
   ],
   "source": [
    "best_hyperparam_lr_CM1 = hyperparam_lr_CM1.max['params']\n",
    "result_lr_CM1 = run_ml(data_load['CM1'], 5, best_hyperparam_lr_CM1, model.Logistic_regression,do_optimize = False)\n",
    "result_lr_CM1"
   ]
  },
  {
   "cell_type": "markdown",
   "metadata": {},
   "source": [
    "### JM1"
   ]
  },
  {
   "cell_type": "code",
   "execution_count": 78,
   "metadata": {},
   "outputs": [
    {
     "name": "stdout",
     "output_type": "stream",
     "text": [
      "|   iter    |  target   |     c     | max_iter  | neighbors | sampling  |\n",
      "-------------------------------------------------------------------------\n",
      "| \u001b[0m 1       \u001b[0m | \u001b[0m 0.574   \u001b[0m | \u001b[0m 4.371   \u001b[0m | \u001b[0m 192.6   \u001b[0m | \u001b[0m 7.588   \u001b[0m | \u001b[0m 0.7364  \u001b[0m |\n",
      "| \u001b[95m 2       \u001b[0m | \u001b[95m 0.6296  \u001b[0m | \u001b[95m 2.404   \u001b[0m | \u001b[95m 73.4    \u001b[0m | \u001b[95m 1.523   \u001b[0m | \u001b[95m 0.9121  \u001b[0m |\n",
      "| \u001b[95m 3       \u001b[0m | \u001b[95m 0.6486  \u001b[0m | \u001b[95m 6.41    \u001b[0m | \u001b[95m 156.2   \u001b[0m | \u001b[95m 1.185   \u001b[0m | \u001b[95m 0.9802  \u001b[0m |\n",
      "| \u001b[0m 4       \u001b[0m | \u001b[0m 0.4522  \u001b[0m | \u001b[0m 8.492   \u001b[0m | \u001b[0m 81.85   \u001b[0m | \u001b[0m 2.636   \u001b[0m | \u001b[0m 0.4637  \u001b[0m |\n",
      "| \u001b[0m 5       \u001b[0m | \u001b[0m 0.4891  \u001b[0m | \u001b[0m 3.738   \u001b[0m | \u001b[0m 128.7   \u001b[0m | \u001b[0m 4.888   \u001b[0m | \u001b[0m 0.5346  \u001b[0m |\n",
      "| \u001b[0m 6       \u001b[0m | \u001b[0m 0.5237  \u001b[0m | \u001b[0m 6.507   \u001b[0m | \u001b[0m 70.92   \u001b[0m | \u001b[0m 3.629   \u001b[0m | \u001b[0m 0.5839  \u001b[0m |\n",
      "| \u001b[0m 7       \u001b[0m | \u001b[0m 0.5606  \u001b[0m | \u001b[0m 5.105   \u001b[0m | \u001b[0m 167.8   \u001b[0m | \u001b[0m 2.797   \u001b[0m | \u001b[0m 0.681   \u001b[0m |\n",
      "| \u001b[0m 8       \u001b[0m | \u001b[0m 0.4345  \u001b[0m | \u001b[0m 6.332   \u001b[0m | \u001b[0m 56.97   \u001b[0m | \u001b[0m 6.468   \u001b[0m | \u001b[0m 0.4553  \u001b[0m |\n",
      "| \u001b[0m 9       \u001b[0m | \u001b[0m 0.6192  \u001b[0m | \u001b[0m 1.585   \u001b[0m | \u001b[0m 192.3   \u001b[0m | \u001b[0m 9.691   \u001b[0m | \u001b[0m 0.8742  \u001b[0m |\n",
      "| \u001b[0m 10      \u001b[0m | \u001b[0m 0.5403  \u001b[0m | \u001b[0m 3.742   \u001b[0m | \u001b[0m 64.65   \u001b[0m | \u001b[0m 7.158   \u001b[0m | \u001b[0m 0.6323  \u001b[0m |\n",
      "| \u001b[0m 11      \u001b[0m | \u001b[0m 0.6346  \u001b[0m | \u001b[0m 2.098   \u001b[0m | \u001b[0m 124.3   \u001b[0m | \u001b[0m 1.309   \u001b[0m | \u001b[0m 0.9405  \u001b[0m |\n",
      "| \u001b[0m 12      \u001b[0m | \u001b[0m 0.5595  \u001b[0m | \u001b[0m 3.329   \u001b[0m | \u001b[0m 149.4   \u001b[0m | \u001b[0m 3.805   \u001b[0m | \u001b[0m 0.6848  \u001b[0m |\n",
      "| \u001b[0m 13      \u001b[0m | \u001b[0m 0.6157  \u001b[0m | \u001b[0m 5.92    \u001b[0m | \u001b[0m 77.73   \u001b[0m | \u001b[0m 9.726   \u001b[0m | \u001b[0m 0.8523  \u001b[0m |\n",
      "| \u001b[0m 14      \u001b[0m | \u001b[0m 0.6448  \u001b[0m | \u001b[0m 9.455   \u001b[0m | \u001b[0m 184.2   \u001b[0m | \u001b[0m 6.381   \u001b[0m | \u001b[0m 0.9487  \u001b[0m |\n",
      "| \u001b[0m 15      \u001b[0m | \u001b[0m 0.4835  \u001b[0m | \u001b[0m 1.796   \u001b[0m | \u001b[0m 79.4    \u001b[0m | \u001b[0m 1.407   \u001b[0m | \u001b[0m 0.5569  \u001b[0m |\n",
      "| \u001b[0m 16      \u001b[0m | \u001b[0m 0.518   \u001b[0m | \u001b[0m 6.583   \u001b[0m | \u001b[0m 155.7   \u001b[0m | \u001b[0m 1.741   \u001b[0m | \u001b[0m 0.5769  \u001b[0m |\n",
      "| \u001b[0m 17      \u001b[0m | \u001b[0m 0.5943  \u001b[0m | \u001b[0m 1.443   \u001b[0m | \u001b[0m 52.77   \u001b[0m | \u001b[0m 6.405   \u001b[0m | \u001b[0m 0.8186  \u001b[0m |\n",
      "| \u001b[0m 18      \u001b[0m | \u001b[0m 0.4834  \u001b[0m | \u001b[0m 1.04    \u001b[0m | \u001b[0m 56.05   \u001b[0m | \u001b[0m 5.198   \u001b[0m | \u001b[0m 0.5745  \u001b[0m |\n",
      "| \u001b[0m 19      \u001b[0m | \u001b[0m 0.5288  \u001b[0m | \u001b[0m 9.737   \u001b[0m | \u001b[0m 156.4   \u001b[0m | \u001b[0m 9.945   \u001b[0m | \u001b[0m 0.5889  \u001b[0m |\n",
      "| \u001b[0m 20      \u001b[0m | \u001b[0m 0.3943  \u001b[0m | \u001b[0m 5.244   \u001b[0m | \u001b[0m 74.07   \u001b[0m | \u001b[0m 8.218   \u001b[0m | \u001b[0m 0.4067  \u001b[0m |\n",
      "| \u001b[95m 21      \u001b[0m | \u001b[95m 0.6497  \u001b[0m | \u001b[95m 9.445   \u001b[0m | \u001b[95m 155.9   \u001b[0m | \u001b[95m 5.051   \u001b[0m | \u001b[95m 0.999   \u001b[0m |\n",
      "| \u001b[0m 22      \u001b[0m | \u001b[0m 0.5302  \u001b[0m | \u001b[0m 7.977   \u001b[0m | \u001b[0m 182.3   \u001b[0m | \u001b[0m 3.045   \u001b[0m | \u001b[0m 0.5879  \u001b[0m |\n",
      "| \u001b[0m 23      \u001b[0m | \u001b[0m 0.6088  \u001b[0m | \u001b[0m 2.742   \u001b[0m | \u001b[0m 143.2   \u001b[0m | \u001b[0m 3.234   \u001b[0m | \u001b[0m 0.8475  \u001b[0m |\n",
      "| \u001b[0m 24      \u001b[0m | \u001b[0m 0.5467  \u001b[0m | \u001b[0m 1.057   \u001b[0m | \u001b[0m 118.9   \u001b[0m | \u001b[0m 9.79    \u001b[0m | \u001b[0m 0.6892  \u001b[0m |\n",
      "| \u001b[0m 25      \u001b[0m | \u001b[0m 0.3686  \u001b[0m | \u001b[0m 7.683   \u001b[0m | \u001b[0m 128.8   \u001b[0m | \u001b[0m 3.703   \u001b[0m | \u001b[0m 0.3562  \u001b[0m |\n",
      "| \u001b[0m 26      \u001b[0m | \u001b[0m 0.5655  \u001b[0m | \u001b[0m 8.983   \u001b[0m | \u001b[0m 129.7   \u001b[0m | \u001b[0m 3.312   \u001b[0m | \u001b[0m 0.6921  \u001b[0m |\n",
      "| \u001b[0m 27      \u001b[0m | \u001b[0m 0.3651  \u001b[0m | \u001b[0m 4.294   \u001b[0m | \u001b[0m 192.5   \u001b[0m | \u001b[0m 7.741   \u001b[0m | \u001b[0m 0.3654  \u001b[0m |\n",
      "| \u001b[0m 28      \u001b[0m | \u001b[0m 0.6254  \u001b[0m | \u001b[0m 5.035   \u001b[0m | \u001b[0m 63.19   \u001b[0m | \u001b[0m 1.465   \u001b[0m | \u001b[0m 0.8929  \u001b[0m |\n",
      "| \u001b[0m 29      \u001b[0m | \u001b[0m 0.6468  \u001b[0m | \u001b[0m 1.748   \u001b[0m | \u001b[0m 169.8   \u001b[0m | \u001b[0m 9.298   \u001b[0m | \u001b[0m 0.9814  \u001b[0m |\n",
      "| \u001b[0m 30      \u001b[0m | \u001b[0m 0.585   \u001b[0m | \u001b[0m 4.281   \u001b[0m | \u001b[0m 93.01   \u001b[0m | \u001b[0m 7.23    \u001b[0m | \u001b[0m 0.7815  \u001b[0m |\n",
      "| \u001b[0m 31      \u001b[0m | \u001b[0m 0.6146  \u001b[0m | \u001b[0m 9.882   \u001b[0m | \u001b[0m 140.8   \u001b[0m | \u001b[0m 9.105   \u001b[0m | \u001b[0m 0.8405  \u001b[0m |\n",
      "| \u001b[0m 32      \u001b[0m | \u001b[0m 0.5364  \u001b[0m | \u001b[0m 7.425   \u001b[0m | \u001b[0m 162.1   \u001b[0m | \u001b[0m 1.39    \u001b[0m | \u001b[0m 0.6078  \u001b[0m |\n",
      "| \u001b[0m 33      \u001b[0m | \u001b[0m 0.5671  \u001b[0m | \u001b[0m 8.609   \u001b[0m | \u001b[0m 157.7   \u001b[0m | \u001b[0m 3.659   \u001b[0m | \u001b[0m 0.6984  \u001b[0m |\n",
      "| \u001b[0m 34      \u001b[0m | \u001b[0m 0.5717  \u001b[0m | \u001b[0m 1.76    \u001b[0m | \u001b[0m 171.4   \u001b[0m | \u001b[0m 7.223   \u001b[0m | \u001b[0m 0.7407  \u001b[0m |\n",
      "| \u001b[0m 35      \u001b[0m | \u001b[0m 0.3751  \u001b[0m | \u001b[0m 8.133   \u001b[0m | \u001b[0m 196.1   \u001b[0m | \u001b[0m 7.556   \u001b[0m | \u001b[0m 0.3687  \u001b[0m |\n",
      "| \u001b[0m 36      \u001b[0m | \u001b[0m 0.6313  \u001b[0m | \u001b[0m 3.077   \u001b[0m | \u001b[0m 110.7   \u001b[0m | \u001b[0m 9.51    \u001b[0m | \u001b[0m 0.9091  \u001b[0m |\n",
      "| \u001b[0m 37      \u001b[0m | \u001b[0m 0.6296  \u001b[0m | \u001b[0m 1.526   \u001b[0m | \u001b[0m 69.32   \u001b[0m | \u001b[0m 5.954   \u001b[0m | \u001b[0m 0.9144  \u001b[0m |\n",
      "| \u001b[0m 38      \u001b[0m | \u001b[0m 0.5473  \u001b[0m | \u001b[0m 9.526   \u001b[0m | \u001b[0m 140.6   \u001b[0m | \u001b[0m 2.518   \u001b[0m | \u001b[0m 0.6324  \u001b[0m |\n",
      "| \u001b[0m 39      \u001b[0m | \u001b[0m 0.5778  \u001b[0m | \u001b[0m 2.339   \u001b[0m | \u001b[0m 191.3   \u001b[0m | \u001b[0m 5.815   \u001b[0m | \u001b[0m 0.7486  \u001b[0m |\n",
      "| \u001b[0m 40      \u001b[0m | \u001b[0m 0.6451  \u001b[0m | \u001b[0m 1.553   \u001b[0m | \u001b[0m 127.4   \u001b[0m | \u001b[0m 4.844   \u001b[0m | \u001b[0m 0.9691  \u001b[0m |\n",
      "| \u001b[0m 41      \u001b[0m | \u001b[0m 0.4206  \u001b[0m | \u001b[0m 4.126   \u001b[0m | \u001b[0m 82.61   \u001b[0m | \u001b[0m 7.001   \u001b[0m | \u001b[0m 0.4484  \u001b[0m |\n",
      "| \u001b[0m 42      \u001b[0m | \u001b[0m 0.5775  \u001b[0m | \u001b[0m 2.432   \u001b[0m | \u001b[0m 131.0   \u001b[0m | \u001b[0m 3.836   \u001b[0m | \u001b[0m 0.7443  \u001b[0m |\n",
      "| \u001b[0m 43      \u001b[0m | \u001b[0m 0.6278  \u001b[0m | \u001b[0m 1.837   \u001b[0m | \u001b[0m 162.7   \u001b[0m | \u001b[0m 6.906   \u001b[0m | \u001b[0m 0.8977  \u001b[0m |\n",
      "| \u001b[0m 44      \u001b[0m | \u001b[0m 0.4443  \u001b[0m | \u001b[0m 7.447   \u001b[0m | \u001b[0m 57.87   \u001b[0m | \u001b[0m 5.27    \u001b[0m | \u001b[0m 0.4587  \u001b[0m |\n",
      "| \u001b[0m 45      \u001b[0m | \u001b[0m 0.4314  \u001b[0m | \u001b[0m 9.1     \u001b[0m | \u001b[0m 81.51   \u001b[0m | \u001b[0m 5.152   \u001b[0m | \u001b[0m 0.4377  \u001b[0m |\n",
      "| \u001b[0m 46      \u001b[0m | \u001b[0m 0.5979  \u001b[0m | \u001b[0m 8.541   \u001b[0m | \u001b[0m 94.09   \u001b[0m | \u001b[0m 8.968   \u001b[0m | \u001b[0m 0.7967  \u001b[0m |\n",
      "| \u001b[0m 47      \u001b[0m | \u001b[0m 0.628   \u001b[0m | \u001b[0m 8.463   \u001b[0m | \u001b[0m 66.85   \u001b[0m | \u001b[0m 2.893   \u001b[0m | \u001b[0m 0.9065  \u001b[0m |\n",
      "| \u001b[0m 48      \u001b[0m | \u001b[0m 0.6172  \u001b[0m | \u001b[0m 6.405   \u001b[0m | \u001b[0m 76.06   \u001b[0m | \u001b[0m 6.163   \u001b[0m | \u001b[0m 0.8588  \u001b[0m |\n",
      "| \u001b[0m 49      \u001b[0m | \u001b[0m 0.6337  \u001b[0m | \u001b[0m 8.185   \u001b[0m | \u001b[0m 51.17   \u001b[0m | \u001b[0m 1.606   \u001b[0m | \u001b[0m 0.9342  \u001b[0m |\n",
      "| \u001b[0m 50      \u001b[0m | \u001b[0m 0.6453  \u001b[0m | \u001b[0m 1.74    \u001b[0m | \u001b[0m 74.95   \u001b[0m | \u001b[0m 9.478   \u001b[0m | \u001b[0m 0.9648  \u001b[0m |\n",
      "=========================================================================\n"
     ]
    }
   ],
   "source": [
    "hyperparam_lr_JM1 = run_ml(data_load['JM1'], 10, bound_logistic_regression['JM1'], model.Logistic_regression)"
   ]
  },
  {
   "cell_type": "code",
   "execution_count": 79,
   "metadata": {},
   "outputs": [
    {
     "data": {
      "text/plain": [
       "{'Train': {'Gmeans': 0.6568167341103037,\n",
       "  'Recall': 0.5905820061115571,\n",
       "  'pf': 0.26952020592744713,\n",
       "  'cf_matrix': {'tn': 51932, 'fp': 19161, 'fn': 29074, 'tp': 41939}},\n",
       " 'Dev': {'Gmeans': 0.6496756737116284,\n",
       "  'Recall': 0.58,\n",
       "  'pf': 0.2722784810126582,\n",
       "  'cf_matrix': {'tn': 5749, 'fp': 2151, 'fn': 798, 'tp': 1102}},\n",
       " 'Test': {'Gmeans': 0.6553199898117448,\n",
       "  'Recall': 0.5882073228720875,\n",
       "  'pf': 0.2699099920246098,\n",
       "  'cf_matrix': {'tn': 6408, 'fp': 2369, 'fn': 866, 'tp': 1237}}}"
      ]
     },
     "execution_count": 79,
     "metadata": {},
     "output_type": "execute_result"
    }
   ],
   "source": [
    "best_hyperparam_lr_JM1 = hyperparam_lr_JM1.max['params']\n",
    "result_lr_JM1 = run_ml(data_load['JM1'], 10, best_hyperparam_lr_JM1, model.Logistic_regression,do_optimize = False)\n",
    "result_lr_JM1"
   ]
  },
  {
   "cell_type": "markdown",
   "metadata": {},
   "source": [
    "## KNN"
   ]
  },
  {
   "cell_type": "markdown",
   "metadata": {},
   "source": [
    "### KC1"
   ]
  },
  {
   "cell_type": "code",
   "execution_count": 80,
   "metadata": {
    "scrolled": true
   },
   "outputs": [
    {
     "name": "stdout",
     "output_type": "stream",
     "text": [
      "|   iter    |  target   |   leaf    |     n     | neighbors | sampling  |\n",
      "-------------------------------------------------------------------------\n",
      "| \u001b[0m 1       \u001b[0m | \u001b[0m 0.7082  \u001b[0m | \u001b[0m 43.71   \u001b[0m | \u001b[0m 9.556   \u001b[0m | \u001b[0m 7.588   \u001b[0m | \u001b[0m 0.7209  \u001b[0m |\n",
      "| \u001b[0m 2       \u001b[0m | \u001b[0m 0.6524  \u001b[0m | \u001b[0m 24.04   \u001b[0m | \u001b[0m 2.404   \u001b[0m | \u001b[0m 1.523   \u001b[0m | \u001b[0m 0.9069  \u001b[0m |\n",
      "| \u001b[95m 3       \u001b[0m | \u001b[95m 0.7129  \u001b[0m | \u001b[95m 64.1    \u001b[0m | \u001b[95m 7.373   \u001b[0m | \u001b[95m 1.185   \u001b[0m | \u001b[95m 0.9791  \u001b[0m |\n",
      "| \u001b[0m 4       \u001b[0m | \u001b[0m 0.6057  \u001b[0m | \u001b[0m 84.92   \u001b[0m | \u001b[0m 2.911   \u001b[0m | \u001b[0m 2.636   \u001b[0m | \u001b[0m 0.4321  \u001b[0m |\n",
      "| \u001b[0m 5       \u001b[0m | \u001b[0m 0.7058  \u001b[0m | \u001b[0m 37.38   \u001b[0m | \u001b[0m 5.723   \u001b[0m | \u001b[0m 4.888   \u001b[0m | \u001b[0m 0.5071  \u001b[0m |\n",
      "| \u001b[0m 6       \u001b[0m | \u001b[0m 0.622   \u001b[0m | \u001b[0m 65.07   \u001b[0m | \u001b[0m 2.255   \u001b[0m | \u001b[0m 3.629   \u001b[0m | \u001b[0m 0.5594  \u001b[0m |\n",
      "| \u001b[0m 7       \u001b[0m | \u001b[0m 0.7088  \u001b[0m | \u001b[0m 51.05   \u001b[0m | \u001b[0m 8.067   \u001b[0m | \u001b[0m 2.797   \u001b[0m | \u001b[0m 0.6622  \u001b[0m |\n",
      "| \u001b[0m 8       \u001b[0m | \u001b[0m 0.6553  \u001b[0m | \u001b[0m 63.32   \u001b[0m | \u001b[0m 1.418   \u001b[0m | \u001b[0m 6.468   \u001b[0m | \u001b[0m 0.4232  \u001b[0m |\n",
      "| \u001b[0m 9       \u001b[0m | \u001b[0m 0.7063  \u001b[0m | \u001b[0m 15.85   \u001b[0m | \u001b[0m 9.54    \u001b[0m | \u001b[0m 9.691   \u001b[0m | \u001b[0m 0.8668  \u001b[0m |\n",
      "| \u001b[0m 10      \u001b[0m | \u001b[0m 0.6774  \u001b[0m | \u001b[0m 37.42   \u001b[0m | \u001b[0m 1.879   \u001b[0m | \u001b[0m 7.158   \u001b[0m | \u001b[0m 0.6107  \u001b[0m |\n",
      "| \u001b[0m 11      \u001b[0m | \u001b[0m 0.708   \u001b[0m | \u001b[0m 20.98   \u001b[0m | \u001b[0m 5.457   \u001b[0m | \u001b[0m 1.309   \u001b[0m | \u001b[0m 0.9369  \u001b[0m |\n",
      "| \u001b[0m 12      \u001b[0m | \u001b[0m 0.7009  \u001b[0m | \u001b[0m 33.29   \u001b[0m | \u001b[0m 6.963   \u001b[0m | \u001b[0m 3.805   \u001b[0m | \u001b[0m 0.6663  \u001b[0m |\n",
      "| \u001b[0m 13      \u001b[0m | \u001b[0m 0.6669  \u001b[0m | \u001b[0m 59.2    \u001b[0m | \u001b[0m 2.664   \u001b[0m | \u001b[0m 9.726   \u001b[0m | \u001b[0m 0.8436  \u001b[0m |\n",
      "| \u001b[95m 14      \u001b[0m | \u001b[95m 0.7189  \u001b[0m | \u001b[95m 94.55   \u001b[0m | \u001b[95m 9.053   \u001b[0m | \u001b[95m 6.381   \u001b[0m | \u001b[95m 0.9457  \u001b[0m |\n",
      "| \u001b[0m 15      \u001b[0m | \u001b[0m 0.6027  \u001b[0m | \u001b[0m 17.96   \u001b[0m | \u001b[0m 2.764   \u001b[0m | \u001b[0m 1.407   \u001b[0m | \u001b[0m 0.5308  \u001b[0m |\n",
      "| \u001b[0m 16      \u001b[0m | \u001b[0m 0.7156  \u001b[0m | \u001b[0m 94.5    \u001b[0m | \u001b[0m 9.8     \u001b[0m | \u001b[0m 6.628   \u001b[0m | \u001b[0m 1.0     \u001b[0m |\n",
      "| \u001b[0m 17      \u001b[0m | \u001b[0m 0.7059  \u001b[0m | \u001b[0m 95.76   \u001b[0m | \u001b[0m 8.738   \u001b[0m | \u001b[0m 7.465   \u001b[0m | \u001b[0m 0.923   \u001b[0m |\n",
      "| \u001b[0m 18      \u001b[0m | \u001b[0m 0.7041  \u001b[0m | \u001b[0m 21.67   \u001b[0m | \u001b[0m 7.51    \u001b[0m | \u001b[0m 1.25    \u001b[0m | \u001b[0m 1.0     \u001b[0m |\n",
      "| \u001b[0m 19      \u001b[0m | \u001b[0m 0.6465  \u001b[0m | \u001b[0m 95.13   \u001b[0m | \u001b[0m 9.426   \u001b[0m | \u001b[0m 4.539   \u001b[0m | \u001b[0m 0.3172  \u001b[0m |\n",
      "| \u001b[0m 20      \u001b[0m | \u001b[0m 0.7041  \u001b[0m | \u001b[0m 93.99   \u001b[0m | \u001b[0m 8.829   \u001b[0m | \u001b[0m 7.264   \u001b[0m | \u001b[0m 1.0     \u001b[0m |\n",
      "| \u001b[0m 21      \u001b[0m | \u001b[0m 0.7014  \u001b[0m | \u001b[0m 63.9    \u001b[0m | \u001b[0m 8.932   \u001b[0m | \u001b[0m 1.0     \u001b[0m | \u001b[0m 1.0     \u001b[0m |\n",
      "| \u001b[0m 22      \u001b[0m | \u001b[0m 0.6912  \u001b[0m | \u001b[0m 35.71   \u001b[0m | \u001b[0m 6.927   \u001b[0m | \u001b[0m 4.365   \u001b[0m | \u001b[0m 0.561   \u001b[0m |\n",
      "| \u001b[0m 23      \u001b[0m | \u001b[0m 0.7059  \u001b[0m | \u001b[0m 62.4    \u001b[0m | \u001b[0m 7.154   \u001b[0m | \u001b[0m 1.0     \u001b[0m | \u001b[0m 1.0     \u001b[0m |\n",
      "| \u001b[0m 24      \u001b[0m | \u001b[0m 0.6897  \u001b[0m | \u001b[0m 63.47   \u001b[0m | \u001b[0m 7.881   \u001b[0m | \u001b[0m 3.0     \u001b[0m | \u001b[0m 0.4579  \u001b[0m |\n",
      "| \u001b[0m 25      \u001b[0m | \u001b[0m 0.6929  \u001b[0m | \u001b[0m 21.3    \u001b[0m | \u001b[0m 6.496   \u001b[0m | \u001b[0m 2.726   \u001b[0m | \u001b[0m 0.5739  \u001b[0m |\n",
      "| \u001b[0m 26      \u001b[0m | \u001b[0m 0.6769  \u001b[0m | \u001b[0m 41.89   \u001b[0m | \u001b[0m 8.429   \u001b[0m | \u001b[0m 6.779   \u001b[0m | \u001b[0m 0.6574  \u001b[0m |\n",
      "| \u001b[0m 27      \u001b[0m | \u001b[0m 0.6913  \u001b[0m | \u001b[0m 45.51   \u001b[0m | \u001b[0m 10.0    \u001b[0m | \u001b[0m 8.122   \u001b[0m | \u001b[0m 0.735   \u001b[0m |\n",
      "| \u001b[0m 28      \u001b[0m | \u001b[0m 0.7133  \u001b[0m | \u001b[0m 49.21   \u001b[0m | \u001b[0m 7.759   \u001b[0m | \u001b[0m 3.796   \u001b[0m | \u001b[0m 0.9398  \u001b[0m |\n",
      "| \u001b[0m 29      \u001b[0m | \u001b[0m 0.7085  \u001b[0m | \u001b[0m 49.66   \u001b[0m | \u001b[0m 9.407   \u001b[0m | \u001b[0m 3.443   \u001b[0m | \u001b[0m 0.7578  \u001b[0m |\n",
      "| \u001b[0m 30      \u001b[0m | \u001b[0m 0.6849  \u001b[0m | \u001b[0m 49.01   \u001b[0m | \u001b[0m 7.889   \u001b[0m | \u001b[0m 1.976   \u001b[0m | \u001b[0m 0.5488  \u001b[0m |\n",
      "| \u001b[95m 31      \u001b[0m | \u001b[95m 0.7198  \u001b[0m | \u001b[95m 50.54   \u001b[0m | \u001b[95m 8.16    \u001b[0m | \u001b[95m 4.738   \u001b[0m | \u001b[95m 1.0     \u001b[0m |\n",
      "| \u001b[0m 32      \u001b[0m | \u001b[0m 0.7134  \u001b[0m | \u001b[0m 50.59   \u001b[0m | \u001b[0m 6.596   \u001b[0m | \u001b[0m 4.618   \u001b[0m | \u001b[0m 1.0     \u001b[0m |\n",
      "| \u001b[0m 33      \u001b[0m | \u001b[0m 0.6517  \u001b[0m | \u001b[0m 49.39   \u001b[0m | \u001b[0m 7.903   \u001b[0m | \u001b[0m 5.472   \u001b[0m | \u001b[0m 0.3046  \u001b[0m |\n",
      "| \u001b[0m 34      \u001b[0m | \u001b[0m 0.7043  \u001b[0m | \u001b[0m 50.69   \u001b[0m | \u001b[0m 7.908   \u001b[0m | \u001b[0m 3.985   \u001b[0m | \u001b[0m 1.0     \u001b[0m |\n",
      "| \u001b[95m 35      \u001b[0m | \u001b[95m 0.7222  \u001b[0m | \u001b[95m 51.06   \u001b[0m | \u001b[95m 8.56    \u001b[0m | \u001b[95m 4.775   \u001b[0m | \u001b[95m 0.9836  \u001b[0m |\n",
      "| \u001b[0m 36      \u001b[0m | \u001b[0m 0.7131  \u001b[0m | \u001b[0m 51.98   \u001b[0m | \u001b[0m 7.62    \u001b[0m | \u001b[0m 5.883   \u001b[0m | \u001b[0m 0.8241  \u001b[0m |\n",
      "| \u001b[0m 37      \u001b[0m | \u001b[0m 0.7175  \u001b[0m | \u001b[0m 51.29   \u001b[0m | \u001b[0m 8.035   \u001b[0m | \u001b[0m 5.104   \u001b[0m | \u001b[0m 0.9071  \u001b[0m |\n",
      "| \u001b[0m 38      \u001b[0m | \u001b[0m 0.707   \u001b[0m | \u001b[0m 50.86   \u001b[0m | \u001b[0m 9.722   \u001b[0m | \u001b[0m 4.845   \u001b[0m | \u001b[0m 1.0     \u001b[0m |\n",
      "| \u001b[0m 39      \u001b[0m | \u001b[0m 0.7066  \u001b[0m | \u001b[0m 51.95   \u001b[0m | \u001b[0m 5.939   \u001b[0m | \u001b[0m 5.235   \u001b[0m | \u001b[0m 1.0     \u001b[0m |\n",
      "| \u001b[0m 40      \u001b[0m | \u001b[0m 0.6402  \u001b[0m | \u001b[0m 51.98   \u001b[0m | \u001b[0m 9.451   \u001b[0m | \u001b[0m 2.625   \u001b[0m | \u001b[0m 0.3182  \u001b[0m |\n",
      "| \u001b[0m 41      \u001b[0m | \u001b[0m 0.7069  \u001b[0m | \u001b[0m 50.79   \u001b[0m | \u001b[0m 6.449   \u001b[0m | \u001b[0m 2.945   \u001b[0m | \u001b[0m 0.8202  \u001b[0m |\n",
      "| \u001b[0m 42      \u001b[0m | \u001b[0m 0.7138  \u001b[0m | \u001b[0m 50.32   \u001b[0m | \u001b[0m 5.093   \u001b[0m | \u001b[0m 4.268   \u001b[0m | \u001b[0m 1.0     \u001b[0m |\n",
      "| \u001b[0m 43      \u001b[0m | \u001b[0m 0.7102  \u001b[0m | \u001b[0m 48.83   \u001b[0m | \u001b[0m 5.649   \u001b[0m | \u001b[0m 4.254   \u001b[0m | \u001b[0m 0.9425  \u001b[0m |\n",
      "| \u001b[0m 44      \u001b[0m | \u001b[0m 0.7156  \u001b[0m | \u001b[0m 52.1    \u001b[0m | \u001b[0m 9.374   \u001b[0m | \u001b[0m 6.366   \u001b[0m | \u001b[0m 0.9718  \u001b[0m |\n",
      "| \u001b[0m 45      \u001b[0m | \u001b[0m 0.7142  \u001b[0m | \u001b[0m 53.08   \u001b[0m | \u001b[0m 8.605   \u001b[0m | \u001b[0m 6.487   \u001b[0m | \u001b[0m 0.8331  \u001b[0m |\n",
      "| \u001b[0m 46      \u001b[0m | \u001b[0m 0.7041  \u001b[0m | \u001b[0m 52.18   \u001b[0m | \u001b[0m 8.386   \u001b[0m | \u001b[0m 7.58    \u001b[0m | \u001b[0m 1.0     \u001b[0m |\n",
      "| \u001b[0m 47      \u001b[0m | \u001b[0m 0.6741  \u001b[0m | \u001b[0m 49.08   \u001b[0m | \u001b[0m 3.445   \u001b[0m | \u001b[0m 3.855   \u001b[0m | \u001b[0m 0.4348  \u001b[0m |\n",
      "| \u001b[0m 48      \u001b[0m | \u001b[0m 0.7112  \u001b[0m | \u001b[0m 53.91   \u001b[0m | \u001b[0m 6.947   \u001b[0m | \u001b[0m 6.363   \u001b[0m | \u001b[0m 1.0     \u001b[0m |\n",
      "| \u001b[0m 49      \u001b[0m | \u001b[0m 0.6714  \u001b[0m | \u001b[0m 65.73   \u001b[0m | \u001b[0m 6.866   \u001b[0m | \u001b[0m 1.016   \u001b[0m | \u001b[0m 0.6601  \u001b[0m |\n",
      "| \u001b[0m 50      \u001b[0m | \u001b[0m 0.7184  \u001b[0m | \u001b[0m 54.69   \u001b[0m | \u001b[0m 8.445   \u001b[0m | \u001b[0m 6.495   \u001b[0m | \u001b[0m 0.9535  \u001b[0m |\n",
      "=========================================================================\n"
     ]
    }
   ],
   "source": [
    "hyperparam_knn_KC1 = run_ml(data_load['KC1'], 10, bound_knn['KC1'], model.knn)"
   ]
  },
  {
   "cell_type": "code",
   "execution_count": 81,
   "metadata": {},
   "outputs": [
    {
     "data": {
      "text/plain": [
       "{'Train': {'Gmeans': 0.8825586394305268,\n",
       "  'Recall': 0.9287223552613044,\n",
       "  'pf': 0.16131043080759108,\n",
       "  'cf_matrix': {'tn': 12109, 'fp': 2329, 'fn': 1012, 'tp': 13186}},\n",
       " 'Dev': {'Gmeans': 0.7222084081510818,\n",
       "  'Recall': 0.6735395189003437,\n",
       "  'pf': 0.22560596643878186,\n",
       "  'cf_matrix': {'tn': 1246, 'fp': 363, 'fn': 95, 'tp': 196}},\n",
       " 'Test': {'Gmeans': 0.6820995770288557,\n",
       "  'Recall': 0.5950920245398773,\n",
       "  'pf': 0.21817162086371283,\n",
       "  'cf_matrix': {'tn': 1394, 'fp': 389, 'fn': 132, 'tp': 194}}}"
      ]
     },
     "execution_count": 81,
     "metadata": {},
     "output_type": "execute_result"
    }
   ],
   "source": [
    "best_hyperparam_knn_KC1 = hyperparam_knn_KC1.max['params']\n",
    "result_knn_KC1 = run_ml(data_load['KC1'], 10, best_hyperparam_knn_KC1, model.knn,do_optimize = False)\n",
    "result_knn_KC1"
   ]
  },
  {
   "cell_type": "markdown",
   "metadata": {},
   "source": [
    "### KC2"
   ]
  },
  {
   "cell_type": "code",
   "execution_count": 82,
   "metadata": {},
   "outputs": [
    {
     "name": "stdout",
     "output_type": "stream",
     "text": [
      "|   iter    |  target   |   leaf    |     n     | neighbors | sampling  |\n",
      "-------------------------------------------------------------------------\n",
      "| \u001b[0m 1       \u001b[0m | \u001b[0m 0.7626  \u001b[0m | \u001b[0m 43.71   \u001b[0m | \u001b[0m 9.556   \u001b[0m | \u001b[0m 7.588   \u001b[0m | \u001b[0m 0.7411  \u001b[0m |\n",
      "| \u001b[0m 2       \u001b[0m | \u001b[0m 0.6745  \u001b[0m | \u001b[0m 24.04   \u001b[0m | \u001b[0m 2.404   \u001b[0m | \u001b[0m 1.523   \u001b[0m | \u001b[0m 0.9137  \u001b[0m |\n",
      "| \u001b[95m 3       \u001b[0m | \u001b[95m 0.7922  \u001b[0m | \u001b[95m 64.1    \u001b[0m | \u001b[95m 7.373   \u001b[0m | \u001b[95m 1.185   \u001b[0m | \u001b[95m 0.9806  \u001b[0m |\n",
      "| \u001b[0m 4       \u001b[0m | \u001b[0m 0.6414  \u001b[0m | \u001b[0m 84.92   \u001b[0m | \u001b[0m 2.911   \u001b[0m | \u001b[0m 2.636   \u001b[0m | \u001b[0m 0.4733  \u001b[0m |\n",
      "| \u001b[0m 5       \u001b[0m | \u001b[0m 0.769   \u001b[0m | \u001b[0m 37.38   \u001b[0m | \u001b[0m 5.723   \u001b[0m | \u001b[0m 4.888   \u001b[0m | \u001b[0m 0.5428  \u001b[0m |\n",
      "| \u001b[0m 6       \u001b[0m | \u001b[0m 0.6278  \u001b[0m | \u001b[0m 65.07   \u001b[0m | \u001b[0m 2.255   \u001b[0m | \u001b[0m 3.629   \u001b[0m | \u001b[0m 0.5913  \u001b[0m |\n",
      "| \u001b[0m 7       \u001b[0m | \u001b[0m 0.7678  \u001b[0m | \u001b[0m 51.05   \u001b[0m | \u001b[0m 8.067   \u001b[0m | \u001b[0m 2.797   \u001b[0m | \u001b[0m 0.6867  \u001b[0m |\n",
      "| \u001b[0m 8       \u001b[0m | \u001b[0m 0.6569  \u001b[0m | \u001b[0m 63.32   \u001b[0m | \u001b[0m 1.418   \u001b[0m | \u001b[0m 6.468   \u001b[0m | \u001b[0m 0.465   \u001b[0m |\n",
      "| \u001b[95m 9       \u001b[0m | \u001b[95m 0.8108  \u001b[0m | \u001b[95m 15.85   \u001b[0m | \u001b[95m 9.54    \u001b[0m | \u001b[95m 9.691   \u001b[0m | \u001b[95m 0.8764  \u001b[0m |\n",
      "| \u001b[0m 10      \u001b[0m | \u001b[0m 0.6675  \u001b[0m | \u001b[0m 37.42   \u001b[0m | \u001b[0m 1.879   \u001b[0m | \u001b[0m 7.158   \u001b[0m | \u001b[0m 0.6389  \u001b[0m |\n",
      "| \u001b[0m 11      \u001b[0m | \u001b[0m 0.7715  \u001b[0m | \u001b[0m 20.98   \u001b[0m | \u001b[0m 5.457   \u001b[0m | \u001b[0m 1.309   \u001b[0m | \u001b[0m 0.9415  \u001b[0m |\n",
      "| \u001b[0m 12      \u001b[0m | \u001b[0m 0.7605  \u001b[0m | \u001b[0m 33.29   \u001b[0m | \u001b[0m 6.963   \u001b[0m | \u001b[0m 3.805   \u001b[0m | \u001b[0m 0.6904  \u001b[0m |\n",
      "| \u001b[0m 13      \u001b[0m | \u001b[0m 0.6456  \u001b[0m | \u001b[0m 59.2    \u001b[0m | \u001b[0m 2.664   \u001b[0m | \u001b[0m 9.726   \u001b[0m | \u001b[0m 0.855   \u001b[0m |\n",
      "| \u001b[0m 14      \u001b[0m | \u001b[0m 0.781   \u001b[0m | \u001b[0m 94.55   \u001b[0m | \u001b[0m 9.053   \u001b[0m | \u001b[0m 6.381   \u001b[0m | \u001b[0m 0.9496  \u001b[0m |\n",
      "| \u001b[0m 15      \u001b[0m | \u001b[0m 0.6577  \u001b[0m | \u001b[0m 17.96   \u001b[0m | \u001b[0m 2.764   \u001b[0m | \u001b[0m 1.407   \u001b[0m | \u001b[0m 0.5648  \u001b[0m |\n",
      "| \u001b[0m 16      \u001b[0m | \u001b[0m 0.8074  \u001b[0m | \u001b[0m 16.86   \u001b[0m | \u001b[0m 9.287   \u001b[0m | \u001b[0m 9.762   \u001b[0m | \u001b[0m 0.7458  \u001b[0m |\n",
      "| \u001b[0m 17      \u001b[0m | \u001b[0m 0.78    \u001b[0m | \u001b[0m 16.15   \u001b[0m | \u001b[0m 9.667   \u001b[0m | \u001b[0m 7.873   \u001b[0m | \u001b[0m 0.9477  \u001b[0m |\n",
      "| \u001b[0m 18      \u001b[0m | \u001b[0m 0.745   \u001b[0m | \u001b[0m 15.55   \u001b[0m | \u001b[0m 7.827   \u001b[0m | \u001b[0m 10.0    \u001b[0m | \u001b[0m 0.355   \u001b[0m |\n",
      "| \u001b[0m 19      \u001b[0m | \u001b[0m 0.7949  \u001b[0m | \u001b[0m 63.78   \u001b[0m | \u001b[0m 9.567   \u001b[0m | \u001b[0m 1.0     \u001b[0m | \u001b[0m 1.0     \u001b[0m |\n",
      "| \u001b[0m 20      \u001b[0m | \u001b[0m 0.7953  \u001b[0m | \u001b[0m 61.64   \u001b[0m | \u001b[0m 8.327   \u001b[0m | \u001b[0m 1.0     \u001b[0m | \u001b[0m 1.0     \u001b[0m |\n",
      "| \u001b[0m 21      \u001b[0m | \u001b[0m 0.8029  \u001b[0m | \u001b[0m 18.53   \u001b[0m | \u001b[0m 9.728   \u001b[0m | \u001b[0m 9.745   \u001b[0m | \u001b[0m 0.9681  \u001b[0m |\n",
      "| \u001b[0m 22      \u001b[0m | \u001b[0m 0.7762  \u001b[0m | \u001b[0m 21.24   \u001b[0m | \u001b[0m 8.887   \u001b[0m | \u001b[0m 1.317   \u001b[0m | \u001b[0m 0.7901  \u001b[0m |\n",
      "| \u001b[0m 23      \u001b[0m | \u001b[0m 0.7723  \u001b[0m | \u001b[0m 38.51   \u001b[0m | \u001b[0m 9.462   \u001b[0m | \u001b[0m 3.343   \u001b[0m | \u001b[0m 0.5023  \u001b[0m |\n",
      "| \u001b[0m 24      \u001b[0m | \u001b[0m 0.7983  \u001b[0m | \u001b[0m 16.51   \u001b[0m | \u001b[0m 10.0    \u001b[0m | \u001b[0m 10.0    \u001b[0m | \u001b[0m 1.0     \u001b[0m |\n",
      "| \u001b[0m 25      \u001b[0m | \u001b[0m 0.7818  \u001b[0m | \u001b[0m 19.84   \u001b[0m | \u001b[0m 8.216   \u001b[0m | \u001b[0m 8.684   \u001b[0m | \u001b[0m 0.8997  \u001b[0m |\n",
      "| \u001b[0m 26      \u001b[0m | \u001b[0m 0.7549  \u001b[0m | \u001b[0m 62.75   \u001b[0m | \u001b[0m 9.196   \u001b[0m | \u001b[0m 3.208   \u001b[0m | \u001b[0m 0.355   \u001b[0m |\n",
      "| \u001b[0m 27      \u001b[0m | \u001b[0m 0.796   \u001b[0m | \u001b[0m 13.7    \u001b[0m | \u001b[0m 10.0    \u001b[0m | \u001b[0m 9.489   \u001b[0m | \u001b[0m 1.0     \u001b[0m |\n",
      "| \u001b[0m 28      \u001b[0m | \u001b[0m 0.7711  \u001b[0m | \u001b[0m 97.48   \u001b[0m | \u001b[0m 9.688   \u001b[0m | \u001b[0m 8.728   \u001b[0m | \u001b[0m 0.5131  \u001b[0m |\n",
      "| \u001b[0m 29      \u001b[0m | \u001b[0m 0.7949  \u001b[0m | \u001b[0m 67.13   \u001b[0m | \u001b[0m 9.425   \u001b[0m | \u001b[0m 1.0     \u001b[0m | \u001b[0m 1.0     \u001b[0m |\n",
      "| \u001b[0m 30      \u001b[0m | \u001b[0m 0.7875  \u001b[0m | \u001b[0m 70.68   \u001b[0m | \u001b[0m 10.0    \u001b[0m | \u001b[0m 1.0     \u001b[0m | \u001b[0m 1.0     \u001b[0m |\n",
      "| \u001b[0m 31      \u001b[0m | \u001b[0m 0.7666  \u001b[0m | \u001b[0m 69.16   \u001b[0m | \u001b[0m 10.0    \u001b[0m | \u001b[0m 3.961   \u001b[0m | \u001b[0m 1.0     \u001b[0m |\n",
      "| \u001b[0m 32      \u001b[0m | \u001b[0m 0.7627  \u001b[0m | \u001b[0m 22.09   \u001b[0m | \u001b[0m 10.0    \u001b[0m | \u001b[0m 10.0    \u001b[0m | \u001b[0m 0.355   \u001b[0m |\n",
      "| \u001b[0m 33      \u001b[0m | \u001b[0m 0.7949  \u001b[0m | \u001b[0m 57.74   \u001b[0m | \u001b[0m 9.436   \u001b[0m | \u001b[0m 1.0     \u001b[0m | \u001b[0m 1.0     \u001b[0m |\n",
      "| \u001b[0m 34      \u001b[0m | \u001b[0m 0.7826  \u001b[0m | \u001b[0m 55.22   \u001b[0m | \u001b[0m 7.348   \u001b[0m | \u001b[0m 1.094   \u001b[0m | \u001b[0m 0.9991  \u001b[0m |\n",
      "| \u001b[0m 35      \u001b[0m | \u001b[0m 0.7813  \u001b[0m | \u001b[0m 58.69   \u001b[0m | \u001b[0m 6.782   \u001b[0m | \u001b[0m 1.0     \u001b[0m | \u001b[0m 1.0     \u001b[0m |\n",
      "| \u001b[0m 36      \u001b[0m | \u001b[0m 0.7666  \u001b[0m | \u001b[0m 55.62   \u001b[0m | \u001b[0m 10.0    \u001b[0m | \u001b[0m 3.725   \u001b[0m | \u001b[0m 1.0     \u001b[0m |\n",
      "| \u001b[0m 37      \u001b[0m | \u001b[0m 0.7602  \u001b[0m | \u001b[0m 97.83   \u001b[0m | \u001b[0m 9.644   \u001b[0m | \u001b[0m 3.581   \u001b[0m | \u001b[0m 0.5203  \u001b[0m |\n",
      "| \u001b[0m 38      \u001b[0m | \u001b[0m 0.7508  \u001b[0m | \u001b[0m 94.09   \u001b[0m | \u001b[0m 6.153   \u001b[0m | \u001b[0m 9.7     \u001b[0m | \u001b[0m 1.0     \u001b[0m |\n",
      "| \u001b[0m 39      \u001b[0m | \u001b[0m 0.7539  \u001b[0m | \u001b[0m 74.81   \u001b[0m | \u001b[0m 10.0    \u001b[0m | \u001b[0m 1.0     \u001b[0m | \u001b[0m 0.355   \u001b[0m |\n",
      "| \u001b[0m 40      \u001b[0m | \u001b[0m 0.7496  \u001b[0m | \u001b[0m 69.47   \u001b[0m | \u001b[0m 7.331   \u001b[0m | \u001b[0m 1.122   \u001b[0m | \u001b[0m 0.5352  \u001b[0m |\n",
      "| \u001b[0m 41      \u001b[0m | \u001b[0m 0.7813  \u001b[0m | \u001b[0m 39.19   \u001b[0m | \u001b[0m 6.057   \u001b[0m | \u001b[0m 1.0     \u001b[0m | \u001b[0m 1.0     \u001b[0m |\n",
      "| \u001b[0m 42      \u001b[0m | \u001b[0m 0.7854  \u001b[0m | \u001b[0m 43.39   \u001b[0m | \u001b[0m 7.6     \u001b[0m | \u001b[0m 1.398   \u001b[0m | \u001b[0m 0.9894  \u001b[0m |\n",
      "| \u001b[0m 43      \u001b[0m | \u001b[0m 0.7141  \u001b[0m | \u001b[0m 44.66   \u001b[0m | \u001b[0m 4.004   \u001b[0m | \u001b[0m 1.145   \u001b[0m | \u001b[0m 0.4409  \u001b[0m |\n",
      "| \u001b[0m 44      \u001b[0m | \u001b[0m 0.7746  \u001b[0m | \u001b[0m 41.75   \u001b[0m | \u001b[0m 9.97    \u001b[0m | \u001b[0m 2.202   \u001b[0m | \u001b[0m 0.4485  \u001b[0m |\n",
      "| \u001b[0m 45      \u001b[0m | \u001b[0m 0.7839  \u001b[0m | \u001b[0m 45.88   \u001b[0m | \u001b[0m 9.792   \u001b[0m | \u001b[0m 1.313   \u001b[0m | \u001b[0m 0.96    \u001b[0m |\n",
      "| \u001b[0m 46      \u001b[0m | \u001b[0m 0.7359  \u001b[0m | \u001b[0m 90.7    \u001b[0m | \u001b[0m 10.0    \u001b[0m | \u001b[0m 6.343   \u001b[0m | \u001b[0m 0.355   \u001b[0m |\n",
      "| \u001b[0m 47      \u001b[0m | \u001b[0m 0.7735  \u001b[0m | \u001b[0m 15.57   \u001b[0m | \u001b[0m 9.756   \u001b[0m | \u001b[0m 9.406   \u001b[0m | \u001b[0m 0.4487  \u001b[0m |\n",
      "| \u001b[0m 48      \u001b[0m | \u001b[0m 0.7966  \u001b[0m | \u001b[0m 17.96   \u001b[0m | \u001b[0m 8.39    \u001b[0m | \u001b[0m 9.233   \u001b[0m | \u001b[0m 0.9679  \u001b[0m |\n",
      "| \u001b[0m 49      \u001b[0m | \u001b[0m 0.7983  \u001b[0m | \u001b[0m 11.24   \u001b[0m | \u001b[0m 10.0    \u001b[0m | \u001b[0m 10.0    \u001b[0m | \u001b[0m 1.0     \u001b[0m |\n",
      "| \u001b[95m 50      \u001b[0m | \u001b[95m 0.8164  \u001b[0m | \u001b[95m 16.22   \u001b[0m | \u001b[95m 9.142   \u001b[0m | \u001b[95m 9.87    \u001b[0m | \u001b[95m 0.9994  \u001b[0m |\n",
      "=========================================================================\n"
     ]
    }
   ],
   "source": [
    "hyperparam_knn_KC2 = run_ml(data_load['KC2'], 10, bound_knn['KC2'], model.knn)"
   ]
  },
  {
   "cell_type": "code",
   "execution_count": 83,
   "metadata": {},
   "outputs": [
    {
     "data": {
      "text/plain": [
       "{'Train': {'Gmeans': 0.8536171146303146,\n",
       "  'Recall': 0.8825493171471928,\n",
       "  'pf': 0.17436661698956782,\n",
       "  'cf_matrix': {'tn': 2770, 'fp': 585, 'fn': 387, 'tp': 2908}},\n",
       " 'Dev': {'Gmeans': 0.7882915125586029,\n",
       "  'Recall': 0.7666666666666667,\n",
       "  'pf': 0.18947368421052632,\n",
       "  'cf_matrix': {'tn': 308, 'fp': 72, 'fn': 21, 'tp': 69}},\n",
       " 'Test': {'Gmeans': 0.7435190840238218,\n",
       "  'Recall': 0.7102803738317757,\n",
       "  'pf': 0.2216867469879518,\n",
       "  'cf_matrix': {'tn': 323, 'fp': 92, 'fn': 31, 'tp': 76}}}"
      ]
     },
     "execution_count": 83,
     "metadata": {},
     "output_type": "execute_result"
    }
   ],
   "source": [
    "best_hyperparam_knn_KC2 = hyperparam_knn_KC1.max['params']\n",
    "result_knn_KC2 = run_ml(data_load['KC2'], 10, best_hyperparam_knn_KC2, model.knn,do_optimize = False)\n",
    "result_knn_KC2"
   ]
  },
  {
   "cell_type": "markdown",
   "metadata": {},
   "source": [
    "### PC1"
   ]
  },
  {
   "cell_type": "code",
   "execution_count": 84,
   "metadata": {
    "scrolled": true
   },
   "outputs": [
    {
     "name": "stdout",
     "output_type": "stream",
     "text": [
      "|   iter    |  target   |   leaf    |     n     | neighbors | sampling  |\n",
      "-------------------------------------------------------------------------\n",
      "| \u001b[0m 1       \u001b[0m | \u001b[0m 0.7927  \u001b[0m | \u001b[0m 43.71   \u001b[0m | \u001b[0m 9.556   \u001b[0m | \u001b[0m 7.588   \u001b[0m | \u001b[0m 0.6867  \u001b[0m |\n",
      "| \u001b[0m 2       \u001b[0m | \u001b[0m 0.6552  \u001b[0m | \u001b[0m 24.04   \u001b[0m | \u001b[0m 2.404   \u001b[0m | \u001b[0m 1.523   \u001b[0m | \u001b[0m 0.8955  \u001b[0m |\n",
      "| \u001b[0m 3       \u001b[0m | \u001b[0m 0.7461  \u001b[0m | \u001b[0m 64.1    \u001b[0m | \u001b[0m 7.373   \u001b[0m | \u001b[0m 1.185   \u001b[0m | \u001b[0m 0.9765  \u001b[0m |\n",
      "| \u001b[0m 4       \u001b[0m | \u001b[0m 0.5964  \u001b[0m | \u001b[0m 84.92   \u001b[0m | \u001b[0m 2.911   \u001b[0m | \u001b[0m 2.636   \u001b[0m | \u001b[0m 0.3626  \u001b[0m |\n",
      "| \u001b[0m 5       \u001b[0m | \u001b[0m 0.7728  \u001b[0m | \u001b[0m 37.38   \u001b[0m | \u001b[0m 5.723   \u001b[0m | \u001b[0m 4.888   \u001b[0m | \u001b[0m 0.4467  \u001b[0m |\n",
      "| \u001b[0m 6       \u001b[0m | \u001b[0m 0.6175  \u001b[0m | \u001b[0m 65.07   \u001b[0m | \u001b[0m 2.255   \u001b[0m | \u001b[0m 3.629   \u001b[0m | \u001b[0m 0.5054  \u001b[0m |\n",
      "| \u001b[0m 7       \u001b[0m | \u001b[0m 0.7712  \u001b[0m | \u001b[0m 51.05   \u001b[0m | \u001b[0m 8.067   \u001b[0m | \u001b[0m 2.797   \u001b[0m | \u001b[0m 0.6208  \u001b[0m |\n",
      "| \u001b[0m 8       \u001b[0m | \u001b[0m 0.6814  \u001b[0m | \u001b[0m 63.32   \u001b[0m | \u001b[0m 1.418   \u001b[0m | \u001b[0m 6.468   \u001b[0m | \u001b[0m 0.3525  \u001b[0m |\n",
      "| \u001b[95m 9       \u001b[0m | \u001b[95m 0.8048  \u001b[0m | \u001b[95m 15.85   \u001b[0m | \u001b[95m 9.54    \u001b[0m | \u001b[95m 9.691   \u001b[0m | \u001b[95m 0.8504  \u001b[0m |\n",
      "| \u001b[0m 10      \u001b[0m | \u001b[0m 0.6869  \u001b[0m | \u001b[0m 37.42   \u001b[0m | \u001b[0m 1.879   \u001b[0m | \u001b[0m 7.158   \u001b[0m | \u001b[0m 0.563   \u001b[0m |\n",
      "| \u001b[0m 11      \u001b[0m | \u001b[0m 0.7664  \u001b[0m | \u001b[0m 20.98   \u001b[0m | \u001b[0m 5.457   \u001b[0m | \u001b[0m 1.309   \u001b[0m | \u001b[0m 0.9292  \u001b[0m |\n",
      "| \u001b[0m 12      \u001b[0m | \u001b[0m 0.7693  \u001b[0m | \u001b[0m 33.29   \u001b[0m | \u001b[0m 6.963   \u001b[0m | \u001b[0m 3.805   \u001b[0m | \u001b[0m 0.6254  \u001b[0m |\n",
      "| \u001b[0m 13      \u001b[0m | \u001b[0m 0.6691  \u001b[0m | \u001b[0m 59.2    \u001b[0m | \u001b[0m 2.664   \u001b[0m | \u001b[0m 9.726   \u001b[0m | \u001b[0m 0.8245  \u001b[0m |\n",
      "| \u001b[0m 14      \u001b[0m | \u001b[0m 0.7883  \u001b[0m | \u001b[0m 94.55   \u001b[0m | \u001b[0m 9.053   \u001b[0m | \u001b[0m 6.381   \u001b[0m | \u001b[0m 0.939   \u001b[0m |\n",
      "| \u001b[0m 15      \u001b[0m | \u001b[0m 0.6207  \u001b[0m | \u001b[0m 17.96   \u001b[0m | \u001b[0m 2.764   \u001b[0m | \u001b[0m 1.407   \u001b[0m | \u001b[0m 0.4734  \u001b[0m |\n",
      "| \u001b[95m 16      \u001b[0m | \u001b[95m 0.8084  \u001b[0m | \u001b[95m 16.86   \u001b[0m | \u001b[95m 9.287   \u001b[0m | \u001b[95m 9.762   \u001b[0m | \u001b[95m 0.6924  \u001b[0m |\n",
      "| \u001b[0m 17      \u001b[0m | \u001b[0m 0.7095  \u001b[0m | \u001b[0m 16.08   \u001b[0m | \u001b[0m 7.829   \u001b[0m | \u001b[0m 10.0    \u001b[0m | \u001b[0m 0.2194  \u001b[0m |\n",
      "| \u001b[95m 18      \u001b[0m | \u001b[95m 0.828   \u001b[0m | \u001b[95m 16.68   \u001b[0m | \u001b[95m 10.0    \u001b[0m | \u001b[95m 9.524   \u001b[0m | \u001b[95m 1.0     \u001b[0m |\n",
      "| \u001b[0m 19      \u001b[0m | \u001b[0m 0.7794  \u001b[0m | \u001b[0m 18.8    \u001b[0m | \u001b[0m 9.786   \u001b[0m | \u001b[0m 9.331   \u001b[0m | \u001b[0m 0.6153  \u001b[0m |\n",
      "| \u001b[0m 20      \u001b[0m | \u001b[0m 0.7944  \u001b[0m | \u001b[0m 17.5    \u001b[0m | \u001b[0m 9.692   \u001b[0m | \u001b[0m 7.785   \u001b[0m | \u001b[0m 0.9952  \u001b[0m |\n",
      "| \u001b[0m 21      \u001b[0m | \u001b[0m 0.775   \u001b[0m | \u001b[0m 40.93   \u001b[0m | \u001b[0m 8.711   \u001b[0m | \u001b[0m 5.93    \u001b[0m | \u001b[0m 0.6161  \u001b[0m |\n",
      "| \u001b[0m 22      \u001b[0m | \u001b[0m 0.7622  \u001b[0m | \u001b[0m 45.64   \u001b[0m | \u001b[0m 8.651   \u001b[0m | \u001b[0m 5.016   \u001b[0m | \u001b[0m 0.6443  \u001b[0m |\n",
      "| \u001b[0m 23      \u001b[0m | \u001b[0m 0.7599  \u001b[0m | \u001b[0m 20.68   \u001b[0m | \u001b[0m 8.571   \u001b[0m | \u001b[0m 1.061   \u001b[0m | \u001b[0m 0.6364  \u001b[0m |\n",
      "| \u001b[0m 24      \u001b[0m | \u001b[0m 0.8152  \u001b[0m | \u001b[0m 41.15   \u001b[0m | \u001b[0m 9.367   \u001b[0m | \u001b[0m 9.652   \u001b[0m | \u001b[0m 0.8178  \u001b[0m |\n",
      "| \u001b[0m 25      \u001b[0m | \u001b[0m 0.7814  \u001b[0m | \u001b[0m 42.74   \u001b[0m | \u001b[0m 7.66    \u001b[0m | \u001b[0m 10.0    \u001b[0m | \u001b[0m 1.0     \u001b[0m |\n",
      "| \u001b[0m 26      \u001b[0m | \u001b[0m 0.6773  \u001b[0m | \u001b[0m 38.63   \u001b[0m | \u001b[0m 10.0    \u001b[0m | \u001b[0m 9.293   \u001b[0m | \u001b[0m 0.2194  \u001b[0m |\n",
      "| \u001b[0m 27      \u001b[0m | \u001b[0m 0.828   \u001b[0m | \u001b[0m 42.47   \u001b[0m | \u001b[0m 10.0    \u001b[0m | \u001b[0m 9.752   \u001b[0m | \u001b[0m 1.0     \u001b[0m |\n",
      "| \u001b[0m 28      \u001b[0m | \u001b[0m 0.7943  \u001b[0m | \u001b[0m 42.65   \u001b[0m | \u001b[0m 9.552   \u001b[0m | \u001b[0m 8.781   \u001b[0m | \u001b[0m 0.8064  \u001b[0m |\n",
      "| \u001b[0m 29      \u001b[0m | \u001b[0m 0.8066  \u001b[0m | \u001b[0m 46.59   \u001b[0m | \u001b[0m 9.051   \u001b[0m | \u001b[0m 8.811   \u001b[0m | \u001b[0m 0.75    \u001b[0m |\n",
      "| \u001b[0m 30      \u001b[0m | \u001b[0m 0.8207  \u001b[0m | \u001b[0m 41.86   \u001b[0m | \u001b[0m 10.0    \u001b[0m | \u001b[0m 10.0    \u001b[0m | \u001b[0m 1.0     \u001b[0m |\n",
      "| \u001b[0m 31      \u001b[0m | \u001b[0m 0.7886  \u001b[0m | \u001b[0m 44.46   \u001b[0m | \u001b[0m 9.405   \u001b[0m | \u001b[0m 9.85    \u001b[0m | \u001b[0m 0.4818  \u001b[0m |\n",
      "| \u001b[0m 32      \u001b[0m | \u001b[0m 0.7862  \u001b[0m | \u001b[0m 48.63   \u001b[0m | \u001b[0m 10.0    \u001b[0m | \u001b[0m 7.86    \u001b[0m | \u001b[0m 1.0     \u001b[0m |\n",
      "| \u001b[0m 33      \u001b[0m | \u001b[0m 0.7646  \u001b[0m | \u001b[0m 47.95   \u001b[0m | \u001b[0m 7.141   \u001b[0m | \u001b[0m 8.82    \u001b[0m | \u001b[0m 0.7126  \u001b[0m |\n",
      "| \u001b[0m 34      \u001b[0m | \u001b[0m 0.8084  \u001b[0m | \u001b[0m 45.82   \u001b[0m | \u001b[0m 9.913   \u001b[0m | \u001b[0m 7.156   \u001b[0m | \u001b[0m 0.7161  \u001b[0m |\n",
      "| \u001b[0m 35      \u001b[0m | \u001b[0m 0.7846  \u001b[0m | \u001b[0m 97.34   \u001b[0m | \u001b[0m 9.901   \u001b[0m | \u001b[0m 8.359   \u001b[0m | \u001b[0m 0.5965  \u001b[0m |\n",
      "| \u001b[0m 36      \u001b[0m | \u001b[0m 0.6937  \u001b[0m | \u001b[0m 97.58   \u001b[0m | \u001b[0m 9.474   \u001b[0m | \u001b[0m 4.551   \u001b[0m | \u001b[0m 0.2264  \u001b[0m |\n",
      "| \u001b[0m 37      \u001b[0m | \u001b[0m 0.8167  \u001b[0m | \u001b[0m 94.23   \u001b[0m | \u001b[0m 9.403   \u001b[0m | \u001b[0m 9.415   \u001b[0m | \u001b[0m 1.0     \u001b[0m |\n",
      "| \u001b[0m 38      \u001b[0m | \u001b[0m 0.7516  \u001b[0m | \u001b[0m 94.41   \u001b[0m | \u001b[0m 7.571   \u001b[0m | \u001b[0m 9.014   \u001b[0m | \u001b[0m 0.3656  \u001b[0m |\n",
      "| \u001b[0m 39      \u001b[0m | \u001b[0m 0.811   \u001b[0m | \u001b[0m 92.93   \u001b[0m | \u001b[0m 10.0    \u001b[0m | \u001b[0m 8.308   \u001b[0m | \u001b[0m 1.0     \u001b[0m |\n",
      "| \u001b[0m 40      \u001b[0m | \u001b[0m 0.8048  \u001b[0m | \u001b[0m 95.91   \u001b[0m | \u001b[0m 9.963   \u001b[0m | \u001b[0m 9.497   \u001b[0m | \u001b[0m 0.6959  \u001b[0m |\n",
      "| \u001b[0m 41      \u001b[0m | \u001b[0m 0.8005  \u001b[0m | \u001b[0m 94.5    \u001b[0m | \u001b[0m 9.844   \u001b[0m | \u001b[0m 8.119   \u001b[0m | \u001b[0m 0.848   \u001b[0m |\n",
      "| \u001b[0m 42      \u001b[0m | \u001b[0m 0.8207  \u001b[0m | \u001b[0m 92.98   \u001b[0m | \u001b[0m 10.0    \u001b[0m | \u001b[0m 10.0    \u001b[0m | \u001b[0m 1.0     \u001b[0m |\n",
      "| \u001b[0m 43      \u001b[0m | \u001b[0m 0.8036  \u001b[0m | \u001b[0m 89.86   \u001b[0m | \u001b[0m 9.658   \u001b[0m | \u001b[0m 9.303   \u001b[0m | \u001b[0m 0.8818  \u001b[0m |\n",
      "| \u001b[0m 44      \u001b[0m | \u001b[0m 0.7925  \u001b[0m | \u001b[0m 90.38   \u001b[0m | \u001b[0m 9.784   \u001b[0m | \u001b[0m 5.64    \u001b[0m | \u001b[0m 0.5592  \u001b[0m |\n",
      "| \u001b[0m 45      \u001b[0m | \u001b[0m 0.8207  \u001b[0m | \u001b[0m 86.26   \u001b[0m | \u001b[0m 10.0    \u001b[0m | \u001b[0m 10.0    \u001b[0m | \u001b[0m 1.0     \u001b[0m |\n",
      "| \u001b[0m 46      \u001b[0m | \u001b[0m 0.8005  \u001b[0m | \u001b[0m 86.51   \u001b[0m | \u001b[0m 9.977   \u001b[0m | \u001b[0m 7.688   \u001b[0m | \u001b[0m 0.9303  \u001b[0m |\n",
      "| \u001b[0m 47      \u001b[0m | \u001b[0m 0.7814  \u001b[0m | \u001b[0m 86.83   \u001b[0m | \u001b[0m 7.851   \u001b[0m | \u001b[0m 10.0    \u001b[0m | \u001b[0m 1.0     \u001b[0m |\n",
      "| \u001b[0m 48      \u001b[0m | \u001b[0m 0.8207  \u001b[0m | \u001b[0m 83.8    \u001b[0m | \u001b[0m 10.0    \u001b[0m | \u001b[0m 10.0    \u001b[0m | \u001b[0m 1.0     \u001b[0m |\n",
      "| \u001b[0m 49      \u001b[0m | \u001b[0m 0.8207  \u001b[0m | \u001b[0m 80.79   \u001b[0m | \u001b[0m 10.0    \u001b[0m | \u001b[0m 10.0    \u001b[0m | \u001b[0m 1.0     \u001b[0m |\n",
      "| \u001b[0m 50      \u001b[0m | \u001b[0m 0.645   \u001b[0m | \u001b[0m 81.97   \u001b[0m | \u001b[0m 10.0    \u001b[0m | \u001b[0m 8.172   \u001b[0m | \u001b[0m 0.2194  \u001b[0m |\n",
      "=========================================================================\n"
     ]
    }
   ],
   "source": [
    "hyperparam_knn_PC1 = run_ml(data_load['PC1'], 5, bound_knn['PC1'], model.knn)"
   ]
  },
  {
   "cell_type": "code",
   "execution_count": 85,
   "metadata": {},
   "outputs": [
    {
     "data": {
      "text/plain": [
       "{'Train': {'Gmeans': 0.8985768259937709,\n",
       "  'Recall': 0.9742424242424242,\n",
       "  'pf': 0.1712121212121212,\n",
       "  'cf_matrix': {'tn': 2735, 'fp': 565, 'fn': 85, 'tp': 3215}},\n",
       " 'Dev': {'Gmeans': 0.8279630607598736,\n",
       "  'Recall': 0.8548387096774194,\n",
       "  'pf': 0.19806763285024154,\n",
       "  'cf_matrix': {'tn': 664, 'fp': 164, 'fn': 9, 'tp': 53}},\n",
       " 'Test': {'Gmeans': 0.7678707513561651,\n",
       "  'Recall': 0.7402597402597403,\n",
       "  'pf': 0.20348837209302326,\n",
       "  'cf_matrix': {'tn': 822, 'fp': 210, 'fn': 20, 'tp': 57}}}"
      ]
     },
     "execution_count": 85,
     "metadata": {},
     "output_type": "execute_result"
    }
   ],
   "source": [
    "best_hyperparam_knn_PC1 = hyperparam_knn_PC1.max['params']\n",
    "result_knn_PC1 = run_ml(data_load['PC1'], 5, best_hyperparam_knn_PC1, model.knn,do_optimize = False)\n",
    "result_knn_PC1"
   ]
  },
  {
   "cell_type": "markdown",
   "metadata": {},
   "source": [
    "### PC3"
   ]
  },
  {
   "cell_type": "code",
   "execution_count": 86,
   "metadata": {
    "scrolled": true
   },
   "outputs": [
    {
     "name": "stdout",
     "output_type": "stream",
     "text": [
      "|   iter    |  target   |   leaf    |     n     | neighbors | sampling  |\n",
      "-------------------------------------------------------------------------\n",
      "| \u001b[0m 1       \u001b[0m | \u001b[0m 0.6981  \u001b[0m | \u001b[0m 43.71   \u001b[0m | \u001b[0m 9.556   \u001b[0m | \u001b[0m 7.588   \u001b[0m | \u001b[0m 0.7088  \u001b[0m |\n",
      "| \u001b[0m 2       \u001b[0m | \u001b[0m 0.5814  \u001b[0m | \u001b[0m 24.04   \u001b[0m | \u001b[0m 2.404   \u001b[0m | \u001b[0m 1.523   \u001b[0m | \u001b[0m 0.9029  \u001b[0m |\n",
      "| \u001b[0m 3       \u001b[0m | \u001b[0m 0.6626  \u001b[0m | \u001b[0m 64.1    \u001b[0m | \u001b[0m 7.373   \u001b[0m | \u001b[0m 1.185   \u001b[0m | \u001b[0m 0.9782  \u001b[0m |\n",
      "| \u001b[0m 4       \u001b[0m | \u001b[0m 0.5517  \u001b[0m | \u001b[0m 84.92   \u001b[0m | \u001b[0m 2.911   \u001b[0m | \u001b[0m 2.636   \u001b[0m | \u001b[0m 0.4075  \u001b[0m |\n",
      "| \u001b[0m 5       \u001b[0m | \u001b[0m 0.6623  \u001b[0m | \u001b[0m 37.38   \u001b[0m | \u001b[0m 5.723   \u001b[0m | \u001b[0m 4.888   \u001b[0m | \u001b[0m 0.4857  \u001b[0m |\n",
      "| \u001b[0m 6       \u001b[0m | \u001b[0m 0.5887  \u001b[0m | \u001b[0m 65.07   \u001b[0m | \u001b[0m 2.255   \u001b[0m | \u001b[0m 3.629   \u001b[0m | \u001b[0m 0.5402  \u001b[0m |\n",
      "| \u001b[0m 7       \u001b[0m | \u001b[0m 0.6701  \u001b[0m | \u001b[0m 51.05   \u001b[0m | \u001b[0m 8.067   \u001b[0m | \u001b[0m 2.797   \u001b[0m | \u001b[0m 0.6475  \u001b[0m |\n",
      "| \u001b[0m 8       \u001b[0m | \u001b[0m 0.6066  \u001b[0m | \u001b[0m 63.32   \u001b[0m | \u001b[0m 1.418   \u001b[0m | \u001b[0m 6.468   \u001b[0m | \u001b[0m 0.3981  \u001b[0m |\n",
      "| \u001b[95m 9       \u001b[0m | \u001b[95m 0.7119  \u001b[0m | \u001b[95m 15.85   \u001b[0m | \u001b[95m 9.54    \u001b[0m | \u001b[95m 9.691   \u001b[0m | \u001b[95m 0.861   \u001b[0m |\n",
      "| \u001b[0m 10      \u001b[0m | \u001b[0m 0.6173  \u001b[0m | \u001b[0m 37.42   \u001b[0m | \u001b[0m 1.879   \u001b[0m | \u001b[0m 7.158   \u001b[0m | \u001b[0m 0.5938  \u001b[0m |\n",
      "| \u001b[0m 11      \u001b[0m | \u001b[0m 0.6657  \u001b[0m | \u001b[0m 20.98   \u001b[0m | \u001b[0m 5.457   \u001b[0m | \u001b[0m 1.309   \u001b[0m | \u001b[0m 0.9342  \u001b[0m |\n",
      "| \u001b[0m 12      \u001b[0m | \u001b[0m 0.6552  \u001b[0m | \u001b[0m 33.29   \u001b[0m | \u001b[0m 6.963   \u001b[0m | \u001b[0m 3.805   \u001b[0m | \u001b[0m 0.6518  \u001b[0m |\n",
      "| \u001b[0m 13      \u001b[0m | \u001b[0m 0.6075  \u001b[0m | \u001b[0m 59.2    \u001b[0m | \u001b[0m 2.664   \u001b[0m | \u001b[0m 9.726   \u001b[0m | \u001b[0m 0.8368  \u001b[0m |\n",
      "| \u001b[0m 14      \u001b[0m | \u001b[0m 0.6965  \u001b[0m | \u001b[0m 94.55   \u001b[0m | \u001b[0m 9.053   \u001b[0m | \u001b[0m 6.381   \u001b[0m | \u001b[0m 0.9433  \u001b[0m |\n",
      "| \u001b[0m 15      \u001b[0m | \u001b[0m 0.5602  \u001b[0m | \u001b[0m 17.96   \u001b[0m | \u001b[0m 2.764   \u001b[0m | \u001b[0m 1.407   \u001b[0m | \u001b[0m 0.5105  \u001b[0m |\n",
      "| \u001b[0m 16      \u001b[0m | \u001b[0m 0.6946  \u001b[0m | \u001b[0m 16.86   \u001b[0m | \u001b[0m 9.287   \u001b[0m | \u001b[0m 9.762   \u001b[0m | \u001b[0m 0.7141  \u001b[0m |\n",
      "| \u001b[95m 17      \u001b[0m | \u001b[95m 0.7161  \u001b[0m | \u001b[95m 15.09   \u001b[0m | \u001b[95m 9.689   \u001b[0m | \u001b[95m 8.537   \u001b[0m | \u001b[95m 0.8501  \u001b[0m |\n",
      "| \u001b[0m 18      \u001b[0m | \u001b[0m 0.6998  \u001b[0m | \u001b[0m 13.65   \u001b[0m | \u001b[0m 10.0    \u001b[0m | \u001b[0m 9.915   \u001b[0m | \u001b[0m 1.0     \u001b[0m |\n",
      "| \u001b[0m 19      \u001b[0m | \u001b[0m 0.695   \u001b[0m | \u001b[0m 14.43   \u001b[0m | \u001b[0m 7.3     \u001b[0m | \u001b[0m 9.797   \u001b[0m | \u001b[0m 0.9171  \u001b[0m |\n",
      "| \u001b[0m 20      \u001b[0m | \u001b[0m 0.68    \u001b[0m | \u001b[0m 21.01   \u001b[0m | \u001b[0m 9.713   \u001b[0m | \u001b[0m 1.704   \u001b[0m | \u001b[0m 1.0     \u001b[0m |\n",
      "| \u001b[0m 21      \u001b[0m | \u001b[0m 0.6632  \u001b[0m | \u001b[0m 43.63   \u001b[0m | \u001b[0m 9.7     \u001b[0m | \u001b[0m 3.691   \u001b[0m | \u001b[0m 0.5013  \u001b[0m |\n",
      "| \u001b[0m 22      \u001b[0m | \u001b[0m 0.7059  \u001b[0m | \u001b[0m 46.86   \u001b[0m | \u001b[0m 10.0    \u001b[0m | \u001b[0m 9.577   \u001b[0m | \u001b[0m 0.9857  \u001b[0m |\n",
      "| \u001b[0m 23      \u001b[0m | \u001b[0m 0.6783  \u001b[0m | \u001b[0m 46.19   \u001b[0m | \u001b[0m 7.133   \u001b[0m | \u001b[0m 9.947   \u001b[0m | \u001b[0m 0.4938  \u001b[0m |\n",
      "| \u001b[0m 24      \u001b[0m | \u001b[0m 0.692   \u001b[0m | \u001b[0m 48.51   \u001b[0m | \u001b[0m 9.868   \u001b[0m | \u001b[0m 7.287   \u001b[0m | \u001b[0m 0.8823  \u001b[0m |\n",
      "| \u001b[0m 25      \u001b[0m | \u001b[0m 0.6549  \u001b[0m | \u001b[0m 97.93   \u001b[0m | \u001b[0m 9.767   \u001b[0m | \u001b[0m 8.797   \u001b[0m | \u001b[0m 0.4419  \u001b[0m |\n",
      "| \u001b[0m 26      \u001b[0m | \u001b[0m 0.6975  \u001b[0m | \u001b[0m 95.11   \u001b[0m | \u001b[0m 10.0    \u001b[0m | \u001b[0m 2.438   \u001b[0m | \u001b[0m 1.0     \u001b[0m |\n",
      "| \u001b[0m 27      \u001b[0m | \u001b[0m 0.6132  \u001b[0m | \u001b[0m 96.61   \u001b[0m | \u001b[0m 6.01    \u001b[0m | \u001b[0m 2.909   \u001b[0m | \u001b[0m 0.4201  \u001b[0m |\n",
      "| \u001b[0m 28      \u001b[0m | \u001b[0m 0.7046  \u001b[0m | \u001b[0m 92.33   \u001b[0m | \u001b[0m 10.0    \u001b[0m | \u001b[0m 4.481   \u001b[0m | \u001b[0m 1.0     \u001b[0m |\n",
      "| \u001b[0m 29      \u001b[0m | \u001b[0m 0.6794  \u001b[0m | \u001b[0m 91.57   \u001b[0m | \u001b[0m 10.0    \u001b[0m | \u001b[0m 8.582   \u001b[0m | \u001b[0m 1.0     \u001b[0m |\n",
      "| \u001b[0m 30      \u001b[0m | \u001b[0m 0.4795  \u001b[0m | \u001b[0m 41.22   \u001b[0m | \u001b[0m 10.0    \u001b[0m | \u001b[0m 10.0    \u001b[0m | \u001b[0m 0.2749  \u001b[0m |\n",
      "| \u001b[0m 31      \u001b[0m | \u001b[0m 0.7106  \u001b[0m | \u001b[0m 45.53   \u001b[0m | \u001b[0m 9.406   \u001b[0m | \u001b[0m 7.225   \u001b[0m | \u001b[0m 1.0     \u001b[0m |\n",
      "| \u001b[0m 32      \u001b[0m | \u001b[0m 0.6917  \u001b[0m | \u001b[0m 44.42   \u001b[0m | \u001b[0m 7.727   \u001b[0m | \u001b[0m 6.602   \u001b[0m | \u001b[0m 1.0     \u001b[0m |\n",
      "| \u001b[0m 33      \u001b[0m | \u001b[0m 0.6864  \u001b[0m | \u001b[0m 16.28   \u001b[0m | \u001b[0m 10.0    \u001b[0m | \u001b[0m 5.846   \u001b[0m | \u001b[0m 1.0     \u001b[0m |\n",
      "| \u001b[0m 34      \u001b[0m | \u001b[0m 0.6853  \u001b[0m | \u001b[0m 91.54   \u001b[0m | \u001b[0m 9.995   \u001b[0m | \u001b[0m 1.16    \u001b[0m | \u001b[0m 0.6404  \u001b[0m |\n",
      "| \u001b[0m 35      \u001b[0m | \u001b[0m 0.6277  \u001b[0m | \u001b[0m 12.54   \u001b[0m | \u001b[0m 8.701   \u001b[0m | \u001b[0m 6.709   \u001b[0m | \u001b[0m 0.407   \u001b[0m |\n",
      "| \u001b[0m 36      \u001b[0m | \u001b[0m 0.708   \u001b[0m | \u001b[0m 49.79   \u001b[0m | \u001b[0m 10.0    \u001b[0m | \u001b[0m 10.0    \u001b[0m | \u001b[0m 1.0     \u001b[0m |\n",
      "| \u001b[0m 37      \u001b[0m | \u001b[0m 0.6653  \u001b[0m | \u001b[0m 49.68   \u001b[0m | \u001b[0m 7.825   \u001b[0m | \u001b[0m 9.779   \u001b[0m | \u001b[0m 0.438   \u001b[0m |\n",
      "| \u001b[0m 38      \u001b[0m | \u001b[0m 0.708   \u001b[0m | \u001b[0m 53.0    \u001b[0m | \u001b[0m 10.0    \u001b[0m | \u001b[0m 10.0    \u001b[0m | \u001b[0m 1.0     \u001b[0m |\n",
      "| \u001b[0m 39      \u001b[0m | \u001b[0m 0.7065  \u001b[0m | \u001b[0m 52.73   \u001b[0m | \u001b[0m 10.0    \u001b[0m | \u001b[0m 7.489   \u001b[0m | \u001b[0m 1.0     \u001b[0m |\n",
      "| \u001b[0m 40      \u001b[0m | \u001b[0m 0.6794  \u001b[0m | \u001b[0m 55.63   \u001b[0m | \u001b[0m 10.0    \u001b[0m | \u001b[0m 8.227   \u001b[0m | \u001b[0m 1.0     \u001b[0m |\n",
      "| \u001b[0m 41      \u001b[0m | \u001b[0m 0.488   \u001b[0m | \u001b[0m 51.61   \u001b[0m | \u001b[0m 10.0    \u001b[0m | \u001b[0m 8.94    \u001b[0m | \u001b[0m 0.2744  \u001b[0m |\n",
      "| \u001b[0m 42      \u001b[0m | \u001b[0m 0.6858  \u001b[0m | \u001b[0m 15.36   \u001b[0m | \u001b[0m 9.21    \u001b[0m | \u001b[0m 9.356   \u001b[0m | \u001b[0m 0.6064  \u001b[0m |\n",
      "| \u001b[0m 43      \u001b[0m | \u001b[0m 0.7037  \u001b[0m | \u001b[0m 14.84   \u001b[0m | \u001b[0m 9.66    \u001b[0m | \u001b[0m 8.804   \u001b[0m | \u001b[0m 0.9835  \u001b[0m |\n",
      "| \u001b[0m 44      \u001b[0m | \u001b[0m 0.7131  \u001b[0m | \u001b[0m 44.71   \u001b[0m | \u001b[0m 9.078   \u001b[0m | \u001b[0m 7.234   \u001b[0m | \u001b[0m 0.9035  \u001b[0m |\n",
      "| \u001b[0m 45      \u001b[0m | \u001b[0m 0.7026  \u001b[0m | \u001b[0m 45.05   \u001b[0m | \u001b[0m 9.453   \u001b[0m | \u001b[0m 8.017   \u001b[0m | \u001b[0m 0.8482  \u001b[0m |\n",
      "| \u001b[0m 46      \u001b[0m | \u001b[0m 0.6794  \u001b[0m | \u001b[0m 15.88   \u001b[0m | \u001b[0m 10.0    \u001b[0m | \u001b[0m 8.759   \u001b[0m | \u001b[0m 1.0     \u001b[0m |\n",
      "| \u001b[0m 47      \u001b[0m | \u001b[0m 0.5856  \u001b[0m | \u001b[0m 14.44   \u001b[0m | \u001b[0m 9.754   \u001b[0m | \u001b[0m 8.232   \u001b[0m | \u001b[0m 0.3061  \u001b[0m |\n",
      "| \u001b[0m 48      \u001b[0m | \u001b[0m 0.6585  \u001b[0m | \u001b[0m 45.06   \u001b[0m | \u001b[0m 9.258   \u001b[0m | \u001b[0m 7.117   \u001b[0m | \u001b[0m 0.477   \u001b[0m |\n",
      "| \u001b[0m 49      \u001b[0m | \u001b[0m 0.7104  \u001b[0m | \u001b[0m 44.03   \u001b[0m | \u001b[0m 9.036   \u001b[0m | \u001b[0m 8.028   \u001b[0m | \u001b[0m 0.8928  \u001b[0m |\n",
      "| \u001b[0m 50      \u001b[0m | \u001b[0m 0.6741  \u001b[0m | \u001b[0m 44.39   \u001b[0m | \u001b[0m 8.706   \u001b[0m | \u001b[0m 7.803   \u001b[0m | \u001b[0m 0.5773  \u001b[0m |\n",
      "=========================================================================\n"
     ]
    }
   ],
   "source": [
    "hyperparam_knn_PC3 = run_ml(data_load['PC3'], 7, bound_knn['PC3'], model.knn)"
   ]
  },
  {
   "cell_type": "code",
   "execution_count": 87,
   "metadata": {},
   "outputs": [
    {
     "data": {
      "text/plain": [
       "{'Train': {'Gmeans': 0.8837999732657926,\n",
       "  'Recall': 0.9793589120932491,\n",
       "  'pf': 0.20243499793644243,\n",
       "  'cf_matrix': {'tn': 3865, 'fp': 981, 'fn': 85, 'tp': 4033}},\n",
       " 'Dev': {'Gmeans': 0.7161306223460825,\n",
       "  'Recall': 0.7142857142857143,\n",
       "  'pf': 0.28201970443349755,\n",
       "  'cf_matrix': {'tn': 583, 'fp': 229, 'fn': 32, 'tp': 80}},\n",
       " 'Test': {'Gmeans': 0.7267496906979183,\n",
       "  'Recall': 0.7014925373134329,\n",
       "  'pf': 0.24708377518557795,\n",
       "  'cf_matrix': {'tn': 710, 'fp': 233, 'fn': 40, 'tp': 94}}}"
      ]
     },
     "execution_count": 87,
     "metadata": {},
     "output_type": "execute_result"
    }
   ],
   "source": [
    "best_hyperparam_knn_PC3 = hyperparam_knn_PC3.max['params']\n",
    "result_knn_PC3 = run_ml(data_load['PC3'], 7, best_hyperparam_knn_PC3, model.knn,do_optimize = False)\n",
    "result_knn_PC3"
   ]
  },
  {
   "cell_type": "markdown",
   "metadata": {},
   "source": [
    "### PC4"
   ]
  },
  {
   "cell_type": "code",
   "execution_count": 88,
   "metadata": {
    "scrolled": true
   },
   "outputs": [
    {
     "name": "stdout",
     "output_type": "stream",
     "text": [
      "|   iter    |  target   |   leaf    |     n     | neighbors | sampling  |\n",
      "-------------------------------------------------------------------------\n",
      "| \u001b[0m 1       \u001b[0m | \u001b[0m 0.783   \u001b[0m | \u001b[0m 43.71   \u001b[0m | \u001b[0m 9.556   \u001b[0m | \u001b[0m 7.588   \u001b[0m | \u001b[0m 0.7079  \u001b[0m |\n",
      "| \u001b[0m 2       \u001b[0m | \u001b[0m 0.6935  \u001b[0m | \u001b[0m 24.04   \u001b[0m | \u001b[0m 2.404   \u001b[0m | \u001b[0m 1.523   \u001b[0m | \u001b[0m 0.9026  \u001b[0m |\n",
      "| \u001b[95m 3       \u001b[0m | \u001b[95m 0.7872  \u001b[0m | \u001b[95m 64.1    \u001b[0m | \u001b[95m 7.373   \u001b[0m | \u001b[95m 1.185   \u001b[0m | \u001b[95m 0.9781  \u001b[0m |\n",
      "| \u001b[0m 4       \u001b[0m | \u001b[0m 0.6477  \u001b[0m | \u001b[0m 84.92   \u001b[0m | \u001b[0m 2.911   \u001b[0m | \u001b[0m 2.636   \u001b[0m | \u001b[0m 0.4056  \u001b[0m |\n",
      "| \u001b[0m 5       \u001b[0m | \u001b[0m 0.7812  \u001b[0m | \u001b[0m 37.38   \u001b[0m | \u001b[0m 5.723   \u001b[0m | \u001b[0m 4.888   \u001b[0m | \u001b[0m 0.4841  \u001b[0m |\n",
      "| \u001b[0m 6       \u001b[0m | \u001b[0m 0.6954  \u001b[0m | \u001b[0m 65.07   \u001b[0m | \u001b[0m 2.255   \u001b[0m | \u001b[0m 3.629   \u001b[0m | \u001b[0m 0.5388  \u001b[0m |\n",
      "| \u001b[0m 7       \u001b[0m | \u001b[0m 0.7756  \u001b[0m | \u001b[0m 51.05   \u001b[0m | \u001b[0m 8.067   \u001b[0m | \u001b[0m 2.797   \u001b[0m | \u001b[0m 0.6464  \u001b[0m |\n",
      "| \u001b[0m 8       \u001b[0m | \u001b[0m 0.7204  \u001b[0m | \u001b[0m 63.32   \u001b[0m | \u001b[0m 1.418   \u001b[0m | \u001b[0m 6.468   \u001b[0m | \u001b[0m 0.3962  \u001b[0m |\n",
      "| \u001b[95m 9       \u001b[0m | \u001b[95m 0.7891  \u001b[0m | \u001b[95m 15.85   \u001b[0m | \u001b[95m 9.54    \u001b[0m | \u001b[95m 9.691   \u001b[0m | \u001b[95m 0.8605  \u001b[0m |\n",
      "| \u001b[0m 10      \u001b[0m | \u001b[0m 0.7383  \u001b[0m | \u001b[0m 37.42   \u001b[0m | \u001b[0m 1.879   \u001b[0m | \u001b[0m 7.158   \u001b[0m | \u001b[0m 0.5925  \u001b[0m |\n",
      "| \u001b[0m 11      \u001b[0m | \u001b[0m 0.7849  \u001b[0m | \u001b[0m 20.98   \u001b[0m | \u001b[0m 5.457   \u001b[0m | \u001b[0m 1.309   \u001b[0m | \u001b[0m 0.934   \u001b[0m |\n",
      "| \u001b[0m 12      \u001b[0m | \u001b[0m 0.7647  \u001b[0m | \u001b[0m 33.29   \u001b[0m | \u001b[0m 6.963   \u001b[0m | \u001b[0m 3.805   \u001b[0m | \u001b[0m 0.6507  \u001b[0m |\n",
      "| \u001b[0m 13      \u001b[0m | \u001b[0m 0.7329  \u001b[0m | \u001b[0m 59.2    \u001b[0m | \u001b[0m 2.664   \u001b[0m | \u001b[0m 9.726   \u001b[0m | \u001b[0m 0.8363  \u001b[0m |\n",
      "| \u001b[0m 14      \u001b[0m | \u001b[0m 0.7788  \u001b[0m | \u001b[0m 94.55   \u001b[0m | \u001b[0m 9.053   \u001b[0m | \u001b[0m 6.381   \u001b[0m | \u001b[0m 0.9431  \u001b[0m |\n",
      "| \u001b[0m 15      \u001b[0m | \u001b[0m 0.685   \u001b[0m | \u001b[0m 17.96   \u001b[0m | \u001b[0m 2.764   \u001b[0m | \u001b[0m 1.407   \u001b[0m | \u001b[0m 0.5089  \u001b[0m |\n",
      "| \u001b[95m 16      \u001b[0m | \u001b[95m 0.7894  \u001b[0m | \u001b[95m 64.61   \u001b[0m | \u001b[95m 7.056   \u001b[0m | \u001b[95m 1.73    \u001b[0m | \u001b[95m 0.9647  \u001b[0m |\n",
      "| \u001b[0m 17      \u001b[0m | \u001b[0m 0.7252  \u001b[0m | \u001b[0m 20.96   \u001b[0m | \u001b[0m 6.86    \u001b[0m | \u001b[0m 1.022   \u001b[0m | \u001b[0m 0.3078  \u001b[0m |\n",
      "| \u001b[0m 18      \u001b[0m | \u001b[0m 0.7837  \u001b[0m | \u001b[0m 64.83   \u001b[0m | \u001b[0m 8.022   \u001b[0m | \u001b[0m 1.635   \u001b[0m | \u001b[0m 1.0     \u001b[0m |\n",
      "| \u001b[0m 19      \u001b[0m | \u001b[0m 0.7321  \u001b[0m | \u001b[0m 15.11   \u001b[0m | \u001b[0m 9.435   \u001b[0m | \u001b[0m 8.922   \u001b[0m | \u001b[0m 0.3339  \u001b[0m |\n",
      "| \u001b[0m 20      \u001b[0m | \u001b[0m 0.7686  \u001b[0m | \u001b[0m 64.42   \u001b[0m | \u001b[0m 7.696   \u001b[0m | \u001b[0m 1.975   \u001b[0m | \u001b[0m 0.5727  \u001b[0m |\n",
      "| \u001b[0m 21      \u001b[0m | \u001b[0m 0.7775  \u001b[0m | \u001b[0m 16.87   \u001b[0m | \u001b[0m 9.516   \u001b[0m | \u001b[0m 9.964   \u001b[0m | \u001b[0m 0.3853  \u001b[0m |\n",
      "| \u001b[0m 22      \u001b[0m | \u001b[0m 0.7891  \u001b[0m | \u001b[0m 64.92   \u001b[0m | \u001b[0m 6.45    \u001b[0m | \u001b[0m 1.252   \u001b[0m | \u001b[0m 0.9629  \u001b[0m |\n",
      "| \u001b[0m 23      \u001b[0m | \u001b[0m 0.7803  \u001b[0m | \u001b[0m 66.31   \u001b[0m | \u001b[0m 6.64    \u001b[0m | \u001b[0m 1.429   \u001b[0m | \u001b[0m 0.7846  \u001b[0m |\n",
      "| \u001b[0m 24      \u001b[0m | \u001b[0m 0.7855  \u001b[0m | \u001b[0m 66.46   \u001b[0m | \u001b[0m 8.789   \u001b[0m | \u001b[0m 1.012   \u001b[0m | \u001b[0m 0.9653  \u001b[0m |\n",
      "| \u001b[0m 25      \u001b[0m | \u001b[0m 0.7846  \u001b[0m | \u001b[0m 66.6    \u001b[0m | \u001b[0m 8.094   \u001b[0m | \u001b[0m 2.263   \u001b[0m | \u001b[0m 1.0     \u001b[0m |\n",
      "| \u001b[0m 26      \u001b[0m | \u001b[0m 0.7284  \u001b[0m | \u001b[0m 42.73   \u001b[0m | \u001b[0m 8.385   \u001b[0m | \u001b[0m 6.736   \u001b[0m | \u001b[0m 0.3471  \u001b[0m |\n",
      "| \u001b[0m 27      \u001b[0m | \u001b[0m 0.7835  \u001b[0m | \u001b[0m 44.65   \u001b[0m | \u001b[0m 10.0    \u001b[0m | \u001b[0m 8.4     \u001b[0m | \u001b[0m 1.0     \u001b[0m |\n",
      "| \u001b[0m 28      \u001b[0m | \u001b[0m 0.7777  \u001b[0m | \u001b[0m 65.75   \u001b[0m | \u001b[0m 7.716   \u001b[0m | \u001b[0m 1.377   \u001b[0m | \u001b[0m 0.8009  \u001b[0m |\n",
      "| \u001b[0m 29      \u001b[0m | \u001b[0m 0.787   \u001b[0m | \u001b[0m 16.14   \u001b[0m | \u001b[0m 10.0    \u001b[0m | \u001b[0m 10.0    \u001b[0m | \u001b[0m 1.0     \u001b[0m |\n",
      "| \u001b[0m 30      \u001b[0m | \u001b[0m 0.7667  \u001b[0m | \u001b[0m 68.05   \u001b[0m | \u001b[0m 9.146   \u001b[0m | \u001b[0m 1.74    \u001b[0m | \u001b[0m 1.0     \u001b[0m |\n",
      "| \u001b[95m 31      \u001b[0m | \u001b[95m 0.798   \u001b[0m | \u001b[95m 16.14   \u001b[0m | \u001b[95m 8.927   \u001b[0m | \u001b[95m 10.0    \u001b[0m | \u001b[95m 1.0     \u001b[0m |\n",
      "| \u001b[0m 32      \u001b[0m | \u001b[0m 0.7744  \u001b[0m | \u001b[0m 45.41   \u001b[0m | \u001b[0m 10.0    \u001b[0m | \u001b[0m 6.59    \u001b[0m | \u001b[0m 0.8645  \u001b[0m |\n",
      "| \u001b[0m 33      \u001b[0m | \u001b[0m 0.7936  \u001b[0m | \u001b[0m 17.0    \u001b[0m | \u001b[0m 7.087   \u001b[0m | \u001b[0m 10.0    \u001b[0m | \u001b[0m 1.0     \u001b[0m |\n",
      "| \u001b[95m 34      \u001b[0m | \u001b[95m 0.8026  \u001b[0m | \u001b[95m 18.27   \u001b[0m | \u001b[95m 7.533   \u001b[0m | \u001b[95m 9.071   \u001b[0m | \u001b[95m 1.0     \u001b[0m |\n",
      "| \u001b[0m 35      \u001b[0m | \u001b[0m 0.78    \u001b[0m | \u001b[0m 18.7    \u001b[0m | \u001b[0m 5.827   \u001b[0m | \u001b[0m 8.877   \u001b[0m | \u001b[0m 0.8813  \u001b[0m |\n",
      "| \u001b[0m 36      \u001b[0m | \u001b[0m 0.7956  \u001b[0m | \u001b[0m 19.4    \u001b[0m | \u001b[0m 8.745   \u001b[0m | \u001b[0m 8.817   \u001b[0m | \u001b[0m 0.911   \u001b[0m |\n",
      "| \u001b[0m 37      \u001b[0m | \u001b[0m 0.7828  \u001b[0m | \u001b[0m 19.06   \u001b[0m | \u001b[0m 7.445   \u001b[0m | \u001b[0m 9.633   \u001b[0m | \u001b[0m 0.4442  \u001b[0m |\n",
      "| \u001b[0m 38      \u001b[0m | \u001b[0m 0.7788  \u001b[0m | \u001b[0m 18.32   \u001b[0m | \u001b[0m 7.43    \u001b[0m | \u001b[0m 7.509   \u001b[0m | \u001b[0m 0.5831  \u001b[0m |\n",
      "| \u001b[0m 39      \u001b[0m | \u001b[0m 0.7837  \u001b[0m | \u001b[0m 17.95   \u001b[0m | \u001b[0m 8.519   \u001b[0m | \u001b[0m 9.19    \u001b[0m | \u001b[0m 0.6962  \u001b[0m |\n",
      "| \u001b[0m 40      \u001b[0m | \u001b[0m 0.7982  \u001b[0m | \u001b[0m 20.97   \u001b[0m | \u001b[0m 8.391   \u001b[0m | \u001b[0m 7.942   \u001b[0m | \u001b[0m 1.0     \u001b[0m |\n",
      "| \u001b[0m 41      \u001b[0m | \u001b[0m 0.7963  \u001b[0m | \u001b[0m 21.77   \u001b[0m | \u001b[0m 9.228   \u001b[0m | \u001b[0m 9.511   \u001b[0m | \u001b[0m 0.9569  \u001b[0m |\n",
      "| \u001b[0m 42      \u001b[0m | \u001b[0m 0.7835  \u001b[0m | \u001b[0m 21.01   \u001b[0m | \u001b[0m 10.0    \u001b[0m | \u001b[0m 8.178   \u001b[0m | \u001b[0m 1.0     \u001b[0m |\n",
      "| \u001b[0m 43      \u001b[0m | \u001b[0m 0.8026  \u001b[0m | \u001b[0m 22.09   \u001b[0m | \u001b[0m 7.536   \u001b[0m | \u001b[0m 9.086   \u001b[0m | \u001b[0m 1.0     \u001b[0m |\n",
      "| \u001b[95m 44      \u001b[0m | \u001b[95m 0.8087  \u001b[0m | \u001b[95m 23.24   \u001b[0m | \u001b[95m 8.411   \u001b[0m | \u001b[95m 9.123   \u001b[0m | \u001b[95m 0.8341  \u001b[0m |\n",
      "| \u001b[0m 45      \u001b[0m | \u001b[0m 0.7832  \u001b[0m | \u001b[0m 24.28   \u001b[0m | \u001b[0m 7.505   \u001b[0m | \u001b[0m 8.439   \u001b[0m | \u001b[0m 0.7003  \u001b[0m |\n",
      "| \u001b[0m 46      \u001b[0m | \u001b[0m 0.796   \u001b[0m | \u001b[0m 22.7    \u001b[0m | \u001b[0m 8.59    \u001b[0m | \u001b[0m 8.374   \u001b[0m | \u001b[0m 1.0     \u001b[0m |\n",
      "| \u001b[0m 47      \u001b[0m | \u001b[0m 0.7764  \u001b[0m | \u001b[0m 22.78   \u001b[0m | \u001b[0m 8.177   \u001b[0m | \u001b[0m 9.797   \u001b[0m | \u001b[0m 0.6112  \u001b[0m |\n",
      "| \u001b[0m 48      \u001b[0m | \u001b[0m 0.7944  \u001b[0m | \u001b[0m 23.91   \u001b[0m | \u001b[0m 9.126   \u001b[0m | \u001b[0m 9.105   \u001b[0m | \u001b[0m 1.0     \u001b[0m |\n",
      "| \u001b[0m 49      \u001b[0m | \u001b[0m 0.7508  \u001b[0m | \u001b[0m 21.31   \u001b[0m | \u001b[0m 6.167   \u001b[0m | \u001b[0m 8.017   \u001b[0m | \u001b[0m 0.4622  \u001b[0m |\n",
      "| \u001b[0m 50      \u001b[0m | \u001b[0m 0.7534  \u001b[0m | \u001b[0m 15.89   \u001b[0m | \u001b[0m 4.657   \u001b[0m | \u001b[0m 10.0    \u001b[0m | \u001b[0m 1.0     \u001b[0m |\n",
      "=========================================================================\n"
     ]
    }
   ],
   "source": [
    "hyperparam_knn_PC4 = run_ml(data_load['PC4'], 7, bound_knn['PC4'], model.knn)"
   ]
  },
  {
   "cell_type": "code",
   "execution_count": 89,
   "metadata": {
    "scrolled": false
   },
   "outputs": [
    {
     "data": {
      "text/plain": [
       "{'Train': {'Gmeans': 0.906258105193544,\n",
       "  'Recall': 0.9848760932944607,\n",
       "  'pf': 0.1660841817352986,\n",
       "  'cf_matrix': {'tn': 5488, 'fp': 1093, 'fn': 83, 'tp': 5405}},\n",
       " 'Dev': {'Gmeans': 0.8086848227815125,\n",
       "  'Recall': 0.8376623376623377,\n",
       "  'pf': 0.21929026387625114,\n",
       "  'cf_matrix': {'tn': 858, 'fp': 241, 'fn': 25, 'tp': 129}},\n",
       " 'Test': {'Gmeans': 0.7977760520431051,\n",
       "  'Recall': 0.8089887640449438,\n",
       "  'pf': 0.21328125,\n",
       "  'cf_matrix': {'tn': 1007, 'fp': 273, 'fn': 34, 'tp': 144}}}"
      ]
     },
     "execution_count": 89,
     "metadata": {},
     "output_type": "execute_result"
    }
   ],
   "source": [
    "best_hyperparam_knn_PC4 = hyperparam_knn_PC4.max['params']\n",
    "result_knn_PC4 = run_ml(data_load['PC4'], 7, best_hyperparam_knn_PC4, model.knn,do_optimize = False)\n",
    "result_knn_PC4"
   ]
  },
  {
   "cell_type": "markdown",
   "metadata": {},
   "source": [
    "# CM1"
   ]
  },
  {
   "cell_type": "code",
   "execution_count": 90,
   "metadata": {},
   "outputs": [
    {
     "name": "stdout",
     "output_type": "stream",
     "text": [
      "|   iter    |  target   |   leaf    |     n     | neighbors | sampling  |\n",
      "-------------------------------------------------------------------------\n",
      "| \u001b[0m 1       \u001b[0m | \u001b[0m 0.6562  \u001b[0m | \u001b[0m 43.71   \u001b[0m | \u001b[0m 9.556   \u001b[0m | \u001b[0m 7.588   \u001b[0m | \u001b[0m 0.6984  \u001b[0m |\n",
      "| \u001b[0m 2       \u001b[0m | \u001b[0m 0.3975  \u001b[0m | \u001b[0m 24.04   \u001b[0m | \u001b[0m 2.404   \u001b[0m | \u001b[0m 1.523   \u001b[0m | \u001b[0m 0.8994  \u001b[0m |\n",
      "| \u001b[0m 3       \u001b[0m | \u001b[0m 0.6134  \u001b[0m | \u001b[0m 64.1    \u001b[0m | \u001b[0m 7.373   \u001b[0m | \u001b[0m 1.185   \u001b[0m | \u001b[0m 0.9774  \u001b[0m |\n",
      "| \u001b[0m 4       \u001b[0m | \u001b[0m 0.4275  \u001b[0m | \u001b[0m 84.92   \u001b[0m | \u001b[0m 2.911   \u001b[0m | \u001b[0m 2.636   \u001b[0m | \u001b[0m 0.3862  \u001b[0m |\n",
      "| \u001b[0m 5       \u001b[0m | \u001b[0m 0.6196  \u001b[0m | \u001b[0m 37.38   \u001b[0m | \u001b[0m 5.723   \u001b[0m | \u001b[0m 4.888   \u001b[0m | \u001b[0m 0.4673  \u001b[0m |\n",
      "| \u001b[0m 6       \u001b[0m | \u001b[0m 0.4493  \u001b[0m | \u001b[0m 65.07   \u001b[0m | \u001b[0m 2.255   \u001b[0m | \u001b[0m 3.629   \u001b[0m | \u001b[0m 0.5238  \u001b[0m |\n",
      "| \u001b[0m 7       \u001b[0m | \u001b[0m 0.5948  \u001b[0m | \u001b[0m 51.05   \u001b[0m | \u001b[0m 8.067   \u001b[0m | \u001b[0m 2.797   \u001b[0m | \u001b[0m 0.6349  \u001b[0m |\n",
      "| \u001b[0m 8       \u001b[0m | \u001b[0m 0.5324  \u001b[0m | \u001b[0m 63.32   \u001b[0m | \u001b[0m 1.418   \u001b[0m | \u001b[0m 6.468   \u001b[0m | \u001b[0m 0.3766  \u001b[0m |\n",
      "| \u001b[0m 9       \u001b[0m | \u001b[0m 0.6415  \u001b[0m | \u001b[0m 15.85   \u001b[0m | \u001b[0m 9.54    \u001b[0m | \u001b[0m 9.691   \u001b[0m | \u001b[0m 0.856   \u001b[0m |\n",
      "| \u001b[0m 10      \u001b[0m | \u001b[0m 0.6083  \u001b[0m | \u001b[0m 37.42   \u001b[0m | \u001b[0m 1.879   \u001b[0m | \u001b[0m 7.158   \u001b[0m | \u001b[0m 0.5792  \u001b[0m |\n",
      "| \u001b[0m 11      \u001b[0m | \u001b[0m 0.6298  \u001b[0m | \u001b[0m 20.98   \u001b[0m | \u001b[0m 5.457   \u001b[0m | \u001b[0m 1.309   \u001b[0m | \u001b[0m 0.9318  \u001b[0m |\n",
      "| \u001b[0m 12      \u001b[0m | \u001b[0m 0.5667  \u001b[0m | \u001b[0m 33.29   \u001b[0m | \u001b[0m 6.963   \u001b[0m | \u001b[0m 3.805   \u001b[0m | \u001b[0m 0.6393  \u001b[0m |\n",
      "| \u001b[0m 13      \u001b[0m | \u001b[0m 0.4874  \u001b[0m | \u001b[0m 59.2    \u001b[0m | \u001b[0m 2.664   \u001b[0m | \u001b[0m 9.726   \u001b[0m | \u001b[0m 0.831   \u001b[0m |\n",
      "| \u001b[95m 14      \u001b[0m | \u001b[95m 0.6776  \u001b[0m | \u001b[95m 94.55   \u001b[0m | \u001b[95m 9.053   \u001b[0m | \u001b[95m 6.381   \u001b[0m | \u001b[95m 0.9413  \u001b[0m |\n",
      "| \u001b[0m 15      \u001b[0m | \u001b[0m 0.4275  \u001b[0m | \u001b[0m 17.96   \u001b[0m | \u001b[0m 2.764   \u001b[0m | \u001b[0m 1.407   \u001b[0m | \u001b[0m 0.4929  \u001b[0m |\n",
      "| \u001b[0m 16      \u001b[0m | \u001b[0m 0.6494  \u001b[0m | \u001b[0m 94.65   \u001b[0m | \u001b[0m 9.153   \u001b[0m | \u001b[0m 6.101   \u001b[0m | \u001b[0m 0.5148  \u001b[0m |\n",
      "| \u001b[0m 17      \u001b[0m | \u001b[0m 0.6294  \u001b[0m | \u001b[0m 94.26   \u001b[0m | \u001b[0m 8.742   \u001b[0m | \u001b[0m 7.257   \u001b[0m | \u001b[0m 1.0     \u001b[0m |\n",
      "| \u001b[0m 18      \u001b[0m | \u001b[0m 0.6205  \u001b[0m | \u001b[0m 94.72   \u001b[0m | \u001b[0m 7.962   \u001b[0m | \u001b[0m 5.761   \u001b[0m | \u001b[0m 0.895   \u001b[0m |\n",
      "| \u001b[95m 19      \u001b[0m | \u001b[95m 0.6894  \u001b[0m | \u001b[95m 95.31   \u001b[0m | \u001b[95m 9.583   \u001b[0m | \u001b[95m 6.626   \u001b[0m | \u001b[95m 1.0     \u001b[0m |\n",
      "| \u001b[0m 20      \u001b[0m | \u001b[0m 0.6846  \u001b[0m | \u001b[0m 94.57   \u001b[0m | \u001b[0m 10.0    \u001b[0m | \u001b[0m 6.444   \u001b[0m | \u001b[0m 1.0     \u001b[0m |\n",
      "| \u001b[0m 21      \u001b[0m | \u001b[0m 0.654   \u001b[0m | \u001b[0m 41.89   \u001b[0m | \u001b[0m 8.3     \u001b[0m | \u001b[0m 6.855   \u001b[0m | \u001b[0m 0.6342  \u001b[0m |\n",
      "| \u001b[0m 22      \u001b[0m | \u001b[0m 0.5981  \u001b[0m | \u001b[0m 44.13   \u001b[0m | \u001b[0m 7.406   \u001b[0m | \u001b[0m 6.723   \u001b[0m | \u001b[0m 0.3605  \u001b[0m |\n",
      "| \u001b[0m 23      \u001b[0m | \u001b[0m 0.6415  \u001b[0m | \u001b[0m 41.61   \u001b[0m | \u001b[0m 10.0    \u001b[0m | \u001b[0m 8.349   \u001b[0m | \u001b[0m 1.0     \u001b[0m |\n",
      "| \u001b[0m 24      \u001b[0m | \u001b[0m 0.6708  \u001b[0m | \u001b[0m 96.75   \u001b[0m | \u001b[0m 10.0    \u001b[0m | \u001b[0m 5.631   \u001b[0m | \u001b[0m 1.0     \u001b[0m |\n",
      "| \u001b[0m 25      \u001b[0m | \u001b[0m 0.6708  \u001b[0m | \u001b[0m 42.25   \u001b[0m | \u001b[0m 10.0    \u001b[0m | \u001b[0m 5.442   \u001b[0m | \u001b[0m 1.0     \u001b[0m |\n",
      "| \u001b[0m 26      \u001b[0m | \u001b[0m 0.4721  \u001b[0m | \u001b[0m 39.93   \u001b[0m | \u001b[0m 9.775   \u001b[0m | \u001b[0m 5.311   \u001b[0m | \u001b[0m 0.2484  \u001b[0m |\n",
      "| \u001b[0m 27      \u001b[0m | \u001b[0m 0.6708  \u001b[0m | \u001b[0m 43.45   \u001b[0m | \u001b[0m 10.0    \u001b[0m | \u001b[0m 5.818   \u001b[0m | \u001b[0m 1.0     \u001b[0m |\n",
      "| \u001b[0m 28      \u001b[0m | \u001b[0m 0.6458  \u001b[0m | \u001b[0m 97.47   \u001b[0m | \u001b[0m 10.0    \u001b[0m | \u001b[0m 7.451   \u001b[0m | \u001b[0m 1.0     \u001b[0m |\n",
      "| \u001b[0m 29      \u001b[0m | \u001b[0m 0.6363  \u001b[0m | \u001b[0m 21.04   \u001b[0m | \u001b[0m 8.095   \u001b[0m | \u001b[0m 1.212   \u001b[0m | \u001b[0m 1.0     \u001b[0m |\n",
      "| \u001b[0m 30      \u001b[0m | \u001b[0m 0.6553  \u001b[0m | \u001b[0m 43.35   \u001b[0m | \u001b[0m 9.707   \u001b[0m | \u001b[0m 4.128   \u001b[0m | \u001b[0m 0.9847  \u001b[0m |\n",
      "| \u001b[0m 31      \u001b[0m | \u001b[0m 0.6178  \u001b[0m | \u001b[0m 42.07   \u001b[0m | \u001b[0m 7.503   \u001b[0m | \u001b[0m 9.89    \u001b[0m | \u001b[0m 1.0     \u001b[0m |\n",
      "| \u001b[0m 32      \u001b[0m | \u001b[0m 0.6486  \u001b[0m | \u001b[0m 99.55   \u001b[0m | \u001b[0m 9.592   \u001b[0m | \u001b[0m 4.569   \u001b[0m | \u001b[0m 0.87    \u001b[0m |\n",
      "| \u001b[0m 33      \u001b[0m | \u001b[0m 0.65    \u001b[0m | \u001b[0m 96.89   \u001b[0m | \u001b[0m 9.488   \u001b[0m | \u001b[0m 2.266   \u001b[0m | \u001b[0m 0.9344  \u001b[0m |\n",
      "| \u001b[0m 34      \u001b[0m | \u001b[0m 0.6468  \u001b[0m | \u001b[0m 99.7    \u001b[0m | \u001b[0m 10.0    \u001b[0m | \u001b[0m 1.404   \u001b[0m | \u001b[0m 1.0     \u001b[0m |\n",
      "| \u001b[0m 35      \u001b[0m | \u001b[0m 0.5893  \u001b[0m | \u001b[0m 99.12   \u001b[0m | \u001b[0m 7.246   \u001b[0m | \u001b[0m 2.457   \u001b[0m | \u001b[0m 1.0     \u001b[0m |\n",
      "| \u001b[0m 36      \u001b[0m | \u001b[0m 0.6217  \u001b[0m | \u001b[0m 94.08   \u001b[0m | \u001b[0m 10.0    \u001b[0m | \u001b[0m 3.284   \u001b[0m | \u001b[0m 1.0     \u001b[0m |\n",
      "| \u001b[0m 37      \u001b[0m | \u001b[0m 0.5458  \u001b[0m | \u001b[0m 18.31   \u001b[0m | \u001b[0m 9.539   \u001b[0m | \u001b[0m 7.093   \u001b[0m | \u001b[0m 0.4057  \u001b[0m |\n",
      "| \u001b[0m 38      \u001b[0m | \u001b[0m 0.6264  \u001b[0m | \u001b[0m 12.91   \u001b[0m | \u001b[0m 9.617   \u001b[0m | \u001b[0m 10.0    \u001b[0m | \u001b[0m 1.0     \u001b[0m |\n",
      "| \u001b[0m 39      \u001b[0m | \u001b[0m 0.588   \u001b[0m | \u001b[0m 14.25   \u001b[0m | \u001b[0m 5.852   \u001b[0m | \u001b[0m 9.742   \u001b[0m | \u001b[0m 0.706   \u001b[0m |\n",
      "| \u001b[0m 40      \u001b[0m | \u001b[0m 0.5374  \u001b[0m | \u001b[0m 38.99   \u001b[0m | \u001b[0m 3.009   \u001b[0m | \u001b[0m 2.061   \u001b[0m | \u001b[0m 0.37    \u001b[0m |\n",
      "| \u001b[0m 41      \u001b[0m | \u001b[0m 0.6245  \u001b[0m | \u001b[0m 45.38   \u001b[0m | \u001b[0m 10.0    \u001b[0m | \u001b[0m 10.0    \u001b[0m | \u001b[0m 1.0     \u001b[0m |\n",
      "| \u001b[0m 42      \u001b[0m | \u001b[0m 0.6468  \u001b[0m | \u001b[0m 24.31   \u001b[0m | \u001b[0m 10.0    \u001b[0m | \u001b[0m 1.0     \u001b[0m | \u001b[0m 1.0     \u001b[0m |\n",
      "| \u001b[0m 43      \u001b[0m | \u001b[0m 0.6468  \u001b[0m | \u001b[0m 23.71   \u001b[0m | \u001b[0m 9.183   \u001b[0m | \u001b[0m 3.649   \u001b[0m | \u001b[0m 0.8731  \u001b[0m |\n",
      "| \u001b[0m 44      \u001b[0m | \u001b[0m 0.6481  \u001b[0m | \u001b[0m 26.76   \u001b[0m | \u001b[0m 9.258   \u001b[0m | \u001b[0m 2.639   \u001b[0m | \u001b[0m 0.7363  \u001b[0m |\n",
      "| \u001b[0m 45      \u001b[0m | \u001b[0m 0.6339  \u001b[0m | \u001b[0m 25.49   \u001b[0m | \u001b[0m 9.638   \u001b[0m | \u001b[0m 5.822   \u001b[0m | \u001b[0m 0.5524  \u001b[0m |\n",
      "| \u001b[0m 46      \u001b[0m | \u001b[0m 0.5239  \u001b[0m | \u001b[0m 24.64   \u001b[0m | \u001b[0m 8.242   \u001b[0m | \u001b[0m 1.439   \u001b[0m | \u001b[0m 0.4284  \u001b[0m |\n",
      "| \u001b[0m 47      \u001b[0m | \u001b[0m 0.6325  \u001b[0m | \u001b[0m 21.96   \u001b[0m | \u001b[0m 10.0    \u001b[0m | \u001b[0m 2.735   \u001b[0m | \u001b[0m 1.0     \u001b[0m |\n",
      "| \u001b[0m 48      \u001b[0m | \u001b[0m 0.6217  \u001b[0m | \u001b[0m 28.47   \u001b[0m | \u001b[0m 10.0    \u001b[0m | \u001b[0m 3.21    \u001b[0m | \u001b[0m 1.0     \u001b[0m |\n",
      "| \u001b[0m 49      \u001b[0m | \u001b[0m 0.6705  \u001b[0m | \u001b[0m 42.66   \u001b[0m | \u001b[0m 9.856   \u001b[0m | \u001b[0m 6.691   \u001b[0m | \u001b[0m 0.8056  \u001b[0m |\n",
      "| \u001b[0m 50      \u001b[0m | \u001b[0m 0.6272  \u001b[0m | \u001b[0m 100.0   \u001b[0m | \u001b[0m 7.884   \u001b[0m | \u001b[0m 7.314   \u001b[0m | \u001b[0m 1.0     \u001b[0m |\n",
      "=========================================================================\n"
     ]
    }
   ],
   "source": [
    "hyperparam_knn_CM1 = run_ml(data_load['CM1'], 5, bound_knn['CM1'], model.knn)"
   ]
  },
  {
   "cell_type": "code",
   "execution_count": 91,
   "metadata": {
    "scrolled": true
   },
   "outputs": [
    {
     "data": {
      "text/plain": [
       "{'Train': {'Gmeans': 0.8396792590386882,\n",
       "  'Recall': 0.9916434540389972,\n",
       "  'pf': 0.2889972144846797,\n",
       "  'cf_matrix': {'tn': 1021, 'fp': 415, 'fn': 12, 'tp': 1424}},\n",
       " 'Dev': {'Gmeans': 0.6894039293315478,\n",
       "  'Recall': 0.725,\n",
       "  'pf': 0.34444444444444444,\n",
       "  'cf_matrix': {'tn': 236, 'fp': 124, 'fn': 11, 'tp': 29}},\n",
       " 'Test': {'Gmeans': 0.6616632692663825,\n",
       "  'Recall': 0.6530612244897959,\n",
       "  'pf': 0.32962138084632514,\n",
       "  'cf_matrix': {'tn': 301, 'fp': 148, 'fn': 17, 'tp': 32}}}"
      ]
     },
     "execution_count": 91,
     "metadata": {},
     "output_type": "execute_result"
    }
   ],
   "source": [
    "best_hyperparam_knn_CM1 = hyperparam_knn_CM1.max['params']\n",
    "result_knn_CM1 = run_ml(data_load['CM1'], 5, best_hyperparam_knn_CM1, model.knn,do_optimize = False)\n",
    "result_knn_CM1"
   ]
  },
  {
   "cell_type": "markdown",
   "metadata": {},
   "source": [
    "## JM1"
   ]
  },
  {
   "cell_type": "code",
   "execution_count": 92,
   "metadata": {
    "scrolled": true
   },
   "outputs": [
    {
     "name": "stdout",
     "output_type": "stream",
     "text": [
      "|   iter    |  target   |   leaf    |     n     | neighbors | sampling  |\n",
      "-------------------------------------------------------------------------\n",
      "| \u001b[0m 1       \u001b[0m | \u001b[0m 0.6342  \u001b[0m | \u001b[0m 43.71   \u001b[0m | \u001b[0m 9.556   \u001b[0m | \u001b[0m 7.588   \u001b[0m | \u001b[0m 0.7364  \u001b[0m |\n",
      "| \u001b[0m 2       \u001b[0m | \u001b[0m 0.5474  \u001b[0m | \u001b[0m 24.04   \u001b[0m | \u001b[0m 2.404   \u001b[0m | \u001b[0m 1.523   \u001b[0m | \u001b[0m 0.9121  \u001b[0m |\n",
      "| \u001b[95m 3       \u001b[0m | \u001b[95m 0.6351  \u001b[0m | \u001b[95m 64.1    \u001b[0m | \u001b[95m 7.373   \u001b[0m | \u001b[95m 1.185   \u001b[0m | \u001b[95m 0.9802  \u001b[0m |\n",
      "| \u001b[0m 4       \u001b[0m | \u001b[0m 0.5083  \u001b[0m | \u001b[0m 84.92   \u001b[0m | \u001b[0m 2.911   \u001b[0m | \u001b[0m 2.636   \u001b[0m | \u001b[0m 0.4637  \u001b[0m |\n",
      "| \u001b[0m 5       \u001b[0m | \u001b[0m 0.597   \u001b[0m | \u001b[0m 37.38   \u001b[0m | \u001b[0m 5.723   \u001b[0m | \u001b[0m 4.888   \u001b[0m | \u001b[0m 0.5346  \u001b[0m |\n",
      "| \u001b[0m 6       \u001b[0m | \u001b[0m 0.5334  \u001b[0m | \u001b[0m 65.07   \u001b[0m | \u001b[0m 2.255   \u001b[0m | \u001b[0m 3.629   \u001b[0m | \u001b[0m 0.5839  \u001b[0m |\n",
      "| \u001b[0m 7       \u001b[0m | \u001b[0m 0.6093  \u001b[0m | \u001b[0m 51.05   \u001b[0m | \u001b[0m 8.067   \u001b[0m | \u001b[0m 2.797   \u001b[0m | \u001b[0m 0.681   \u001b[0m |\n",
      "| \u001b[0m 8       \u001b[0m | \u001b[0m 0.5695  \u001b[0m | \u001b[0m 63.32   \u001b[0m | \u001b[0m 1.418   \u001b[0m | \u001b[0m 6.468   \u001b[0m | \u001b[0m 0.4553  \u001b[0m |\n",
      "| \u001b[95m 9       \u001b[0m | \u001b[95m 0.6375  \u001b[0m | \u001b[95m 15.85   \u001b[0m | \u001b[95m 9.54    \u001b[0m | \u001b[95m 9.691   \u001b[0m | \u001b[95m 0.8742  \u001b[0m |\n",
      "| \u001b[0m 10      \u001b[0m | \u001b[0m 0.5819  \u001b[0m | \u001b[0m 37.42   \u001b[0m | \u001b[0m 1.879   \u001b[0m | \u001b[0m 7.158   \u001b[0m | \u001b[0m 0.6323  \u001b[0m |\n",
      "| \u001b[0m 11      \u001b[0m | \u001b[0m 0.6345  \u001b[0m | \u001b[0m 20.98   \u001b[0m | \u001b[0m 5.457   \u001b[0m | \u001b[0m 1.309   \u001b[0m | \u001b[0m 0.9405  \u001b[0m |\n",
      "| \u001b[0m 12      \u001b[0m | \u001b[0m 0.5952  \u001b[0m | \u001b[0m 33.29   \u001b[0m | \u001b[0m 6.963   \u001b[0m | \u001b[0m 3.805   \u001b[0m | \u001b[0m 0.6848  \u001b[0m |\n",
      "| \u001b[0m 13      \u001b[0m | \u001b[0m 0.5557  \u001b[0m | \u001b[0m 59.2    \u001b[0m | \u001b[0m 2.664   \u001b[0m | \u001b[0m 9.726   \u001b[0m | \u001b[0m 0.8523  \u001b[0m |\n",
      "| \u001b[95m 14      \u001b[0m | \u001b[95m 0.6408  \u001b[0m | \u001b[95m 94.55   \u001b[0m | \u001b[95m 9.053   \u001b[0m | \u001b[95m 6.381   \u001b[0m | \u001b[95m 0.9487  \u001b[0m |\n",
      "| \u001b[0m 15      \u001b[0m | \u001b[0m 0.5156  \u001b[0m | \u001b[0m 17.96   \u001b[0m | \u001b[0m 2.764   \u001b[0m | \u001b[0m 1.407   \u001b[0m | \u001b[0m 0.5569  \u001b[0m |\n",
      "| \u001b[0m 16      \u001b[0m | \u001b[0m 0.6182  \u001b[0m | \u001b[0m 94.65   \u001b[0m | \u001b[0m 9.153   \u001b[0m | \u001b[0m 6.101   \u001b[0m | \u001b[0m 0.5761  \u001b[0m |\n",
      "| \u001b[0m 17      \u001b[0m | \u001b[0m 0.6328  \u001b[0m | \u001b[0m 94.43   \u001b[0m | \u001b[0m 9.186   \u001b[0m | \u001b[0m 6.922   \u001b[0m | \u001b[0m 0.7915  \u001b[0m |\n",
      "| \u001b[0m 18      \u001b[0m | \u001b[0m 0.64    \u001b[0m | \u001b[0m 94.57   \u001b[0m | \u001b[0m 7.541   \u001b[0m | \u001b[0m 7.214   \u001b[0m | \u001b[0m 0.934   \u001b[0m |\n",
      "| \u001b[0m 19      \u001b[0m | \u001b[0m 0.6351  \u001b[0m | \u001b[0m 94.29   \u001b[0m | \u001b[0m 8.281   \u001b[0m | \u001b[0m 6.597   \u001b[0m | \u001b[0m 1.0     \u001b[0m |\n",
      "| \u001b[0m 20      \u001b[0m | \u001b[0m 0.6386  \u001b[0m | \u001b[0m 95.42   \u001b[0m | \u001b[0m 8.434   \u001b[0m | \u001b[0m 7.021   \u001b[0m | \u001b[0m 1.0     \u001b[0m |\n",
      "| \u001b[0m 21      \u001b[0m | \u001b[0m 0.6374  \u001b[0m | \u001b[0m 95.27   \u001b[0m | \u001b[0m 7.075   \u001b[0m | \u001b[0m 8.38    \u001b[0m | \u001b[0m 1.0     \u001b[0m |\n",
      "| \u001b[0m 22      \u001b[0m | \u001b[0m 0.611   \u001b[0m | \u001b[0m 21.82   \u001b[0m | \u001b[0m 6.673   \u001b[0m | \u001b[0m 1.296   \u001b[0m | \u001b[0m 0.8225  \u001b[0m |\n",
      "| \u001b[0m 23      \u001b[0m | \u001b[0m 0.6291  \u001b[0m | \u001b[0m 95.48   \u001b[0m | \u001b[0m 6.285   \u001b[0m | \u001b[0m 7.073   \u001b[0m | \u001b[0m 1.0     \u001b[0m |\n",
      "| \u001b[0m 24      \u001b[0m | \u001b[0m 0.6253  \u001b[0m | \u001b[0m 93.69   \u001b[0m | \u001b[0m 6.359   \u001b[0m | \u001b[0m 8.335   \u001b[0m | \u001b[0m 1.0     \u001b[0m |\n",
      "| \u001b[0m 25      \u001b[0m | \u001b[0m 0.6363  \u001b[0m | \u001b[0m 17.27   \u001b[0m | \u001b[0m 9.859   \u001b[0m | \u001b[0m 8.626   \u001b[0m | \u001b[0m 0.7805  \u001b[0m |\n",
      "| \u001b[0m 26      \u001b[0m | \u001b[0m 0.5189  \u001b[0m | \u001b[0m 16.24   \u001b[0m | \u001b[0m 8.109   \u001b[0m | \u001b[0m 8.172   \u001b[0m | \u001b[0m 0.386   \u001b[0m |\n",
      "| \u001b[0m 27      \u001b[0m | \u001b[0m 0.6371  \u001b[0m | \u001b[0m 16.89   \u001b[0m | \u001b[0m 10.0    \u001b[0m | \u001b[0m 9.941   \u001b[0m | \u001b[0m 1.0     \u001b[0m |\n",
      "| \u001b[95m 28      \u001b[0m | \u001b[95m 0.6436  \u001b[0m | \u001b[95m 15.22   \u001b[0m | \u001b[95m 10.0    \u001b[0m | \u001b[95m 10.0    \u001b[0m | \u001b[95m 1.0     \u001b[0m |\n",
      "| \u001b[0m 29      \u001b[0m | \u001b[0m 0.6395  \u001b[0m | \u001b[0m 18.83   \u001b[0m | \u001b[0m 10.0    \u001b[0m | \u001b[0m 8.844   \u001b[0m | \u001b[0m 1.0     \u001b[0m |\n",
      "| \u001b[0m 30      \u001b[0m | \u001b[0m 0.635   \u001b[0m | \u001b[0m 63.56   \u001b[0m | \u001b[0m 9.206   \u001b[0m | \u001b[0m 1.0     \u001b[0m | \u001b[0m 1.0     \u001b[0m |\n",
      "| \u001b[0m 31      \u001b[0m | \u001b[0m 0.6292  \u001b[0m | \u001b[0m 65.5    \u001b[0m | \u001b[0m 8.766   \u001b[0m | \u001b[0m 1.0     \u001b[0m | \u001b[0m 1.0     \u001b[0m |\n",
      "| \u001b[0m 32      \u001b[0m | \u001b[0m 0.6064  \u001b[0m | \u001b[0m 64.07   \u001b[0m | \u001b[0m 8.53    \u001b[0m | \u001b[0m 3.533   \u001b[0m | \u001b[0m 0.6922  \u001b[0m |\n",
      "| \u001b[0m 33      \u001b[0m | \u001b[0m 0.6365  \u001b[0m | \u001b[0m 62.0    \u001b[0m | \u001b[0m 7.745   \u001b[0m | \u001b[0m 1.0     \u001b[0m | \u001b[0m 1.0     \u001b[0m |\n",
      "| \u001b[0m 34      \u001b[0m | \u001b[0m 0.6391  \u001b[0m | \u001b[0m 45.82   \u001b[0m | \u001b[0m 9.913   \u001b[0m | \u001b[0m 7.156   \u001b[0m | \u001b[0m 0.7611  \u001b[0m |\n",
      "| \u001b[0m 35      \u001b[0m | \u001b[0m 0.5986  \u001b[0m | \u001b[0m 45.49   \u001b[0m | \u001b[0m 8.424   \u001b[0m | \u001b[0m 8.303   \u001b[0m | \u001b[0m 0.5992  \u001b[0m |\n",
      "| \u001b[0m 36      \u001b[0m | \u001b[0m 0.6336  \u001b[0m | \u001b[0m 44.37   \u001b[0m | \u001b[0m 9.817   \u001b[0m | \u001b[0m 6.134   \u001b[0m | \u001b[0m 0.8313  \u001b[0m |\n",
      "| \u001b[0m 37      \u001b[0m | \u001b[0m 0.6426  \u001b[0m | \u001b[0m 46.75   \u001b[0m | \u001b[0m 10.0    \u001b[0m | \u001b[0m 5.613   \u001b[0m | \u001b[0m 1.0     \u001b[0m |\n",
      "| \u001b[0m 38      \u001b[0m | \u001b[0m 0.6347  \u001b[0m | \u001b[0m 47.98   \u001b[0m | \u001b[0m 10.0    \u001b[0m | \u001b[0m 6.741   \u001b[0m | \u001b[0m 1.0     \u001b[0m |\n",
      "| \u001b[0m 39      \u001b[0m | \u001b[0m 0.4959  \u001b[0m | \u001b[0m 48.11   \u001b[0m | \u001b[0m 10.0    \u001b[0m | \u001b[0m 4.515   \u001b[0m | \u001b[0m 0.3433  \u001b[0m |\n",
      "| \u001b[0m 40      \u001b[0m | \u001b[0m 0.6347  \u001b[0m | \u001b[0m 46.39   \u001b[0m | \u001b[0m 10.0    \u001b[0m | \u001b[0m 6.269   \u001b[0m | \u001b[0m 1.0     \u001b[0m |\n",
      "| \u001b[0m 41      \u001b[0m | \u001b[0m 0.6391  \u001b[0m | \u001b[0m 47.47   \u001b[0m | \u001b[0m 10.0    \u001b[0m | \u001b[0m 8.053   \u001b[0m | \u001b[0m 1.0     \u001b[0m |\n",
      "| \u001b[0m 42      \u001b[0m | \u001b[0m 0.6426  \u001b[0m | \u001b[0m 45.71   \u001b[0m | \u001b[0m 10.0    \u001b[0m | \u001b[0m 5.118   \u001b[0m | \u001b[0m 1.0     \u001b[0m |\n",
      "| \u001b[0m 43      \u001b[0m | \u001b[0m 0.6382  \u001b[0m | \u001b[0m 45.94   \u001b[0m | \u001b[0m 8.92    \u001b[0m | \u001b[0m 5.469   \u001b[0m | \u001b[0m 1.0     \u001b[0m |\n",
      "| \u001b[0m 44      \u001b[0m | \u001b[0m 0.635   \u001b[0m | \u001b[0m 61.52   \u001b[0m | \u001b[0m 9.505   \u001b[0m | \u001b[0m 1.0     \u001b[0m | \u001b[0m 1.0     \u001b[0m |\n",
      "| \u001b[0m 45      \u001b[0m | \u001b[0m 0.5787  \u001b[0m | \u001b[0m 49.32   \u001b[0m | \u001b[0m 9.185   \u001b[0m | \u001b[0m 8.491   \u001b[0m | \u001b[0m 0.4302  \u001b[0m |\n",
      "| \u001b[0m 46      \u001b[0m | \u001b[0m 0.5306  \u001b[0m | \u001b[0m 62.1    \u001b[0m | \u001b[0m 8.372   \u001b[0m | \u001b[0m 1.964   \u001b[0m | \u001b[0m 0.3927  \u001b[0m |\n",
      "| \u001b[0m 47      \u001b[0m | \u001b[0m 0.6164  \u001b[0m | \u001b[0m 94.55   \u001b[0m | \u001b[0m 7.887   \u001b[0m | \u001b[0m 8.238   \u001b[0m | \u001b[0m 0.5799  \u001b[0m |\n",
      "| \u001b[0m 48      \u001b[0m | \u001b[0m 0.6354  \u001b[0m | \u001b[0m 96.36   \u001b[0m | \u001b[0m 7.406   \u001b[0m | \u001b[0m 7.693   \u001b[0m | \u001b[0m 1.0     \u001b[0m |\n",
      "| \u001b[0m 49      \u001b[0m | \u001b[0m 0.6178  \u001b[0m | \u001b[0m 96.59   \u001b[0m | \u001b[0m 6.245   \u001b[0m | \u001b[0m 8.519   \u001b[0m | \u001b[0m 0.9147  \u001b[0m |\n",
      "| \u001b[0m 50      \u001b[0m | \u001b[0m 0.6207  \u001b[0m | \u001b[0m 62.66   \u001b[0m | \u001b[0m 6.156   \u001b[0m | \u001b[0m 1.109   \u001b[0m | \u001b[0m 0.9489  \u001b[0m |\n",
      "=========================================================================\n"
     ]
    }
   ],
   "source": [
    "hyperparam_knn_JM1 = run_ml(data_load['JM1'], 10, bound_knn['JM1'], model.knn)"
   ]
  },
  {
   "cell_type": "code",
   "execution_count": 93,
   "metadata": {},
   "outputs": [
    {
     "data": {
      "text/plain": [
       "{'Train': {'Gmeans': 0.8157737223717225,\n",
       "  'Recall': 0.8728566806858622,\n",
       "  'pf': 0.2375761326712897,\n",
       "  'cf_matrix': {'tn': 54203, 'fp': 16890, 'fn': 9039, 'tp': 62054}},\n",
       " 'Dev': {'Gmeans': 0.6435844410110655,\n",
       "  'Recall': 0.5847368421052631,\n",
       "  'pf': 0.2916455696202532,\n",
       "  'cf_matrix': {'tn': 5596, 'fp': 2304, 'fn': 789, 'tp': 1111}},\n",
       " 'Test': {'Gmeans': 0.6429562500303476,\n",
       "  'Recall': 0.5820256776034237,\n",
       "  'pf': 0.28973453343967187,\n",
       "  'cf_matrix': {'tn': 6234, 'fp': 2543, 'fn': 879, 'tp': 1224}}}"
      ]
     },
     "execution_count": 93,
     "metadata": {},
     "output_type": "execute_result"
    }
   ],
   "source": [
    "best_hyperparam_knn_JM1 = hyperparam_knn_JM1.max['params']\n",
    "result_knn_JM1 = run_ml(data_load['JM1'], 10, best_hyperparam_knn_JM1, model.knn,do_optimize = False)\n",
    "result_knn_JM1"
   ]
  },
  {
   "cell_type": "markdown",
   "metadata": {},
   "source": [
    "# STORE VARIABLE"
   ]
  },
  {
   "cell_type": "code",
   "execution_count": 94,
   "metadata": {},
   "outputs": [],
   "source": [
    "from datetime import datetime\n",
    "import dill\n",
    "\n",
    "dill.dump_session('Save/Compare-EI-Matrix-Final2.db')"
   ]
  },
  {
   "cell_type": "code",
   "execution_count": 1,
   "metadata": {},
   "outputs": [],
   "source": [
    "import dill\n",
    "dill.load_session('Save/Compare-EI-Matrix-Final2.db')"
   ]
  },
  {
   "cell_type": "code",
   "execution_count": 9,
   "metadata": {},
   "outputs": [
    {
     "name": "stdout",
     "output_type": "stream",
     "text": [
      "0.7102772005295286\n",
      "0.764809864632722\n",
      "0.6889705061911494\n",
      "0.7284518676090967\n",
      "0.817529807380169\n",
      "0.7200846376425808\n",
      "0.6553199898117448\n"
     ]
    }
   ],
   "source": [
    "print(result_lr_KC1['Test']['Gmeans'])\n",
    "print(result_lr_KC2['Test']['Gmeans'])\n",
    "print(result_lr_PC1['Test']['Gmeans'])\n",
    "print(result_lr_PC3['Test']['Gmeans'])\n",
    "print(result_lr_PC4['Test']['Gmeans'])\n",
    "print(result_lr_CM1['Test']['Gmeans'])\n",
    "print(result_lr_JM1['Test']['Gmeans'])"
   ]
  }
 ],
 "metadata": {
  "kernelspec": {
   "display_name": "Python 3",
   "language": "python",
   "name": "python3"
  },
  "language_info": {
   "codemirror_mode": {
    "name": "ipython",
    "version": 3
   },
   "file_extension": ".py",
   "mimetype": "text/x-python",
   "name": "python",
   "nbconvert_exporter": "python",
   "pygments_lexer": "ipython3",
   "version": "3.8.6"
  }
 },
 "nbformat": 4,
 "nbformat_minor": 4
}
