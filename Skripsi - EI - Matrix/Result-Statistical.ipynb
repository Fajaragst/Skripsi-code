{
 "cells": [
  {
   "cell_type": "code",
   "execution_count": 14,
   "metadata": {},
   "outputs": [],
   "source": [
    "import dill\n",
    "dill.load_session('Save/skripsi - EI - matrix-final 2020-10-31 17 18 59.db')\n",
    "dill.load_session('Save/Compare-EI-Matrix-Final2.db')"
   ]
  },
  {
   "cell_type": "code",
   "execution_count": null,
   "metadata": {},
   "outputs": [],
   "source": []
  },
  {
   "cell_type": "code",
   "execution_count": 15,
   "metadata": {
    "scrolled": true
   },
   "outputs": [
    {
     "data": {
      "text/plain": [
       "{'Train': {'Gmeans': 0.4206394343543272,\n",
       "  'Recall': 0.1805955247548012,\n",
       "  'pf': 0.02025515873574051,\n",
       "  'cf_matrix': {'tn': 69653, 'fp': 1440, 'fn': 13952, 'tp': 3075}},\n",
       " 'Dev': {'Gmeans': 0.3986009844904745,\n",
       "  'Recall': 0.1631578947368421,\n",
       "  'pf': 0.02620253164556962,\n",
       "  'cf_matrix': {'tn': 7693, 'fp': 207, 'fn': 1590, 'tp': 310}},\n",
       " 'Test': {'Gmeans': 0.40977854068627934,\n",
       "  'Recall': 0.17213504517356157,\n",
       "  'pf': 0.02449584140366868,\n",
       "  'cf_matrix': {'tn': 8562, 'fp': 215, 'fn': 1741, 'tp': 362}}}"
      ]
     },
     "execution_count": 15,
     "metadata": {},
     "output_type": "execute_result"
    }
   ],
   "source": [
    "result_JM1_without_SMOTE"
   ]
  },
  {
   "cell_type": "markdown",
   "metadata": {},
   "source": [
    "# Dev"
   ]
  },
  {
   "cell_type": "code",
   "execution_count": 16,
   "metadata": {},
   "outputs": [],
   "source": [
    "NN_Dev_Gmeans = [result_KC1['Dev']['Gmeans'],\n",
    "                 result_KC2['Dev']['Gmeans'],\n",
    "                 result_PC1['Dev']['Gmeans'],\n",
    "                 result_PC3['Dev']['Gmeans'],\n",
    "                 result_PC4['Dev']['Gmeans'],\n",
    "                 result_CM1['Dev']['Gmeans'],\n",
    "                 result_JM1['Dev']['Gmeans']]\n",
    "\n",
    "\n",
    "\n",
    "NN_Dev_Gmeans_Wihout_SMOTE = [result_KC1_without_SMOTE['Dev']['Gmeans'],\n",
    "                             result_KC2_without_SMOTE['Dev']['Gmeans'],\n",
    "                             result_PC1_without_SMOTE['Dev']['Gmeans'],\n",
    "                             result_PC3_without_SMOTE['Dev']['Gmeans'],\n",
    "                             result_PC4_without_SMOTE['Dev']['Gmeans'],\n",
    "                             result_CM1_without_SMOTE['Dev']['Gmeans'],\n",
    "                             result_JM1_without_SMOTE['Dev']['Gmeans']]\n",
    "\n",
    "RF_Dev_Gmeans = [result_rf_KC1['Dev']['Gmeans'],\n",
    "                result_rf_KC2['Dev']['Gmeans'],\n",
    "                result_rf_PC1['Dev']['Gmeans'],\n",
    "                result_rf_PC3['Dev']['Gmeans'],\n",
    "                result_rf_PC4['Dev']['Gmeans'],\n",
    "                result_rf_CM1['Dev']['Gmeans'],\n",
    "                result_rf_JM1['Dev']['Gmeans']]\n",
    "\n"
   ]
  },
  {
   "cell_type": "markdown",
   "metadata": {},
   "source": [
    "# Test Gmeans"
   ]
  },
  {
   "cell_type": "code",
   "execution_count": 17,
   "metadata": {},
   "outputs": [],
   "source": [
    "NN_Test_Gmeans = [result_KC1['Test']['Gmeans'],\n",
    "                 result_KC2['Test']['Gmeans'],\n",
    "                 result_PC1['Test']['Gmeans'],\n",
    "                 result_PC3['Test']['Gmeans'],\n",
    "                 result_PC4['Test']['Gmeans'],\n",
    "                 result_CM1['Test']['Gmeans'],\n",
    "                 result_JM1['Test']['Gmeans']]\n",
    "\n",
    "NN_Test_Gmeans_Wihout_SMOTE = [result_KC1_without_SMOTE['Test']['Gmeans'],\n",
    "                             result_KC2_without_SMOTE['Test']['Gmeans'],\n",
    "                             result_PC1_without_SMOTE['Test']['Gmeans'],\n",
    "                             result_PC3_without_SMOTE['Test']['Gmeans'],\n",
    "                             result_PC4_without_SMOTE['Test']['Gmeans'],\n",
    "                             result_CM1_without_SMOTE['Test']['Gmeans'],\n",
    "                             result_JM1_without_SMOTE['Test']['Gmeans']]\n",
    "\n",
    "RF_Test_Gmeans = [result_rf_KC1['Test']['Gmeans'],\n",
    "                result_rf_KC2['Test']['Gmeans'],\n",
    "                result_rf_PC1['Test']['Gmeans'],\n",
    "                result_rf_PC3['Test']['Gmeans'],\n",
    "                result_rf_PC4['Test']['Gmeans'],\n",
    "                result_rf_CM1['Test']['Gmeans'],\n",
    "                result_rf_JM1['Test']['Gmeans']]\n",
    "\n",
    "NB_Test_Gmeans = [result_nb_KC1['Test']['Gmeans'],\n",
    "                result_nb_KC2['Test']['Gmeans'],\n",
    "                result_nb_PC1['Test']['Gmeans'],\n",
    "                result_nb_PC3['Test']['Gmeans'],\n",
    "                result_nb_PC4['Test']['Gmeans'],\n",
    "                result_nb_CM1['Test']['Gmeans'],\n",
    "                result_nb_JM1['Test']['Gmeans']]\n",
    "\n",
    "KNN_Test_Gmeans = [result_knn_KC1['Test']['Gmeans'],\n",
    "                result_knn_KC2['Test']['Gmeans'],\n",
    "                result_knn_PC1['Test']['Gmeans'],\n",
    "                result_knn_PC3['Test']['Gmeans'],\n",
    "                result_knn_PC4['Test']['Gmeans'],\n",
    "                result_knn_CM1['Test']['Gmeans'],\n",
    "                result_knn_JM1['Test']['Gmeans']]\n",
    "\n",
    "\n",
    "LR_Test_Gmeans = [result_lr_KC1['Test']['Gmeans'],\n",
    "                result_lr_KC2['Test']['Gmeans'],\n",
    "                result_lr_PC1['Test']['Gmeans'],\n",
    "                result_lr_PC3['Test']['Gmeans'],\n",
    "                result_lr_PC4['Test']['Gmeans'],\n",
    "                result_lr_CM1['Test']['Gmeans'],\n",
    "                result_lr_JM1['Test']['Gmeans']]\n",
    "\n",
    "\n",
    "DT_Test_Gmeans = [result_dt_KC1['Test']['Gmeans'],\n",
    "                result_dt_KC2['Test']['Gmeans'],\n",
    "                result_dt_PC1['Test']['Gmeans'],\n",
    "                result_dt_PC3['Test']['Gmeans'],\n",
    "                result_dt_PC4['Test']['Gmeans'],\n",
    "                result_dt_CM1['Test']['Gmeans'],\n",
    "                result_dt_JM1['Test']['Gmeans']]"
   ]
  },
  {
   "cell_type": "markdown",
   "metadata": {},
   "source": [
    "# Test Recall"
   ]
  },
  {
   "cell_type": "code",
   "execution_count": 18,
   "metadata": {},
   "outputs": [],
   "source": [
    "NN_Test_Recall = [result_KC1['Test']['Recall'],\n",
    "                 result_KC2['Test']['Recall'],\n",
    "                 result_PC1['Test']['Recall'],\n",
    "                 result_PC3['Test']['Recall'],\n",
    "                 result_PC4['Test']['Recall'],\n",
    "                 result_CM1['Test']['Recall'],\n",
    "                 result_JM1['Test']['Recall']]\n",
    "\n",
    "NN_Test_Recall_Wihout_SMOTE = [result_KC1_without_SMOTE['Test']['Recall'],\n",
    "                             result_KC2_without_SMOTE['Test']['Recall'],\n",
    "                             result_PC1_without_SMOTE['Test']['Recall'],\n",
    "                             result_PC3_without_SMOTE['Test']['Recall'],\n",
    "                             result_PC4_without_SMOTE['Test']['Recall'],\n",
    "                             result_CM1_without_SMOTE['Test']['Recall'],\n",
    "                             result_JM1_without_SMOTE['Test']['Recall']]\n",
    "\n",
    "RF_Test_Recall = [result_rf_KC1['Test']['Recall'],\n",
    "                result_rf_KC2['Test']['Recall'],\n",
    "                result_rf_PC1['Test']['Recall'],\n",
    "                result_rf_PC3['Test']['Recall'],\n",
    "                result_rf_PC4['Test']['Recall'],\n",
    "                result_rf_CM1['Test']['Recall'],\n",
    "                result_rf_JM1['Test']['Recall']]\n",
    "\n",
    "NB_Test_Recall = [result_nb_KC1['Test']['Recall'],\n",
    "                result_nb_KC2['Test']['Recall'],\n",
    "                result_nb_PC1['Test']['Recall'],\n",
    "                result_nb_PC3['Test']['Recall'],\n",
    "                result_nb_PC4['Test']['Recall'],\n",
    "                result_nb_CM1['Test']['Recall'],\n",
    "                result_nb_JM1['Test']['Recall']]\n",
    "\n",
    "KNN_Test_Recall = [result_knn_KC1['Test']['Recall'],\n",
    "                result_knn_KC2['Test']['Recall'],\n",
    "                result_knn_PC1['Test']['Recall'],\n",
    "                result_knn_PC3['Test']['Recall'],\n",
    "                result_knn_PC4['Test']['Recall'],\n",
    "                result_knn_CM1['Test']['Recall'],\n",
    "                result_knn_JM1['Test']['Recall']]\n",
    "\n",
    "\n",
    "LR_Test_Recall = [result_lr_KC1['Test']['Recall'],\n",
    "                result_lr_KC2['Test']['Recall'],\n",
    "                result_lr_PC1['Test']['Recall'],\n",
    "                result_lr_PC3['Test']['Recall'],\n",
    "                result_lr_PC4['Test']['Recall'],\n",
    "                result_lr_CM1['Test']['Recall'],\n",
    "                result_lr_JM1['Test']['Recall']]\n",
    "\n",
    "\n",
    "DT_Test_Recall = [result_dt_KC1['Test']['Recall'],\n",
    "                result_dt_KC2['Test']['Recall'],\n",
    "                result_dt_PC1['Test']['Recall'],\n",
    "                result_dt_PC3['Test']['Recall'],\n",
    "                result_dt_PC4['Test']['Recall'],\n",
    "                result_dt_CM1['Test']['Recall'],\n",
    "                result_dt_JM1['Test']['Recall']]"
   ]
  },
  {
   "cell_type": "markdown",
   "metadata": {},
   "source": [
    "# Test pf"
   ]
  },
  {
   "cell_type": "code",
   "execution_count": 19,
   "metadata": {},
   "outputs": [],
   "source": [
    "NN_Test_pf = [result_KC1['Test']['pf'],\n",
    "                 result_KC2['Test']['pf'],\n",
    "                 result_PC1['Test']['pf'],\n",
    "                 result_PC3['Test']['pf'],\n",
    "                 result_PC4['Test']['pf'],\n",
    "                 result_CM1['Test']['pf'],\n",
    "                 result_JM1['Test']['pf']]\n",
    "\n",
    "NN_Test_pf_Wihout_SMOTE = [result_KC1_without_SMOTE['Test']['pf'],\n",
    "                             result_KC2_without_SMOTE['Test']['pf'],\n",
    "                             result_PC1_without_SMOTE['Test']['pf'],\n",
    "                             result_PC3_without_SMOTE['Test']['pf'],\n",
    "                             result_PC4_without_SMOTE['Test']['pf'],\n",
    "                             result_CM1_without_SMOTE['Test']['pf'],\n",
    "                             result_JM1_without_SMOTE['Test']['pf']]\n",
    "\n",
    "RF_Test_pf = [result_rf_KC1['Test']['pf'],\n",
    "                result_rf_KC2['Test']['pf'],\n",
    "                result_rf_PC1['Test']['pf'],\n",
    "                result_rf_PC3['Test']['pf'],\n",
    "                result_rf_PC4['Test']['pf'],\n",
    "                result_rf_CM1['Test']['pf'],\n",
    "                result_rf_JM1['Test']['pf']]\n",
    "\n",
    "NB_Test_pf = [result_nb_KC1['Test']['pf'],\n",
    "                result_nb_KC2['Test']['pf'],\n",
    "                result_nb_PC1['Test']['pf'],\n",
    "                result_nb_PC3['Test']['pf'],\n",
    "                result_nb_PC4['Test']['pf'],\n",
    "                result_nb_CM1['Test']['pf'],\n",
    "                result_nb_JM1['Test']['pf']]\n",
    "\n",
    "KNN_Test_pf = [result_knn_KC1['Test']['pf'],\n",
    "                result_knn_KC2['Test']['pf'],\n",
    "                result_knn_PC1['Test']['pf'],\n",
    "                result_knn_PC3['Test']['pf'],\n",
    "                result_knn_PC4['Test']['pf'],\n",
    "                result_knn_CM1['Test']['pf'],\n",
    "                result_knn_JM1['Test']['pf']]\n",
    "\n",
    "\n",
    "LR_Test_pf = [result_lr_KC1['Test']['pf'],\n",
    "                result_lr_KC2['Test']['pf'],\n",
    "                result_lr_PC1['Test']['pf'],\n",
    "                result_lr_PC3['Test']['pf'],\n",
    "                result_lr_PC4['Test']['pf'],\n",
    "                result_lr_CM1['Test']['pf'],\n",
    "                result_lr_JM1['Test']['pf']]\n",
    "\n",
    "\n",
    "DT_Test_pf = [result_dt_KC1['Test']['Recall'],\n",
    "                result_dt_KC2['Test']['Recall'],\n",
    "                result_dt_PC1['Test']['Recall'],\n",
    "                result_dt_PC3['Test']['Recall'],\n",
    "                result_dt_PC4['Test']['Recall'],\n",
    "                result_dt_CM1['Test']['Recall'],\n",
    "                result_dt_JM1['Test']['Recall']]"
   ]
  },
  {
   "cell_type": "code",
   "execution_count": null,
   "metadata": {},
   "outputs": [],
   "source": []
  },
  {
   "cell_type": "code",
   "execution_count": 104,
   "metadata": {},
   "outputs": [],
   "source": [
    "def wilcox(data1,data2):\n",
    "    data1 = data1\n",
    "    data2 = data2\n",
    "\n",
    "    stat, p = wilcoxon(data1, data2,alternative = \"greater\" )\n",
    "\n",
    "    # interpret\n",
    "    alpha = 0.05\n",
    "    if p > alpha:\n",
    "        print('Same distribution (fail to reject H0)')\n",
    "    else:\n",
    "        print('Different distribution (reject H0)')\n",
    "    return(stat, p)"
   ]
  },
  {
   "cell_type": "code",
   "execution_count": 99,
   "metadata": {},
   "outputs": [],
   "source": [
    "def wilcox_less(data1,data2):\n",
    "    data1 = data1\n",
    "    data2 = data2\n",
    "\n",
    "    stat, p = wilcoxon(data1, data2,alternative='greater')\n",
    "\n",
    "    # interpret\n",
    "    alpha = 0.05\n",
    "#     if p > alpha:\n",
    "#         print('Same distribution (fail to reject H0)')\n",
    "#     else:\n",
    "#         print('Different distribution (reject H0)')\n",
    "    return(stat, p)"
   ]
  },
  {
   "cell_type": "code",
   "execution_count": 100,
   "metadata": {},
   "outputs": [
    {
     "data": {
      "text/plain": [
       "(28.0, 0.0078125)"
      ]
     },
     "execution_count": 100,
     "metadata": {},
     "output_type": "execute_result"
    }
   ],
   "source": [
    "wilcox_less(np.round(NN_Test_Gmeans,2),np.round(NN_Test_Gmeans_Wihout_SMOTE,2))"
   ]
  },
  {
   "cell_type": "code",
   "execution_count": 105,
   "metadata": {
    "scrolled": true
   },
   "outputs": [
    {
     "name": "stdout",
     "output_type": "stream",
     "text": [
      "Different distribution (reject H0)\n",
      "Same distribution (fail to reject H0)\n",
      "Different distribution (reject H0)\n",
      "Different distribution (reject H0)\n",
      "Different distribution (reject H0)\n",
      "Different distribution (reject H0)\n"
     ]
    },
    {
     "data": {
      "text/plain": [
       "{'NNSmote_VS_NN': (28.0, 0.0078125),\n",
       " 'NNSmote_VS_RFSmote': (9.0, 0.8125),\n",
       " 'NNSmote_VS_NBSmote': (28.0, 0.0078125),\n",
       " 'NNSmote_VS_KNNSmote': (28.0, 0.0078125),\n",
       " 'NNSmote_VS_LRSmote': (28.0, 0.0078125),\n",
       " 'NNSmote_VS_DTSmote': (28.0, 0.0078125)}"
      ]
     },
     "execution_count": 105,
     "metadata": {},
     "output_type": "execute_result"
    }
   ],
   "source": [
    "# Wilcoxon signed-rank test\n",
    "from numpy.random import seed\n",
    "from numpy.random import randn\n",
    "from scipy.stats import wilcoxon\n",
    "\n",
    "\n",
    "\n",
    "wilcoxs_Gmeans = {\n",
    "    'NNSmote_VS_NN' : wilcox(np.round(NN_Test_Gmeans,2),np.round(NN_Test_Gmeans_Wihout_SMOTE,2)),\n",
    "    'NNSmote_VS_RFSmote' : wilcox(LR_Test_Gmeans,RF_Test_Gmeans),\n",
    "    'NNSmote_VS_NBSmote' : wilcox(NN_Test_Gmeans,NB_Test_Gmeans),\n",
    "    'NNSmote_VS_KNNSmote' : wilcox(NN_Test_Gmeans,KNN_Test_Gmeans),\n",
    "    'NNSmote_VS_LRSmote' : wilcox(NN_Test_Gmeans,LR_Test_Gmeans),\n",
    "    'NNSmote_VS_DTSmote' : wilcox(NN_Test_Gmeans,DT_Test_Gmeans),\n",
    "}\n",
    "\n",
    "wilcoxs_Gmeans"
   ]
  },
  {
   "cell_type": "code",
   "execution_count": 73,
   "metadata": {
    "scrolled": false
   },
   "outputs": [
    {
     "data": {
      "text/plain": [
       "[0.3312883435582822,\n",
       " 0.5607476635514018,\n",
       " 0.12987012987012986,\n",
       " 0.21641791044776118,\n",
       " 0.5730337078651685,\n",
       " 0.14285714285714285,\n",
       " 0.17213504517356157]"
      ]
     },
     "execution_count": 73,
     "metadata": {},
     "output_type": "execute_result"
    }
   ],
   "source": [
    "NN_Test_Recall_Wihout_SMOTE"
   ]
  },
  {
   "cell_type": "code",
   "execution_count": 24,
   "metadata": {
    "scrolled": true
   },
   "outputs": [
    {
     "name": "stdout",
     "output_type": "stream",
     "text": [
      "Different distribution (reject H0)\n",
      "Different distribution (reject H0)\n",
      "Different distribution (reject H0)\n",
      "Different distribution (reject H0)\n",
      "Different distribution (reject H0)\n",
      "Different distribution (reject H0)\n"
     ]
    },
    {
     "data": {
      "text/plain": [
       "{'NNSmote_VS_NN': (0.0, 0.015625),\n",
       " 'NNSmote_VS_RFSmote': (0.0, 0.015625),\n",
       " 'NNSmote_VS_NBSmote': (0.0, 0.015625),\n",
       " 'NNSmote_VS_KNNSmote': (0.0, 0.015625),\n",
       " 'NNSmote_VS_LRSmote': (0.0, 0.015625),\n",
       " 'NNSmote_VS_DTSmote': (0.0, 0.015625)}"
      ]
     },
     "execution_count": 24,
     "metadata": {},
     "output_type": "execute_result"
    }
   ],
   "source": [
    "wilcoxs_Recall = {\n",
    "    'NNSmote_VS_NN' : wilcox(NN_Test_Recall,NN_Test_Recall_Wihout_SMOTE),\n",
    "    'NNSmote_VS_RFSmote' : wilcox(NN_Test_Recall,RF_Test_Recall),\n",
    "    'NNSmote_VS_NBSmote' : wilcox(NN_Test_Recall,NB_Test_Recall),\n",
    "    'NNSmote_VS_KNNSmote' : wilcox(NN_Test_Recall,KNN_Test_Recall),\n",
    "    'NNSmote_VS_LRSmote' : wilcox(NN_Test_Recall,LR_Test_Recall),\n",
    "    'NNSmote_VS_DTSmote' : wilcox(NN_Test_Recall,DT_Test_Recall),\n",
    "}\n",
    "\n",
    "wilcoxs_Recall"
   ]
  },
  {
   "cell_type": "code",
   "execution_count": 76,
   "metadata": {},
   "outputs": [
    {
     "data": {
      "text/plain": [
       "[0.03701626472237801,\n",
       " 0.08674698795180723,\n",
       " 0.006782945736434108,\n",
       " 0.014846235418875928,\n",
       " 0.02578125,\n",
       " 0.0200445434298441,\n",
       " 0.02449584140366868]"
      ]
     },
     "execution_count": 76,
     "metadata": {},
     "output_type": "execute_result"
    }
   ],
   "source": [
    "NN_Test_pf_Wihout_SMOTE"
   ]
  },
  {
   "cell_type": "code",
   "execution_count": 79,
   "metadata": {
    "scrolled": false
   },
   "outputs": [
    {
     "data": {
      "text/plain": [
       "{'NNSmote_VS_NN': (28.0, 0.0078125),\n",
       " 'NNSmote_VS_RFSmote': (18.0, 0.2890625),\n",
       " 'NNSmote_VS_NBSmote': (22.0, 0.109375),\n",
       " 'NNSmote_VS_KNNSmote': (9.0, 0.8125),\n",
       " 'NNSmote_VS_LRSmote': (18.0, 0.2890625),\n",
       " 'NNSmote_VS_DTSmote': (0.0, 1.0)}"
      ]
     },
     "execution_count": 79,
     "metadata": {},
     "output_type": "execute_result"
    }
   ],
   "source": [
    "wilcoxs_pf = {\n",
    "    'NNSmote_VS_NN' : wilcox_less(NN_Test_pf,NN_Test_pf_Wihout_SMOTE),\n",
    "    'NNSmote_VS_RFSmote' : wilcox_less(NN_Test_pf,RF_Test_pf),\n",
    "    'NNSmote_VS_NBSmote' : wilcox_less(NN_Test_pf,NB_Test_pf),\n",
    "    'NNSmote_VS_KNNSmote' : wilcox_less(NN_Test_pf,KNN_Test_pf),\n",
    "    'NNSmote_VS_LRSmote' : wilcox_less(NN_Test_pf,LR_Test_pf),\n",
    "    'NNSmote_VS_DTSmote' : wilcox_less(NN_Test_pf,DT_Test_pf),\n",
    "}\n",
    "\n",
    "wilcoxs_pf"
   ]
  },
  {
   "cell_type": "code",
   "execution_count": 28,
   "metadata": {},
   "outputs": [
    {
     "name": "stdout",
     "output_type": "stream",
     "text": [
      "(26.83673469387753, 6.137358244641404e-05)\n",
      "Different distributions (reject H0)\n"
     ]
    }
   ],
   "source": [
    "# Friedman test\n",
    "from numpy.random import seed\n",
    "from numpy.random import randn\n",
    "from scipy.stats import friedmanchisquare\n",
    "# seed the random number generator\n",
    "# seed(1)\n",
    "# generate three independent samples\n",
    "# data1 = 5 * randn(100) + 50\n",
    "# data2 = 5 * randn(100) + 50\n",
    "# data3 = 5 * randn(100) + 52\n",
    "# compare samples\n",
    "stat, p = friedmanchisquare(NN_Test_Gmeans,RF_Test_Gmeans,NB_Test_Gmeans,KNN_Test_Gmeans,LR_Test_Gmeans,DT_Test_Gmeans)\n",
    "print((stat, p))\n",
    "# interpret\n",
    "alpha = 0.05\n",
    "if p > alpha:\n",
    "\tprint('Same distributions (fail to reject H0)')\n",
    "else:\n",
    "\tprint('Different distributions (reject H0)')"
   ]
  },
  {
   "cell_type": "code",
   "execution_count": 129,
   "metadata": {},
   "outputs": [],
   "source": [
    "pd.DataFrame({\n",
    "    'NN' : NN_Test_Gmeans,\n",
    "    'RF' : RF_Test_Gmeans,\n",
    "    'NB' : NB_Test_Gmeans,\n",
    "    'KNN' : KNN_Test_Gmeans,\n",
    "    'LR' : LR_Test_Gmeans,\n",
    "    'DT' : DT_Test_Gmeans\n",
    "}).to_csv('mantap.csv')"
   ]
  },
  {
   "cell_type": "code",
   "execution_count": 139,
   "metadata": {
    "scrolled": true
   },
   "outputs": [
    {
     "data": {
      "text/html": [
       "<div>\n",
       "<style scoped>\n",
       "    .dataframe tbody tr th:only-of-type {\n",
       "        vertical-align: middle;\n",
       "    }\n",
       "\n",
       "    .dataframe tbody tr th {\n",
       "        vertical-align: top;\n",
       "    }\n",
       "\n",
       "    .dataframe thead th {\n",
       "        text-align: right;\n",
       "    }\n",
       "</style>\n",
       "<table border=\"1\" class=\"dataframe\">\n",
       "  <thead>\n",
       "    <tr style=\"text-align: right;\">\n",
       "      <th></th>\n",
       "      <th>NN</th>\n",
       "      <th>RF</th>\n",
       "      <th>NB</th>\n",
       "      <th>KNN</th>\n",
       "      <th>LR</th>\n",
       "      <th>DT</th>\n",
       "    </tr>\n",
       "  </thead>\n",
       "  <tbody>\n",
       "    <tr>\n",
       "      <th>NN</th>\n",
       "      <td>1.000000</td>\n",
       "      <td>0.342386</td>\n",
       "      <td>0.001000</td>\n",
       "      <td>0.013029</td>\n",
       "      <td>0.146223</td>\n",
       "      <td>0.199692</td>\n",
       "    </tr>\n",
       "    <tr>\n",
       "      <th>RF</th>\n",
       "      <td>0.342386</td>\n",
       "      <td>1.000000</td>\n",
       "      <td>0.032296</td>\n",
       "      <td>0.766391</td>\n",
       "      <td>0.900000</td>\n",
       "      <td>0.900000</td>\n",
       "    </tr>\n",
       "    <tr>\n",
       "      <th>NB</th>\n",
       "      <td>0.001000</td>\n",
       "      <td>0.032296</td>\n",
       "      <td>1.000000</td>\n",
       "      <td>0.518859</td>\n",
       "      <td>0.104333</td>\n",
       "      <td>0.072611</td>\n",
       "    </tr>\n",
       "    <tr>\n",
       "      <th>KNN</th>\n",
       "      <td>0.013029</td>\n",
       "      <td>0.766391</td>\n",
       "      <td>0.518859</td>\n",
       "      <td>1.000000</td>\n",
       "      <td>0.900000</td>\n",
       "      <td>0.900000</td>\n",
       "    </tr>\n",
       "    <tr>\n",
       "      <th>LR</th>\n",
       "      <td>0.146223</td>\n",
       "      <td>0.900000</td>\n",
       "      <td>0.104333</td>\n",
       "      <td>0.900000</td>\n",
       "      <td>1.000000</td>\n",
       "      <td>0.900000</td>\n",
       "    </tr>\n",
       "    <tr>\n",
       "      <th>DT</th>\n",
       "      <td>0.199692</td>\n",
       "      <td>0.900000</td>\n",
       "      <td>0.072611</td>\n",
       "      <td>0.900000</td>\n",
       "      <td>0.900000</td>\n",
       "      <td>1.000000</td>\n",
       "    </tr>\n",
       "  </tbody>\n",
       "</table>\n",
       "</div>"
      ],
      "text/plain": [
       "           NN        RF        NB       KNN        LR        DT\n",
       "NN   1.000000  0.342386  0.001000  0.013029  0.146223  0.199692\n",
       "RF   0.342386  1.000000  0.032296  0.766391  0.900000  0.900000\n",
       "NB   0.001000  0.032296  1.000000  0.518859  0.104333  0.072611\n",
       "KNN  0.013029  0.766391  0.518859  1.000000  0.900000  0.900000\n",
       "LR   0.146223  0.900000  0.104333  0.900000  1.000000  0.900000\n",
       "DT   0.199692  0.900000  0.072611  0.900000  0.900000  1.000000"
      ]
     },
     "execution_count": 139,
     "metadata": {},
     "output_type": "execute_result"
    }
   ],
   "source": [
    "df = pd.DataFrame({\n",
    "    'NN' : NN_Test_Gmeans,\n",
    "    'RF' : RF_Test_Gmeans,\n",
    "    'NB' : NB_Test_Gmeans,\n",
    "    'KNN' : KNN_Test_Gmeans,\n",
    "    'LR' : LR_Test_Gmeans,\n",
    "    'DT' : DT_Test_Gmeans\n",
    "})\n",
    "\n",
    "import scikit_posthocs as sp\n",
    "sp.posthoc_nemenyi_friedman(df)"
   ]
  },
  {
   "cell_type": "code",
   "execution_count": 140,
   "metadata": {},
   "outputs": [],
   "source": [
    "from datetime import datetime\n",
    "import dill\n",
    "\n",
    "dill.dump_session('Save/Result-Statistical'+ datetime.now().strftime('%Y-%m-%d %H %M %S')+ '.db')"
   ]
  }
 ],
 "metadata": {
  "kernelspec": {
   "display_name": "Python 3",
   "language": "python",
   "name": "python3"
  },
  "language_info": {
   "codemirror_mode": {
    "name": "ipython",
    "version": 3
   },
   "file_extension": ".py",
   "mimetype": "text/x-python",
   "name": "python",
   "nbconvert_exporter": "python",
   "pygments_lexer": "ipython3",
   "version": "3.8.6"
  }
 },
 "nbformat": 4,
 "nbformat_minor": 4
}
