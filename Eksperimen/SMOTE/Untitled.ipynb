{
 "cells": [
  {
   "cell_type": "code",
   "execution_count": 24,
   "metadata": {
    "scrolled": true
   },
   "outputs": [],
   "source": [
    "from imblearn.over_sampling import SMOTE\n",
    "import pandas as pd\n",
    "# import numpy as np\n",
    "data = pd.read_csv('KC1.csv')\n",
    "def SMOTUNE(X_train, y_train, sampling, neighbors):\n",
    "    neighbors = int(neighbors)\n",
    "    sm = SMOTE(random_state=42, sampling_strategy=sampling, k_neighbors=neighbors)\n",
    "    X_train, y_train = sm.fit_sample(X_train, y_train)\n",
    "    return X_train, y_train\n",
    "\n",
    "x, y = SMOTUNE(data.loc[:,data.columns != 'class'],data['class'],1,5)"
   ]
  },
  {
   "cell_type": "code",
   "execution_count": null,
   "metadata": {},
   "outputs": [],
   "source": [
    "data[['loc','v(g)']].loc()"
   ]
  },
  {
   "cell_type": "code",
   "execution_count": null,
   "metadata": {},
   "outputs": [],
   "source": [
    "unique, counts = np.unique(data['class'], return_counts=True)\n",
    "print(counts)\n",
    "unique, counts = np.unique(y, return_counts=True)\n",
    "print(counts)"
   ]
  },
  {
   "cell_type": "code",
   "execution_count": null,
   "metadata": {},
   "outputs": [],
   "source": [
    "# def SMOTE(data,N,k):\n",
    "#     unique, counts = np.unique(data['class'], return_counts=True)\n",
    "#     T = counts[1]\n",
    "#     if N < 100:\n",
    "#         T = (N/100)*T\n",
    "    \n",
    "#     N = int(N/100)\n",
    "#     numattrs = 21\n",
    "#     sample = []\n",
    "#     newindex = 0\n",
    "#     synthetic = []\n",
    "#     nbs=NearestNeighbors(n_neighbors=k,metric='euclidean',algorithm='kd_tree').fit(data[['loc','v(g)']])\n",
    "#     euclidean,indices= nbs.kneighbors(data[['loc','v(g)']])\n",
    "    \n",
    "#     print(indices)\n",
    "    \n",
    "# #     for i in data[['loc','v(g)']].values:\n",
    "# #         print(indices)\n",
    "# SMOTE(data.sample(10,random_state=42),70,5)"
   ]
  },
  {
   "cell_type": "code",
   "execution_count": null,
   "metadata": {},
   "outputs": [],
   "source": [
    "# data = pd.read_csv('KC1.csv')[['loc','v(g)','class']]\n",
    "# data.shape[1]\n",
    "# unique, counts = np.unique(data['class'], return_counts=True)\n",
    "\n",
    "# N = 200\n"
   ]
  }
 ],
 "metadata": {
  "kernelspec": {
   "display_name": "Python 3",
   "language": "python",
   "name": "python3"
  },
  "language_info": {
   "codemirror_mode": {
    "name": "ipython",
    "version": 3
   },
   "file_extension": ".py",
   "mimetype": "text/x-python",
   "name": "python",
   "nbconvert_exporter": "python",
   "pygments_lexer": "ipython3",
   "version": "3.8.6"
  }
 },
 "nbformat": 4,
 "nbformat_minor": 4
}
