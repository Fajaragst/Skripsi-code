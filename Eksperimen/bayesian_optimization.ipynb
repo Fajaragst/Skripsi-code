{
 "cells": [
  {
   "cell_type": "markdown",
   "metadata": {
    "id": "xVqcPmVBD6xR"
   },
   "source": [
    "[![Open In Colab](https://colab.research.google.com/assets/colab-badge.svg)](https://colab.research.google.com/github/krasserm/bayesian-machine-learning/blob/dev/bayesian-optimization/bayesian_optimization.ipynb)"
   ]
  },
  {
   "cell_type": "code",
   "execution_count": 1,
   "metadata": {
    "colab": {
     "base_uri": "https://localhost:8080/"
    },
    "id": "L-eLKRYHD6xS",
    "outputId": "7c784db6-68f2-49e1-8492-5fac8189a455"
   },
   "outputs": [],
   "source": [
    "try:\n",
    "    # Check if notebook is running in Google Colab\n",
    "    import google.colab\n",
    "    # Get additional files from Github\n",
    "    !wget https://raw.githubusercontent.com/krasserm/bayesian-machine-learning/dev/bayesian-optimization/bayesian_optimization_util.py\n",
    "    # Install additional dependencies\n",
    "    !pip install scikit-optimize==0.5.2\n",
    "    !pip install GPy==1.9.8\n",
    "    !pip install GPyOpt==1.2.1\n",
    "    !pip install xgboost==0.90\n",
    "except:\n",
    "    pass"
   ]
  },
  {
   "cell_type": "code",
   "execution_count": 2,
   "metadata": {},
   "outputs": [],
   "source": [
    "def plot_approximation(gpr, X, Y, X_sample, Y_sample, X_next=None, show_legend=False):\n",
    "    mu, std = gpr.predict(X, return_std=True)\n",
    "    plt.fill_between(X.ravel(), \n",
    "                     mu.ravel() + 1.96 * std, \n",
    "                     mu.ravel() - 1.96 * std, \n",
    "                     alpha=0.1) \n",
    "    plt.plot(X, Y, 'y--', lw=1, label='Noise-free objective')\n",
    "    plt.plot(X, mu, 'b-', lw=1, label='Surrogate function')\n",
    "    plt.plot(X_sample, Y_sample, 'kx', mew=3, label='Noisy samples')\n",
    "    if X_next:\n",
    "        plt.axvline(x=X_next, ls='--', c='k', lw=1)\n",
    "    if show_legend:\n",
    "        plt.legend()\n",
    "\n",
    "def plot_acquisition(X, Y, X_next, show_legend=False):\n",
    "    plt.plot(X, Y, 'r-', lw=1, label='Acquisition function')\n",
    "    plt.axvline(x=X_next, ls='--', c='k', lw=1, label='Next sampling location')\n",
    "    if show_legend:\n",
    "        plt.legend()    \n",
    "        \n",
    "def plot_convergence(X_sample, Y_sample, n_init=2):\n",
    "    plt.figure(figsize=(12, 3))\n",
    "\n",
    "    x = X_sample[n_init:].ravel()\n",
    "    y = Y_sample[n_init:].ravel()\n",
    "    r = range(1, len(x)+1)\n",
    "    \n",
    "    x_neighbor_dist = [np.abs(a-b) for a, b in zip(x, x[1:])]\n",
    "    y_max_watermark = np.maximum.accumulate(y)\n",
    "    \n",
    "    plt.subplot(1, 2, 1)\n",
    "    plt.plot(r[1:], x_neighbor_dist, 'bo-')\n",
    "    plt.xlabel('Iteration')\n",
    "    plt.ylabel('Distance')\n",
    "    plt.title('Distance between consecutive x\\'s')\n",
    "\n",
    "    plt.subplot(1, 2, 2)\n",
    "    plt.plot(r, y_max_watermark, 'ro-')\n",
    "    plt.xlabel('Iteration')\n",
    "    plt.ylabel('Best Y')\n",
    "    plt.title('Value of best selected sample')\n"
   ]
  },
  {
   "cell_type": "markdown",
   "metadata": {
    "id": "grz-28IID6xV"
   },
   "source": [
    "# Bayesian optimization\n",
    "\n",
    "## Introduction \n",
    "\n",
    "Many optimization problems in machine learning are black box optimization problems where the objective function $f(\\mathbf{x})$ is a black box function<sup>[1][2]</sup>. We do not have an analytical expression for $f$ nor do we know its derivatives. Evaluation of the function is restricted to sampling at a point $\\mathbf{x}$ and getting a possibly noisy response. \n",
    "\n",
    "If $f$ is cheap to evaluate we could sample at many points e.g. via grid search, random search or numeric gradient estimation. However, if function evaluation is expensive e.g. tuning hyperparameters of  a deep neural network, probe drilling for oil at given geographic coordinates or evaluating the effectiveness of a drug candidate taken from a chemical search space then it is important to minimize the number of samples drawn from the black box function $f$.\n",
    "\n",
    "This is the domain where Bayesian optimization techniques are most useful. They attempt to find the global optimimum in a minimum number of steps. Bayesian optimization incorporates prior belief about $f$ and updates the prior with samples drawn from $f$ to get a posterior that better approximates $f$. The model used for approximating the objective function is called *surrogate model*. Bayesian optimization also uses an *acquisition function* that directs sampling to areas where an improvement over the current best observation is likely.\n",
    "\n",
    "### Surrogate model\n",
    "\n",
    "A popular surrogate model for Bayesian optimization are [Gaussian processes](https://en.wikipedia.org/wiki/Gaussian_process) (GPs). I wrote about Gaussian processes in a [previous post](https://krasserm.github.io/2018/03/19/gaussian-processes/). If you are not familiar with GPs I recommend reading it first. GPs define a prior over functions and we can use them to incorporate prior beliefs about the objective function (smoothness, ...). The GP posterior is cheap to evaluate and is used to propose points in the search space where sampling is likely to yield an improvement. \n",
    "\n",
    "### Acquisition functions\n",
    "\n",
    "Proposing sampling points in the search space is done by acquisition functions. They trade off exploitation and exploration. Exploitation means sampling where the surrogate model predicts a high objective and exploration means sampling at locations where the prediction uncertainty is high. Both correspond to high acquisition function values and the goal is to maximize the acquisition function to determine the next sampling point. \n",
    "\n",
    "\n",
    "\n",
    "More formally, the objective function $f$ will be sampled at $\\mathbf{x}_t = \\mathrm{argmax}_{\\mathbf{x}} u(\\mathbf{x} \\lvert \\mathcal{D}_{1:t-1})$ where $u$ is the acquisition function and $\\mathcal{D}_{1:t-1} = \\{(\\mathbf{x}_1, y_1),...,(\\mathbf{x}_{t-1}, y_{t-1})\\}$ are the $t-1$ samples drawn from $f$ so far. Popular acquisition functions are *maximum probability of improvement* (MPI), *expected improvement* (EI) and *upper confidence bound* (UCB)<sup>[1]</sup>. In the following, we will use the expected improvement (EI) which is most widely used and described further below. \n",
    "\n",
    "### Optimization algorithm\n",
    "\n",
    "The Bayesian optimization procedure is as follows. For $t = 1,2,...$ repeat:\n",
    "\n",
    "- Find the next sampling point $\\mathbf{x}_{t}$ by optimizing the acquisition function over the GP: $\\mathbf{x}_t = \\mathrm{argmax}_{\\mathbf{x}} u(\\mathbf{x} \\lvert \\mathcal{D}_{1:t-1})$\n",
    "- Obtain a possibly noisy sample $y_t = f(\\mathbf{x}_t) + \\epsilon_t$ from the objective function $f$.\n",
    "- Add the sample to previous samples $\\mathcal{D}_{1:t} = \\{\\mathcal{D}_{1:t-1}, (\\mathbf{x}_t,y_t)\\}$ and update the GP.\n",
    "\n",
    "### Expected improvement\n",
    "\n",
    "Expected improvement is defined as\n",
    "\n",
    "$$\\mathrm{EI}(\\mathbf{x}) = \\mathbb{E}\\max(f(\\mathbf{x}) - f(\\mathbf{x}^+), 0)\\tag{1}$$\n",
    "\n",
    "where $f(\\mathbf{x}^+)$ is the value of the best sample so far and $\\mathbf{x}^+$ is the location of that sample i.e. $\\mathbf{x}^+ = \\mathrm{argmax}_{\\mathbf{x}_i \\in \\mathbf{x}_{1:t}} f(\\mathbf{x}_i)$. The expected improvement can be evaluated analytically under the GP model<sup>[3]</sup>:\n",
    "\n",
    "$$\n",
    "\\mathrm{EI}(\\mathbf{x}) =\n",
    "\\begin{cases}\n",
    "(\\mu(\\mathbf{x}) - f(\\mathbf{x}^+) - \\xi)\\Phi(Z) + \\sigma(\\mathbf{x})\\phi(Z)  &\\text{if}\\ \\sigma(\\mathbf{x}) > 0 \\\\\n",
    "0 & \\text{if}\\ \\sigma(\\mathbf{x}) = 0\n",
    "\\end{cases}\\tag{2}\n",
    "$$\n",
    "\n",
    "where\n",
    "\n",
    "$$\n",
    "Z =\n",
    "\\begin{cases}\n",
    "\\frac{\\mu(\\mathbf{x}) - f(\\mathbf{x}^+) - \\xi}{\\sigma(\\mathbf{x})} &\\text{if}\\ \\sigma(\\mathbf{x}) > 0 \\\\\n",
    "0 & \\text{if}\\ \\sigma(\\mathbf{x}) = 0\n",
    "\\end{cases}\n",
    "$$\n",
    "\n",
    "where $\\mu(\\mathbf{x})$ and $\\sigma(\\mathbf{x})$ are the mean and the standard deviation of the GP posterior predictive at $\\mathbf{x}$, respectively. $\\Phi$ and $\\phi$ are the CDF and PDF of the standard normal distribution, respectively. The first summation term in Equation (2) is the exploitation term and second summation term is the exploration term.\n",
    "\n",
    "Parameter $\\xi$ in Equation (2) determines the amount of exploration during optimization and higher $\\xi$ values lead to more exploration. In other words, with increasing $\\xi$ values, the importance of improvements predicted by the GP posterior mean $\\mu(\\mathbf{x})$ decreases relative to the importance of potential improvements in regions of high prediction uncertainty, represented by large $\\sigma(\\mathbf{x})$ values. A recommended default value for $\\xi$ is $0.01$.\n",
    "\n",
    "With this minimum of theory we can start implementing Bayesian optimization. The next section shows a basic implementation with plain NumPy and SciPy, later sections demonstrate how to use existing libraries. Finally, Bayesian optimization is used to tune the hyperparameters of a tree-based regression model."
   ]
  },
  {
   "cell_type": "markdown",
   "metadata": {
    "id": "cCcITplXD6xW"
   },
   "source": [
    "## Implementation with NumPy and SciPy\n",
    "\n",
    "In this section, we will implement the acquisition function and its optimization in plain NumPy and SciPy and use scikit-learn for the Gaussian process implementation. Although we have an analytical expression of the optimization objective `f` in the following example, we treat is as black box and iteratively approximate it with a Gaussian process during Bayesian optimization. Furthermore, samples drawn from the objective function are noisy and the noise level is given by the `noise` variable. Optimization is done within given `bounds`. We also assume that there exist two initial samples in `X_init` and `Y_init`."
   ]
  },
  {
   "cell_type": "code",
   "execution_count": 8,
   "metadata": {
    "id": "X0AkEhtVD6xX"
   },
   "outputs": [],
   "source": [
    "import numpy as np\n",
    "\n",
    "%matplotlib inline\n",
    "\n",
    "bounds = np.array([[0.0, 2.0]])\n",
    "noise = 0.2\n",
    "\n",
    "def f(X, noise=noise):\n",
    "    return abs(-np.sin(3*X) - X**2 + 0.7*X + noise * np.random.randn(*X.shape))\n",
    "\n",
    "X_init = np.array([[0.5], [1.1]])\n",
    "Y_init = f(X_init)"
   ]
  },
  {
   "cell_type": "markdown",
   "metadata": {
    "id": "bfN-DOvWD6xZ"
   },
   "source": [
    "The following plot shows the noise-free objective function, the amount of noise by plotting a large number of samples and the two initial samples."
   ]
  },
  {
   "cell_type": "code",
   "execution_count": 9,
   "metadata": {
    "colab": {
     "base_uri": "https://localhost:8080/",
     "height": 265
    },
    "id": "XpZfvkblD6xa",
    "outputId": "01cd36c0-8435-4958-82a4-8d9cdf42f9ba"
   },
   "outputs": [
    {
     "data": {
      "image/png": "[encoded data removed]",
      "text/plain": [
       "<Figure size 432x288 with 1 Axes>"
      ]
     },
     "metadata": {
      "needs_background": "light"
     },
     "output_type": "display_data"
    }
   ],
   "source": [
    "import matplotlib.pyplot as plt\n",
    "\n",
    "# Dense grid of points within bounds\n",
    "X = np.arange(bounds[:, 0], bounds[:, 1], 0.01).reshape(-1, 1)\n",
    "\n",
    "# Noise-free objective function values at X \n",
    "Y = f(X,0)\n",
    "\n",
    "# Plot optimization objective with noise level \n",
    "plt.plot(X, Y, 'y--', lw=2, label='Noise-free objective')\n",
    "plt.plot(X, f(X), 'bx', lw=1, alpha=0.1, label='Noisy samples')\n",
    "plt.plot(X_init, Y_init, 'kx', mew=3, label='Initial samples')\n",
    "plt.legend();"
   ]
  },
  {
   "cell_type": "markdown",
   "metadata": {
    "id": "WwXJITtlD6xe"
   },
   "source": [
    "Goal is to find the global optimum on the left in a small number of steps. The next step is to implement the acquisition function defined in Equation (2) as `expected_improvement` function. "
   ]
  },
  {
   "cell_type": "code",
   "execution_count": 10,
   "metadata": {
    "id": "RCR5H_rDD6xe"
   },
   "outputs": [],
   "source": [
    "from scipy.stats import norm\n",
    "\n",
    "def expected_improvement(X, X_sample, Y_sample, gpr, xi=0.01):\n",
    "    '''\n",
    "    Computes the EI at points X based on existing samples X_sample\n",
    "    and Y_sample using a Gaussian process surrogate model.\n",
    "    \n",
    "    Args:\n",
    "        X: Points at which EI shall be computed (m x d).\n",
    "        X_sample: Sample locations (n x d).\n",
    "        Y_sample: Sample values (n x 1).\n",
    "        gpr: A GaussianProcessRegressor fitted to samples.\n",
    "        xi: Exploitation-exploration trade-off parameter.\n",
    "    \n",
    "    Returns:\n",
    "        Expected improvements at points X.\n",
    "    '''\n",
    "    mu, sigma = gpr.predict(X, return_std=True)\n",
    "    mu_sample = gpr.predict(X_sample)\n",
    "\n",
    "    sigma = sigma.reshape(-1, 1)\n",
    "    \n",
    "    # Needed for noise-based model,\n",
    "    # otherwise use np.max(Y_sample).\n",
    "    # See also section 2.4 in [...]\n",
    "    mu_sample_opt = np.max(mu_sample)\n",
    "\n",
    "    with np.errstate(divide='warn'):\n",
    "        imp = mu - mu_sample_opt - xi\n",
    "        Z = imp / sigma\n",
    "        ei = imp * norm.cdf(Z) + sigma * norm.pdf(Z)\n",
    "        ei[sigma == 0.0] = 0.0\n",
    "\n",
    "    return ei"
   ]
  },
  {
   "cell_type": "markdown",
   "metadata": {
    "id": "6emZhkUkD6xh"
   },
   "source": [
    "We also need a function that proposes the next sampling point by computing the location of the acquisition function maximum. Optimization is restarted `n_restarts` times to avoid local optima."
   ]
  },
  {
   "cell_type": "code",
   "execution_count": 11,
   "metadata": {
    "id": "VYFZVuQ9D6xh"
   },
   "outputs": [],
   "source": [
    "from scipy.optimize import minimize\n",
    "\n",
    "def propose_location(acquisition, X_sample, Y_sample, gpr, bounds, n_restarts=25):\n",
    "    '''\n",
    "    Proposes the next sampling point by optimizing the acquisition function.\n",
    "    \n",
    "    Args:\n",
    "        acquisition: Acquisition function.\n",
    "        X_sample: Sample locations (n x d).\n",
    "        Y_sample: Sample values (n x 1).\n",
    "        gpr: A GaussianProcessRegressor fitted to samples.\n",
    "\n",
    "    Returns:\n",
    "        Location of the acquisition function maximum.\n",
    "    '''\n",
    "    dim = X_sample.shape[1]\n",
    "    min_val = 1\n",
    "    min_x = None\n",
    "    \n",
    "    def min_obj(X):\n",
    "        # Minimization objective is the negative acquisition function\n",
    "        return -acquisition(X.reshape(-1, dim), X_sample, Y_sample, gpr)\n",
    "    \n",
    "    # Find the best optimum by starting from n_restart different random points.\n",
    "    for x0 in np.random.uniform(bounds[:, 0], bounds[:, 1], size=(n_restarts, dim)):\n",
    "        res = minimize(min_obj, x0=x0, bounds=bounds, method='L-BFGS-B')        \n",
    "        if res.fun < min_val:\n",
    "            min_val = res.fun[0]\n",
    "            min_x = res.x           \n",
    "            \n",
    "    return min_x.reshape(-1, 1)"
   ]
  },
  {
   "cell_type": "markdown",
   "metadata": {
    "id": "Ld-qY13wD6xk"
   },
   "source": [
    "Now we have all components needed to run Bayesian optimization with the [algorithm](#Optimization-algorithm) outlined above. The Gaussian process in the following example is configured with a [Matérn kernel](http://scikit-learn.org/stable/modules/gaussian_process.html#matern-kernel) which is a generalization of the squared exponential kernel or RBF kernel. The known noise level is configured with the `alpha` parameter. \n",
    "\n",
    "Bayesian optimization runs for 10 iterations. In each iteration, a row with two plots is produced. The left plot shows the noise-free objective function, the surrogate function which is the GP posterior predictive mean, the 95% confidence interval of the mean and the noisy samples obtained from the objective function so far. The right plot shows the acquisition function. The vertical dashed line in both plots shows the proposed sampling point for the next iteration which corresponds to the maximum of the acquisition function."
   ]
  },
  {
   "cell_type": "code",
   "execution_count": 12,
   "metadata": {
    "colab": {
     "base_uri": "https://localhost:8080/",
     "height": 1000
    },
    "id": "W0IHlaUhD6xl",
    "outputId": "6cb99202-efb8-4309-937e-eaefb2cae2f2",
    "scrolled": false
   },
   "outputs": [
    {
     "ename": "ValueError",
     "evalue": "`f0` passed has more than 1 dimension.",
     "output_type": "error",
     "traceback": [
      "\u001b[1;31m---------------------------------------------------------------------------\u001b[0m",
      "\u001b[1;31mValueError\u001b[0m                                Traceback (most recent call last)",
      "\u001b[1;32m<ipython-input-12-d604383687d7>\u001b[0m in \u001b[0;36m<module>\u001b[1;34m\u001b[0m\n\u001b[0;32m     22\u001b[0m \u001b[1;33m\u001b[0m\u001b[0m\n\u001b[0;32m     23\u001b[0m     \u001b[1;31m# Obtain next sampling point from the acquisition function (expected_improvement)\u001b[0m\u001b[1;33m\u001b[0m\u001b[1;33m\u001b[0m\u001b[1;33m\u001b[0m\u001b[0m\n\u001b[1;32m---> 24\u001b[1;33m     \u001b[0mX_next\u001b[0m \u001b[1;33m=\u001b[0m \u001b[0mpropose_location\u001b[0m\u001b[1;33m(\u001b[0m\u001b[0mexpected_improvement\u001b[0m\u001b[1;33m,\u001b[0m \u001b[0mX_sample\u001b[0m\u001b[1;33m,\u001b[0m \u001b[0mY_sample\u001b[0m\u001b[1;33m,\u001b[0m \u001b[0mgpr\u001b[0m\u001b[1;33m,\u001b[0m \u001b[0mbounds\u001b[0m\u001b[1;33m)\u001b[0m\u001b[1;33m\u001b[0m\u001b[1;33m\u001b[0m\u001b[0m\n\u001b[0m\u001b[0;32m     25\u001b[0m \u001b[1;33m\u001b[0m\u001b[0m\n\u001b[0;32m     26\u001b[0m     \u001b[1;31m# Obtain next noisy sample from the objective function\u001b[0m\u001b[1;33m\u001b[0m\u001b[1;33m\u001b[0m\u001b[1;33m\u001b[0m\u001b[0m\n",
      "\u001b[1;32m<ipython-input-11-b39220cdbdf3>\u001b[0m in \u001b[0;36mpropose_location\u001b[1;34m(acquisition, X_sample, Y_sample, gpr, bounds, n_restarts)\u001b[0m\n\u001b[0;32m     24\u001b[0m     \u001b[1;31m# Find the best optimum by starting from n_restart different random points.\u001b[0m\u001b[1;33m\u001b[0m\u001b[1;33m\u001b[0m\u001b[1;33m\u001b[0m\u001b[0m\n\u001b[0;32m     25\u001b[0m     \u001b[1;32mfor\u001b[0m \u001b[0mx0\u001b[0m \u001b[1;32min\u001b[0m \u001b[0mnp\u001b[0m\u001b[1;33m.\u001b[0m\u001b[0mrandom\u001b[0m\u001b[1;33m.\u001b[0m\u001b[0muniform\u001b[0m\u001b[1;33m(\u001b[0m\u001b[0mbounds\u001b[0m\u001b[1;33m[\u001b[0m\u001b[1;33m:\u001b[0m\u001b[1;33m,\u001b[0m \u001b[1;36m0\u001b[0m\u001b[1;33m]\u001b[0m\u001b[1;33m,\u001b[0m \u001b[0mbounds\u001b[0m\u001b[1;33m[\u001b[0m\u001b[1;33m:\u001b[0m\u001b[1;33m,\u001b[0m \u001b[1;36m1\u001b[0m\u001b[1;33m]\u001b[0m\u001b[1;33m,\u001b[0m \u001b[0msize\u001b[0m\u001b[1;33m=\u001b[0m\u001b[1;33m(\u001b[0m\u001b[0mn_restarts\u001b[0m\u001b[1;33m,\u001b[0m \u001b[0mdim\u001b[0m\u001b[1;33m)\u001b[0m\u001b[1;33m)\u001b[0m\u001b[1;33m:\u001b[0m\u001b[1;33m\u001b[0m\u001b[1;33m\u001b[0m\u001b[0m\n\u001b[1;32m---> 26\u001b[1;33m         \u001b[0mres\u001b[0m \u001b[1;33m=\u001b[0m \u001b[0mminimize\u001b[0m\u001b[1;33m(\u001b[0m\u001b[0mmin_obj\u001b[0m\u001b[1;33m,\u001b[0m \u001b[0mx0\u001b[0m\u001b[1;33m=\u001b[0m\u001b[0mx0\u001b[0m\u001b[1;33m,\u001b[0m \u001b[0mbounds\u001b[0m\u001b[1;33m=\u001b[0m\u001b[0mbounds\u001b[0m\u001b[1;33m,\u001b[0m \u001b[0mmethod\u001b[0m\u001b[1;33m=\u001b[0m\u001b[1;34m'L-BFGS-B'\u001b[0m\u001b[1;33m)\u001b[0m\u001b[1;33m\u001b[0m\u001b[1;33m\u001b[0m\u001b[0m\n\u001b[0m\u001b[0;32m     27\u001b[0m         \u001b[1;32mif\u001b[0m \u001b[0mres\u001b[0m\u001b[1;33m.\u001b[0m\u001b[0mfun\u001b[0m \u001b[1;33m<\u001b[0m \u001b[0mmin_val\u001b[0m\u001b[1;33m:\u001b[0m\u001b[1;33m\u001b[0m\u001b[1;33m\u001b[0m\u001b[0m\n\u001b[0;32m     28\u001b[0m             \u001b[0mmin_val\u001b[0m \u001b[1;33m=\u001b[0m \u001b[0mres\u001b[0m\u001b[1;33m.\u001b[0m\u001b[0mfun\u001b[0m\u001b[1;33m[\u001b[0m\u001b[1;36m0\u001b[0m\u001b[1;33m]\u001b[0m\u001b[1;33m\u001b[0m\u001b[1;33m\u001b[0m\u001b[0m\n",
      "\u001b[1;32mc:\\users\\fajar\\appdata\\local\\programs\\python\\python38\\lib\\site-packages\\scipy\\optimize\\_minimize.py\u001b[0m in \u001b[0;36mminimize\u001b[1;34m(fun, x0, args, method, jac, hess, hessp, bounds, constraints, tol, callback, options)\u001b[0m\n\u001b[0;32m    615\u001b[0m                                   **options)\n\u001b[0;32m    616\u001b[0m     \u001b[1;32melif\u001b[0m \u001b[0mmeth\u001b[0m \u001b[1;33m==\u001b[0m \u001b[1;34m'l-bfgs-b'\u001b[0m\u001b[1;33m:\u001b[0m\u001b[1;33m\u001b[0m\u001b[1;33m\u001b[0m\u001b[0m\n\u001b[1;32m--> 617\u001b[1;33m         return _minimize_lbfgsb(fun, x0, args, jac, bounds,\n\u001b[0m\u001b[0;32m    618\u001b[0m                                 callback=callback, **options)\n\u001b[0;32m    619\u001b[0m     \u001b[1;32melif\u001b[0m \u001b[0mmeth\u001b[0m \u001b[1;33m==\u001b[0m \u001b[1;34m'tnc'\u001b[0m\u001b[1;33m:\u001b[0m\u001b[1;33m\u001b[0m\u001b[1;33m\u001b[0m\u001b[0m\n",
      "\u001b[1;32mc:\\users\\fajar\\appdata\\local\\programs\\python\\python38\\lib\\site-packages\\scipy\\optimize\\lbfgsb.py\u001b[0m in \u001b[0;36m_minimize_lbfgsb\u001b[1;34m(fun, x0, args, jac, bounds, disp, maxcor, ftol, gtol, eps, maxfun, maxiter, iprint, callback, maxls, finite_diff_rel_step, **unknown_options)\u001b[0m\n\u001b[0;32m    304\u001b[0m             \u001b[0miprint\u001b[0m \u001b[1;33m=\u001b[0m \u001b[0mdisp\u001b[0m\u001b[1;33m\u001b[0m\u001b[1;33m\u001b[0m\u001b[0m\n\u001b[0;32m    305\u001b[0m \u001b[1;33m\u001b[0m\u001b[0m\n\u001b[1;32m--> 306\u001b[1;33m     sf = _prepare_scalar_function(fun, x0, jac=jac, args=args, epsilon=eps,\n\u001b[0m\u001b[0;32m    307\u001b[0m                                   \u001b[0mbounds\u001b[0m\u001b[1;33m=\u001b[0m\u001b[0mnew_bounds\u001b[0m\u001b[1;33m,\u001b[0m\u001b[1;33m\u001b[0m\u001b[1;33m\u001b[0m\u001b[0m\n\u001b[0;32m    308\u001b[0m                                   finite_diff_rel_step=finite_diff_rel_step)\n",
      "\u001b[1;32mc:\\users\\fajar\\appdata\\local\\programs\\python\\python38\\lib\\site-packages\\scipy\\optimize\\optimize.py\u001b[0m in \u001b[0;36m_prepare_scalar_function\u001b[1;34m(fun, x0, jac, args, bounds, epsilon, finite_diff_rel_step, hess)\u001b[0m\n\u001b[0;32m    259\u001b[0m     \u001b[1;31m# ScalarFunction caches. Reuse of fun(x) during grad\u001b[0m\u001b[1;33m\u001b[0m\u001b[1;33m\u001b[0m\u001b[1;33m\u001b[0m\u001b[0m\n\u001b[0;32m    260\u001b[0m     \u001b[1;31m# calculation reduces overall function evaluations.\u001b[0m\u001b[1;33m\u001b[0m\u001b[1;33m\u001b[0m\u001b[1;33m\u001b[0m\u001b[0m\n\u001b[1;32m--> 261\u001b[1;33m     sf = ScalarFunction(fun, x0, args, grad, hess,\n\u001b[0m\u001b[0;32m    262\u001b[0m                         finite_diff_rel_step, bounds, epsilon=epsilon)\n\u001b[0;32m    263\u001b[0m \u001b[1;33m\u001b[0m\u001b[0m\n",
      "\u001b[1;32mc:\\users\\fajar\\appdata\\local\\programs\\python\\python38\\lib\\site-packages\\scipy\\optimize\\_differentiable_functions.py\u001b[0m in \u001b[0;36m__init__\u001b[1;34m(self, fun, x0, args, grad, hess, finite_diff_rel_step, finite_diff_bounds, epsilon)\u001b[0m\n\u001b[0;32m     93\u001b[0m \u001b[1;33m\u001b[0m\u001b[0m\n\u001b[0;32m     94\u001b[0m         \u001b[0mself\u001b[0m\u001b[1;33m.\u001b[0m\u001b[0m_update_grad_impl\u001b[0m \u001b[1;33m=\u001b[0m \u001b[0mupdate_grad\u001b[0m\u001b[1;33m\u001b[0m\u001b[1;33m\u001b[0m\u001b[0m\n\u001b[1;32m---> 95\u001b[1;33m         \u001b[0mself\u001b[0m\u001b[1;33m.\u001b[0m\u001b[0m_update_grad\u001b[0m\u001b[1;33m(\u001b[0m\u001b[1;33m)\u001b[0m\u001b[1;33m\u001b[0m\u001b[1;33m\u001b[0m\u001b[0m\n\u001b[0m\u001b[0;32m     96\u001b[0m \u001b[1;33m\u001b[0m\u001b[0m\n\u001b[0;32m     97\u001b[0m         \u001b[1;31m# Hessian Evaluation\u001b[0m\u001b[1;33m\u001b[0m\u001b[1;33m\u001b[0m\u001b[1;33m\u001b[0m\u001b[0m\n",
      "\u001b[1;32mc:\\users\\fajar\\appdata\\local\\programs\\python\\python38\\lib\\site-packages\\scipy\\optimize\\_differentiable_functions.py\u001b[0m in \u001b[0;36m_update_grad\u001b[1;34m(self)\u001b[0m\n\u001b[0;32m    169\u001b[0m     \u001b[1;32mdef\u001b[0m \u001b[0m_update_grad\u001b[0m\u001b[1;33m(\u001b[0m\u001b[0mself\u001b[0m\u001b[1;33m)\u001b[0m\u001b[1;33m:\u001b[0m\u001b[1;33m\u001b[0m\u001b[1;33m\u001b[0m\u001b[0m\n\u001b[0;32m    170\u001b[0m         \u001b[1;32mif\u001b[0m \u001b[1;32mnot\u001b[0m \u001b[0mself\u001b[0m\u001b[1;33m.\u001b[0m\u001b[0mg_updated\u001b[0m\u001b[1;33m:\u001b[0m\u001b[1;33m\u001b[0m\u001b[1;33m\u001b[0m\u001b[0m\n\u001b[1;32m--> 171\u001b[1;33m             \u001b[0mself\u001b[0m\u001b[1;33m.\u001b[0m\u001b[0m_update_grad_impl\u001b[0m\u001b[1;33m(\u001b[0m\u001b[1;33m)\u001b[0m\u001b[1;33m\u001b[0m\u001b[1;33m\u001b[0m\u001b[0m\n\u001b[0m\u001b[0;32m    172\u001b[0m             \u001b[0mself\u001b[0m\u001b[1;33m.\u001b[0m\u001b[0mg_updated\u001b[0m \u001b[1;33m=\u001b[0m \u001b[1;32mTrue\u001b[0m\u001b[1;33m\u001b[0m\u001b[1;33m\u001b[0m\u001b[0m\n\u001b[0;32m    173\u001b[0m \u001b[1;33m\u001b[0m\u001b[0m\n",
      "\u001b[1;32mc:\\users\\fajar\\appdata\\local\\programs\\python\\python38\\lib\\site-packages\\scipy\\optimize\\_differentiable_functions.py\u001b[0m in \u001b[0;36mupdate_grad\u001b[1;34m()\u001b[0m\n\u001b[0;32m     89\u001b[0m                 \u001b[0mself\u001b[0m\u001b[1;33m.\u001b[0m\u001b[0m_update_fun\u001b[0m\u001b[1;33m(\u001b[0m\u001b[1;33m)\u001b[0m\u001b[1;33m\u001b[0m\u001b[1;33m\u001b[0m\u001b[0m\n\u001b[0;32m     90\u001b[0m                 \u001b[0mself\u001b[0m\u001b[1;33m.\u001b[0m\u001b[0mngev\u001b[0m \u001b[1;33m+=\u001b[0m \u001b[1;36m1\u001b[0m\u001b[1;33m\u001b[0m\u001b[1;33m\u001b[0m\u001b[0m\n\u001b[1;32m---> 91\u001b[1;33m                 self.g = approx_derivative(fun_wrapped, self.x, f0=self.f,\n\u001b[0m\u001b[0;32m     92\u001b[0m                                            **finite_diff_options)\n\u001b[0;32m     93\u001b[0m \u001b[1;33m\u001b[0m\u001b[0m\n",
      "\u001b[1;32mc:\\users\\fajar\\appdata\\local\\programs\\python\\python38\\lib\\site-packages\\scipy\\optimize\\_numdiff.py\u001b[0m in \u001b[0;36mapprox_derivative\u001b[1;34m(fun, x0, method, rel_step, abs_step, f0, bounds, sparsity, as_linear_operator, args, kwargs)\u001b[0m\n\u001b[0;32m    386\u001b[0m         \u001b[0mf0\u001b[0m \u001b[1;33m=\u001b[0m \u001b[0mnp\u001b[0m\u001b[1;33m.\u001b[0m\u001b[0matleast_1d\u001b[0m\u001b[1;33m(\u001b[0m\u001b[0mf0\u001b[0m\u001b[1;33m)\u001b[0m\u001b[1;33m\u001b[0m\u001b[1;33m\u001b[0m\u001b[0m\n\u001b[0;32m    387\u001b[0m         \u001b[1;32mif\u001b[0m \u001b[0mf0\u001b[0m\u001b[1;33m.\u001b[0m\u001b[0mndim\u001b[0m \u001b[1;33m>\u001b[0m \u001b[1;36m1\u001b[0m\u001b[1;33m:\u001b[0m\u001b[1;33m\u001b[0m\u001b[1;33m\u001b[0m\u001b[0m\n\u001b[1;32m--> 388\u001b[1;33m             \u001b[1;32mraise\u001b[0m \u001b[0mValueError\u001b[0m\u001b[1;33m(\u001b[0m\u001b[1;34m\"`f0` passed has more than 1 dimension.\"\u001b[0m\u001b[1;33m)\u001b[0m\u001b[1;33m\u001b[0m\u001b[1;33m\u001b[0m\u001b[0m\n\u001b[0m\u001b[0;32m    389\u001b[0m \u001b[1;33m\u001b[0m\u001b[0m\n\u001b[0;32m    390\u001b[0m     \u001b[1;32mif\u001b[0m \u001b[0mnp\u001b[0m\u001b[1;33m.\u001b[0m\u001b[0many\u001b[0m\u001b[1;33m(\u001b[0m\u001b[1;33m(\u001b[0m\u001b[0mx0\u001b[0m \u001b[1;33m<\u001b[0m \u001b[0mlb\u001b[0m\u001b[1;33m)\u001b[0m \u001b[1;33m|\u001b[0m \u001b[1;33m(\u001b[0m\u001b[0mx0\u001b[0m \u001b[1;33m>\u001b[0m \u001b[0mub\u001b[0m\u001b[1;33m)\u001b[0m\u001b[1;33m)\u001b[0m\u001b[1;33m:\u001b[0m\u001b[1;33m\u001b[0m\u001b[1;33m\u001b[0m\u001b[0m\n",
      "\u001b[1;31mValueError\u001b[0m: `f0` passed has more than 1 dimension."
     ]
    },
    {
     "data": {
      "text/plain": [
       "<Figure size 864x2160 with 0 Axes>"
      ]
     },
     "metadata": {},
     "output_type": "display_data"
    }
   ],
   "source": [
    "from sklearn.gaussian_process import GaussianProcessRegressor\n",
    "from sklearn.gaussian_process.kernels import ConstantKernel, Matern\n",
    "# from bayesian_optimization_util import plot_approximation, plot_acquisition\n",
    "\n",
    "# Gaussian process with Matérn kernel as surrogate model\n",
    "m52 = ConstantKernel(1.0) * Matern(length_scale=1.0, nu=2.5)\n",
    "gpr = GaussianProcessRegressor(kernel=m52, alpha=noise**2)\n",
    "\n",
    "# Initialize samples\n",
    "X_sample = X_init\n",
    "Y_sample = Y_init\n",
    "\n",
    "# Number of iterations\n",
    "n_iter = 10\n",
    "\n",
    "plt.figure(figsize=(12, n_iter * 3))\n",
    "plt.subplots_adjust(hspace=0.4)\n",
    "\n",
    "for i in range(n_iter):\n",
    "    # Update Gaussian process with existing samples\n",
    "    gpr.fit(X_sample, Y_sample)\n",
    "\n",
    "    # Obtain next sampling point from the acquisition function (expected_improvement)\n",
    "    X_next = propose_location(expected_improvement, X_sample, Y_sample, gpr, bounds)\n",
    "    \n",
    "    # Obtain next noisy sample from the objective function\n",
    "    Y_next = f(X_next, 0)\n",
    "    \n",
    "    # Plot samples, surrogate function, noise-free objective and next sampling location\n",
    "    plt.subplot(n_iter, 2, 2 * i + 1)\n",
    "    plot_approximation(gpr, X, Y, X_sample, Y_sample, X_next, show_legend=i==0)\n",
    "    plt.title(f'Iteration {i+1}')\n",
    "\n",
    "    plt.subplot(n_iter, 2, 2 * i + 2)\n",
    "    plot_acquisition(X, expected_improvement(X, X_sample, Y_sample, gpr), X_next, show_legend=i==0)\n",
    "    \n",
    "    # Add sample to previous samples\n",
    "    X_sample = np.vstack((X_sample, X_next))\n",
    "    Y_sample = np.vstack((Y_sample, Y_next))"
   ]
  },
  {
   "cell_type": "markdown",
   "metadata": {
    "id": "zs-4KXE7D6xo"
   },
   "source": [
    "Note how the two initial samples initially drive search into the direction of the local maximum on the right side but exploration allows the algorithm to escape from that local optimum and find the global optimum on the left side. Also note how sampling point proposals often fall within regions of high uncertainty (exploration) and are not only driven by the highest surrogate function values (exploitation).\n",
    "\n",
    "A convergence plot reveals how many iterations are needed the find a maximum and if the sampling point proposals stay around that maximum i.e. converge to small proposal differences between consecutive steps. "
   ]
  },
  {
   "cell_type": "code",
   "execution_count": null,
   "metadata": {
    "colab": {
     "base_uri": "https://localhost:8080/",
     "height": 241
    },
    "id": "iKY1HzMbD6xo",
    "outputId": "d06c38a9-405c-4fb3-e7ae-bf46b5d633a9"
   },
   "outputs": [],
   "source": [
    "from bayesian_optimization_util import plot_convergence\n",
    "\n",
    "plot_convergence(X_sample, Y_sample)"
   ]
  },
  {
   "cell_type": "markdown",
   "metadata": {
    "id": "3wHrWRf0D6xt"
   },
   "source": [
    "## Bayesian optimization libraries\n",
    "\n",
    "There are numerous Bayesian optimization libraries out there and giving a comprehensive overview is not the goal of this article. Instead, I'll pick two that I used in the past and show the minimum setup needed to get the previous example running.\n",
    "\n",
    "### Scikit-optimize\n",
    "\n",
    "[Scikit-optimize](https://scikit-optimize.github.io/) is a library for sequential model-based optimization that is based on [scikit-learn](http://scikit-learn.org/). It also supports Bayesian optimization using Gaussian processes. The API is designed around minimization, hence, we have to provide negative objective function values.  The results obtained here slightly differ from previous results because of non-deterministic optimization behavior and different noisy samples drawn from the objective function."
   ]
  },
  {
   "cell_type": "code",
   "execution_count": null,
   "metadata": {
    "colab": {
     "base_uri": "https://localhost:8080/",
     "height": 265
    },
    "id": "EPs2ZFk0D6xu",
    "outputId": "463d53c2-0269-48fe-de90-221f832f8c94"
   },
   "outputs": [],
   "source": [
    "from sklearn.base import clone\n",
    "from skopt import gp_minimize\n",
    "from skopt.learning import GaussianProcessRegressor\n",
    "from skopt.learning.gaussian_process.kernels import ConstantKernel, Matern\n",
    "\n",
    "# Use custom kernel and estimator to match previous example\n",
    "m52 = ConstantKernel(1.0) * Matern(length_scale=1.0, nu=2.5)\n",
    "gpr = GaussianProcessRegressor(kernel=m52, alpha=noise**2)\n",
    "\n",
    "r = gp_minimize(lambda x: -f(np.array(x))[0], \n",
    "                bounds.tolist(),\n",
    "                base_estimator=gpr,\n",
    "                acq_func='EI',      # expected improvement\n",
    "                xi=0.01,            # exploitation-exploration trade-off\n",
    "                n_calls=10,         # number of iterations\n",
    "                n_random_starts=0,  # initial samples are provided\n",
    "                x0=X_init.tolist(), # initial samples\n",
    "                y0=-Y_init.ravel())\n",
    "\n",
    "# Fit GP model to samples for plotting results\n",
    "gpr.fit(r.x_iters, -r.func_vals)\n",
    "\n",
    "# Plot the fitted model and the noisy samples\n",
    "plot_approximation(gpr, X, Y, r.x_iters, -r.func_vals, show_legend=True)"
   ]
  },
  {
   "cell_type": "code",
   "execution_count": null,
   "metadata": {
    "colab": {
     "base_uri": "https://localhost:8080/",
     "height": 241
    },
    "id": "V4wkWpsRD6xw",
    "outputId": "8a5c805a-900a-4b36-97c7-9a55dcf02427"
   },
   "outputs": [],
   "source": [
    "plot_convergence(np.array(r.x_iters), -r.func_vals)"
   ]
  },
  {
   "cell_type": "markdown",
   "metadata": {
    "id": "zOE50dUWD6xy"
   },
   "source": [
    "## GPyOpt\n",
    "\n",
    "[GPyOpt](http://sheffieldml.github.io/GPyOpt/) is a Bayesian optimization library based on [GPy](https://sheffieldml.github.io/GPy/). The abstraction level of the API is comparable to that of scikit-optimize. The `BayesianOptimization` API provides a `maximize` parameter to configure whether the objective function shall be maximized or minimized (default). In version 1.2.1, this seems to be ignored when providing initial samples, so we have to negate their target values manually in the following example. Also, the built-in `plot_acquisition` and `plot_convergence` methods display the minimization result in any case. Again, the results obtained here slightly differ from previous results because of non-deterministic optimization behavior and different noisy samples drawn from the objective function. "
   ]
  },
  {
   "cell_type": "code",
   "execution_count": null,
   "metadata": {
    "colab": {
     "base_uri": "https://localhost:8080/",
     "height": 297
    },
    "id": "nw7eG6bmD6xz",
    "outputId": "afdc06ca-a03d-4684-b115-9e016f997c10"
   },
   "outputs": [],
   "source": [
    "import GPy\n",
    "import GPyOpt\n",
    "\n",
    "from GPyOpt.methods import BayesianOptimization\n",
    "\n",
    "kernel = GPy.kern.Matern52(input_dim=1, variance=1.0, lengthscale=1.0)\n",
    "bds = [{'name': 'X', 'type': 'continuous', 'domain': bounds.ravel()}]\n",
    "\n",
    "optimizer = BayesianOptimization(f=f, \n",
    "                                 domain=bds,\n",
    "                                 model_type='GP',\n",
    "                                 kernel=kernel,\n",
    "                                 acquisition_type ='EI',\n",
    "                                 acquisition_jitter = 0.01,\n",
    "                                 X=X_init,\n",
    "                                 Y=-Y_init,\n",
    "                                 noise_var = noise**2,\n",
    "                                 exact_feval=False,\n",
    "                                 normalize_Y=False,\n",
    "                                 maximize=True)\n",
    "\n",
    "optimizer.run_optimization(max_iter=10)\n",
    "optimizer.plot_acquisition()"
   ]
  },
  {
   "cell_type": "code",
   "execution_count": null,
   "metadata": {
    "colab": {
     "base_uri": "https://localhost:8080/",
     "height": 350
    },
    "id": "BijvcyfaD6x1",
    "outputId": "38eba955-fd9f-495e-b57a-4241c437b2cc"
   },
   "outputs": [],
   "source": [
    "optimizer.plot_convergence()"
   ]
  },
  {
   "cell_type": "markdown",
   "metadata": {
    "id": "PyQh_2XUD6x4"
   },
   "source": [
    "## Application\n",
    "\n",
    "This section demonstrates how to optimize the hyperparameters of an `XGBRegressor` with GPyOpt and how Bayesian optimization performance compares to random search. `XGBRegressor` is part of [XGBoost](https://xgboost.readthedocs.io/), a flexible and scalable gradient boosting library. `XGBRegressor` implements the scikit-learn estimator API and can be applied to regression problems. Regression is performed on a small [toy dataset](http://scikit-learn.org/stable/modules/generated/sklearn.datasets.load_diabetes.html#sklearn.datasets.load_diabetes) that is part of scikit-learn."
   ]
  },
  {
   "cell_type": "code",
   "execution_count": null,
   "metadata": {
    "colab": {
     "base_uri": "https://localhost:8080/"
    },
    "id": "vJA7zajcD6x4",
    "outputId": "88106f7f-4ae6-417f-f093-d1b65f22c3fa"
   },
   "outputs": [],
   "source": [
    "from sklearn import datasets\n",
    "from sklearn.model_selection import RandomizedSearchCV, cross_val_score\n",
    "\n",
    "from scipy.stats import uniform\n",
    "from xgboost import XGBRegressor\n",
    "\n",
    "# Load the diabetes dataset (for regression)\n",
    "X, Y = datasets.load_diabetes(return_X_y=True)\n",
    "\n",
    "# Instantiate an XGBRegressor with default hyperparameter settings\n",
    "xgb = XGBRegressor()\n",
    "\n",
    "# and compute a baseline to beat with hyperparameter optimization \n",
    "baseline = cross_val_score(xgb, X, Y, scoring='neg_mean_squared_error').mean()"
   ]
  },
  {
   "cell_type": "markdown",
   "metadata": {
    "id": "Drndt95ND6x7"
   },
   "source": [
    "### Hyperparameter tuning with random search\n",
    "\n",
    "For hyperparameter tuning with random search, we use `RandomSearchCV` of scikit-learn and compute a cross-validation score for each randomly selected point in hyperparameter space. Results will be discussed below."
   ]
  },
  {
   "cell_type": "code",
   "execution_count": null,
   "metadata": {
    "colab": {
     "base_uri": "https://localhost:8080/"
    },
    "id": "MXNSQDVMD6x7",
    "outputId": "78807e0d-d4f0-43cc-a1d7-b5d153d7f5af"
   },
   "outputs": [],
   "source": [
    "# Hyperparameters to tune and their ranges\n",
    "param_dist = {\"learning_rate\": uniform(0, 1),\n",
    "              \"gamma\": uniform(0, 5),\n",
    "              \"max_depth\": range(1,50),\n",
    "              \"n_estimators\": range(1,300),\n",
    "              \"min_child_weight\": range(1,10)}\n",
    "\n",
    "rs = RandomizedSearchCV(xgb, param_distributions=param_dist, \n",
    "                        scoring='neg_mean_squared_error', n_iter=25)\n",
    "\n",
    "# Run random search for 25 iterations\n",
    "rs.fit(X, Y);"
   ]
  },
  {
   "cell_type": "markdown",
   "metadata": {
    "id": "r26Ny-SXD6x-"
   },
   "source": [
    "### Hyperparameter tuning with Bayesian optimization\n",
    "\n",
    "To tune hyperparameters with Bayesian optimization we implement an objective function `cv_score` that takes hyperparameters as input and returns a cross-validation score. Here, we assume that cross-validation at a given point in hyperparameter space is deterministic and therefore set the `exact_feval` parameter of `BayesianOptimization` to `True`. Depending on model fitting and cross-validation details this might not be the case but we ignore that here."
   ]
  },
  {
   "cell_type": "code",
   "execution_count": null,
   "metadata": {
    "colab": {
     "base_uri": "https://localhost:8080/"
    },
    "id": "TsOxKPSAD6x-",
    "outputId": "1183181a-add3-4e19-e534-066126d9c72e"
   },
   "outputs": [],
   "source": [
    "bds = [{'name': 'learning_rate', 'type': 'continuous', 'domain': (0, 1)},\n",
    "        {'name': 'gamma', 'type': 'continuous', 'domain': (0, 5)},\n",
    "        {'name': 'max_depth', 'type': 'discrete', 'domain': (1, 50)},\n",
    "        {'name': 'n_estimators', 'type': 'discrete', 'domain': (1, 300)},\n",
    "        {'name': 'min_child_weight', 'type': 'discrete', 'domain': (1, 10)}]\n",
    "\n",
    "# Optimization objective \n",
    "def cv_score(parameters):\n",
    "    parameters = parameters[0]\n",
    "    score = cross_val_score(\n",
    "                XGBRegressor(learning_rate=parameters[0],\n",
    "                              gamma=int(parameters[1]),\n",
    "                              max_depth=int(parameters[2]),\n",
    "                              n_estimators=int(parameters[3]),\n",
    "                              min_child_weight = parameters[4]), \n",
    "                X, Y, scoring='neg_mean_squared_error').mean()\n",
    "    score = np.array(score)\n",
    "    return score\n",
    "\n",
    "optimizer = BayesianOptimization(f=cv_score, \n",
    "                                 domain=bds,\n",
    "                                 model_type='GP',\n",
    "                                 acquisition_type ='EI',\n",
    "                                 acquisition_jitter = 0.05,\n",
    "                                 exact_feval=True, \n",
    "                                 maximize=True)\n",
    "\n",
    "# Only 20 iterations because we have 5 initial random points\n",
    "optimizer.run_optimization(max_iter=20)"
   ]
  },
  {
   "cell_type": "markdown",
   "metadata": {
    "id": "qUhKtmxVD6yA"
   },
   "source": [
    "### Results\n",
    "\n",
    "On average, Bayesian optimization finds a better optimium in a smaller number of steps than random search and beats the baseline in almost every run. This trend becomes even more prominent in higher-dimensional search spaces. Here, the search space is 5-dimensional which is rather low to substantially profit from Bayesian optimization. One advantage of random search is that it is trivial to parallelize. Parallelization of Bayesian optimization is much harder and subject to research (see \\[4\\], for example)."
   ]
  },
  {
   "cell_type": "code",
   "execution_count": null,
   "metadata": {
    "colab": {
     "base_uri": "https://localhost:8080/",
     "height": 346
    },
    "id": "enTDlQ_BD6yB",
    "outputId": "5d6f0a1c-e057-4ab8-b489-32e227ae4b00"
   },
   "outputs": [],
   "source": [
    "y_rs = np.maximum.accumulate(rs.cv_results_['mean_test_score'])\n",
    "y_bo = np.maximum.accumulate(-optimizer.Y).ravel()\n",
    "\n",
    "print(f'Baseline neg. MSE = {baseline:.2f}')\n",
    "print(f'Random search neg. MSE = {y_rs[-1]:.2f}')\n",
    "print(f'Bayesian optimization neg. MSE = {y_bo[-1]:.2f}')\n",
    "\n",
    "plt.plot(y_rs, 'ro-', label='Random search')\n",
    "plt.plot(y_bo, 'bo-', label='Bayesian optimization')\n",
    "plt.xlabel('Iteration')\n",
    "plt.ylabel('Neg. MSE')\n",
    "plt.ylim(-5000, -3000)\n",
    "plt.title('Value of the best sampled CV score');\n",
    "plt.legend();"
   ]
  },
  {
   "cell_type": "markdown",
   "metadata": {
    "id": "D_F4guyDD6yD"
   },
   "source": [
    "## References\n",
    "\n",
    "\\[1\\] Eric Brochu, Vlad M. Cora, Nando de Freitas, [A Tutorial on Bayesian Optimization of Expensive Cost Functions](https://arxiv.org/abs/1012.2599).  \n",
    "\\[2\\] Jonas Mockus, [Application of Bayesian approach to numerical methods of global and stochastic optimization](https://link.springer.com/article/10.1007/BF01099263).  \n",
    "\\[3\\] Donald R. JonesMatthias SchonlauWilliam J. Welch, [Efficient Global Optimization of Expensive Black-Box Functions](https://link.springer.com/article/10.1023/A:1008306431147).  \n",
    "\\[4\\] Jialei Wang, Scott C. Clark, Eric Liu, Peter I. Frazier, [Parallel Bayesian Global Optimization of Expensive Functions](https://arxiv.org/abs/1602.05149).  "
   ]
  }
 ],
 "metadata": {
  "colab": {
   "name": "bayesian_optimization.ipynb",
   "provenance": []
  },
  "kernelspec": {
   "display_name": "Python 3",
   "language": "python",
   "name": "python3"
  },
  "language_info": {
   "codemirror_mode": {
    "name": "ipython",
    "version": 3
   },
   "file_extension": ".py",
   "mimetype": "text/x-python",
   "name": "python",
   "nbconvert_exporter": "python",
   "pygments_lexer": "ipython3",
   "version": "3.8.6"
  }
 },
 "nbformat": 4,
 "nbformat_minor": 1
}
